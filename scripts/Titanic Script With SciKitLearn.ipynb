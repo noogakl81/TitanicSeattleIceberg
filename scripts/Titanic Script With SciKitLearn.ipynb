{
 "cells": [
  {
   "cell_type": "code",
   "execution_count": 1,
   "metadata": {
    "collapsed": false,
    "scrolled": true
   },
   "outputs": [
    {
     "name": "stderr",
     "output_type": "stream",
     "text": [
      "/home/kyle/anaconda2/lib/python2.7/site-packages/pandas/computation/__init__.py:19: UserWarning: The installed version of numexpr 2.4.4 is not supported in pandas and will be not be used\n",
      "\n",
      "  UserWarning)\n"
     ]
    }
   ],
   "source": [
    "# Imports\n",
    "\n",
    "# pandas\n",
    "import pandas as pd\n",
    "from pandas import Series,DataFrame\n",
    "\n",
    "# numpy, matplotlib, seaborn\n",
    "import numpy as np\n",
    "import matplotlib.pyplot as plt\n",
    "import seaborn as sns\n",
    "sns.set_style('whitegrid')\n",
    "%matplotlib inline\n",
    "\n",
    "# machine learning\n",
    "from sklearn.linear_model import LogisticRegression\n",
    "from sklearn.svm import SVC, LinearSVC\n",
    "from sklearn.ensemble import RandomForestClassifier\n",
    "from sklearn.grid_search import GridSearchCV\n",
    "from sklearn.neighbors import KNeighborsClassifier\n",
    "from sklearn.naive_bayes import GaussianNB\n",
    "from sklearn.metrics import make_scorer, accuracy_score"
   ]
  },
  {
   "cell_type": "code",
   "execution_count": 2,
   "metadata": {
    "collapsed": false
   },
   "outputs": [
    {
     "data": {
      "text/html": [
       "<div>\n",
       "<table border=\"1\" class=\"dataframe\">\n",
       "  <thead>\n",
       "    <tr style=\"text-align: right;\">\n",
       "      <th></th>\n",
       "      <th>PassengerId</th>\n",
       "      <th>Survived</th>\n",
       "      <th>Pclass</th>\n",
       "      <th>Name</th>\n",
       "      <th>Sex</th>\n",
       "      <th>Age</th>\n",
       "      <th>SibSp</th>\n",
       "      <th>Parch</th>\n",
       "      <th>Ticket</th>\n",
       "      <th>Fare</th>\n",
       "      <th>Cabin</th>\n",
       "      <th>Embarked</th>\n",
       "    </tr>\n",
       "  </thead>\n",
       "  <tbody>\n",
       "    <tr>\n",
       "      <th>0</th>\n",
       "      <td>1</td>\n",
       "      <td>0</td>\n",
       "      <td>3</td>\n",
       "      <td>Braund, Mr. Owen Harris</td>\n",
       "      <td>male</td>\n",
       "      <td>22.0</td>\n",
       "      <td>1</td>\n",
       "      <td>0</td>\n",
       "      <td>A/5 21171</td>\n",
       "      <td>7.2500</td>\n",
       "      <td>NaN</td>\n",
       "      <td>S</td>\n",
       "    </tr>\n",
       "    <tr>\n",
       "      <th>1</th>\n",
       "      <td>2</td>\n",
       "      <td>1</td>\n",
       "      <td>1</td>\n",
       "      <td>Cumings, Mrs. John Bradley (Florence Briggs Th...</td>\n",
       "      <td>female</td>\n",
       "      <td>38.0</td>\n",
       "      <td>1</td>\n",
       "      <td>0</td>\n",
       "      <td>PC 17599</td>\n",
       "      <td>71.2833</td>\n",
       "      <td>C85</td>\n",
       "      <td>C</td>\n",
       "    </tr>\n",
       "    <tr>\n",
       "      <th>2</th>\n",
       "      <td>3</td>\n",
       "      <td>1</td>\n",
       "      <td>3</td>\n",
       "      <td>Heikkinen, Miss. Laina</td>\n",
       "      <td>female</td>\n",
       "      <td>26.0</td>\n",
       "      <td>0</td>\n",
       "      <td>0</td>\n",
       "      <td>STON/O2. 3101282</td>\n",
       "      <td>7.9250</td>\n",
       "      <td>NaN</td>\n",
       "      <td>S</td>\n",
       "    </tr>\n",
       "    <tr>\n",
       "      <th>3</th>\n",
       "      <td>4</td>\n",
       "      <td>1</td>\n",
       "      <td>1</td>\n",
       "      <td>Futrelle, Mrs. Jacques Heath (Lily May Peel)</td>\n",
       "      <td>female</td>\n",
       "      <td>35.0</td>\n",
       "      <td>1</td>\n",
       "      <td>0</td>\n",
       "      <td>113803</td>\n",
       "      <td>53.1000</td>\n",
       "      <td>C123</td>\n",
       "      <td>S</td>\n",
       "    </tr>\n",
       "    <tr>\n",
       "      <th>4</th>\n",
       "      <td>5</td>\n",
       "      <td>0</td>\n",
       "      <td>3</td>\n",
       "      <td>Allen, Mr. William Henry</td>\n",
       "      <td>male</td>\n",
       "      <td>35.0</td>\n",
       "      <td>0</td>\n",
       "      <td>0</td>\n",
       "      <td>373450</td>\n",
       "      <td>8.0500</td>\n",
       "      <td>NaN</td>\n",
       "      <td>S</td>\n",
       "    </tr>\n",
       "  </tbody>\n",
       "</table>\n",
       "</div>"
      ],
      "text/plain": [
       "   PassengerId  Survived  Pclass  \\\n",
       "0            1         0       3   \n",
       "1            2         1       1   \n",
       "2            3         1       3   \n",
       "3            4         1       1   \n",
       "4            5         0       3   \n",
       "\n",
       "                                                Name     Sex   Age  SibSp  \\\n",
       "0                            Braund, Mr. Owen Harris    male  22.0      1   \n",
       "1  Cumings, Mrs. John Bradley (Florence Briggs Th...  female  38.0      1   \n",
       "2                             Heikkinen, Miss. Laina  female  26.0      0   \n",
       "3       Futrelle, Mrs. Jacques Heath (Lily May Peel)  female  35.0      1   \n",
       "4                           Allen, Mr. William Henry    male  35.0      0   \n",
       "\n",
       "   Parch            Ticket     Fare Cabin Embarked  \n",
       "0      0         A/5 21171   7.2500   NaN        S  \n",
       "1      0          PC 17599  71.2833   C85        C  \n",
       "2      0  STON/O2. 3101282   7.9250   NaN        S  \n",
       "3      0            113803  53.1000  C123        S  \n",
       "4      0            373450   8.0500   NaN        S  "
      ]
     },
     "execution_count": 2,
     "metadata": {},
     "output_type": "execute_result"
    }
   ],
   "source": [
    "# get titanic & test csv files as a DataFrame\n",
    "titanic_df = pd.read_csv(\"../input/train.csv\", dtype={\"Age\": np.float64}, )\n",
    "test_df    = pd.read_csv(\"../input/test.csv\", dtype={\"Age\": np.float64}, )\n",
    "\n",
    "# preview the data\n",
    "titanic_df.head()"
   ]
  },
  {
   "cell_type": "code",
   "execution_count": 3,
   "metadata": {
    "collapsed": false
   },
   "outputs": [
    {
     "name": "stdout",
     "output_type": "stream",
     "text": [
      "<class 'pandas.core.frame.DataFrame'>\n",
      "RangeIndex: 891 entries, 0 to 890\n",
      "Data columns (total 12 columns):\n",
      "PassengerId    891 non-null int64\n",
      "Survived       891 non-null int64\n",
      "Pclass         891 non-null int64\n",
      "Name           891 non-null object\n",
      "Sex            891 non-null object\n",
      "Age            714 non-null float64\n",
      "SibSp          891 non-null int64\n",
      "Parch          891 non-null int64\n",
      "Ticket         891 non-null object\n",
      "Fare           891 non-null float64\n",
      "Cabin          204 non-null object\n",
      "Embarked       889 non-null object\n",
      "dtypes: float64(2), int64(5), object(5)\n",
      "memory usage: 83.6+ KB\n",
      "----------------------------\n",
      "<class 'pandas.core.frame.DataFrame'>\n",
      "RangeIndex: 418 entries, 0 to 417\n",
      "Data columns (total 11 columns):\n",
      "PassengerId    418 non-null int64\n",
      "Pclass         418 non-null int64\n",
      "Name           418 non-null object\n",
      "Sex            418 non-null object\n",
      "Age            332 non-null float64\n",
      "SibSp          418 non-null int64\n",
      "Parch          418 non-null int64\n",
      "Ticket         418 non-null object\n",
      "Fare           417 non-null float64\n",
      "Cabin          91 non-null object\n",
      "Embarked       418 non-null object\n",
      "dtypes: float64(2), int64(4), object(5)\n",
      "memory usage: 36.0+ KB\n"
     ]
    }
   ],
   "source": [
    "titanic_df.info()\n",
    "print(\"----------------------------\")\n",
    "test_df.info()"
   ]
  },
  {
   "cell_type": "code",
   "execution_count": 4,
   "metadata": {
    "collapsed": true
   },
   "outputs": [],
   "source": [
    "# drop unnecessary columns, these columns won't be useful in analysis and prediction\n",
    "titanic_df = titanic_df.drop(['PassengerId','Name','Ticket'], axis=1)\n",
    "test_df    = test_df.drop(['Name','Ticket'], axis=1)"
   ]
  },
  {
   "cell_type": "code",
   "execution_count": 5,
   "metadata": {
    "collapsed": false
   },
   "outputs": [
    {
     "data": {
      "image/png": "[encoded data removed]",
      "text/plain": [
       "<matplotlib.figure.Figure at 0x7fa3a0b2f210>"
      ]
     },
     "metadata": {},
     "output_type": "display_data"
    },
    {
     "data": {
      "image/png": "[encoded data removed]",
      "text/plain": [
       "<matplotlib.figure.Figure at 0x7fa3a0b76890>"
      ]
     },
     "metadata": {},
     "output_type": "display_data"
    }
   ],
   "source": [
    "# Embarked\n",
    "\n",
    "# only in titanic_df, fill the two missing values with the most occurred value, which is \"S\".\n",
    "titanic_df[\"Embarked\"] = titanic_df[\"Embarked\"].fillna(\"S\")\n",
    "\n",
    "# plot\n",
    "sns.factorplot('Embarked','Survived', data=titanic_df,size=4,aspect=3)\n",
    "\n",
    "fig, (axis1,axis2,axis3) = plt.subplots(1,3,figsize=(15,5))\n",
    "\n",
    "# sns.factorplot('Embarked',data=titanic_df,kind='count',order=['S','C','Q'],ax=axis1)\n",
    "# sns.factorplot('Survived',hue=\"Embarked\",data=titanic_df,kind='count',order=[1,0],ax=axis2)\n",
    "sns.countplot(x='Embarked', data=titanic_df, ax=axis1)\n",
    "sns.countplot(x='Survived', hue=\"Embarked\", data=titanic_df, order=[1,0], ax=axis2)\n",
    "\n",
    "# group by embarked, and get the mean for survived passengers for each value in Embarked\n",
    "embark_perc = titanic_df[[\"Embarked\", \"Survived\"]].groupby(['Embarked'],as_index=False).mean()\n",
    "sns.barplot(x='Embarked', y='Survived', data=embark_perc,order=['S','C','Q'],ax=axis3)\n",
    "\n",
    "# Either to consider Embarked column in predictions,\n",
    "# and remove \"S\" dummy variable, \n",
    "# and leave \"C\" & \"Q\", since they seem to have a good rate for Survival.\n",
    "\n",
    "# OR, don't create dummy variables for Embarked column, just drop it, \n",
    "# because logically, Embarked doesn't seem to be useful in prediction.\n",
    "\n",
    "embark_dummies_titanic  = pd.get_dummies(titanic_df['Embarked'])\n",
    "embark_dummies_titanic.drop(['S'], axis=1, inplace=True)\n",
    "\n",
    "embark_dummies_test  = pd.get_dummies(test_df['Embarked'])\n",
    "embark_dummies_test.drop(['S'], axis=1, inplace=True)\n",
    "\n",
    "titanic_df = titanic_df.join(embark_dummies_titanic)\n",
    "test_df    = test_df.join(embark_dummies_test)\n",
    "\n",
    "titanic_df.drop(['Embarked'], axis=1,inplace=True)\n",
    "test_df.drop(['Embarked'], axis=1,inplace=True)"
   ]
  },
  {
   "cell_type": "code",
   "execution_count": 6,
   "metadata": {
    "collapsed": false
   },
   "outputs": [
    {
     "data": {
      "text/plain": [
       "<matplotlib.axes._subplots.AxesSubplot at 0x7fa39cb7f7d0>"
      ]
     },
     "execution_count": 6,
     "metadata": {},
     "output_type": "execute_result"
    },
    {
     "data": {
      "image/png": "[encoded data removed]",
      "text/plain": [
       "<matplotlib.figure.Figure at 0x7fa3a0b76c90>"
      ]
     },
     "metadata": {},
     "output_type": "display_data"
    },
    {
     "data": {
      "image/png": "[encoded data removed]",
      "text/plain": [
       "<matplotlib.figure.Figure at 0x7fa3a0b76710>"
      ]
     },
     "metadata": {},
     "output_type": "display_data"
    }
   ],
   "source": [
    "# Fare\n",
    "\n",
    "# only for test_df, since there is a missing \"Fare\" values\n",
    "test_df[\"Fare\"].fillna(test_df[\"Fare\"].median(), inplace=True)\n",
    "\n",
    "# convert from float to int\n",
    "titanic_df['Fare'] = titanic_df['Fare'].astype(int)\n",
    "test_df['Fare']    = test_df['Fare'].astype(int)\n",
    "\n",
    "# get fare for survived & didn't survive passengers \n",
    "fare_not_survived = titanic_df[\"Fare\"][titanic_df[\"Survived\"] == 0]\n",
    "fare_survived     = titanic_df[\"Fare\"][titanic_df[\"Survived\"] == 1]\n",
    "\n",
    "# get average and std for fare of survived/not survived passengers\n",
    "avgerage_fare = DataFrame([fare_not_survived.mean(), fare_survived.mean()])\n",
    "std_fare      = DataFrame([fare_not_survived.std(), fare_survived.std()])\n",
    "\n",
    "# plot\n",
    "titanic_df['Fare'].plot(kind='hist', figsize=(15,3),bins=100, xlim=(0,50))\n",
    "\n",
    "avgerage_fare.index.names = std_fare.index.names = [\"Survived\"]\n",
    "avgerage_fare.plot(yerr=std_fare,kind='bar',legend=False)"
   ]
  },
  {
   "cell_type": "code",
   "execution_count": 7,
   "metadata": {
    "collapsed": false
   },
   "outputs": [
    {
     "name": "stderr",
     "output_type": "stream",
     "text": [
      "/home/kyle/anaconda2/lib/python2.7/site-packages/ipykernel/__main__.py:30: SettingWithCopyWarning: \n",
      "A value is trying to be set on a copy of a slice from a DataFrame\n",
      "\n",
      "See the caveats in the documentation: http://pandas.pydata.org/pandas-docs/stable/indexing.html#indexing-view-versus-copy\n",
      "/home/kyle/anaconda2/lib/python2.7/site-packages/ipykernel/__main__.py:31: SettingWithCopyWarning: \n",
      "A value is trying to be set on a copy of a slice from a DataFrame\n",
      "\n",
      "See the caveats in the documentation: http://pandas.pydata.org/pandas-docs/stable/indexing.html#indexing-view-versus-copy\n"
     ]
    },
    {
     "data": {
      "text/plain": [
       "<matplotlib.axes._subplots.AxesSubplot at 0x7fa39cf4f1d0>"
      ]
     },
     "execution_count": 7,
     "metadata": {},
     "output_type": "execute_result"
    },
    {
     "data": {
      "image/png": "[encoded data removed]",
      "text/plain": [
       "<matplotlib.figure.Figure at 0x7fa39ca68d10>"
      ]
     },
     "metadata": {},
     "output_type": "display_data"
    }
   ],
   "source": [
    "# Age \n",
    "\n",
    "fig, (axis1,axis2) = plt.subplots(1,2,figsize=(15,4))\n",
    "axis1.set_title('Original Age values - Titanic')\n",
    "axis2.set_title('New Age values - Titanic')\n",
    "\n",
    "# axis3.set_title('Original Age values - Test')\n",
    "# axis4.set_title('New Age values - Test')\n",
    "\n",
    "# get average, std, and number of NaN values in titanic_df\n",
    "average_age_titanic   = titanic_df[\"Age\"].mean()\n",
    "std_age_titanic       = titanic_df[\"Age\"].std()\n",
    "count_nan_age_titanic = titanic_df[\"Age\"].isnull().sum()\n",
    "\n",
    "# get average, std, and number of NaN values in test_df\n",
    "average_age_test   = test_df[\"Age\"].mean()\n",
    "std_age_test       = test_df[\"Age\"].std()\n",
    "count_nan_age_test = test_df[\"Age\"].isnull().sum()\n",
    "\n",
    "# generate random numbers between (mean - std) & (mean + std)\n",
    "rand_1 = np.random.randint(average_age_titanic - std_age_titanic, average_age_titanic + std_age_titanic, size = count_nan_age_titanic)\n",
    "rand_2 = np.random.randint(average_age_test - std_age_test, average_age_test + std_age_test, size = count_nan_age_test)\n",
    "\n",
    "# plot original Age values\n",
    "# NOTE: drop all null values, and convert to int\n",
    "titanic_df['Age'].dropna().astype(int).hist(bins=70, ax=axis1)\n",
    "# test_df['Age'].dropna().astype(int).hist(bins=70, ax=axis1)\n",
    "\n",
    "# fill NaN values in Age column with random values generated\n",
    "titanic_df[\"Age\"][np.isnan(titanic_df[\"Age\"])] = rand_1\n",
    "test_df[\"Age\"][np.isnan(test_df[\"Age\"])] = rand_2\n",
    "\n",
    "# convert from float to int\n",
    "titanic_df['Age'] = titanic_df['Age'].astype(int)\n",
    "test_df['Age']    = test_df['Age'].astype(int)\n",
    "        \n",
    "# plot new Age Values\n",
    "titanic_df['Age'].hist(bins=70, ax=axis2)\n",
    "# test_df['Age'].hist(bins=70, ax=axis4)"
   ]
  },
  {
   "cell_type": "code",
   "execution_count": 8,
   "metadata": {
    "collapsed": false
   },
   "outputs": [
    {
     "data": {
      "text/plain": [
       "<matplotlib.axes._subplots.AxesSubplot at 0x7fa39c9c56d0>"
      ]
     },
     "execution_count": 8,
     "metadata": {},
     "output_type": "execute_result"
    },
    {
     "data": {
      "image/png": "[encoded data removed]",
      "text/plain": [
       "<matplotlib.figure.Figure at 0x7fa39cb761d0>"
      ]
     },
     "metadata": {},
     "output_type": "display_data"
    },
    {
     "data": {
      "image/png": "[encoded data removed]",
      "text/plain": [
       "<matplotlib.figure.Figure at 0x7fa39c9a4450>"
      ]
     },
     "metadata": {},
     "output_type": "display_data"
    }
   ],
   "source": [
    "# .... continue with plot Age column\n",
    "\n",
    "# peaks for survived/not survived passengers by their age\n",
    "facet = sns.FacetGrid(titanic_df, hue=\"Survived\",aspect=4)\n",
    "facet.map(sns.kdeplot,'Age',shade= True)\n",
    "facet.set(xlim=(0, titanic_df['Age'].max()))\n",
    "facet.add_legend()\n",
    "\n",
    "# average survived passengers by age\n",
    "fig, axis1 = plt.subplots(1,1,figsize=(18,4))\n",
    "average_age = titanic_df[[\"Age\", \"Survived\"]].groupby(['Age'],as_index=False).mean()\n",
    "sns.barplot(x='Age', y='Survived', data=average_age)"
   ]
  },
  {
   "cell_type": "code",
   "execution_count": 9,
   "metadata": {
    "collapsed": true
   },
   "outputs": [],
   "source": [
    "# Cabin\n",
    "# It has a lot of NaN values, so it won't cause a remarkable impact on prediction\n",
    "titanic_df.drop(\"Cabin\",axis=1,inplace=True)\n",
    "test_df.drop(\"Cabin\",axis=1,inplace=True)"
   ]
  },
  {
   "cell_type": "code",
   "execution_count": 10,
   "metadata": {
    "collapsed": false
   },
   "outputs": [
    {
     "name": "stderr",
     "output_type": "stream",
     "text": [
      "/home/kyle/anaconda2/lib/python2.7/site-packages/pandas/core/indexing.py:132: SettingWithCopyWarning: \n",
      "A value is trying to be set on a copy of a slice from a DataFrame\n",
      "\n",
      "See the caveats in the documentation: http://pandas.pydata.org/pandas-docs/stable/indexing.html#indexing-view-versus-copy\n",
      "  self._setitem_with_indexer(indexer, value)\n"
     ]
    },
    {
     "data": {
      "text/plain": [
       "[<matplotlib.text.Text at 0x7fa39c5ea3d0>,\n",
       " <matplotlib.text.Text at 0x7fa39c95ccd0>]"
      ]
     },
     "execution_count": 10,
     "metadata": {},
     "output_type": "execute_result"
    },
    {
     "data": {
      "image/png": "[encoded data removed]",
      "text/plain": [
       "<matplotlib.figure.Figure at 0x7fa39c59cd50>"
      ]
     },
     "metadata": {},
     "output_type": "display_data"
    }
   ],
   "source": [
    "# Family\n",
    "\n",
    "# Instead of having two columns Parch & SibSp, \n",
    "# we can have only one column represent if the passenger had any family member aboard or not,\n",
    "# Meaning, if having any family member(whether parent, brother, ...etc) will increase chances of Survival or not.\n",
    "titanic_df['Family'] =  titanic_df[\"Parch\"] + titanic_df[\"SibSp\"]\n",
    "titanic_df['Family'].loc[titanic_df['Family'] > 0] = 1\n",
    "titanic_df['Family'].loc[titanic_df['Family'] == 0] = 0\n",
    "\n",
    "test_df['Family'] =  test_df[\"Parch\"] + test_df[\"SibSp\"]\n",
    "test_df['Family'].loc[test_df['Family'] > 0] = 1\n",
    "test_df['Family'].loc[test_df['Family'] == 0] = 0\n",
    "\n",
    "# drop Parch & SibSp\n",
    "titanic_df = titanic_df.drop(['SibSp','Parch'], axis=1)\n",
    "test_df    = test_df.drop(['SibSp','Parch'], axis=1)\n",
    "\n",
    "# plot\n",
    "fig, (axis1,axis2) = plt.subplots(1,2,sharex=True,figsize=(10,5))\n",
    "\n",
    "# sns.factorplot('Family',data=titanic_df,kind='count',ax=axis1)\n",
    "sns.countplot(x='Family', data=titanic_df, order=[1,0], ax=axis1)\n",
    "\n",
    "# average of survived for those who had/didn't have any family member\n",
    "family_perc = titanic_df[[\"Family\", \"Survived\"]].groupby(['Family'],as_index=False).mean()\n",
    "sns.barplot(x='Family', y='Survived', data=family_perc, order=[1,0], ax=axis2)\n",
    "\n",
    "axis1.set_xticklabels([\"With Family\",\"Alone\"], rotation=0)"
   ]
  },
  {
   "cell_type": "code",
   "execution_count": 11,
   "metadata": {
    "collapsed": false
   },
   "outputs": [
    {
     "data": {
      "image/png": "[encoded data removed]",
      "text/plain": [
       "<matplotlib.figure.Figure at 0x7fa39c3a1a90>"
      ]
     },
     "metadata": {},
     "output_type": "display_data"
    }
   ],
   "source": [
    "# Sex\n",
    "\n",
    "# As we see, children(age < ~16) on aboard seem to have a high chances for Survival.\n",
    "# So, we can classify passengers as males, females, and child\n",
    "def get_person(passenger):\n",
    "    age,sex = passenger\n",
    "    return 'child' if age < 16 else sex\n",
    "    \n",
    "titanic_df['Person'] = titanic_df[['Age','Sex']].apply(get_person,axis=1)\n",
    "test_df['Person']    = test_df[['Age','Sex']].apply(get_person,axis=1)\n",
    "\n",
    "# No need to use Sex column since we created Person column\n",
    "titanic_df.drop(['Sex'],axis=1,inplace=True)\n",
    "test_df.drop(['Sex'],axis=1,inplace=True)\n",
    "\n",
    "# create dummy variables for Person column, & drop Male as it has the lowest average of survived passengers\n",
    "person_dummies_titanic  = pd.get_dummies(titanic_df['Person'])\n",
    "person_dummies_titanic.columns = ['Child','Female','Male']\n",
    "person_dummies_titanic.drop(['Male'], axis=1, inplace=True)\n",
    "\n",
    "person_dummies_test  = pd.get_dummies(test_df['Person'])\n",
    "person_dummies_test.columns = ['Child','Female','Male']\n",
    "person_dummies_test.drop(['Male'], axis=1, inplace=True)\n",
    "\n",
    "titanic_df = titanic_df.join(person_dummies_titanic)\n",
    "test_df    = test_df.join(person_dummies_test)\n",
    "\n",
    "fig, (axis1,axis2) = plt.subplots(1,2,figsize=(10,5))\n",
    "\n",
    "# sns.factorplot('Person',data=titanic_df,kind='count',ax=axis1)\n",
    "sns.countplot(x='Person', data=titanic_df, ax=axis1)\n",
    "\n",
    "# average of survived for each Person(male, female, or child)\n",
    "person_perc = titanic_df[[\"Person\", \"Survived\"]].groupby(['Person'],as_index=False).mean()\n",
    "sns.barplot(x='Person', y='Survived', data=person_perc, ax=axis2, order=['male','female','child'])\n",
    "\n",
    "titanic_df.drop(['Person'],axis=1,inplace=True)\n",
    "test_df.drop(['Person'],axis=1,inplace=True)"
   ]
  },
  {
   "cell_type": "code",
   "execution_count": 12,
   "metadata": {
    "collapsed": false
   },
   "outputs": [
    {
     "data": {
      "image/png": "[encoded data removed]",
      "text/plain": [
       "<matplotlib.figure.Figure at 0x7fa39c51f1d0>"
      ]
     },
     "metadata": {},
     "output_type": "display_data"
    }
   ],
   "source": [
    "# Pclass\n",
    "\n",
    "# sns.factorplot('Pclass',data=titanic_df,kind='count',order=[1,2,3])\n",
    "sns.factorplot('Pclass','Survived',order=[1,2,3], data=titanic_df,size=5)\n",
    "\n",
    "# create dummy variables for Pclass column, & drop 3rd class as it has the lowest average of survived passengers\n",
    "pclass_dummies_titanic  = pd.get_dummies(titanic_df['Pclass'])\n",
    "pclass_dummies_titanic.columns = ['Class_1','Class_2','Class_3']\n",
    "pclass_dummies_titanic.drop(['Class_3'], axis=1, inplace=True)\n",
    "\n",
    "pclass_dummies_test  = pd.get_dummies(test_df['Pclass'])\n",
    "pclass_dummies_test.columns = ['Class_1','Class_2','Class_3']\n",
    "pclass_dummies_test.drop(['Class_3'], axis=1, inplace=True)\n",
    "\n",
    "titanic_df.drop(['Pclass'],axis=1,inplace=True)\n",
    "test_df.drop(['Pclass'],axis=1,inplace=True)\n",
    "\n",
    "titanic_df = titanic_df.join(pclass_dummies_titanic)\n",
    "test_df    = test_df.join(pclass_dummies_test)"
   ]
  },
  {
   "cell_type": "code",
   "execution_count": 13,
   "metadata": {
    "collapsed": true
   },
   "outputs": [],
   "source": [
    "# define training and testing sets\n",
    "\n",
    "X_train = titanic_df.drop(\"Survived\",axis=1)\n",
    "Y_train = titanic_df[\"Survived\"]\n",
    "X_test  = test_df.drop(\"PassengerId\",axis=1).copy()"
   ]
  },
  {
   "cell_type": "code",
   "execution_count": 14,
   "metadata": {
    "collapsed": false
   },
   "outputs": [
    {
     "name": "stdout",
     "output_type": "stream",
     "text": [
      "score equals 0.805836\n",
      "{'C': 0.25}\n",
      "0.805836139169\n"
     ]
    }
   ],
   "source": [
    "# Logistic Regression\n",
    "\n",
    "logreg = LogisticRegression(penalty='l2')\n",
    "\n",
    "accuracy_scorer = make_scorer(accuracy_score)\n",
    "\n",
    "parameters = {'C':[0.03125, 0.0625,.125,.25,.5,1,2,4,8,16,32]}\n",
    "grid_search_CV = GridSearchCV(logreg, parameters, cv=10, scoring=accuracy_scorer)\n",
    "grid_search_CV.fit(X_train, Y_train)\n",
    "print(\"score equals %f\" % (grid_search_CV.best_score_))\n",
    "print(\"%s\" % (grid_search_CV.best_params_))\n",
    "logreg = grid_search_CV.best_estimator_\n",
    "\n",
    "Y_pred_regression = logreg.predict(X_test)\n",
    "\n",
    "logreg_score = logreg.score(X_train, Y_train)\n",
    "\n",
    "print(logreg_score)"
   ]
  },
  {
   "cell_type": "code",
   "execution_count": 27,
   "metadata": {
    "collapsed": false
   },
   "outputs": [
    {
     "name": "stdout",
     "output_type": "stream",
     "text": [
      "Fitting 40 folds for each of 5 candidates, totalling 200 fits\n",
      "[CV] kernel=linear, C=0.025, degree=2 ................................\n",
      "[CV] ....... kernel=linear, C=0.025, degree=2, score=0.826087 -   0.4s\n",
      "[CV] kernel=linear, C=0.025, degree=2 ................................\n",
      "[CV] ....... kernel=linear, C=0.025, degree=2, score=0.652174 -   0.4s\n",
      "[CV] kernel=linear, C=0.025, degree=2 ................................\n",
      "[CV] ....... kernel=linear, C=0.025, degree=2, score=0.782609 -   0.4s\n",
      "[CV] kernel=linear, C=0.025, degree=2 ................................\n",
      "[CV] ....... kernel=linear, C=0.025, degree=2, score=0.826087 -   0.4s"
     ]
    },
    {
     "name": "stderr",
     "output_type": "stream",
     "text": [
      "[Parallel(n_jobs=1)]: Done   1 tasks       | elapsed:    0.4s\n",
      "[Parallel(n_jobs=1)]: Done   4 tasks       | elapsed:    1.6s\n"
     ]
    },
    {
     "name": "stdout",
     "output_type": "stream",
     "text": [
      "\n",
      "[CV] kernel=linear, C=0.025, degree=2 ................................\n",
      "[CV] ....... kernel=linear, C=0.025, degree=2, score=0.826087 -   0.4s\n",
      "[CV] kernel=linear, C=0.025, degree=2 ................................\n",
      "[CV] ....... kernel=linear, C=0.025, degree=2, score=0.826087 -   0.2s\n",
      "[CV] kernel=linear, C=0.025, degree=2 ................................\n",
      "[CV] ....... kernel=linear, C=0.025, degree=2, score=0.695652 -   0.3s\n",
      "[CV] kernel=linear, C=0.025, degree=2 ................................\n",
      "[CV] ....... kernel=linear, C=0.025, degree=2, score=0.826087 -   0.3s\n",
      "[CV] kernel=linear, C=0.025, degree=2 ................................\n",
      "[CV] ....... kernel=linear, C=0.025, degree=2, score=0.739130 -   0.4s\n",
      "[CV] kernel=linear, C=0.025, degree=2 ................................\n",
      "[CV] ....... kernel=linear, C=0.025, degree=2, score=0.826087 -   0.3s\n",
      "[CV] kernel=linear, C=0.025, degree=2 ................................\n",
      "[CV] ....... kernel=linear, C=0.025, degree=2, score=0.782609 -   0.4s\n",
      "[CV] kernel=linear, C=0.025, degree=2 ................................\n",
      "[CV] ....... kernel=linear, C=0.025, degree=2, score=0.695652 -   0.4s"
     ]
    },
    {
     "name": "stderr",
     "output_type": "stream",
     "text": [
      "[Parallel(n_jobs=1)]: Done   7 tasks       | elapsed:    2.5s\n",
      "[Parallel(n_jobs=1)]: Done  12 tasks       | elapsed:    4.4s\n"
     ]
    },
    {
     "name": "stdout",
     "output_type": "stream",
     "text": [
      "\n",
      "[CV] kernel=linear, C=0.025, degree=2 ................................\n",
      "[CV] ....... kernel=linear, C=0.025, degree=2, score=0.782609 -   0.4s\n",
      "[CV] kernel=linear, C=0.025, degree=2 ................................\n",
      "[CV] ....... kernel=linear, C=0.025, degree=2, score=0.913043 -   0.3s\n",
      "[CV] kernel=linear, C=0.025, degree=2 ................................\n",
      "[CV] ....... kernel=linear, C=0.025, degree=2, score=0.913043 -   0.3s\n",
      "[CV] kernel=linear, C=0.025, degree=2 ................................\n",
      "[CV] ....... kernel=linear, C=0.025, degree=2, score=0.869565 -   0.3s\n",
      "[CV] kernel=linear, C=0.025, degree=2 ................................\n",
      "[CV] ....... kernel=linear, C=0.025, degree=2, score=0.869565 -   0.3s\n",
      "[CV] kernel=linear, C=0.025, degree=2 ................................\n",
      "[CV] ....... kernel=linear, C=0.025, degree=2, score=0.652174 -   0.5s\n",
      "[CV] kernel=linear, C=0.025, degree=2 ................................\n",
      "[CV] ....... kernel=linear, C=0.025, degree=2, score=0.782609 -   0.4s\n",
      "[CV] kernel=linear, C=0.025, degree=2 ................................\n",
      "[CV] ....... kernel=linear, C=0.025, degree=2, score=0.652174 -   0.4s\n",
      "[CV] kernel=linear, C=0.025, degree=2 ................................\n",
      "[CV] ....... kernel=linear, C=0.025, degree=2, score=0.782609 -   0.4s\n",
      "[CV] kernel=linear, C=0.025, degree=2 ................................\n",
      "[CV] ....... kernel=linear, C=0.025, degree=2, score=0.695652 -   0.5s\n",
      "[CV] kernel=linear, C=0.025, degree=2 ................................\n",
      "[CV] ....... kernel=linear, C=0.025, degree=2, score=0.772727 -   0.4s\n",
      "[CV] kernel=linear, C=0.025, degree=2 ................................\n",
      "[CV] ....... kernel=linear, C=0.025, degree=2, score=0.818182 -   0.3s"
     ]
    },
    {
     "name": "stderr",
     "output_type": "stream",
     "text": [
      "[Parallel(n_jobs=1)]: Done  17 tasks       | elapsed:    6.0s\n",
      "[Parallel(n_jobs=1)]: Done  24 tasks       | elapsed:    8.8s\n"
     ]
    },
    {
     "name": "stdout",
     "output_type": "stream",
     "text": [
      "\n",
      "[CV] kernel=linear, C=0.025, degree=2 ................................\n",
      "[CV] ....... kernel=linear, C=0.025, degree=2, score=0.727273 -   0.4s\n",
      "[CV] kernel=linear, C=0.025, degree=2 ................................\n",
      "[CV] ....... kernel=linear, C=0.025, degree=2, score=0.818182 -   0.3s\n",
      "[CV] kernel=linear, C=0.025, degree=2 ................................\n",
      "[CV] ....... kernel=linear, C=0.025, degree=2, score=0.772727 -   0.4s\n",
      "[CV] kernel=linear, C=0.025, degree=2 ................................\n",
      "[CV] ....... kernel=linear, C=0.025, degree=2, score=0.772727 -   0.5s\n",
      "[CV] kernel=linear, C=0.025, degree=2 ................................\n",
      "[CV] ....... kernel=linear, C=0.025, degree=2, score=0.681818 -   0.3s\n",
      "[CV] kernel=linear, C=0.025, degree=2 ................................\n",
      "[CV] ....... kernel=linear, C=0.025, degree=2, score=0.761905 -   0.5s\n",
      "[CV] kernel=linear, C=0.025, degree=2 ................................\n",
      "[CV] ....... kernel=linear, C=0.025, degree=2, score=0.619048 -   0.8s\n",
      "[CV] kernel=linear, C=0.025, degree=2 ................................\n",
      "[CV] ....... kernel=linear, C=0.025, degree=2, score=0.809524 -   0.3s\n",
      "[CV] kernel=linear, C=0.025, degree=2 ................................\n",
      "[CV] ....... kernel=linear, C=0.025, degree=2, score=0.761905 -   0.3s\n",
      "[CV] kernel=linear, C=0.025, degree=2 ................................\n",
      "[CV] ....... kernel=linear, C=0.025, degree=2, score=0.714286 -   0.4s\n",
      "[CV] kernel=linear, C=0.025, degree=2 ................................\n",
      "[CV] ....... kernel=linear, C=0.025, degree=2, score=0.809524 -   0.4s\n",
      "[CV] kernel=linear, C=0.025, degree=2 ................................\n",
      "[CV] ....... kernel=linear, C=0.025, degree=2, score=0.714286 -   0.4s\n",
      "[CV] kernel=linear, C=0.025, degree=2 ................................\n",
      "[CV] ....... kernel=linear, C=0.025, degree=2, score=0.714286 -   0.5s\n",
      "[CV] kernel=linear, C=0.025, degree=2 ................................\n",
      "[CV] ....... kernel=linear, C=0.025, degree=2, score=0.809524 -   0.4s\n",
      "[CV] kernel=linear, C=0.025, degree=2 ................................\n",
      "[CV] ....... kernel=linear, C=0.025, degree=2, score=0.857143 -   0.4s\n",
      "[CV] kernel=linear, C=0.025, degree=2 ................................\n",
      "[CV] ....... kernel=linear, C=0.025, degree=2, score=0.714286 -   0.5s"
     ]
    },
    {
     "name": "stderr",
     "output_type": "stream",
     "text": [
      "[Parallel(n_jobs=1)]: Done  31 tasks       | elapsed:   12.0s\n",
      "[Parallel(n_jobs=1)]: Done  40 tasks       | elapsed:   15.6s\n"
     ]
    },
    {
     "name": "stdout",
     "output_type": "stream",
     "text": [
      "\n",
      "[CV] kernel=linear, C=0.05, degree=2 .................................\n",
      "[CV] ........ kernel=linear, C=0.05, degree=2, score=0.826087 -   0.4s\n",
      "[CV] kernel=linear, C=0.05, degree=2 .................................\n",
      "[CV] ........ kernel=linear, C=0.05, degree=2, score=0.652174 -   0.5s\n",
      "[CV] kernel=linear, C=0.05, degree=2 .................................\n",
      "[CV] ........ kernel=linear, C=0.05, degree=2, score=0.782609 -   0.6s\n",
      "[CV] kernel=linear, C=0.05, degree=2 .................................\n",
      "[CV] ........ kernel=linear, C=0.05, degree=2, score=0.826087 -   0.5s\n",
      "[CV] kernel=linear, C=0.05, degree=2 .................................\n",
      "[CV] ........ kernel=linear, C=0.05, degree=2, score=0.826087 -   0.7s\n",
      "[CV] kernel=linear, C=0.05, degree=2 .................................\n",
      "[CV] ........ kernel=linear, C=0.05, degree=2, score=0.826087 -   0.5s\n",
      "[CV] kernel=linear, C=0.05, degree=2 .................................\n",
      "[CV] ........ kernel=linear, C=0.05, degree=2, score=0.695652 -   0.6s\n",
      "[CV] kernel=linear, C=0.05, degree=2 .................................\n",
      "[CV] ........ kernel=linear, C=0.05, degree=2, score=0.826087 -   0.4s\n",
      "[CV] kernel=linear, C=0.05, degree=2 .................................\n",
      "[CV] ........ kernel=linear, C=0.05, degree=2, score=0.739130 -   0.6s\n",
      "[CV] kernel=linear, C=0.05, degree=2 .................................\n",
      "[CV] ........ kernel=linear, C=0.05, degree=2, score=0.826087 -   0.5s\n",
      "[CV] kernel=linear, C=0.05, degree=2 .................................\n",
      "[CV] ........ kernel=linear, C=0.05, degree=2, score=0.782609 -   0.6s\n",
      "[CV] kernel=linear, C=0.05, degree=2 .................................\n",
      "[CV] ........ kernel=linear, C=0.05, degree=2, score=0.695652 -   0.6s\n",
      "[CV] kernel=linear, C=0.05, degree=2 .................................\n",
      "[CV] ........ kernel=linear, C=0.05, degree=2, score=0.782609 -   0.5s\n",
      "[CV] kernel=linear, C=0.05, degree=2 .................................\n",
      "[CV] ........ kernel=linear, C=0.05, degree=2, score=0.913043 -   0.6s\n",
      "[CV] kernel=linear, C=0.05, degree=2 .................................\n",
      "[CV] ........ kernel=linear, C=0.05, degree=2, score=0.913043 -   0.5s\n",
      "[CV] kernel=linear, C=0.05, degree=2 .................................\n",
      "[CV] ........ kernel=linear, C=0.05, degree=2, score=0.869565 -   0.5s\n",
      "[CV] kernel=linear, C=0.05, degree=2 .................................\n",
      "[CV] ........ kernel=linear, C=0.05, degree=2, score=0.869565 -   0.5s\n",
      "[CV] kernel=linear, C=0.05, degree=2 .................................\n",
      "[CV] ........ kernel=linear, C=0.05, degree=2, score=0.652174 -   0.4s\n",
      "[CV] kernel=linear, C=0.05, degree=2 .................................\n",
      "[CV] ........ kernel=linear, C=0.05, degree=2, score=0.782609 -   0.7s\n",
      "[CV] kernel=linear, C=0.05, degree=2 .................................\n",
      "[CV] ........ kernel=linear, C=0.05, degree=2, score=0.652174 -   0.6s"
     ]
    },
    {
     "name": "stderr",
     "output_type": "stream",
     "text": [
      "[Parallel(n_jobs=1)]: Done  49 tasks       | elapsed:   20.4s\n",
      "[Parallel(n_jobs=1)]: Done  60 tasks       | elapsed:   26.5s\n"
     ]
    },
    {
     "name": "stdout",
     "output_type": "stream",
     "text": [
      "\n",
      "[CV] kernel=linear, C=0.05, degree=2 .................................\n",
      "[CV] ........ kernel=linear, C=0.05, degree=2, score=0.782609 -   0.5s\n",
      "[CV] kernel=linear, C=0.05, degree=2 .................................\n",
      "[CV] ........ kernel=linear, C=0.05, degree=2, score=0.695652 -   0.5s\n",
      "[CV] kernel=linear, C=0.05, degree=2 .................................\n",
      "[CV] ........ kernel=linear, C=0.05, degree=2, score=0.772727 -   0.4s\n",
      "[CV] kernel=linear, C=0.05, degree=2 .................................\n",
      "[CV] ........ kernel=linear, C=0.05, degree=2, score=0.818182 -   0.5s\n",
      "[CV] kernel=linear, C=0.05, degree=2 .................................\n",
      "[CV] ........ kernel=linear, C=0.05, degree=2, score=0.727273 -   0.6s\n",
      "[CV] kernel=linear, C=0.05, degree=2 .................................\n",
      "[CV] ........ kernel=linear, C=0.05, degree=2, score=0.818182 -   0.6s\n",
      "[CV] kernel=linear, C=0.05, degree=2 .................................\n",
      "[CV] ........ kernel=linear, C=0.05, degree=2, score=0.772727 -   0.4s\n",
      "[CV] kernel=linear, C=0.05, degree=2 .................................\n",
      "[CV] ........ kernel=linear, C=0.05, degree=2, score=0.772727 -   0.5s\n",
      "[CV] kernel=linear, C=0.05, degree=2 .................................\n",
      "[CV] ........ kernel=linear, C=0.05, degree=2, score=0.681818 -   0.5s\n",
      "[CV] kernel=linear, C=0.05, degree=2 .................................\n",
      "[CV] ........ kernel=linear, C=0.05, degree=2, score=0.761905 -   0.6s\n",
      "[CV] kernel=linear, C=0.05, degree=2 .................................\n",
      "[CV] ........ kernel=linear, C=0.05, degree=2, score=0.619048 -   0.6s\n",
      "[CV] kernel=linear, C=0.05, degree=2 .................................\n",
      "[CV] ........ kernel=linear, C=0.05, degree=2, score=0.809524 -   0.5s\n",
      "[CV] kernel=linear, C=0.05, degree=2 .................................\n",
      "[CV] ........ kernel=linear, C=0.05, degree=2, score=0.761905 -   0.6s\n",
      "[CV] kernel=linear, C=0.05, degree=2 .................................\n",
      "[CV] ........ kernel=linear, C=0.05, degree=2, score=0.714286 -   0.6s\n",
      "[CV] kernel=linear, C=0.05, degree=2 .................................\n",
      "[CV] ........ kernel=linear, C=0.05, degree=2, score=0.809524 -   0.5s\n",
      "[CV] kernel=linear, C=0.05, degree=2 .................................\n",
      "[CV] ........ kernel=linear, C=0.05, degree=2, score=0.714286 -   0.6s\n",
      "[CV] kernel=linear, C=0.05, degree=2 .................................\n",
      "[CV] ........ kernel=linear, C=0.05, degree=2, score=0.714286 -   0.5s\n",
      "[CV] kernel=linear, C=0.05, degree=2 .................................\n",
      "[CV] ........ kernel=linear, C=0.05, degree=2, score=0.809524 -   0.5s\n",
      "[CV] kernel=linear, C=0.05, degree=2 .................................\n",
      "[CV] ........ kernel=linear, C=0.05, degree=2, score=0.857143 -   0.5s\n",
      "[CV] kernel=linear, C=0.05, degree=2 .................................\n",
      "[CV] ........ kernel=linear, C=0.05, degree=2, score=0.714286 -   0.5s\n",
      "[CV] kernel=linear, C=0.1, degree=2 ..................................\n",
      "[CV] ......... kernel=linear, C=0.1, degree=2, score=0.739130 -   0.7s\n",
      "[CV] kernel=linear, C=0.1, degree=2 ..................................\n",
      "[CV] ......... kernel=linear, C=0.1, degree=2, score=0.695652 -   0.8s\n",
      "[CV] kernel=linear, C=0.1, degree=2 ..................................\n",
      "[CV] ......... kernel=linear, C=0.1, degree=2, score=0.782609 -   0.9s\n",
      "[CV] kernel=linear, C=0.1, degree=2 ..................................\n",
      "[CV] ......... kernel=linear, C=0.1, degree=2, score=0.869565 -   0.6s"
     ]
    },
    {
     "name": "stderr",
     "output_type": "stream",
     "text": [
      "[Parallel(n_jobs=1)]: Done  71 tasks       | elapsed:   32.4s\n",
      "[Parallel(n_jobs=1)]: Done  84 tasks       | elapsed:   40.4s\n"
     ]
    },
    {
     "name": "stdout",
     "output_type": "stream",
     "text": [
      "\n",
      "[CV] kernel=linear, C=0.1, degree=2 ..................................\n",
      "[CV] ......... kernel=linear, C=0.1, degree=2, score=0.739130 -   0.8s\n",
      "[CV] kernel=linear, C=0.1, degree=2 ..................................\n",
      "[CV] ......... kernel=linear, C=0.1, degree=2, score=0.826087 -   0.7s\n",
      "[CV] kernel=linear, C=0.1, degree=2 ..................................\n",
      "[CV] ......... kernel=linear, C=0.1, degree=2, score=0.695652 -   0.7s\n",
      "[CV] kernel=linear, C=0.1, degree=2 ..................................\n",
      "[CV] ......... kernel=linear, C=0.1, degree=2, score=0.826087 -   0.5s\n",
      "[CV] kernel=linear, C=0.1, degree=2 ..................................\n",
      "[CV] ......... kernel=linear, C=0.1, degree=2, score=0.652174 -   1.0s\n",
      "[CV] kernel=linear, C=0.1, degree=2 ..................................\n",
      "[CV] ......... kernel=linear, C=0.1, degree=2, score=0.869565 -   0.6s\n",
      "[CV] kernel=linear, C=0.1, degree=2 ..................................\n",
      "[CV] ......... kernel=linear, C=0.1, degree=2, score=0.826087 -   0.6s\n",
      "[CV] kernel=linear, C=0.1, degree=2 ..................................\n",
      "[CV] ......... kernel=linear, C=0.1, degree=2, score=0.695652 -   0.8s\n",
      "[CV] kernel=linear, C=0.1, degree=2 ..................................\n",
      "[CV] ......... kernel=linear, C=0.1, degree=2, score=0.782609 -   0.8s\n",
      "[CV] kernel=linear, C=0.1, degree=2 ..................................\n",
      "[CV] ......... kernel=linear, C=0.1, degree=2, score=0.826087 -   0.6s\n",
      "[CV] kernel=linear, C=0.1, degree=2 ..................................\n",
      "[CV] ......... kernel=linear, C=0.1, degree=2, score=0.956522 -   0.7s\n",
      "[CV] kernel=linear, C=0.1, degree=2 ..................................\n",
      "[CV] ......... kernel=linear, C=0.1, degree=2, score=0.869565 -   0.8s\n",
      "[CV] kernel=linear, C=0.1, degree=2 ..................................\n",
      "[CV] ......... kernel=linear, C=0.1, degree=2, score=0.826087 -   0.8s\n",
      "[CV] kernel=linear, C=0.1, degree=2 ..................................\n",
      "[CV] ......... kernel=linear, C=0.1, degree=2, score=0.695652 -   0.5s\n",
      "[CV] kernel=linear, C=0.1, degree=2 ..................................\n",
      "[CV] ......... kernel=linear, C=0.1, degree=2, score=0.782609 -   1.0s\n",
      "[CV] kernel=linear, C=0.1, degree=2 ..................................\n",
      "[CV] ......... kernel=linear, C=0.1, degree=2, score=0.652174 -   0.8s\n",
      "[CV] kernel=linear, C=0.1, degree=2 ..................................\n",
      "[CV] ......... kernel=linear, C=0.1, degree=2, score=0.826087 -   0.8s\n",
      "[CV] kernel=linear, C=0.1, degree=2 ..................................\n",
      "[CV] ......... kernel=linear, C=0.1, degree=2, score=0.695652 -   0.9s\n",
      "[CV] kernel=linear, C=0.1, degree=2 ..................................\n",
      "[CV] ......... kernel=linear, C=0.1, degree=2, score=0.818182 -   1.0s\n",
      "[CV] kernel=linear, C=0.1, degree=2 ..................................\n",
      "[CV] ......... kernel=linear, C=0.1, degree=2, score=0.772727 -   0.8s\n",
      "[CV] kernel=linear, C=0.1, degree=2 ..................................\n",
      "[CV] ......... kernel=linear, C=0.1, degree=2, score=0.772727 -   0.9s\n",
      "[CV] kernel=linear, C=0.1, degree=2 ..................................\n",
      "[CV] ......... kernel=linear, C=0.1, degree=2, score=0.772727 -   0.5s\n",
      "[CV] kernel=linear, C=0.1, degree=2 ..................................\n",
      "[CV] ......... kernel=linear, C=0.1, degree=2, score=0.772727 -   0.9s\n",
      "[CV] kernel=linear, C=0.1, degree=2 ..................................\n",
      "[CV] ......... kernel=linear, C=0.1, degree=2, score=0.727273 -   0.9s\n",
      "[CV] kernel=linear, C=0.1, degree=2 ..................................\n",
      "[CV] ......... kernel=linear, C=0.1, degree=2, score=0.727273 -   0.6s\n",
      "[CV] kernel=linear, C=0.1, degree=2 ..................................\n",
      "[CV] ......... kernel=linear, C=0.1, degree=2, score=0.714286 -   0.9s\n",
      "[CV] kernel=linear, C=0.1, degree=2 ..................................\n",
      "[CV] ......... kernel=linear, C=0.1, degree=2, score=0.666667 -   0.5s\n",
      "[CV] kernel=linear, C=0.1, degree=2 ..................................\n",
      "[CV] ......... kernel=linear, C=0.1, degree=2, score=0.809524 -   0.7s"
     ]
    },
    {
     "name": "stderr",
     "output_type": "stream",
     "text": [
      "[Parallel(n_jobs=1)]: Done  97 tasks       | elapsed:   49.9s\n",
      "[Parallel(n_jobs=1)]: Done 112 tasks       | elapsed:  1.0min\n"
     ]
    },
    {
     "name": "stdout",
     "output_type": "stream",
     "text": [
      "\n",
      "[CV] kernel=linear, C=0.1, degree=2 ..................................\n",
      "[CV] ......... kernel=linear, C=0.1, degree=2, score=0.809524 -   0.9s\n",
      "[CV] kernel=linear, C=0.1, degree=2 ..................................\n",
      "[CV] ......... kernel=linear, C=0.1, degree=2, score=0.761905 -   0.7s\n",
      "[CV] kernel=linear, C=0.1, degree=2 ..................................\n",
      "[CV] ......... kernel=linear, C=0.1, degree=2, score=0.857143 -   0.9s\n",
      "[CV] kernel=linear, C=0.1, degree=2 ..................................\n",
      "[CV] ......... kernel=linear, C=0.1, degree=2, score=0.714286 -   0.7s\n",
      "[CV] kernel=linear, C=0.1, degree=2 ..................................\n",
      "[CV] ......... kernel=linear, C=0.1, degree=2, score=0.666667 -   0.8s\n",
      "[CV] kernel=linear, C=0.1, degree=2 ..................................\n",
      "[CV] ......... kernel=linear, C=0.1, degree=2, score=0.857143 -   0.8s\n",
      "[CV] kernel=linear, C=0.1, degree=2 ..................................\n",
      "[CV] ......... kernel=linear, C=0.1, degree=2, score=0.761905 -   0.6s\n",
      "[CV] kernel=linear, C=0.1, degree=2 ..................................\n",
      "[CV] ......... kernel=linear, C=0.1, degree=2, score=0.761905 -   0.9s\n",
      "[CV] kernel=linear, C=0.2, degree=2 ..................................\n",
      "[CV] ......... kernel=linear, C=0.2, degree=2, score=0.739130 -   1.4s\n",
      "[CV] kernel=linear, C=0.2, degree=2 ..................................\n",
      "[CV] ......... kernel=linear, C=0.2, degree=2, score=0.695652 -   2.9s\n",
      "[CV] kernel=linear, C=0.2, degree=2 ..................................\n",
      "[CV] ......... kernel=linear, C=0.2, degree=2, score=0.782609 -   2.0s\n",
      "[CV] kernel=linear, C=0.2, degree=2 ..................................\n",
      "[CV] ......... kernel=linear, C=0.2, degree=2, score=0.869565 -   3.4s\n",
      "[CV] kernel=linear, C=0.2, degree=2 ..................................\n",
      "[CV] ......... kernel=linear, C=0.2, degree=2, score=0.739130 -   1.2s\n",
      "[CV] kernel=linear, C=0.2, degree=2 ..................................\n",
      "[CV] ......... kernel=linear, C=0.2, degree=2, score=0.826087 -   1.1s\n",
      "[CV] kernel=linear, C=0.2, degree=2 ..................................\n",
      "[CV] ......... kernel=linear, C=0.2, degree=2, score=0.826087 -   1.0s\n",
      "[CV] kernel=linear, C=0.2, degree=2 ..................................\n",
      "[CV] ......... kernel=linear, C=0.2, degree=2, score=0.826087 -   1.2s\n",
      "[CV] kernel=linear, C=0.2, degree=2 ..................................\n",
      "[CV] ......... kernel=linear, C=0.2, degree=2, score=0.652174 -   1.5s\n",
      "[CV] kernel=linear, C=0.2, degree=2 ..................................\n",
      "[CV] ......... kernel=linear, C=0.2, degree=2, score=0.869565 -   1.4s\n",
      "[CV] kernel=linear, C=0.2, degree=2 ..................................\n",
      "[CV] ......... kernel=linear, C=0.2, degree=2, score=0.826087 -   1.3s\n",
      "[CV] kernel=linear, C=0.2, degree=2 ..................................\n",
      "[CV] ......... kernel=linear, C=0.2, degree=2, score=0.695652 -   1.3s\n",
      "[CV] kernel=linear, C=0.2, degree=2 ..................................\n",
      "[CV] ......... kernel=linear, C=0.2, degree=2, score=0.782609 -   1.3s\n",
      "[CV] kernel=linear, C=0.2, degree=2 ..................................\n",
      "[CV] ......... kernel=linear, C=0.2, degree=2, score=0.826087 -   1.2s\n",
      "[CV] kernel=linear, C=0.2, degree=2 ..................................\n",
      "[CV] ......... kernel=linear, C=0.2, degree=2, score=0.956522 -   3.6s\n",
      "[CV] kernel=linear, C=0.2, degree=2 ..................................\n",
      "[CV] ......... kernel=linear, C=0.2, degree=2, score=0.869565 -   1.5s\n",
      "[CV] kernel=linear, C=0.2, degree=2 ..................................\n",
      "[CV] ......... kernel=linear, C=0.2, degree=2, score=0.826087 -   1.5s\n",
      "[CV] kernel=linear, C=0.2, degree=2 ..................................\n",
      "[CV] ......... kernel=linear, C=0.2, degree=2, score=0.695652 -   1.6s\n",
      "[CV] kernel=linear, C=0.2, degree=2 ..................................\n",
      "[CV] ......... kernel=linear, C=0.2, degree=2, score=0.782609 -   1.7s\n",
      "[CV] kernel=linear, C=0.2, degree=2 ..................................\n",
      "[CV] ......... kernel=linear, C=0.2, degree=2, score=0.782609 -   2.7s\n",
      "[CV] kernel=linear, C=0.2, degree=2 ..................................\n",
      "[CV] ......... kernel=linear, C=0.2, degree=2, score=0.826087 -   3.2s\n",
      "[CV] kernel=linear, C=0.2, degree=2 ..................................\n",
      "[CV] ......... kernel=linear, C=0.2, degree=2, score=0.695652 -   1.3s\n",
      "[CV] kernel=linear, C=0.2, degree=2 ..................................\n",
      "[CV] ......... kernel=linear, C=0.2, degree=2, score=0.818182 -   1.6s\n",
      "[CV] kernel=linear, C=0.2, degree=2 ..................................\n",
      "[CV] ......... kernel=linear, C=0.2, degree=2, score=0.772727 -   1.8s"
     ]
    },
    {
     "name": "stderr",
     "output_type": "stream",
     "text": [
      "[Parallel(n_jobs=1)]: Done 127 tasks       | elapsed:  1.4min\n",
      "[Parallel(n_jobs=1)]: Done 144 tasks       | elapsed:  1.9min\n"
     ]
    },
    {
     "name": "stdout",
     "output_type": "stream",
     "text": [
      "\n",
      "[CV] kernel=linear, C=0.2, degree=2 ..................................\n",
      "[CV] ......... kernel=linear, C=0.2, degree=2, score=0.772727 -   3.5s\n",
      "[CV] kernel=linear, C=0.2, degree=2 ..................................\n",
      "[CV] ......... kernel=linear, C=0.2, degree=2, score=0.772727 -   1.8s\n",
      "[CV] kernel=linear, C=0.2, degree=2 ..................................\n",
      "[CV] ......... kernel=linear, C=0.2, degree=2, score=0.772727 -   2.1s\n",
      "[CV] kernel=linear, C=0.2, degree=2 ..................................\n",
      "[CV] ......... kernel=linear, C=0.2, degree=2, score=0.727273 -   1.9s\n",
      "[CV] kernel=linear, C=0.2, degree=2 ..................................\n",
      "[CV] ......... kernel=linear, C=0.2, degree=2, score=0.727273 -   1.1s\n",
      "[CV] kernel=linear, C=0.2, degree=2 ..................................\n",
      "[CV] ......... kernel=linear, C=0.2, degree=2, score=0.714286 -   1.5s\n",
      "[CV] kernel=linear, C=0.2, degree=2 ..................................\n",
      "[CV] ......... kernel=linear, C=0.2, degree=2, score=0.666667 -   1.1s\n",
      "[CV] kernel=linear, C=0.2, degree=2 ..................................\n",
      "[CV] ......... kernel=linear, C=0.2, degree=2, score=0.809524 -   1.7s\n",
      "[CV] kernel=linear, C=0.2, degree=2 ..................................\n",
      "[CV] ......... kernel=linear, C=0.2, degree=2, score=0.809524 -   3.3s\n",
      "[CV] kernel=linear, C=0.2, degree=2 ..................................\n",
      "[CV] ......... kernel=linear, C=0.2, degree=2, score=0.809524 -   2.5s\n",
      "[CV] kernel=linear, C=0.2, degree=2 ..................................\n",
      "[CV] ......... kernel=linear, C=0.2, degree=2, score=0.857143 -   1.3s\n",
      "[CV] kernel=linear, C=0.2, degree=2 ..................................\n",
      "[CV] ......... kernel=linear, C=0.2, degree=2, score=0.857143 -   1.1s\n",
      "[CV] kernel=linear, C=0.2, degree=2 ..................................\n",
      "[CV] ......... kernel=linear, C=0.2, degree=2, score=0.666667 -   1.2s\n",
      "[CV] kernel=linear, C=0.2, degree=2 ..................................\n",
      "[CV] ......... kernel=linear, C=0.2, degree=2, score=0.904762 -   4.7s\n",
      "[CV] kernel=linear, C=0.2, degree=2 ..................................\n",
      "[CV] ......... kernel=linear, C=0.2, degree=2, score=0.761905 -   1.7s\n",
      "[CV] kernel=linear, C=0.2, degree=2 ..................................\n",
      "[CV] ......... kernel=linear, C=0.2, degree=2, score=0.809524 -   1.5s\n",
      "[CV] kernel=linear, C=0.4, degree=2 ..................................\n",
      "[CV] ......... kernel=linear, C=0.4, degree=2, score=0.739130 -   3.5s\n",
      "[CV] kernel=linear, C=0.4, degree=2 ..................................\n",
      "[CV] ......... kernel=linear, C=0.4, degree=2, score=0.695652 -   3.0s\n",
      "[CV] kernel=linear, C=0.4, degree=2 ..................................\n",
      "[CV] ......... kernel=linear, C=0.4, degree=2, score=0.782609 -   2.4s\n",
      "[CV] kernel=linear, C=0.4, degree=2 ..................................\n",
      "[CV] ......... kernel=linear, C=0.4, degree=2, score=0.869565 -   2.4s\n",
      "[CV] kernel=linear, C=0.4, degree=2 ..................................\n",
      "[CV] ......... kernel=linear, C=0.4, degree=2, score=0.739130 -   3.1s\n",
      "[CV] kernel=linear, C=0.4, degree=2 ..................................\n",
      "[CV] ......... kernel=linear, C=0.4, degree=2, score=0.826087 -   2.3s\n",
      "[CV] kernel=linear, C=0.4, degree=2 ..................................\n",
      "[CV] ......... kernel=linear, C=0.4, degree=2, score=0.826087 -   3.4s\n",
      "[CV] kernel=linear, C=0.4, degree=2 ..................................\n",
      "[CV] ......... kernel=linear, C=0.4, degree=2, score=0.826087 -   3.4s\n",
      "[CV] kernel=linear, C=0.4, degree=2 ..................................\n",
      "[CV] ......... kernel=linear, C=0.4, degree=2, score=0.652174 -   3.3s\n",
      "[CV] kernel=linear, C=0.4, degree=2 ..................................\n",
      "[CV] ......... kernel=linear, C=0.4, degree=2, score=0.869565 -   3.1s\n",
      "[CV] kernel=linear, C=0.4, degree=2 ..................................\n",
      "[CV] ......... kernel=linear, C=0.4, degree=2, score=0.826087 -   3.2s\n",
      "[CV] kernel=linear, C=0.4, degree=2 ..................................\n",
      "[CV] ......... kernel=linear, C=0.4, degree=2, score=0.695652 -   2.5s\n",
      "[CV] kernel=linear, C=0.4, degree=2 ..................................\n",
      "[CV] ......... kernel=linear, C=0.4, degree=2, score=0.782609 -   2.4s\n",
      "[CV] kernel=linear, C=0.4, degree=2 ..................................\n",
      "[CV] ......... kernel=linear, C=0.4, degree=2, score=0.826087 -   2.3s\n",
      "[CV] kernel=linear, C=0.4, degree=2 ..................................\n",
      "[CV] ......... kernel=linear, C=0.4, degree=2, score=0.956522 -   3.3s\n",
      "[CV] kernel=linear, C=0.4, degree=2 ..................................\n",
      "[CV] ......... kernel=linear, C=0.4, degree=2, score=0.869565 -   2.0s\n",
      "[CV] kernel=linear, C=0.4, degree=2 ..................................\n",
      "[CV] ......... kernel=linear, C=0.4, degree=2, score=0.826087 -   3.2s\n",
      "[CV] kernel=linear, C=0.4, degree=2 ..................................\n",
      "[CV] ......... kernel=linear, C=0.4, degree=2, score=0.695652 -   2.0s\n",
      "[CV] kernel=linear, C=0.4, degree=2 ..................................\n",
      "[CV] ......... kernel=linear, C=0.4, degree=2, score=0.782609 -   3.3s\n",
      "[CV] kernel=linear, C=0.4, degree=2 ..................................\n",
      "[CV] ......... kernel=linear, C=0.4, degree=2, score=0.782609 -   3.2s"
     ]
    },
    {
     "name": "stderr",
     "output_type": "stream",
     "text": [
      "[Parallel(n_jobs=1)]: Done 161 tasks       | elapsed:  2.5min\n",
      "[Parallel(n_jobs=1)]: Done 180 tasks       | elapsed:  3.4min\n"
     ]
    },
    {
     "name": "stdout",
     "output_type": "stream",
     "text": [
      "\n",
      "[CV] kernel=linear, C=0.4, degree=2 ..................................\n",
      "[CV] ......... kernel=linear, C=0.4, degree=2, score=0.826087 -   3.1s\n",
      "[CV] kernel=linear, C=0.4, degree=2 ..................................\n",
      "[CV] ......... kernel=linear, C=0.4, degree=2, score=0.695652 -   2.4s\n",
      "[CV] kernel=linear, C=0.4, degree=2 ..................................\n",
      "[CV] ......... kernel=linear, C=0.4, degree=2, score=0.818182 -   2.4s\n",
      "[CV] kernel=linear, C=0.4, degree=2 ..................................\n",
      "[CV] ......... kernel=linear, C=0.4, degree=2, score=0.772727 -   3.2s\n",
      "[CV] kernel=linear, C=0.4, degree=2 ..................................\n",
      "[CV] ......... kernel=linear, C=0.4, degree=2, score=0.772727 -   3.3s\n",
      "[CV] kernel=linear, C=0.4, degree=2 ..................................\n",
      "[CV] ......... kernel=linear, C=0.4, degree=2, score=0.772727 -   3.2s\n",
      "[CV] kernel=linear, C=0.4, degree=2 ..................................\n",
      "[CV] ......... kernel=linear, C=0.4, degree=2, score=0.772727 -   2.6s\n",
      "[CV] kernel=linear, C=0.4, degree=2 ..................................\n",
      "[CV] ......... kernel=linear, C=0.4, degree=2, score=0.727273 -   3.3s\n",
      "[CV] kernel=linear, C=0.4, degree=2 ..................................\n",
      "[CV] ......... kernel=linear, C=0.4, degree=2, score=0.727273 -   2.6s\n",
      "[CV] kernel=linear, C=0.4, degree=2 ..................................\n",
      "[CV] ......... kernel=linear, C=0.4, degree=2, score=0.714286 -   3.2s\n",
      "[CV] kernel=linear, C=0.4, degree=2 ..................................\n",
      "[CV] ......... kernel=linear, C=0.4, degree=2, score=0.666667 -   1.4s\n",
      "[CV] kernel=linear, C=0.4, degree=2 ..................................\n",
      "[CV] ......... kernel=linear, C=0.4, degree=2, score=0.809524 -   2.2s\n",
      "[CV] kernel=linear, C=0.4, degree=2 ..................................\n",
      "[CV] ......... kernel=linear, C=0.4, degree=2, score=0.809524 -   2.6s\n",
      "[CV] kernel=linear, C=0.4, degree=2 ..................................\n",
      "[CV] ......... kernel=linear, C=0.4, degree=2, score=0.809524 -   0.9s\n",
      "[CV] kernel=linear, C=0.4, degree=2 ..................................\n",
      "[CV] ......... kernel=linear, C=0.4, degree=2, score=0.857143 -   2.8s\n",
      "[CV] kernel=linear, C=0.4, degree=2 ..................................\n",
      "[CV] ......... kernel=linear, C=0.4, degree=2, score=0.857143 -   1.9s\n",
      "[CV] kernel=linear, C=0.4, degree=2 ..................................\n",
      "[CV] ......... kernel=linear, C=0.4, degree=2, score=0.666667 -   3.2s\n",
      "[CV] kernel=linear, C=0.4, degree=2 ..................................\n",
      "[CV] ......... kernel=linear, C=0.4, degree=2, score=0.904762 -   2.4s\n",
      "[CV] kernel=linear, C=0.4, degree=2 ..................................\n",
      "[CV] ......... kernel=linear, C=0.4, degree=2, score=0.761905 -   3.1s\n",
      "[CV] kernel=linear, C=0.4, degree=2 ..................................\n",
      "[CV] ......... kernel=linear, C=0.4, degree=2, score=0.809524 -   3.3s"
     ]
    },
    {
     "name": "stderr",
     "output_type": "stream",
     "text": [
      "[Parallel(n_jobs=1)]: Done 199 tasks       | elapsed:  4.2min\n",
      "[Parallel(n_jobs=1)]: Done 200 out of 200 | elapsed:  4.2min finished\n"
     ]
    },
    {
     "name": "stdout",
     "output_type": "stream",
     "text": [
      "\n",
      "score equals 0.785634\n",
      "{'kernel': 'linear', 'C': 0.2, 'degree': 2}\n",
      "0.785634118967\n"
     ]
    }
   ],
   "source": [
    "# Support Vector Machines\n",
    "\n",
    "svc = SVC(max_iter = 1000000)\n",
    "\n",
    "parameters = {\"C\":[2.5e-2,5e-2,1e-1,2e-1,4e-1], \"kernel\":[\"linear\"], \"degree\":[2]}\n",
    "grid_search_CV = GridSearchCV(svc, parameters, cv=40, scoring=accuracy_scorer, verbose=10)\n",
    "grid_search_CV.fit(X_train, Y_train)\n",
    "print(\"score equals %f\" % (grid_search_CV.best_score_))\n",
    "print(\"%s\" % (grid_search_CV.best_params_))\n",
    "svc = grid_search_CV.best_estimator_\n",
    "\n",
    "# svc.fit(X_train, Y_train)\n",
    "\n",
    "Y_pred_svc = svc.predict(X_test)\n",
    "\n",
    "svc_score = svc.score(X_train, Y_train)\n",
    "\n",
    "print(svc_score)"
   ]
  },
  {
   "cell_type": "code",
   "execution_count": 42,
   "metadata": {
    "collapsed": false
   },
   "outputs": [
    {
     "name": "stdout",
     "output_type": "stream",
     "text": [
      "score equals 0.804714\n",
      "{'min_samples_split': 40, 'n_estimators': 100, 'min_weight_fraction_leaf': 0, 'max_depth': 6}\n",
      "0.832772166105\n"
     ]
    }
   ],
   "source": [
    "# Random Forests\n",
    "\n",
    "random_forest = RandomForestClassifier(n_estimators=100,criterion='entropy')\n",
    "\n",
    "#random_forest.fit(X_train, Y_train)\n",
    "\n",
    "parameters = {'max_depth':[6], 'min_samples_split':[40], 'n_estimators':[100], 'min_weight_fraction_leaf': [0]}\n",
    "grid_search_CV = GridSearchCV(random_forest, parameters, cv=20, scoring=accuracy_scorer)\n",
    "grid_search_CV.fit(X_train, Y_train)\n",
    "print(\"score equals %f\" % (grid_search_CV.best_score_))\n",
    "print(\"%s\" % (grid_search_CV.best_params_))\n",
    "random_forest = grid_search_CV.best_estimator_\n",
    "\n",
    "Y_pred_rf = random_forest.predict(X_test)\n",
    "\n",
    "rf_score = random_forest.score(X_train, Y_train)\n",
    "\n",
    "print(rf_score)"
   ]
  },
  {
   "cell_type": "code",
   "execution_count": 18,
   "metadata": {
    "collapsed": false
   },
   "outputs": [
    {
     "name": "stdout",
     "output_type": "stream",
     "text": [
      "{'n_neighbors': 9}\n",
      "0.75645342312\n"
     ]
    }
   ],
   "source": [
    "knn = KNeighborsClassifier(n_neighbors = 3)\n",
    "\n",
    "parameters = {'n_neighbors':[3,4,5,6,7,8,9,10,15,20]}\n",
    "\n",
    "grid_search_CV = GridSearchCV(knn, parameters, cv=40, scoring=accuracy_scorer)\n",
    "grid_search_CV.fit(X_train, Y_train)\n",
    "print(\"score equals %f\" % (grid_search_CV.best_score_))\n",
    "print(\"%s\" % (grid_search_CV.best_params_))\n",
    "knn = grid_search_CV.best_estimator_\n",
    "\n",
    "#knn.fit(X_train, Y_train)\n",
    "\n",
    "Y_pred_knn = knn.predict(X_test)\n",
    "\n",
    "knn_score = knn.score(X_train, Y_train)\n",
    "\n",
    "print(knn_score)"
   ]
  },
  {
   "cell_type": "code",
   "execution_count": 19,
   "metadata": {
    "collapsed": false
   },
   "outputs": [
    {
     "name": "stdout",
     "output_type": "stream",
     "text": [
      "0.755331088664\n"
     ]
    }
   ],
   "source": [
    "# Gaussian Naive Bayes\n",
    "\n",
    "gaussian = GaussianNB()\n",
    "\n",
    "gaussian.fit(X_train, Y_train)\n",
    "\n",
    "Y_pred_gaussian = gaussian.predict(X_test)\n",
    "\n",
    "gaussian_score = gaussian.score(X_train, Y_train)\n",
    "\n",
    "print(gaussian_score)"
   ]
  },
  {
   "cell_type": "code",
   "execution_count": 20,
   "metadata": {
    "collapsed": false
   },
   "outputs": [
    {
     "data": {
      "text/html": [
       "<div>\n",
       "<table border=\"1\" class=\"dataframe\">\n",
       "  <thead>\n",
       "    <tr style=\"text-align: right;\">\n",
       "      <th></th>\n",
       "      <th>Features</th>\n",
       "      <th>Coefficient Estimate</th>\n",
       "    </tr>\n",
       "  </thead>\n",
       "  <tbody>\n",
       "    <tr>\n",
       "      <th>0</th>\n",
       "      <td>Age</td>\n",
       "      <td>-0.028363</td>\n",
       "    </tr>\n",
       "    <tr>\n",
       "      <th>1</th>\n",
       "      <td>Fare</td>\n",
       "      <td>0.002396</td>\n",
       "    </tr>\n",
       "    <tr>\n",
       "      <th>2</th>\n",
       "      <td>C</td>\n",
       "      <td>0.458447</td>\n",
       "    </tr>\n",
       "    <tr>\n",
       "      <th>3</th>\n",
       "      <td>Q</td>\n",
       "      <td>0.175064</td>\n",
       "    </tr>\n",
       "    <tr>\n",
       "      <th>4</th>\n",
       "      <td>Family</td>\n",
       "      <td>-0.078103</td>\n",
       "    </tr>\n",
       "    <tr>\n",
       "      <th>5</th>\n",
       "      <td>Child</td>\n",
       "      <td>1.062221</td>\n",
       "    </tr>\n",
       "    <tr>\n",
       "      <th>6</th>\n",
       "      <td>Female</td>\n",
       "      <td>2.325044</td>\n",
       "    </tr>\n",
       "    <tr>\n",
       "      <th>7</th>\n",
       "      <td>Class_1</td>\n",
       "      <td>1.539575</td>\n",
       "    </tr>\n",
       "    <tr>\n",
       "      <th>8</th>\n",
       "      <td>Class_2</td>\n",
       "      <td>0.835521</td>\n",
       "    </tr>\n",
       "  </tbody>\n",
       "</table>\n",
       "</div>"
      ],
      "text/plain": [
       "  Features  Coefficient Estimate\n",
       "0      Age             -0.028363\n",
       "1     Fare              0.002396\n",
       "2        C              0.458447\n",
       "3        Q              0.175064\n",
       "4   Family             -0.078103\n",
       "5    Child              1.062221\n",
       "6   Female              2.325044\n",
       "7  Class_1              1.539575\n",
       "8  Class_2              0.835521"
      ]
     },
     "execution_count": 20,
     "metadata": {},
     "output_type": "execute_result"
    }
   ],
   "source": [
    "# get Correlation Coefficient for each feature using Logistic Regression\n",
    "coeff_df = DataFrame(titanic_df.columns.delete(0))\n",
    "coeff_df.columns = ['Features']\n",
    "coeff_df[\"Coefficient Estimate\"] = pd.Series(logreg.coef_[0])\n",
    "\n",
    "# preview\n",
    "coeff_df"
   ]
  },
  {
   "cell_type": "code",
   "execution_count": 34,
   "metadata": {
    "collapsed": false
   },
   "outputs": [],
   "source": [
    "# put ensemble together\n",
    "#total_score = knn_score + rf_score + svc_score + logreg_score\n",
    "\n",
    "#Y_pred_avg = (knn_score / total_score) * Y_pred_knn + (rf_score / total_score) * Y_pred_rf + (svc_score / total_score) * Y_pred_svc + (logreg_score / total_score) * Y_pred_regression + (gaussian_score / total_score) * Y_pred_gaussian\n",
    "Y_pred_avg = Y_pred_rf\n",
    "#Y_pred_avg = Y_pred_svc\n",
    "Y_pred = list(map(lambda x: 0 if x < 0.5 else 1, Y_pred_avg))"
   ]
  },
  {
   "cell_type": "code",
   "execution_count": 35,
   "metadata": {
    "collapsed": true
   },
   "outputs": [],
   "source": [
    "submission = pd.DataFrame({\n",
    "        \"PassengerId\": test_df[\"PassengerId\"],\n",
    "        \"Survived\": Y_pred\n",
    "    })\n",
    "submission.to_csv('titanic.csv', index=False)"
   ]
  }
 ],
 "metadata": {
  "kernelspec": {
   "display_name": "Python 2",
   "language": "python",
   "name": "python2"
  },
  "language_info": {
   "codemirror_mode": {
    "name": "ipython",
    "version": 2
   },
   "file_extension": ".py",
   "mimetype": "text/x-python",
   "name": "python",
   "nbconvert_exporter": "python",
   "pygments_lexer": "ipython2",
   "version": "2.7.12"
  }
 },
 "nbformat": 4,
 "nbformat_minor": 0
}
