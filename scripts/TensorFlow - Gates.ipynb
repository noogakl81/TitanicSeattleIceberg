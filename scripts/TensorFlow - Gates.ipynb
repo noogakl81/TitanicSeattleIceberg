{
 "cells": [
  {
   "cell_type": "markdown",
   "metadata": {
    "collapsed": false
   },
   "source": [
    "# Neural Networks - Learning XNOR Gates\n",
    "\n",
    "XNOR is a nonlinear function. Can a 1-hidden layer neural network learn it? Because of the non-linearity we cannot linearly separate the classification."
   ]
  },
  {
   "cell_type": "code",
   "execution_count": 1,
   "metadata": {
    "collapsed": false
   },
   "outputs": [
    {
     "name": "stdout",
     "output_type": "stream",
     "text": [
      "[[ 0.  0.]\n",
      " [ 0.  1.]\n",
      " [ 1.  0.]\n",
      " [ 1.  1.]]\n",
      "\n",
      "[[ 1.]\n",
      " [ 0.]\n",
      " [ 0.]\n",
      " [ 1.]]\n"
     ]
    }
   ],
   "source": [
    "import numpy as np\n",
    "import tensorflow as tf\n",
    "np.set_printoptions(precision=4, suppress=True)\n",
    "\n",
    "train_x = np.array(\n",
    "    [[0,0],[0,1],[1,0],[1,1]],\n",
    "    dtype=np.float32)\n",
    "train_y = np.array(\n",
    "    [[1],[0],[0],[1]],\n",
    "    dtype=np.float32\n",
    ")\n",
    "\n",
    "print train_x\n",
    "print\n",
    "print train_y"
   ]
  },
  {
   "cell_type": "code",
   "execution_count": 2,
   "metadata": {
    "collapsed": false
   },
   "outputs": [
    {
     "name": "stdout",
     "output_type": "stream",
     "text": [
      "x shape:    (4, 2)\n",
      "a1 shape:   (?, 9)\n",
      "a2 shape:   (?, 1)\n",
      "Out shape:  (?, 1)\n",
      "Data shape: (?, 1)\n"
     ]
    }
   ],
   "source": [
    "def weight_and_bias(shape):\n",
    "    W = tf.Variable(tf.random_normal(shape))\n",
    "    b = tf.Variable(tf.random_normal([shape[1]]))\n",
    "    return W, b\n",
    "\n",
    "\n",
    "x = tf.placeholder(tf.float32, [None, 2])\n",
    "\n",
    "N = 9\n",
    "\n",
    "# Input -> Hidden Layer #1\n",
    "W1 = tf.Variable(tf.random_normal([2,N]))\n",
    "b1 = tf.Variable(tf.random_normal([N]))\n",
    "a1 = tf.nn.sigmoid(tf.matmul(x,W1) + b1)\n",
    "\n",
    "# Hidden Layer #1 -> Output Layer\n",
    "W2 = tf.Variable(tf.random_normal([N,1]))\n",
    "b2 = tf.Variable(tf.random_normal([1]))\n",
    "a2 = tf.nn.sigmoid(tf.matmul(a1,W2) + b2)\n",
    "\n",
    "y = a2\n",
    "y_ = tf.placeholder(tf.float32, [None, 1])\n",
    "\n",
    "\n",
    "print 'x shape:   ', train_x.shape\n",
    "print 'a1 shape:  ', a1.get_shape()\n",
    "print 'a2 shape:  ', y.get_shape()\n",
    "print 'Out shape: ', y.get_shape()\n",
    "print 'Data shape:', y_.get_shape()"
   ]
  },
  {
   "cell_type": "code",
   "execution_count": 3,
   "metadata": {
    "collapsed": true
   },
   "outputs": [],
   "source": [
    "#error = tf.reduce_mean(-tf.reduce_sum(y_ * tf.log(y), reduction_indices=[1]))\n",
    "#error = tf.reduce_sum(tf.abs(y_ - y))\n",
    "error = tf.nn.l2_loss(y_ - y)\n",
    "train_step = tf.train.GradientDescentOptimizer(0.5).minimize(error)\n",
    "\n",
    "is_correct = tf.equal(tf.round(y),tf.round(y_))\n",
    "accuracy = tf.reduce_mean(tf.cast(is_correct, tf.float32))"
   ]
  },
  {
   "cell_type": "code",
   "execution_count": 4,
   "metadata": {
    "collapsed": false
   },
   "outputs": [
    {
     "name": "stdout",
     "output_type": "stream",
     "text": [
      "= Logging =\n",
      "Iteration 0 - Accuracy=0.5, Error=0.525525093079\n",
      "Iteration 1000 - Accuracy=1.0, Error=0.00813986267895\n",
      "\n",
      "= Results =\n",
      "Iterations=2000, Accuracy=1.0, Error=0.00281490245834\n"
     ]
    }
   ],
   "source": [
    "init = tf.initialize_all_variables()\n",
    "sess = tf.Session()\n",
    "sess.run(init)\n",
    "\n",
    "MAX_ITER = 10000\n",
    "iter_count = 0\n",
    "current_accuracy = 0\n",
    "                  \n",
    "print '= Logging ='\n",
    "while (current_accuracy != 1.0 or iter_count < 2000) and (iter_count < MAX_ITER):\n",
    "    sess.run(train_step, feed_dict={x:train_x, y_:train_y})\n",
    "    current_accuracy = sess.run(accuracy, feed_dict={x:train_x, y_:train_y})\n",
    "    current_error = sess.run(error, feed_dict={x:train_x, y_:train_y})\n",
    "                                     \n",
    "    # logging\n",
    "    if (iter_count % 1000) == 0:\n",
    "        print 'Iteration {0} - Accuracy={1}, Error={2}'.format(\n",
    "                iter_count, current_accuracy, current_error)\n",
    "        \n",
    "    iter_count += 1\n",
    "                               \n",
    "    \n",
    "print '\\n= Results ='\n",
    "print 'Iterations={0}, Accuracy={1}, Error={2}'.format(\n",
    "    iter_count, current_accuracy, current_error) \n",
    "\n"
   ]
  },
  {
   "cell_type": "code",
   "execution_count": 5,
   "metadata": {
    "collapsed": false
   },
   "outputs": [
    {
     "name": "stdout",
     "output_type": "stream",
     "text": [
      "W2\n",
      "[[ 2.9396]\n",
      " [ 0.3349]\n",
      " [ 6.3478]\n",
      " [-2.6549]\n",
      " [ 4.1968]\n",
      " [-7.0099]\n",
      " [ 0.332 ]\n",
      " [-2.628 ]\n",
      " [-0.1161]]\n",
      "\n",
      "b2\n",
      "[-1.2442]\n",
      "\n",
      "y_hat =\n",
      "[[ 0.968 ]\n",
      " [ 0.0366]\n",
      " [ 0.0393]\n",
      " [ 0.9585]]\n",
      "\n",
      "y = \n",
      "[[ 1.]\n",
      " [ 0.]\n",
      " [ 0.]\n",
      " [ 1.]]\n"
     ]
    }
   ],
   "source": [
    "out = sess.run(y, feed_dict={x:train_x})\n",
    "\n",
    "print 'W2\\n', W2.eval(session=sess)\n",
    "print\n",
    "print 'b2\\n', b2.eval(session=sess)\n",
    "print\n",
    "print 'y_hat =\\n', out\n",
    "print\n",
    "print 'y = \\n', train_y"
   ]
  },
  {
   "cell_type": "code",
   "execution_count": 6,
   "metadata": {
    "collapsed": false
   },
   "outputs": [
    {
     "name": "stdout",
     "output_type": "stream",
     "text": [
      "[[ 0.1106  0.4977  0.8457  0.7198  0.8625  0.1067  0.2995  0.8386  0.5412]\n",
      " [ 0.4876  0.6559  0.0379  0.2626  0.9968  0.8883  0.6545  0.5107  0.4833]\n",
      " [ 0.227   0.5253  0.0365  0.7084  0.1776  0.0006  0.2367  0.7172  0.6935]\n",
      " [ 0.6921  0.6804  0.0003  0.2518  0.9155  0.0406  0.5789  0.3375  0.6421]]\n"
     ]
    }
   ],
   "source": [
    "# print the hidden layer\n",
    "\n",
    "A1 = a1.eval(session=sess, feed_dict={x:train_x})\n",
    "print A1"
   ]
  },
  {
   "cell_type": "code",
   "execution_count": null,
   "metadata": {
    "collapsed": false
   },
   "outputs": [],
   "source": []
  },
  {
   "cell_type": "code",
   "execution_count": null,
   "metadata": {
    "collapsed": false
   },
   "outputs": [],
   "source": []
  },
  {
   "cell_type": "code",
   "execution_count": null,
   "metadata": {
    "collapsed": true
   },
   "outputs": [],
   "source": []
  }
 ],
 "metadata": {
  "kernelspec": {
   "display_name": "Python 2",
   "language": "python",
   "name": "python2"
  },
  "language_info": {
   "codemirror_mode": {
    "name": "ipython",
    "version": 2
   },
   "file_extension": ".py",
   "mimetype": "text/x-python",
   "name": "python",
   "nbconvert_exporter": "python",
   "pygments_lexer": "ipython2",
   "version": "2.7.11"
  }
 },
 "nbformat": 4,
 "nbformat_minor": 0
}
