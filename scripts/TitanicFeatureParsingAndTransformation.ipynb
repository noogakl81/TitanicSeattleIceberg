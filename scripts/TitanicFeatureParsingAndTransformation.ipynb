{
 "cells": [
  {
   "cell_type": "code",
   "execution_count": 1,
   "metadata": {
    "collapsed": true
   },
   "outputs": [],
   "source": [
    "# pandas\n",
    "import pandas as pd\n",
    "from pandas import Series,DataFrame\n",
    "\n",
    "# numpy, matplotlib, seaborn\n",
    "import numpy as np\n",
    "import matplotlib.pyplot as plt\n",
    "import seaborn as sns\n",
    "sns.set_style('whitegrid')\n",
    "%matplotlib inline"
   ]
  },
  {
   "cell_type": "code",
   "execution_count": 2,
   "metadata": {
    "collapsed": false
   },
   "outputs": [
    {
     "data": {
      "text/html": [
       "<div>\n",
       "<table border=\"1\" class=\"dataframe\">\n",
       "  <thead>\n",
       "    <tr style=\"text-align: right;\">\n",
       "      <th></th>\n",
       "      <th>PassengerId</th>\n",
       "      <th>Survived</th>\n",
       "      <th>Pclass</th>\n",
       "      <th>Name</th>\n",
       "      <th>Sex</th>\n",
       "      <th>Age</th>\n",
       "      <th>SibSp</th>\n",
       "      <th>Parch</th>\n",
       "      <th>Ticket</th>\n",
       "      <th>Fare</th>\n",
       "      <th>Cabin</th>\n",
       "      <th>Embarked</th>\n",
       "    </tr>\n",
       "  </thead>\n",
       "  <tbody>\n",
       "    <tr>\n",
       "      <th>0</th>\n",
       "      <td>1</td>\n",
       "      <td>0</td>\n",
       "      <td>3</td>\n",
       "      <td>Braund, Mr. Owen Harris</td>\n",
       "      <td>male</td>\n",
       "      <td>22.0</td>\n",
       "      <td>1</td>\n",
       "      <td>0</td>\n",
       "      <td>A/5 21171</td>\n",
       "      <td>7.2500</td>\n",
       "      <td>NaN</td>\n",
       "      <td>S</td>\n",
       "    </tr>\n",
       "    <tr>\n",
       "      <th>1</th>\n",
       "      <td>2</td>\n",
       "      <td>1</td>\n",
       "      <td>1</td>\n",
       "      <td>Cumings, Mrs. John Bradley (Florence Briggs Th...</td>\n",
       "      <td>female</td>\n",
       "      <td>38.0</td>\n",
       "      <td>1</td>\n",
       "      <td>0</td>\n",
       "      <td>PC 17599</td>\n",
       "      <td>71.2833</td>\n",
       "      <td>C85</td>\n",
       "      <td>C</td>\n",
       "    </tr>\n",
       "    <tr>\n",
       "      <th>2</th>\n",
       "      <td>3</td>\n",
       "      <td>1</td>\n",
       "      <td>3</td>\n",
       "      <td>Heikkinen, Miss. Laina</td>\n",
       "      <td>female</td>\n",
       "      <td>26.0</td>\n",
       "      <td>0</td>\n",
       "      <td>0</td>\n",
       "      <td>STON/O2. 3101282</td>\n",
       "      <td>7.9250</td>\n",
       "      <td>NaN</td>\n",
       "      <td>S</td>\n",
       "    </tr>\n",
       "    <tr>\n",
       "      <th>3</th>\n",
       "      <td>4</td>\n",
       "      <td>1</td>\n",
       "      <td>1</td>\n",
       "      <td>Futrelle, Mrs. Jacques Heath (Lily May Peel)</td>\n",
       "      <td>female</td>\n",
       "      <td>35.0</td>\n",
       "      <td>1</td>\n",
       "      <td>0</td>\n",
       "      <td>113803</td>\n",
       "      <td>53.1000</td>\n",
       "      <td>C123</td>\n",
       "      <td>S</td>\n",
       "    </tr>\n",
       "    <tr>\n",
       "      <th>4</th>\n",
       "      <td>5</td>\n",
       "      <td>0</td>\n",
       "      <td>3</td>\n",
       "      <td>Allen, Mr. William Henry</td>\n",
       "      <td>male</td>\n",
       "      <td>35.0</td>\n",
       "      <td>0</td>\n",
       "      <td>0</td>\n",
       "      <td>373450</td>\n",
       "      <td>8.0500</td>\n",
       "      <td>NaN</td>\n",
       "      <td>S</td>\n",
       "    </tr>\n",
       "  </tbody>\n",
       "</table>\n",
       "</div>"
      ],
      "text/plain": [
       "   PassengerId  Survived  Pclass  \\\n",
       "0            1         0       3   \n",
       "1            2         1       1   \n",
       "2            3         1       3   \n",
       "3            4         1       1   \n",
       "4            5         0       3   \n",
       "\n",
       "                                                Name     Sex   Age  SibSp  \\\n",
       "0                            Braund, Mr. Owen Harris    male  22.0      1   \n",
       "1  Cumings, Mrs. John Bradley (Florence Briggs Th...  female  38.0      1   \n",
       "2                             Heikkinen, Miss. Laina  female  26.0      0   \n",
       "3       Futrelle, Mrs. Jacques Heath (Lily May Peel)  female  35.0      1   \n",
       "4                           Allen, Mr. William Henry    male  35.0      0   \n",
       "\n",
       "   Parch            Ticket     Fare Cabin Embarked  \n",
       "0      0         A/5 21171   7.2500   NaN        S  \n",
       "1      0          PC 17599  71.2833   C85        C  \n",
       "2      0  STON/O2. 3101282   7.9250   NaN        S  \n",
       "3      0            113803  53.1000  C123        S  \n",
       "4      0            373450   8.0500   NaN        S  "
      ]
     },
     "execution_count": 2,
     "metadata": {},
     "output_type": "execute_result"
    }
   ],
   "source": [
    "# get titanic & test csv files as a DataFrame\n",
    "titanic_df = pd.read_csv(\"../input/train.csv\", dtype={\"Age\": np.float64}, )\n",
    "test_df    = pd.read_csv(\"../input/test.csv\", dtype={\"Age\": np.float64}, )\n",
    "\n",
    "# preview the data\n",
    "titanic_df.head()"
   ]
  },
  {
   "cell_type": "code",
   "execution_count": 3,
   "metadata": {
    "collapsed": false
   },
   "outputs": [
    {
     "name": "stdout",
     "output_type": "stream",
     "text": [
      "<class 'pandas.core.frame.DataFrame'>\n",
      "RangeIndex: 891 entries, 0 to 890\n",
      "Data columns (total 12 columns):\n",
      "PassengerId    891 non-null int64\n",
      "Survived       891 non-null int64\n",
      "Pclass         891 non-null int64\n",
      "Name           891 non-null object\n",
      "Sex            891 non-null object\n",
      "Age            714 non-null float64\n",
      "SibSp          891 non-null int64\n",
      "Parch          891 non-null int64\n",
      "Ticket         891 non-null object\n",
      "Fare           891 non-null float64\n",
      "Cabin          204 non-null object\n",
      "Embarked       889 non-null object\n",
      "dtypes: float64(2), int64(5), object(5)\n",
      "memory usage: 83.6+ KB\n",
      "----------------------------\n",
      "<class 'pandas.core.frame.DataFrame'>\n",
      "RangeIndex: 418 entries, 0 to 417\n",
      "Data columns (total 11 columns):\n",
      "PassengerId    418 non-null int64\n",
      "Pclass         418 non-null int64\n",
      "Name           418 non-null object\n",
      "Sex            418 non-null object\n",
      "Age            332 non-null float64\n",
      "SibSp          418 non-null int64\n",
      "Parch          418 non-null int64\n",
      "Ticket         418 non-null object\n",
      "Fare           417 non-null float64\n",
      "Cabin          91 non-null object\n",
      "Embarked       418 non-null object\n",
      "dtypes: float64(2), int64(4), object(5)\n",
      "memory usage: 36.0+ KB\n"
     ]
    }
   ],
   "source": [
    "titanic_df.info()\n",
    "print(\"----------------------------\")\n",
    "test_df.info()"
   ]
  },
  {
   "cell_type": "code",
   "execution_count": 4,
   "metadata": {
    "collapsed": false
   },
   "outputs": [
    {
     "name": "stdout",
     "output_type": "stream",
     "text": [
      "Number of Mr.: 520 \n",
      "Number of Mrs.: 126 \n",
      "Number of Miss: 187 \n",
      "Number of Dr.: 7 \n",
      "Number of Master: 40 \n",
      "Number of Reverends: 6 \n",
      "Number of Military Officers: 5 \n",
      "Total number of people: 891 \n",
      "Number of Mr.: 240 \n",
      "Number of Mrs.: 72 \n",
      "Number of Miss: 80 \n",
      "Number of Dr.: 1 \n",
      "Number of Master: 21 \n",
      "Number of Reverends: 2 \n",
      "Number of Military Officers: 2 \n",
      "Total number of people: 418 \n"
     ]
    }
   ],
   "source": [
    "import re\n",
    "\n",
    "def create_title_classes(df):\n",
    "    df['Mil'] = np.where((df['Name'].str.contains('Capt') | df['Name'].str.contains('Major\\.') | df['Name'].str.contains('Col\\.') | df['Name'].str.contains('Brig\\.') | df['Name'].str.contains('Gen\\.')), 1, 0)\n",
    "    df['Rev'] = np.where(df['Name'].str.contains('Rev'), 1, 0)\n",
    "    df['Dr'] = np.where(df['Name'].str.contains('Dr\\.'), 1, 0) \n",
    "    df['Master'] = np.where(df['Name'].str.contains('Master'), 1, 0) \n",
    "    df['Mrs'] = np.where(df['Name'].str.contains('Mrs\\.') | df['Name'].str.contains('Mme\\.'), 1, 0) \n",
    "    df['Mr'] = np.where(df['Name'].str.contains('Mr\\.') | ((df['Sex'] == 'male') & (df['Dr'] == 0) & (df['Mil'] == 0) & (df['Rev'] == 0) & (df['Master'] == 0)),1,0)\n",
    "    df['Miss'] = np.where(df['Name'].str.contains('Miss') | ((df['Sex'] == 'female') & (df['Dr'] == 0) & (df['Mrs'] == 0)), 1, 0) \n",
    "\n",
    "    print \"Number of Mr.: %d \" % len(df[df['Mr'] == 1])\n",
    "    print \"Number of Mrs.: %d \" % len(df[df['Mrs'] == 1])\n",
    "    print \"Number of Miss: %d \" % len(df[df['Miss'] == 1])\n",
    "    print \"Number of Dr.: %d \" % len(df[df['Dr'] == 1])\n",
    "    print \"Number of Master: %d \" % len(df[df['Master'] == 1])\n",
    "    print \"Number of Reverends: %d \" % len(df[df['Rev'] == 1])\n",
    "    print \"Number of Military Officers: %d \" % len(df[df['Mil'] == 1])\n",
    "    print \"Total number of people: %d \" % len(df)\n",
    "\n",
    "    \n",
    "create_title_classes(titanic_df)\n",
    "create_title_classes(test_df)"
   ]
  },
  {
   "cell_type": "code",
   "execution_count": 5,
   "metadata": {
    "collapsed": false
   },
   "outputs": [],
   "source": [
    "# drop unnecessary columns, these columns won't be useful in analysis and prediction\n",
    "titanic_df = titanic_df.drop(['PassengerId','Name','Ticket'], axis=1)\n",
    "test_df    = test_df.drop(['Name','Ticket'], axis=1)"
   ]
  },
  {
   "cell_type": "code",
   "execution_count": 6,
   "metadata": {
    "collapsed": false
   },
   "outputs": [
    {
     "data": {
      "text/html": [
       "<div>\n",
       "<table border=\"1\" class=\"dataframe\">\n",
       "  <thead>\n",
       "    <tr style=\"text-align: right;\">\n",
       "      <th></th>\n",
       "      <th>Survived</th>\n",
       "      <th>Pclass</th>\n",
       "      <th>Sex</th>\n",
       "      <th>Age</th>\n",
       "      <th>SibSp</th>\n",
       "      <th>Parch</th>\n",
       "      <th>Fare</th>\n",
       "      <th>Cabin</th>\n",
       "      <th>Mil</th>\n",
       "      <th>Rev</th>\n",
       "      <th>Dr</th>\n",
       "      <th>Master</th>\n",
       "      <th>Mrs</th>\n",
       "      <th>Mr</th>\n",
       "      <th>Miss</th>\n",
       "      <th>C</th>\n",
       "      <th>Q</th>\n",
       "    </tr>\n",
       "  </thead>\n",
       "  <tbody>\n",
       "    <tr>\n",
       "      <th>0</th>\n",
       "      <td>0</td>\n",
       "      <td>3</td>\n",
       "      <td>male</td>\n",
       "      <td>22.0</td>\n",
       "      <td>1</td>\n",
       "      <td>0</td>\n",
       "      <td>7.2500</td>\n",
       "      <td>NaN</td>\n",
       "      <td>0</td>\n",
       "      <td>0</td>\n",
       "      <td>0</td>\n",
       "      <td>0</td>\n",
       "      <td>0</td>\n",
       "      <td>1</td>\n",
       "      <td>0</td>\n",
       "      <td>0.0</td>\n",
       "      <td>0.0</td>\n",
       "    </tr>\n",
       "    <tr>\n",
       "      <th>1</th>\n",
       "      <td>1</td>\n",
       "      <td>1</td>\n",
       "      <td>female</td>\n",
       "      <td>38.0</td>\n",
       "      <td>1</td>\n",
       "      <td>0</td>\n",
       "      <td>71.2833</td>\n",
       "      <td>C85</td>\n",
       "      <td>0</td>\n",
       "      <td>0</td>\n",
       "      <td>0</td>\n",
       "      <td>0</td>\n",
       "      <td>1</td>\n",
       "      <td>0</td>\n",
       "      <td>0</td>\n",
       "      <td>1.0</td>\n",
       "      <td>0.0</td>\n",
       "    </tr>\n",
       "    <tr>\n",
       "      <th>2</th>\n",
       "      <td>1</td>\n",
       "      <td>3</td>\n",
       "      <td>female</td>\n",
       "      <td>26.0</td>\n",
       "      <td>0</td>\n",
       "      <td>0</td>\n",
       "      <td>7.9250</td>\n",
       "      <td>NaN</td>\n",
       "      <td>0</td>\n",
       "      <td>0</td>\n",
       "      <td>0</td>\n",
       "      <td>0</td>\n",
       "      <td>0</td>\n",
       "      <td>0</td>\n",
       "      <td>1</td>\n",
       "      <td>0.0</td>\n",
       "      <td>0.0</td>\n",
       "    </tr>\n",
       "    <tr>\n",
       "      <th>3</th>\n",
       "      <td>1</td>\n",
       "      <td>1</td>\n",
       "      <td>female</td>\n",
       "      <td>35.0</td>\n",
       "      <td>1</td>\n",
       "      <td>0</td>\n",
       "      <td>53.1000</td>\n",
       "      <td>C123</td>\n",
       "      <td>0</td>\n",
       "      <td>0</td>\n",
       "      <td>0</td>\n",
       "      <td>0</td>\n",
       "      <td>1</td>\n",
       "      <td>0</td>\n",
       "      <td>0</td>\n",
       "      <td>0.0</td>\n",
       "      <td>0.0</td>\n",
       "    </tr>\n",
       "    <tr>\n",
       "      <th>4</th>\n",
       "      <td>0</td>\n",
       "      <td>3</td>\n",
       "      <td>male</td>\n",
       "      <td>35.0</td>\n",
       "      <td>0</td>\n",
       "      <td>0</td>\n",
       "      <td>8.0500</td>\n",
       "      <td>NaN</td>\n",
       "      <td>0</td>\n",
       "      <td>0</td>\n",
       "      <td>0</td>\n",
       "      <td>0</td>\n",
       "      <td>0</td>\n",
       "      <td>1</td>\n",
       "      <td>0</td>\n",
       "      <td>0.0</td>\n",
       "      <td>0.0</td>\n",
       "    </tr>\n",
       "  </tbody>\n",
       "</table>\n",
       "</div>"
      ],
      "text/plain": [
       "   Survived  Pclass     Sex   Age  SibSp  Parch     Fare Cabin  Mil  Rev  Dr  \\\n",
       "0         0       3    male  22.0      1      0   7.2500   NaN    0    0   0   \n",
       "1         1       1  female  38.0      1      0  71.2833   C85    0    0   0   \n",
       "2         1       3  female  26.0      0      0   7.9250   NaN    0    0   0   \n",
       "3         1       1  female  35.0      1      0  53.1000  C123    0    0   0   \n",
       "4         0       3    male  35.0      0      0   8.0500   NaN    0    0   0   \n",
       "\n",
       "   Master  Mrs  Mr  Miss    C    Q  \n",
       "0       0    0   1     0  0.0  0.0  \n",
       "1       0    1   0     0  1.0  0.0  \n",
       "2       0    0   0     1  0.0  0.0  \n",
       "3       0    1   0     0  0.0  0.0  \n",
       "4       0    0   1     0  0.0  0.0  "
      ]
     },
     "execution_count": 6,
     "metadata": {},
     "output_type": "execute_result"
    },
    {
     "data": {
      "image/png": "iVBORw0KGgoAAAANSUhEUgAAA1kAAAEZCAYAAABlxu92AAAABHNCSVQICAgIfAhkiAAAAAlwSFlz\nAAALEgAACxIB0t1+/AAAIABJREFUeJzs3Xl0ldl95vvv0TwzCaHhAEIDm1kgUcygoSbXTEEljlOx\nHbuqYzu+uUm6c5fjdC/nJqtXVuf6truTdCq2bzmO02XH3WYoV5miRpAAUVCggxDjRiPoSEKAAM3z\nOfcPCSEhBlXVORwNz2ctL/S+e786P2FK0nPe/f62w+v1IiIiIiIiIr4RFOgCREREREREJhOFLBER\nERERER9SyBIREREREfEhhSwREREREREfUsgSERERERHxIYUsERERERERHwrx5yc3xjiA14AsoAt4\n1VpbNWz8EeC/Dh5eBn7PWttjjCkBmgfPV1trX/FnnSIiIiIiIr7i15AFbAXCrbUbjDFrgR8Mnrvl\nx8B2a22VMebrwHxjzCUAa22Bn2sTERERERHxOX8vF9wEvAtgrT0KrL41YIxZCDQB/94YUwjMtNaW\nM3DXK9oY854x5sPBcCYiIiIiIjIh+DtkxXF72R9AnzHm1mvGA+uBvwceAx4zxuQBHcD3rbVPAt8C\nfj7sGhERERERkXHN38sFW4DYYcdB1lrP4MdNQIW19gKAMeZdBu50/R1QAWCtLTfGNAFJQN29XqSk\npMTrh9pFRERERETuKScnx3G38/4OWcXAs8AOY8w64NSwsSogxhiTNtgMYzPwOvAKsBz4tjEmmYGQ\n1vCgF8rJyfF17SIiIiIiIp+aw+v1302gYd0FVwye+hqQA0Rba18fXB74t4Njh621f2qMCQV+CswH\nPMB3rLVH7vc6JSUlXoUsERERERF5yO56J8uvIethUcgSEREREZEAuGvIUkMJERERERERH1LIEhER\nERER8SGFLBERERERER9SyBIREREREfEhhSwREREREREfUsgSERERERHxIYUsERERERERH1LIEhER\nERER8SGFLBERERERER9SyBIRkSnrh7vKeO4//Jof7ioLdCkiIjKJKGSJiMiU1NndxzuHqwHYe7ia\nzu6+AFckIiKThUKWiIhMSb19HrzegY893oFjERERX1DIEhERERER8SGFLBERERERER9SyBIRERER\nEfEhhSwREREREREfUsgSERERERHxIYUsERERERERH1LIEhERERER8SGFLBERERERER9SyBIRERER\nEfGhEH9+cmOMA3gNyAK6gFettVXDxh8B/uvg4WXg94De+10jIiIiIiIynvn7TtZWINxauwH4LvCD\nO8Z/DPy+tXYL8C4wfwzXiIiIiIiIjFv+DlmbGAhPWGuPAqtvDRhjFgJNwL83xhQCM6215fe7RkRE\nREREZLzzd8iKA5qHHfcZY269ZjywHvh74DHgMWNM/gOuERERERERGdf8+kwW0ALEDjsOstZ6Bj9u\nAiqstRcAjDHvMnDXqvk+19xTSUmJbyoWEZEpoaO7f8TxyZOlRIUHB6gaERGZiHJycu563t8hqxh4\nFthhjFkHnBo2VgXEGGPSBhtbbAZeByqB5+5xzT3d6wsUERG5m5b2HtjZMHSclbWSuOiwAFYkIiKT\nhb9D1m7gcWNM8eDx14wxXwKirbWvG2NeAf7NGANw2Fq7d7Aj4Yhr/FyjiIiIiIiIz/g1ZFlrvcC3\n7jh9Ydh4IbB2DNeIiIiIiIhMCGooISIiIiIi4kMKWSIiIiIiIj6kkCUiIiIiIuJDClkiIiIiIiI+\npJAlIiIiIiLiQwpZIiIiIiIiPqSQJSIiIiIi4kMKWSIiIiIiIj6kkCUiIiIiIuJDClkiIiIiIiI+\npJAlIiIiIiLiQwpZIiIiIiIiPqSQJSIiIiIi4kMKWSIiIiIiIj6kkCUiIiIiIuJDClkiIiIiIiI+\npJAlIiIiIiLiQwpZIiIyJdU2tga6BBERmaRCAl2AiIjIw3SmqonX3zpNRe3NEed/faCCl59cTFCQ\nI0CViYjIZKGQJSIiU0ZZxVX+8sdH6Ov3jBr73x+W09rRyx9uzwpAZSIiMplouaCIiEwJHo+X//Gr\nk3cNWLfsPVzD+ZrrD7EqERGZjPx6J8sY4wBeA7KALuBVa23VsPE/AV4Frgye+oa1ttwYUwI0D56r\ntta+4s86RURk8jtVcY2Ga+0PnPfukRoWpc58CBWJiMhk5e/lgluBcGvtBmPMWuAHg+duyQG+bK09\nceuEMSYcwFpb4OfaRERkCrnY2DKmeXc+qyUiIvJp+Xu54CbgXQBr7VFg9R3jOcB3jTEHjTF/Pngu\nC4g2xrxnjPlwMJyJiIh8Zjdauig5d+XBE4GLl1v5k/9WyJtFFTQ1d/q5MhERmYz8fScrjtvL/gD6\njDFB1tpbC+L/DfhHoAV40xjzNHAR+L619ifGmExgrzFm4bBrRERExqT+Whu79lew73gtvX1j/zFS\n6W6m0t3MP799hhUZ8eRlO1m/PJnoyFA/VisiIpOFv0NWCxA77DjojrD0d9baFgBjzB5gFfABUAkw\n+HxWE5AE1N3vhUpKSnxZt4iITGD113s4dLaVs5c+3Z0oB+Adduz1wsnya5wsv8b/+FUpJiWS5alR\nZCZHEBKsVu8iIlNdTk7OXc/7O2QVA88CO4wx64BTtwaMMXHAaWPMIqATKAB+ArwCLAe+bYxJZiCk\nNTzohe71BYqIyNTg9XopvXCVnfvLOVl+bdR4XHQYT66bj+t8I5V1o5/PCg8N4j99bS2x0WEUutwc\nOFHH9ZauofF+D5yt7eRsbScxkaFszEomL9vJkgWztLeWiIiM4PB6vQ+e9RkN6y64YvDU1xh4Diva\nWvu6MeZl4I8Z6Dz4kbX2r4wxocBPgfmAB/iOtfbI/V6npKTEq5AlIjI19Xu8HD5Zz87CcirdzaPG\nE2ZGsS03nUfXzCMiLISe3n4+Ol7Lex9Xjwhb//1Pc0l3Th/xeU9XXqPI5aa4rJ6Orr67vn789Ehy\nV6WQlzOX1KQ433+BIiIynt31XTa/hqyHRSFLRGTq6e7tZ9+xS+wurKShaXRr9gXJcWzPz2RTVjLB\nwaP7PLW09/Dy9/YOHf/8r58iLjrsrq/V09vPsXONFLncHDvbeM+9tlKT4sjNdrJlVQoJM6I+41cm\nIiITyF1Dlr+XC4qIiPhUW2cv7xRX8/bBKm62dY8aX54ez/aCDLJNAg6Hb5bxhYUGs3FFMhtXJNPW\n0UNxWQNFLjenq64x/L3KmoYWavac5Wd7zrI0bRZ52U42ZiUTG3X38CYiIpOTQpaIiEwITc2dvFlU\nyXtHaujs7h8x5nDAumVJvFSQycJ5M/xaR0zUwLNdT66bz9UbnRwsdVPoclNdP/I5rzNVTZypauJH\nu8vIWTSHvBwnjyxJJDw02K/1iYhI4ClkiYjIuFbb2Mruwgr2l9TS1z9yiXtIcBAFq+fyYl46zoTY\ne3wG/5k9I5Jt+Zlsy8/kYkMLhS43RSfcXL1xu6thX7+Xo2cuc/TMZaIiQli/PIm8bCfLM2YTrIYZ\nIiKTkkKWiIiMS+cvXmfnvnKOnrnMnY8PR4aH8NT6VJ7fksasaZGBKfAO85Pi+OozS/jyU4s5V3Od\nQpeb4pN1tHb0Ds3p6Orjo2O1fHSslplx4WxZ5SQ320l6yjSfLW0UEZHAU8gSEZFxw+v1UnL+Cjv2\nlXOmqmnU+PTYcJ7fnMZTGxYQM043Bg4KcrA0bRZL02bxB1uX4zrfSKHLzSdnLtMzbEPk6y3dvFlU\nyZtFlTgTYsjLHghcibOiA1i9iIj4gkKWiIgEXH+/h4OldezcX0FNw+g9rJLio9mWl0HB6rmETaBn\nmkJDgli7LIm1y5Lo6Orl41MNFLrclJVfxTPs7pz7ShtvvHueN949z6L5M8jLdrJpZQrTYsIDV7yI\niHxmClkiIhIwXT19fHD0Em8WVXBl2HNMt2Q4p7G9IJP1y5Mn/PNLURGhPPrIPB59ZB7XW7o4WFpH\noctNRe3NEfPOX7zB+Ys3+PGvT5NtEsjNdrJuaSIR4fqRLSIyUeg7toiIPHQt7T3sOVTF24eqae3o\nGTW+cuFsXsrPZEVm/KR8VmlmXAQvbEnnhS3puK+0UuSqo8jlHrHfl8fj5fi5Ro6fayQiLJh1y5LI\nzXayauHsu+77JSIi44dCloiIPDRXbnTw66JK3jt6ke6ekW3YgxywMSuFbfkZZDinB6jCh8+ZEMvL\nX1jE7z5puHDpBoUuNwdL62huux0+u3r6KXQNtIqfFhPG5qwUcnOcmHkzJmUIFRGZ6BSyRETE7y42\ntLBzfzkHTtTR7xnZKjA0JIjHHpnHi3kZJMVP3aYPDocDM38mZv5MXnl+GaUXrlLkcnPkdANdwwJp\nc1sPvymu5jfF1STNiiY320lejpOU2TEBrF5ERIZTyBIREb85U9XEjn3lHD/XOGosOjKUpzek8tzm\nNGbERgSguvErJDiI1YvnsHrxHLq6+zhy5jJFLjcuewXPsJDa0NTOLz+w/PIDS8bc6eRlO9myMoUZ\ncfr7FBEJJIUsERHxKY/Hy7Gzl9m5v4JzNddHjc+Mi2BrbjpPrptPVMT4bMM+nkSEh5CX7SQv20lz\nWzeHBhtmnL94Y8S8itqbVNTe5J/fOs2KzNnkZTtZvzxJf8ciIgGgkCUiIj7R2+ehyOVmV2EFtY2t\no8ZTZsewPT+DvBwnoSETpw37eDItJpxnNqXxzKY0Lje1UzT4nJb7StvQHI8XSi9cpfTCVV7bcZI1\nSxPJy3aSvWgOoSFqmCEi8jAoZImIyOfS0dXL+0cv8uuiSq41d40aN/NnsD0/k7VLEwma4G3Yx5PE\nWdF88XHDbz+2kMq6Zopcbg6ccHO9pXtoTk+fh0Mn6zl0sp7YqFA2ZqWQl+1kcepM/X8hIuJHClki\nIvKZ3Gzt5jeHqthTXE1bZ++o8dWL57A9P4OlabPUAc+PHA4HGc7pZDin8/vPLuVUxVUKXW4OlzXQ\n2d03NK+1o5d3P67h3Y9rSJgRyZZVA0sQ5yfFBax2EZHJSiFLREQ+lctN7ewurODDTy7R0+cZMRYU\n5GDLyoE27AuSpwWowqkrOMjByoUJrFyYwLe293Ps7GUKS9yUnG+kr/92w4wrNzrZsa+cHfvKSU2K\nIz/HyZZVTuKnRwawehGRyUMhS0RExqS6vpkd+8o5dLJ+RIc7gLDQYJ5YO4+tuRnMmRkVoApluPDQ\nYDZlpbApK4XWjh6KT9ZT6HJzpqppxLyahhZ++puz/MuesyxLiyc328nGrGRiItUwQ0Tks1LIEhGR\ne/J6vZyqvMbOfRW47JVR47FRoTy7KY1nNi5gWkx4ACqUsYiNCuML61P5wvpUrtzo4MCJOopcbmoa\nWobmeL1wqvIapyqv8cNdZTyyZA652U4eWTyHsFA1KhER+TQUskREZJR+j5ejpxvYsa+c8tqbo8bj\np0fyYm46T6ydT0S4fpRMJAkzonipIJOXCjKpaWihsKSWohN1XLvZOTSnr9/Dx6ca+PhUA9ERIWxY\nkUxutpNl6fEEq2GGiMgD6SejiIgM6e3rZ99xN7sLy6m72j5qfH5iLNvyM9myKoWQYLUDn+hSk+L4\n/WeX8pWnl3C2uolCl5vik/UjGpm0d/XxwSeX+OCTS8yaFsHmlQMdCtNSpqmhiYjIPShkiYgIHV29\n7D1cw1sHK0e0AL9ladostudnsHrxHP1iPQkFBTlYlh7PsvR4vvHickrOX6HQ5eaTM5fpHdbcpKm5\nizeLKnmzqJK5c2LIzXaSu8pJ4qzoAFYv4n8/3FXGnuJqntm4gG9uWxHocmQC8GvIMsY4gNeALKAL\neNVaWzVs/E+AV4FbC/2/AVTc7xoREfGdGy1dvHWwincOV9PR1TdqfO3SRLbnZ7J4wcwAVCeBEBoS\nzLplSaxblkR7Zy8fnxpomFFWcQ3vsH4ntY1tvLH3PG/sPc/i1Jnk5TjZuCJZz+bJpNPZ3cc7h6sB\n2Hu4mq8+s4RILZOWB/D3v5CtQLi1doMxZi3wg8Fzt+QAX7bWnrh1whjz4gOuERGRz6n+ahu7CivY\nd7x2xJ0KGGgDnpfjZFteBvMStYfSVBYdGcpja+bz2Jr5NDV3crC0jkKXm0p384h552quc67mOj/e\nfYrsRQnkZTtZszSRiDD9IioTX2+fZ+gNBo934DhS7yXIA/j7u98m4F0Aa+1RY8zqO8ZzgO8aY5KA\n31hr/3YM14iIyGdUXnuDnfsqOHyqfsRdCYCIsGC+sD6VF7aka78kGWXWtEi25mawNTeD2sZWilxu\nCl1uGq93DM3p93g5draRY2cbiQwfuCOWlz2XrMx4gvUMn4hMIf4OWXHA8Le7+owxQdbaW2+b/hvw\nj0ALsNsYc3oM14iIyKfg9XopvXCVnfvLOVl+bdT4tJgwntuUxtMbFxAbFRaACmWimTsnlt97ajEv\nf2ER9uINCl1uDpbW0dLeMzSns7uf/SVu9pe4mR4bPtQwI3PudD3XJyKTnr9DVgsQO+z4zrD0d9ba\nFgBjzDvAKgYC1v2uuauSkhIflCsiMnn0e7ycq+3k0NlWLt/oHTU+PTqYDYtjWZkWRVhIGxfOnQpA\nlYHT0d0/4vjkyVKiwrUf1GfxyHzInjubyoYuTtV0cN7dRW//7VulN1u7eftgFW8frGJmbAjL50ey\nIjWKWXHa8FjGP32vkPvJycm563l/h6xi4FlghzFmHTD0E9wYEwecNsYsAjqBAuAnQBTw3N2uuZ97\nfYEiIlNNd28/Hx27xO7CCi43dYwaX5Acx/b8TDZlJU/pJVwt7T2ws2HoOCtrJXHRupP3eawBvsRA\no4CjpxvY73JTeuEqHs/twHW9tY+i060UnW4lc+508nKcbF6ZwozYiIDVLXI/+l4hn4W/Q9Zu4HFj\nTPHg8deMMV8Coq21rxtjvgsUMtBF8CNr7buDHQlHXOPnGkVEJoW2jh7eOVzD2weruNk2ug37iox4\ntudnssrM1nIt8avI8BDycuaSlzOXm63dHCyto8jlxl66MWJeee1Nymtv8pO3zrAycza52U7WLUsk\nKkJ3uERkYvNryLLWeoFv3XH6wrDxnwM/H8M1IiJyD03NnbxZVMl7R2rovGNZi8MB65Yl8VJBJgvn\nzQhQhTKVTY8N57nNaTy3OY36a20UueooctWO2Oza4/Hisldw2SuEhQazbmkiuTlOsk2CNr0WkQlJ\nvVVFRCao2sZWdu2voNBVS1//yFaBIcFBFKyey4t56TgTYu/xGUQeruT4GL70hOF3Hl9IhfvmQMOM\nE3XcaL1957Wnt58DpXUcKK0jNiqMTSuTyct2sjh1pu7AisiEoZAlIjLBnL94nZ37yjly+vKoscjw\nEJ7ekMpzm9OYNU1t2GV8cjgcZM6dQebcGXz9uWWUlV+l0OXm41MNdHbf3hS7taOHvYdr2Hu4hoSZ\nUeSuGuhQqP3bRGS8U8gSEZkAvF4vJeevsGNfOWeqmkaNT48N5/nNaTy1YQExkXqeRSaO4CAHq0wC\nq0wCf/hSP5+cuUyRy03J+cYRd2ivXO/gVx+V86uPyklLnkZutpPc7BS9mSAi45JClojIONbX7+Fg\naR279ldQ09AyajwpPppteRkUrJ5LWKhaCsvEFh4azOaVKWxemUJLew/FZfUUudyj3lioqm+mqr6Z\nf9lzhuXp8eRlO9mwIplovcEgIuOEQpaIyDjU1d3HB59c4s2iCq7c6Bw1njF3Oi/lZ7JueRLBQXpO\nRSafuOgwnlqfylPrU7lyvYOiE24KXW4uXW4dmuP1QlnFNcoqrvFPu8p4ZMkc8rKdrF48h9AQvekg\nIoGjkCUiMo60tPew51AVbx+qprWjZ9T4yoWzeakgkxUZ8WoCIFNGwswofuvRhbxUkElNQwuFJW4O\nnHBzrblraE5vn4fDZQ0cLmsgOjKUjSsGGmYsTZtFkN6IEJGH7L4hyxiz5X7j1toDvi1HRGRqunK9\ngzcPVPL+0Yt094xswx7kgI1ZKWzLzyDDOT1AFYoEnsPhYEHyNBYkT+OrzyzhTFUThS43xWX1tHf2\nDs1r7+zl/aMXef/oReKnRbBllZO8HCepSXF6c0JEHooH3cn6q8E/ZwEZQDHQD2wATgEb/VeaiMjk\nd7GhhZ37yyk6UYfHM7INe1hIEI+umceLuRkkxUcHqEKR8SkoyMHyjHiWZ8TzzW3LOX6ukUKXm2Nn\nG+nt8wzNu9bcxa7CCnYVVjAvMZa8bCe5q5wkzIwKYPUiMtndN2RZa/MBjDHvANustRWDx/OBH/m/\nPBGRycfr9XK2+jo79pVz/FzjqPHoyNChNuwzYiMCUKHIxBIaEsz65cmsX55MW2cvH5fVU+hyc6ry\nGt5h711cutzKv75zjn995xxLFswkL2cum7KSiY0KC1zxIjIpjfWZrPm3AtagS8B8P9QjIjJpeTxe\nPjl7mZ37yjl/8cao8VnTInhhSzpPrptPVIS6pIl8FjGRoTy+dj6Pr51PU3MnRa46ilxuquqbR8w7\nW32ds9XX+fHuMnIWzSE328mapYmEq0uniPjAWENWiTHmZ8D/BoKA3wUO+q0qEZFJpLfPQ5HLza7C\ncmob20aNOxNi2J6fQW72XEJDggJQ4dQUGhKEwzHQoS7Igf7uJ6FZ0yLZlp/BtvwMLl1uodDlpuhE\nHVeudwzN6ev3cvTMZY6euUxkeAjrlyeRl+1kReZsde4Ukc9srCHrVeCPgG8CXuBD4DV/FSUiMhl0\ndA08fP/rosoRXdBuMfNnsD0/k7VLE9X9LAAiw0N4esMC9hRX89SGBUSGq+HuZDYvMY6vPL2ELz+1\nmHM11yl0uTlUWj+ii2dndx/7jtey73gtM2LD2bwqhbxsJxnO6WqYISKfisPr9T54FmCMSQWWAu8B\nc6211X6s61MpKSnx5uTkBLoMEREAbrZ28/ahKvYUV4/oeHbL6sVz2J6fwdK0WfrFTSSAevs8nLhw\nhaISN0fOXKant/+u81Jmx5Cb7SQv26kmNFNQS3sPL39v79Dxz//6KeKi9RyfDLnrD/IxvW1njPki\n8J+ASAY6C35sjPkza+0bvqtPRGRiu9zUzu7CCj785BI9w7qbwUAntC2rUtien0lqUlyAKhSR4UJD\nglizJJE1SxLp6OrlyOnLFLnclF64wvBmn3VX2/jFe+f5xXvnMfNmkJvtZPPKFKbHhgeueBEZ18a6\nNuI7DISrA9baK8aYVQwsGVTIEpEpr6qumZ37yjl0so47urATFhrME2vnsTU3gzlqGS0ybkVFhFKw\nei4Fq+dyo7WLg6UDDTMuXLo5Yp69dAN76Qavv3WalQtnk5/tZO2yJC03FZERxvodod9a22qMAcBa\n22CM8TzgGhGRScvr9VJWcY2d+8o5ceHqqPHYqFCe3ZTGMxsXMC1G73aLTCQzYiN4fnM6z29Op/5q\nG0UuN/tdbhqutQ/N8Xi8uM5fwXX+CuFhwaxbmkRejpOVC2cTEqwmKiJT3VhD1hljzP8BhBpjVgJ/\nCJT6rywRkfGp3+PlyOkGdu4rp7z25qjx2TMi2ZqbzhNr5hOhd7ZFJrzk2TF86clF/M4ThvLamxS6\n3Bw8UcfNtu6hOd09/RSdcFN0wk1cdBibVw40zDDzZ+i5S5Epaqy/AXybgWeyOoF/BvYB/8FfRYmI\njDe9ff3sO17Lrv0V1A97N/uW+YmxbMvPZMuqFL2LLTIJORwOFs6bwcJ5M3jluaWcLL9GoauWI6cb\n6Oy+3TCjpb2HPcXV7CmuJnFWFLmrnORmO5k7JzaA1YvIwzbWkPXvgP9urf2uP4sRERlv2jt7effj\nGt46WMn1lu5R40vTZrE9P4PVi+foHWuRKSI4OIjsRQlkL0qgq6ePT85cptDlxnX+Cv3DHsy83NTB\n//rwAv/rwwukO6eRN9gwY9a0yABWLyIPw1hDVgpwxBhjGWh2scta2/GAa0REJqzrLV28daCSvR/X\n0NHVN2p87dJEXirIZFHqzIdfnIiMGxFhIWxZ5WTLKifNbd0Ul9VTWOLmXM31EfMq3c1Uupv56dtn\nWJ4RT162k/XLk4mODA1Q5SLiT2PeJwvAGLMZ+CLwBHDUWvtlfxX2aWifLBHxlfqrbewqrOCjY7X0\n9Y/s7xMS7CA328m2vAzmJaoNu4jc2+Wmdg6cqKPQ5aa2sfWuc261kM/NdrJ6cQKhIcEPuUoZC+2T\nJQ/w2ffJAjDGOIBQIAzwAKPXzdz9mteALKALeNVaW3WXeT8Cmqy1fzF4XAI0Dw5XW2tfGWudIiKf\nRXntDXbuq+DwqXrufO8pMjyYJ9el8sKWdOKna5mPiDxY4qxofvuxhfzWo5lU17dQ6HJT5HJzvaVr\naE5vn4fisnqKy+qJiQxlY1YyedlOliyYRVCQlh+LTGRj3Yz4H4CtwAng58D/aa3tuv9VMHhNuLV2\ngzFmLfCDwXPDP/c3gGVA0eBxOIC1tmCsX4SIyGfh9Xo5ceEqO/eVU1ZxbdT4tJgwntucxjMbFhAT\npXctReTTczgcpKVMIy1lGl99ZgmnK69R5HJTXFY/YilyW2cv7x25yHtHLjJ7RiRbVqaQlzNXm5eL\nTFBjvZN1Aci21o7eDOb+NgHvAlhrjxpjVg8fNMasBx4BfgQsGjydBUQbY94DgoH/aK09+ilfV0Tk\nnvr7PRwua2DH/nKq6ppHjc+ZGcWLeRk8tmYe4aFaviMivhEc5CArczZZmbP55rYVHDvXSJHLzbGz\njSOWJ1+90cnO/RXs3F9BalIcudlOtqxKIWGGNjQXmSjuG7KMMX9grf0xMBP41q3NiG+x1v71Az5/\nHLeX/QH0GWOCrLUeY0wi8JcM3Nn64rA5HcD3rbU/McZkAnuNMQuttdr8WEQ+l+7efj46dondhRVc\nbhrduycteRrbCzLYuCKZYLVhFxE/CgsNZuOKZDauSKato4fisgaKXG5OV10bsWS5pqGFmj1n+dme\nsyxNm0VetpNNWcm6uy4yzj3oTpbjHh+PVQswfGOIoGFh6beAWcA7QBIQaYw5D/wSqACw1pYbY5oG\nx+vu90IlJSWfoTwRmQo6ezwcu9DG0QtttHeNfr9mwZxwNi6JJT0xHIenkdLSxgBUKSJTWXwobF8b\nwWPLEzlnX2RnAAAflUlEQVRd00lZTQeNN3tHzDlT1cSZqib+addJMpMjWJEaxcLkSEJD9PyWP3UM\n2wcN4OTJUqLCtcpBBtyr+d59Q5a19keDHzYD/2at/bS/eRQDzwI7jDHrgFPDPvc/AP8AYIz5KmCs\ntf9qjPkmsBz4tjEmmYGQ1vCgF1J3QRG507Wbnfz6QCXvHakZsVkogMMB65cnsT0/k4XzZgSoQhGR\n0Qo2D/x58XILRYMNM67c6Bwa93jAuruw7i6iIkLYsHygYcayjHiC1TDD51rae2Dn7V9Fs7JWqrug\nPJC/98naDTxujCkePP6aMeZLQLS19vV7XPMT4KfGmIMMdDH8upYKisinUdvYyq79FRS6aunrH9kq\nMCQ4iEcfmcuLeRmkzI4JUIUiIg82PzGOrzy9hN/7wmLO1VynyOXm0Mk6Wjtu3+Hq6Orjw2OX+PDY\nJWbGhbNllZPcbCfpKdO0QbpIAGmfLBGZNM7XXGfHvnKOnrk8aiwqIoSn1qfy/JZ0ZsZFBKA6EZHP\nr7fPg+t8I4UuN5+cuUxP393fh3YmxJCXPRC4EmdFP+QqJxftkyUP8PD3yRIR8Tev10vJ+Svs2FfO\nmaqmUeMzYsN5fks6T61PJToyNAAVioj4TmhIEGuXJbF2WRIdXb18fKqBQpebsvKreIa9b+6+0sYb\n757njXfPs2j+jIGGGStTmBYTHrjiRaaQT7NP1gtAKQPLBce6T5aIiF/09Xs4WFrHrv0V1DS0jBpP\njo9mW34G+TlzCVMbdhGZhKIiQnn0kXk8+sg8rrd0cbC0jkKXm4ramyPmnb94g/MXb/D//fo0q0wC\nudlO1i1NJCJ8zO+1i8inNNb/uhqBnM+wT5aIiE91dffx/icXebOokqvDHgS/JWPudF7Kz2Td8iQ9\nAC4iU8bMuAhe2JLOC1vScV9ppchVR5HLTUNT+9Ccfo+X4+caOX6ukYiwYNYtTyIv28nKzNnatkLE\nx8Yasl621v5nv1YiInIfzW3d7Cmu5jeHqmnt6Bk1vmrhbLYXZLIiI14Pe4vIlOZMiOXlLyzid580\nXLh0g0KXm4OldTS33f7e2dXTT2GJm8ISN9Njwtm0cqBD4cJ5M/Q9VMQHxhqyzhpjvgccBYbeOrbW\nHvBLVSIig65c7+DNA5W8f/Qi3T0j27AHOWBTVgrb8jNId04PUIUiIuOTw+HAzJ+JmT+TV55fRumF\nqxS53Bw53UDXsO+nN9u6+c2hgTexkmZFk5vtJC/HqQ6sIp/DWEPWTCB/8H+3eIECn1ckIgLUNLSw\nc385B07U4fGM7IIaFhLEo2vm8WJuBknx6polIvIgIcFBrF48h9WL59DV3ceRM5cpcrlx2Ssjvsc2\nNLXzyw8sv/zAkjF3OnnZTrasTGGGurKKfCpjClnW2vwHzxIR+Xy8Xi9nqwfasB8/N3rv8+jIUJ7Z\nuIDnNqUxPVYdskREPouI8BDysp3kZTtpbuvm0GDDjPMXb4yYV1F7k4ram/zzW6dZkTmbvGwn65cn\nERWhTq0iDzLW7oL7GbhzNYK1VneyRORz83i8fHL2Mjv3lY/6IQ8wa1oEW3PTeWLtfP1wFxHxoWkx\n4TyzKY1nNqVxuamdIpebQpcb95W2oTkeL5ReuErphau8tuMka5Ymkp8zl1UmgdAQNcwQuZuxLhf8\nv4d9HMpAO/fRvwmJiHwKvX0eily17CqsoLaxbdS4MyGG7fkZ5GbP1Q9yERE/S5wVzRcfN/z2Ywup\nrGumyOXmwAk311tub43a0+fh0Ml6Dp2sJzYqlE1ZKeRmO1mcOpMgdXQVGTLW5YJFd5z60BhzFPie\n70sSkcmuo6uX948OtGFvah695d6i+TPYXpDJmiWJ+qEtIvKQORwOMpzTyXBO5/efXcrpimsUutwc\nPlVPR1ff0LzWjl72flzD3o9rSJgRSW62k9xsJ/MT4wJWu8h4MdblgvOGHTqApcAsv1QkIpPWzdZu\n3j5UxZ7iato7e0eNr148h5cKMlmyYKZaCIuIjAPBQQ6yFs4ma+Fsvrl9BcfPNlLoquX4uUb6+m8/\nSXLlRie/+qicX31UzoLkuIGGGaucxE+PDGD1IoEz1uWCRdx+JssLXAP+yC8Vicikc7mpnV2FFXz0\nySV6+jwjxoKCHGxZlcL2/ExSk/Tup4jIeBUeGszGrGQ2ZiXT2tFD8cl6Cl1uzlQ1jZhXXd9Cdf1Z\n/mXPWZalxZOb7WRjVjIxkXqmVqaOB4YsY8yzwGPW2kpjzIvAK4AL+MDfxYnIxFbpvsnO/RUUn6zj\nji7shIcF88Ta+Wzdkk7CzKjAFCgiIp9JbFQYX1ifyhfWp3LlRgcHTtRR5HJT09AyNMfrhVOV1zhV\neY0f7irjkSVzyM128sjiOYSFBgewehH/u2/IMsb8GfBF4KvGmBXAG8AfA0uA/xf4E79XKCITitfr\npaziGjv3lXPiwtVR47FRoTy3KY2nNy5gWozasIuITHQJM6J4qSCTlwoyqWloobCklqITdVy72Tk0\np6/fw8enGvj4VAPRESFsWJFMbraTZenxBOvZW5mEHnQn68vAemtthzHmvwBvWWtfN8Y4gLP+L09E\nJop+j5cjpxrYsb+citqbo8Znz4gcaMO+Zj4R4WNdqSwiIhNJalIcv//sUr7y9BLOVjdR6HJTfLKe\ntmHP4bZ39fHBJ5f44JNLzJoWwZZVA3t2LUiO0/O4Mmk86Dcdr7W2Y/DjfOA1AGut1xjj18JEZGLo\n6e1nf0ktu/ZXUH+tfdT4/MRYthdksnllCiHBasMuIjIVBAU5WJYez7L0eL7x4nJKzl+h0OXm2JnL\nI57NbWruYndhBbsLK5g7J5a8wQ6Fc7SMXCa4B4WsPmPMdCAGWAW8D2CMmQ/03e9CEZnc2jsHWve+\ndaCSG63do8aXps3ipYJMchYl6J1JEZEpLDQkmHXLkli3LImOrl4OlzVQ6KqlrOIa3mHP69Y2tvI/\n957jf+49x+LUmeTlONm4IllLy2VCelDI+i9A6eC81621DcaY3wb+BvgrfxcnIuPP9ZYu3jpQyd6P\na0bsl3LL2qWJvFSQyaLUmQ+/OBERGdeiIkJ5bM08Hlszj6bmTg6W1lHoclPpbh4x71zNdc7VXOfH\nu0+RvSiBvGwna5YmEhGm5eYyMdz3X6q1docx5jAQb60tGzzdBrxqrS30d3EiMn7UXW1j1/4K9h2v\npa9/ZBv2kGAHedlz2Zafwdw5sQGqUEREJpJZ0yLZmpvB1twMahtbKXK5KTrh5nJTx9Ccfo+XY2cb\nOXa2kcjwgTtiedlzycqMJ1hL0GUcc3i93gfPGudKSkq8OTk5gS5DZFK6cOkGO/eX8/GpBu78dhEZ\nHsyT61J5YUu6NpwUEZHPzev1Yi/eoNDl5mBpHS3tPXedNz02nM0rU8jLdpI5d7pfl6W3tPfw8vf2\nDh3//K+fIi46zG+vJxPOXf/x6Z6riIzi9Xo5ceEqO/eVU1ZxbdT4tJgwntucxjMbFhATpR80IiLi\nGw6Hg0WpM1mUOpNXX1hG6YWrFJa4OXKmge6e/qF5N1u7eftgFW8frCI5PnqgYUaOk+T4mABWL3Kb\nX0PWYKv314AsoIuBZYZVd5n3I6DJWvsXY71GRHyvv99DcVk9O/dXUFXXPGo8cVYUL+Zl8Ogj8wjX\nRpIiIuJHIcFBrF48h9WL59DZ3cfR0w0UutycuHAVz7Ad7uuvtfOL9y2/eN+ycN50crOdbF6ZwozY\niABWL1Odv+9kbQXCrbUbjDFrgR8MnhtijPkGsAwoGus1IuJb3b39fPjJJd4sqhixFv6WtORpvFSQ\nyYYVSVoDLyIiD11keAh5OXPJy5nLzdZuDp0caJhhL94YMe/CpZtcuHSTn7x1hpWZs8nNdrJuWSJR\nEaEBqlymKn+HrE3AuwDW2qPGmNXDB40x64FHgB8Bi8ZyjYj4TltHD3sOV/P2wSqa20ave1+REc/2\ngkxWLZytNuwiIjIuTI8N59lNaTy7KY36a20UueooctVSd/X2Xo0ejxeXvYLLXiEsNJh1SxPJzXGS\nbRK0Z6M8FP4OWXHA8DVHfcaYIGutxxiTCPwlA3epvjiWa/xcq8iUce1mJ78+UMl7R2ro7O4fMeZw\nwIblyWzLz2DhvBkBqlBEROTBkuNj+NITht95fCEV7psDDTNO1I3Yv7Gnt58DpXUcKK0jNiqMTSuT\nyct2sjh1pt5AFL/xd8hqAYb3cx4eln4LmAW8AyQBkcaY8wwErHtdc08lJSW+qVhkErva3EvxuVbK\najrw3PFfVXAQZC2IZsPiGOLjgmi9WkXJ1cDUKSIi8llkO2FlcjzVjd2U1XRwrraTnr7bz2+1dvSw\n93ANew/XMD06mOWpUSxPjSJh2r2XEza1jNwT8uTJUqLC9VyyDLhXh3N/h6xi4FlghzFmHXDq1oC1\n9h+AfwAwxnwVMNbafzXGbLvXNfejFu4i93a+5jo79pVz9EzjqLGoiBCeWp/K81vSmRmnh4RFRGTi\newT4bQaeOf7kzGWKXG5KzjfS1387cN1s7+fgmVYOnmklLWUaedlOtqxKYda0gS1JbrR28S+/OUuR\na+TPztMN4Xz9+WVqACX35dd9soZ1ClwxeOprQA4Qba19fdi8WyHrL+52jbX2wv1eR/tkiYzm9Xo5\nfq6RnfsrOFPVNGp8Rmw4L2xJ5wvrU4mO1APBIiIyubW091BcVk+Ry33Xn4swsGR+eXo8a5Yk8vah\nKhqvj24GBQNz/uoP1hEaoqAld98nS5sRi0wyff0eDpyoY9f+ci5ebh01nhwfzbb8TApWO/XDQURE\npqQr1zsoOuGm0OXm0l1+Vo7Fv3thGc9vSfdxZTIBKWSJTGZd3X28/8lF3iyq5OqNzlHjmXOns70g\nk3XLkggO0oO+IiIiXq+XmoYWCkvcHDjh5lpz15ivdSbE8E/fedSP1ckEcddfqvz9TJaI+FlzWzd7\niqv5zaFqWjtGt2HPNglsL8hgeXq8uiiJiIgM43A4WJA8jQXJ0/jqM0s4U9XE2wer+Ph0wwOvdV9p\no7evX6tC5K4UskQmqCvXO9hdVMEHn1yiu2dkG/YgB2zKSmFbfgbpzukBqlBERGTiCApysDwjnriY\nsDGFrCAHBAVpzy25O4UskQmmpqGFnfvLOXCiDo9n5HLfsJAgHlszjxfzMkicFR2gCkVERCYu5+wY\nZk2LoOkBSweXpcdr+b3ck0KWyATg9Xo5U9XEzv0VHD83ug17TGQoz2xcwLOb0pgeGx6ACkVERCaH\n4OAgntuUxr/sOXvfeS/kqumF3JtClsg45vF4OXrmMjv3l2Mv3hg1PmtaBFtzM3hi7TyiItSGXURE\nxBe25mVQWdfMwdK6u47/zuOGNUsSH3JVMpEoZImMQ719HopctezcX4H7Stuo8blzYtiWl0lutpPQ\nEK0HFxER8aXgIAd/9nIOa5Ym8vbBSi5cujk09udfWc3GrJQAVicTgUKWyDjS0dXLe0cu8usDlXdd\nC75o/gy2F2SyZkkiQVoHLiIi4jdBQQ7ysp1kmwRe/t7eofPLM2YHsCqZKBSyRMaBG61dvH2wincO\n19De2TtqfPXiObxUkMmSBTPVhl1ERERknFPIEgmgy03t7Cqs4KNPLtHT5xkxFhTkIHdVCtvyM0lN\nigtQhSIiIiLyaSlkyaTzw11l7Cmu5pmNC/jmthWBLueuKt032bm/guKTddzRhZ3wsGCeWDufrVvS\nSZgZFZgCRUREROQzU8iSSaWzu493DlcDsPdwNV99ZgmR4ePjn7nX66Ws/Bo79pdTeuHqqPHYqDCe\n27SAZzalERcdFoAKRURERMQXxsdvnyI+0tvnwTt4Z8jjHTiODPC2Uf0eL0dONbBjfzkVtTdHjSfM\niGRrbgaPr5lHxDgJhCIiIiLy2ek3OhE/6entZ9/xWnYXVlB/rX3UeGpSHNvyM9i8MoWQYLVhFxER\nEZksFLJEfKy9s5d3Dlfz9sEqbrR2jxpfmjaLlwoyyVmUoE6BIiIiIpOQQpaIj1xv6eKtA5Xs/biG\njq6+UePrliWyvSCTRfNnPvziREREROShUcgS+Zzqrraxa38F+47X0tc/sg17SLCDvOy5bMvPYO6c\n2ABVKCIiIiIPk0KWyGd04dINduwr58jphqFmG7dEhgfz5LpUXtiSTvz0yMAUKCIiIiIBoZAl8il4\nvV5O2Kvs3F9OWcW1UePTY8J5bnMaT29IJSZKbdhFREREpiKFLJEx6O/3cOhkPbv2V1BV3zxqPHFW\nFC/mZfDoI/MIDw0OQIUiIiIiMl4oZIncR1dPHx99condRZU0Xu8YNZ6WMo2X8jPZsCKJYLVhFxER\nERH8HLKMMQ7gNSAL6AJetdZWDRvfDnwH8AC/sNb+/eD5EuDW7YJqa+0r/qxT5E6tHT28U1zN24eq\naG7rGTWelRnP9vxMVi6crTbsIiIiIjKCv+9kbQXCrbUbjDFrgR8MnsMYEwT8DZADdABnjTFvAO0A\n1toCP9cmMsq1m528WVTJe0dq6OrpHzHmcMCG5clsL8ggc+6MAFUoIiIiIuOdv0PWJuBdAGvtUWPM\n6lsD1lqPMWbx4J8JQBDQw8Bdr2hjzHtAMPAfrbVH/VynTHG1ja3s3F9OkctNX//IVoEhwUE8+shc\ntuVlkDw7JkAVioiIiMhE4e+QFcftZX8AfcaYIGutB4aC1ovAPwK/YeAuVgfwfWvtT4wxmcBeY8zC\nW9eI+NK56uvs3F/O0TOXR41FRYTw9IYFPL85jRlxEQGoTkREREQmIn+HrBZg+A6sQXeGJWvtbmC3\nMeZnwFeAfwMqBsfKjTFNQBJQd78XKikp8WXdMkF1dI9c4nfyZClR4SO7/Xm9Xsrruzh0tpVLV0c/\nbxUTGcQ6E8vqjGgiwjqpKj/j15pFRERk/BrL7xYydeXk5Nz1vL9DVjHwLLDDGLMOOHVrwBgTC7wN\nPGGt7WHgLpYH+DqwHPi2MSaZgZDW8KAXutcXKFPHzdZu3iysGHHO3RbHC9npREWE0tfv4cCJOnbt\nL+fi5dZR16fMjubFvEwKVjsJDdE3TxEREYGW9h7YeftX0ayslcRFay9MuT9/h6zdwOPGmOLB468Z\nY74ERFtrXx9sdHHAGNMDlAFvDNb0U2PMQQZDl5YKyoNU1zfzvR99zM227hHnf/Ge5aPjteTnzOWj\nY5e4eqNz1LUL501ne34ma5clERykToEiIiIi8vn4NWRZa73At+44fWHY+OvA63eM9wK/58+6ZHLp\n7evnP//z0VEB65bGpg5++b4ddT7bJLC9IIPl6fFqwy4iIiIiPqPNiGXCKy5r4Mpd7lDdTZADNq1M\nYXt+Jmkp0/xcmYiIiIhMRQpZMuG5zjeOaV66cxp//pVHSJwV7eeKRERERGQqCwp0ASKfV0/v2B7Z\nW5YWr4AlIiIiIn6nkCUT3rzE2AdP+hTzREREREQ+D4UsmfAeWzOPoAd0BYyKCGHzypSHVJGIiIiI\nTGUKWTLhJcyI4stPLb7vnG9uW0FkuB5BFBERERH/02+dMim8VJBJXHQYv3jvPE3NXUPnk+Kj+fpz\nS1m3LCmA1YmIiIjIVKI7WTJpPLF2Pv/tT/NGnPv+H21WwBIRERGRh0ohSyaV4DuezdImwyIiIiLy\nsClkiYiIiIiI+JBCloiIiIiIiA8pZImIiIiIiPiQQpaIiIiIiIgPKWSJiIiIiIj4kEKWiIiIiIiI\nDylkiYiIiIiI+JBCloiIiIiIiA8pZImIiIiIiPiQQpaIiIiIiIgPKWSJiIiIiIj4kEKWiIiIiIiI\nD4X485MbYxzAa0AW0AW8aq2tGja+HfgO4AF+Ya39+wddIyIiIiIiMp75+07WViDcWrsB+C7wg1sD\nxpgg4G+AAmAD8IfGmJn3u0ZERERERGS883fI2gS8C2CtPQqsvjVgrfUAi621bUD8YC0997tGRERE\nRERkvPN3yIoDmocd9w3ewQIGgpYx5kWgFCgEOh50jcj9hIYE4XAMfBzkGDgWEREREXmY/PpMFtAC\nxA47Dhq8gzXEWrsb2G2M+RnwFQYC1n2vuZuSkhIflCuTweqMaI6Vt5OTEc3Z0ycDXY6IiIhMYB3d\n/SOOT54sJSo8OEDVyHiTk5Nz1/P+DlnFwLPADmPMOuDUrQFjTCzwNvCEtbYHaAf6B695/m7X3M+9\nvkCZevRPQURERHylpb0HdjYMHWdlrSQuOiyAFclE4O+QtRt43BhTPHj8NWPMl4Boa+3rxpg3gAPG\nmB6gDHhjcN4Tw6/xc40iIiIiIiI+49eQZa31At+64/SFYeOvA6/f5dI7rxEREREREZkQ1BVARERE\nRETEhxSyREREREREfEghS0RERERExIcUskRERERERHxIIUtERERE5B5CQ4JwOAY+DnIMHIs8iP6V\niIiIiIjcQ2R4CE9vWADAUxsWEBnu7x2QZDJweL3eQNfwuZWUlHi1GbGIiIiIiDxkjrud1J0sERER\nERERH1LIEhERERER8SGFLBERERERER9SyBIREREREfEhhSwREREREREfUsgSERERERHxIYUsERER\nERERH1LIEhERERER8SGFLBERERERER9SyBIREREREfEhhSwREREREREfUsgSERERERHxIYUsERER\nERERH1LIEhERERER8aEQf35yY4wDeA3IArqAV621VcPGvwT8MdALnLLW/uHg+RKgeXBatbX2FX/W\nKSIiIiIi4it+DVnAViDcWrvBGLMW+MHgOYwxEcBfA8ustd3GmF8YY54FPgCw1hb4uTYRERERERGf\n8/dywU3AuwDW2qPA6mFj3cAGa2334HEIA3e7soBoY8x7xpgPB8OZiIiIiIjIhODvkBXH7WV/AH3G\nmCAAa63XWnsVwBjzR0C0tfZDoAP4vrX2SeBbwM9vXSMiIiIiIjLe+Xu5YAsQO+w4yFrruXUw+MzW\n/wNkAtsGT18AKgCsteXGmCYgCai73wuVlJT4sGwREREREZEH8ubk5DjuPOnvkFUMPAvsMMasA07d\nMf5joNNau3XYua8Dy4FvG2OSGQhpDfd7kbt9YSIiIiIiIoHg8Hq9fvvkw7oLrhg89TUgB4gGSoBj\nwMHBMS/wd8Ae4GfAPMADfMdae8RvRYqIiIiIiPiQX0OWiIiIiIjIVKOGEiIiIiIiIj6kkCUiIiIi\nIuJDClkiIiIiIiI+pJAlIiIiIiLiQ/5u4S7y0BljvgM8BoQC/cD/Za11BbYqERlvjDFLgb8FIoEY\nYO//3969hlo2xnEc/57DJLfcEjMThlE/w+SeOw1DShm80uROKHIXuZRbueT2RqhpKNfyYpLxAsVg\niBcMEfV3maLc1dCIYrS92OtwTE7GabPWPr6fOp21nvM8Z/32frHqv59nPbuqrm81lKROSbIPcDP9\n+8QosAy4sap+aTWYOs+ZLE0pSeYAC6rqqKqaB1wCLG43laSuSbIZ8DhwYVXNBw4A5iY5p91kkroi\nyUzgYeC8qjqsqg4BfgbubjeZhoFFlqaa74HtkpyZZEZVvQPs13YoSZ1zHPB8Va0EqKoecCrwQKup\nJHXJKcCiqvp4rKGqbgKOSbJBe7E0DCyyNKVU1efAAuBg4LUk7wPHtptKUgfNAFaOb6iqH6tqTUt5\nJHXPLNa6TzS+Arb9b6No2FhkaUpJMhtYXVVnVdUOwMnA/Uk2bzmapG75BNh+fEOSWUkObSmPpO75\nFJg9viHJKLAd8HUriTQ0LLI01ewO3JNkWnP+EbCK/gYYkjTmaeDoJDsBNPeMu4DdWk0lqUseAs5K\nMjvJ5kmeBRYBT1fVTy1nU8eN9Hq9tjNIA5XkKuBEYDX9DxJuraql7aaS1DVJ9gLuAEaATYGnmuct\nJAn4/T5xC7AxsBHwJf3lgpdW1XdtZlO3WWRJkiRJ6yjJXGBlVf3YdhZ1l0WWJEmSJA2Qz2RJkiRJ\n0gBZZEmSJEnSAFlkSZIkSdIAWWRJkiRJ0gBZZEmSJEnSAK3fdgBJkiaSZAfgA+A9+t9nBdADFlXV\nfeswfhlwXVW9PMnrPwgsq6qHJjH2NGBeVZ0xmWtLkoaXRZYkqes+q6q92w4xSX5PiiT9D1lkSZKG\nUpIvgKXAocAXwL3AhcBM4PSqWt50PTfJ3c3xpVX1UpIZwGJgM2A68HhVXd3MPp0GbNX877FrbQg8\nBzxWVfclOQW4mP7s2pvA+VX1c9N+DfA98Cmw+t97ByRJXeUzWZKkrpuZZEXz81bzey6wDfBUVc1p\n+h1fVYcBN9AvgMasrqp9gNOBh5NMAxbSL5gOAvYAzk+y5dj1gD2r6trmfANgCfBEU2DtCpwNHNjM\nsH0DXJ5kOnAbcAhwILDpv/FmSJK6z5ksSVLX/eVywSQ94Jnm9BNg+bjjLcZ1XQxQVe8m+RrYparu\nTDIvyWXAXGAasHHTf0VVjV/mdxPwK3BCc344sDPwepKRZuwK4CDg1ar6tsn3CHDE5F+2JGlYWWRJ\nkoZWVa0Zd7pmgm7j20eBX5LcCcwCHgWeBObzx8YaP601/jFgE+BG4ApgPfqzWhcDJNmIfqE1v/nb\n3+WRJE1xLheUJHXdyD9sX9tJAEn2pb+E70PgSOD2qloCbE9/ieB6E4x/G7gSOCnJ7sCLwAlJtm5m\nsu4HLgJeAfZPMj3JKHDiOuaTJE0xzmRJkrpuepIVzfEI/R37lvPnnfsm2sWvB2zSjF8DLKyqX5Pc\nAjySZBXwFfAGsOME46mqVUmuAhYBB9Cf1XqhyfMWcGuz8cUFwPPAD8D7k33BkqThNtLrubusJEmS\nJA2KywUlSZIkaYAssiRJkiRpgCyyJEmSJGmALLIkSZIkaYAssiRJkiRpgCyyJEmSJGmALLIkSZIk\naYB+A0fzAGTR044QAAAAAElFTkSuQmCC\n",
      "text/plain": [
       "<matplotlib.figure.Figure at 0x1171fb610>"
      ]
     },
     "metadata": {},
     "output_type": "display_data"
    },
    {
     "data": {
      "image/png": "iVBORw0KGgoAAAANSUhEUgAAA3oAAAFICAYAAAAGfoz3AAAABHNCSVQICAgIfAhkiAAAAAlwSFlz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\nMdCTJEmSpIHZBwPgSdA0anz/AAAAAElFTkSuQmCC\n",
      "text/plain": [
       "<matplotlib.figure.Figure at 0x1170e9210>"
      ]
     },
     "metadata": {},
     "output_type": "display_data"
    }
   ],
   "source": [
    "# Embarked\n",
    "\n",
    "# only in titanic_df, fill the two missing values with the most occurred value, which is \"S\".\n",
    "titanic_df[\"Embarked\"] = titanic_df[\"Embarked\"].fillna(\"S\")\n",
    "\n",
    "# plot\n",
    "sns.factorplot('Embarked','Survived', data=titanic_df,size=4,aspect=3)\n",
    "\n",
    "fig, (axis1,axis2,axis3) = plt.subplots(1,3,figsize=(15,5))\n",
    "\n",
    "# sns.factorplot('Embarked',data=titanic_df,kind='count',order=['S','C','Q'],ax=axis1)\n",
    "# sns.factorplot('Survived',hue=\"Embarked\",data=titanic_df,kind='count',order=[1,0],ax=axis2)\n",
    "sns.countplot(x='Embarked', data=titanic_df, ax=axis1)\n",
    "sns.countplot(x='Survived', hue=\"Embarked\", data=titanic_df, order=[1,0], ax=axis2)\n",
    "\n",
    "# group by embarked, and get the mean for survived passengers for each value in Embarked\n",
    "embark_perc = titanic_df[[\"Embarked\", \"Survived\"]].groupby(['Embarked'],as_index=False).mean()\n",
    "sns.barplot(x='Embarked', y='Survived', data=embark_perc,order=['S','C','Q'],ax=axis3)\n",
    "\n",
    "# Either to consider Embarked column in predictions,\n",
    "# and remove \"S\" dummy variable, \n",
    "# and leave \"C\" & \"Q\", since they seem to have a good rate for Survival.\n",
    "\n",
    "# OR, don't create dummy variables for Embarked column, just drop it, \n",
    "# because logically, Embarked doesn't seem to be useful in prediction.\n",
    "\n",
    "embark_dummies_titanic  = pd.get_dummies(titanic_df['Embarked'])\n",
    "embark_dummies_titanic.drop(['S'], axis=1, inplace=True)\n",
    "\n",
    "embark_dummies_test  = pd.get_dummies(test_df['Embarked'])\n",
    "embark_dummies_test.drop(['S'], axis=1, inplace=True)\n",
    "\n",
    "titanic_df = titanic_df.join(embark_dummies_titanic)\n",
    "test_df    = test_df.join(embark_dummies_test)\n",
    "\n",
    "titanic_df.drop(['Embarked'], axis=1,inplace=True)\n",
    "test_df.drop(['Embarked'], axis=1,inplace=True)\n",
    "\n",
    "titanic_df.head()"
   ]
  },
  {
   "cell_type": "code",
   "execution_count": 7,
   "metadata": {
    "collapsed": false
   },
   "outputs": [
    {
     "data": {
      "text/plain": [
       "<matplotlib.axes._subplots.AxesSubplot at 0x11a738a50>"
      ]
     },
     "execution_count": 7,
     "metadata": {},
     "output_type": "execute_result"
    },
    {
     "data": {
      "image/png": "iVBORw0KGgoAAAANSUhEUgAAA38AAADKCAYAAAAVWPnUAAAABHNCSVQICAgIfAhkiAAAAAlwSFlz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\nf5IkSZJUA5Y/SZIkSaqB/w9Ni3DNXlrz+wAAAABJRU5ErkJggg==\n",
      "text/plain": [
       "<matplotlib.figure.Figure at 0x119df63d0>"
      ]
     },
     "metadata": {},
     "output_type": "display_data"
    },
    {
     "data": {
      "image/png": "iVBORw0KGgoAAAANSUhEUgAAAXUAAAENCAYAAADwjPVkAAAABHNCSVQICAgIfAhkiAAAAAlwSFlz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\nKohRl6SCGHVJKsj/AmZwE0V9nX9DAAAAAElFTkSuQmCC\n",
      "text/plain": [
       "<matplotlib.figure.Figure at 0x119df6590>"
      ]
     },
     "metadata": {},
     "output_type": "display_data"
    }
   ],
   "source": [
    "# Fare\n",
    "\n",
    "# only for test_df, since there is a missing \"Fare\" values\n",
    "test_df[\"Fare\"].fillna(test_df[\"Fare\"].median(), inplace=True)\n",
    "\n",
    "# convert from float to int\n",
    "titanic_df['Fare'] = titanic_df['Fare'].astype(int)\n",
    "test_df['Fare']    = test_df['Fare'].astype(int)\n",
    "\n",
    "# get fare for survived & didn't survive passengers \n",
    "fare_not_survived = titanic_df[\"Fare\"][titanic_df[\"Survived\"] == 0]\n",
    "fare_survived     = titanic_df[\"Fare\"][titanic_df[\"Survived\"] == 1]\n",
    "\n",
    "# get average and std for fare of survived/not survived passengers\n",
    "avgerage_fare = DataFrame([fare_not_survived.mean(), fare_survived.mean()])\n",
    "std_fare      = DataFrame([fare_not_survived.std(), fare_survived.std()])\n",
    "\n",
    "# plot\n",
    "titanic_df['Fare'].plot(kind='hist', figsize=(15,3),bins=100, xlim=(0,50))\n",
    "\n",
    "avgerage_fare.index.names = std_fare.index.names = [\"Survived\"]\n",
    "avgerage_fare.plot(yerr=std_fare,kind='bar',legend=False)"
   ]
  },
  {
   "cell_type": "code",
   "execution_count": 8,
   "metadata": {
    "collapsed": false
   },
   "outputs": [
    {
     "data": {
      "text/plain": [
       "<matplotlib.axes._subplots.AxesSubplot at 0x11b1bd7d0>"
      ]
     },
     "execution_count": 8,
     "metadata": {},
     "output_type": "execute_result"
    },
    {
     "data": {
      "image/png": "iVBORw0KGgoAAAANSUhEUgAAA2sAAAEKCAYAAACMgs1GAAAABHNCSVQICAgIfAhkiAAAAAlwSFlz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\n",
      "text/plain": [
       "<matplotlib.figure.Figure at 0x11b106b10>"
      ]
     },
     "metadata": {},
     "output_type": "display_data"
    }
   ],
   "source": [
    "# Age \n",
    "\n",
    "fig, (axis1,axis2) = plt.subplots(1,2,figsize=(15,4))\n",
    "axis1.set_title('Original Age values - Titanic')\n",
    "axis2.set_title('New Age values - Titanic')\n",
    "\n",
    "# axis3.set_title('Original Age values - Test')\n",
    "# axis4.set_title('New Age values - Test')\n",
    "\n",
    "titanic_df['Age'].dropna().astype(int).hist(bins=70, ax=axis1)\n",
    "\n",
    "median_age_mr = pd.concat([titanic_df[titanic_df['Mr']==1],test_df[test_df['Mr']==1]])['Age'].median()\n",
    "titanic_df.loc[(titanic_df['Mr']==1) & (np.isnan(titanic_df[\"Age\"])),\"Age\"] = median_age_mr\n",
    "test_df.loc[(test_df['Mr']==1) & (np.isnan(test_df[\"Age\"])),\"Age\"] = median_age_mr\n",
    "\n",
    "median_age_miss = pd.concat([titanic_df[titanic_df['Miss']==1],test_df[test_df['Miss']==1]])['Age'].median()\n",
    "titanic_df.loc[(titanic_df['Miss']==1) & (np.isnan(titanic_df[\"Age\"])),\"Age\"] = median_age_miss\n",
    "test_df.loc[(test_df['Miss']==1) & (np.isnan(test_df[\"Age\"])),\"Age\"] = median_age_miss\n",
    "\n",
    "median_age_mrs = pd.concat([titanic_df[titanic_df['Mrs']==1],test_df[test_df['Mrs']==1]])['Age'].median()\n",
    "titanic_df.loc[(titanic_df['Mrs']==1) & (np.isnan(titanic_df[\"Age\"])),\"Age\"] = median_age_mrs\n",
    "test_df.loc[(test_df['Mrs']==1) & (np.isnan(test_df[\"Age\"])),\"Age\"] = median_age_mrs\n",
    "\n",
    "median_age_rev = pd.concat([titanic_df[titanic_df['Rev']==1],test_df[test_df['Rev']==1]])['Age'].median()\n",
    "titanic_df.loc[(titanic_df['Rev']==1) & np.isnan(titanic_df[\"Age\"]),\"Age\"] = median_age_rev\n",
    "test_df.loc[(test_df['Rev']==1) & (np.isnan(test_df[\"Age\"])),\"Age\"] = median_age_rev\n",
    "\n",
    "median_age_dr = pd.concat([titanic_df[titanic_df['Dr']==1],test_df[test_df['Dr']==1]])['Age'].median()\n",
    "titanic_df.loc[(titanic_df['Dr']==1) & (np.isnan(titanic_df[\"Age\"])),\"Age\"] = median_age_dr\n",
    "test_df.loc[(test_df['Dr']==1) & (np.isnan(test_df[\"Age\"])),\"Age\"] = median_age_dr\n",
    "\n",
    "median_age_mil = pd.concat([titanic_df[titanic_df['Mil']==1],test_df[test_df['Mil']==1]])['Age'].median()\n",
    "titanic_df.loc[(titanic_df['Mil']==1) & (np.isnan(titanic_df[\"Age\"])),\"Age\"] = median_age_mil\n",
    "test_df.loc[(test_df['Mil']==1) & (np.isnan(test_df[\"Age\"])),\"Age\"] = median_age_mil\n",
    "\n",
    "median_age_master = pd.concat([titanic_df[titanic_df['Master']==1],test_df[test_df['Master']==1]])['Age'].median()\n",
    "titanic_df.loc[(titanic_df['Master']==1) & (np.isnan(titanic_df[\"Age\"])),\"Age\"] = median_age_master\n",
    "test_df.loc[(test_df['Master']==1) & (np.isnan(test_df[\"Age\"])),\"Age\"] = median_age_master\n",
    "\n",
    "# convert from float to int\n",
    "#print titanic_df['Age']\n",
    "titanic_df['Age'] = titanic_df['Age'].astype(int)\n",
    "test_df['Age']    = test_df['Age'].astype(int)\n",
    "        \n",
    "# plot new Age Values\n",
    "titanic_df['Age'].hist(bins=70, ax=axis2)\n",
    "# test_df['Age'].hist(bins=70, ax=axis4)"
   ]
  },
  {
   "cell_type": "code",
   "execution_count": 9,
   "metadata": {
    "collapsed": false
   },
   "outputs": [
    {
     "data": {
      "text/plain": [
       "<matplotlib.axes._subplots.AxesSubplot at 0x11b5430d0>"
      ]
     },
     "execution_count": 9,
     "metadata": {},
     "output_type": "execute_result"
    },
    {
     "data": {
      "image/png": "iVBORw0KGgoAAAANSUhEUgAAA4kAAADRCAYAAABhG/dSAAAABHNCSVQICAgIfAhkiAAAAAlwSFlz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\nyGyFHXNlmAAAAABJRU5ErkJggg==\n",
      "text/plain": [
       "<matplotlib.figure.Figure at 0x116703e10>"
      ]
     },
     "metadata": {},
     "output_type": "display_data"
    },
    {
     "data": {
      "image/png": "iVBORw0KGgoAAAANSUhEUgAABB4AAAERCAYAAADcyGRBAAAABHNCSVQICAgIfAhkiAAAAAlwSFlz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\n/wcSjm5eG0/oGAAAAABJRU5ErkJggg==\n",
      "text/plain": [
       "<matplotlib.figure.Figure at 0x11a72e050>"
      ]
     },
     "metadata": {},
     "output_type": "display_data"
    }
   ],
   "source": [
    "# .... continue with plot Age column\n",
    "\n",
    "# peaks for survived/not survived passengers by their age\n",
    "facet = sns.FacetGrid(titanic_df, hue=\"Survived\",aspect=4)\n",
    "facet.map(sns.kdeplot,'Age',shade= True)\n",
    "facet.set(xlim=(0, titanic_df['Age'].max()))\n",
    "facet.add_legend()\n",
    "\n",
    "# average survived passengers by age\n",
    "fig, axis1 = plt.subplots(1,1,figsize=(18,4))\n",
    "average_age = titanic_df[[\"Age\", \"Survived\"]].groupby(['Age'],as_index=False).mean()\n",
    "sns.barplot(x='Age', y='Survived', data=average_age)"
   ]
  },
  {
   "cell_type": "code",
   "execution_count": 10,
   "metadata": {
    "collapsed": false
   },
   "outputs": [],
   "source": [
    "#def extract_cabin_features(df):\n",
    "#    df['Cabin'].fillna('cabZ', inplace=True)\n",
    "#    df.loc[df['Cabin'].str.contains('A'),'Cabin'] = 'cabA'\n",
    "#    df.loc[df['Cabin'].str.contains('B'),'Cabin'] = 'cabB'\n",
    "#    df.loc[df['Cabin'].str.contains('C'),'Cabin'] = 'cabC'\n",
    "#    df.loc[df['Cabin'].str.contains('D'),'Cabin'] = 'cabD'\n",
    "#    df.loc[df['Cabin'].str.contains('E'),'Cabin'] = 'cabE'\n",
    "#    df.loc[df['Cabin'].str.contains('G'),'Cabin'] = 'cabG'\n",
    "#    df.loc[df['Cabin'].str.contains('F'),'Cabin'] = 'cabF'\n",
    "#    df.loc[df['Cabin'].str.contains('T'),'Cabin'] = 'cabZ'\n",
    "    \n",
    "#    cabin_dummies = pd.get_dummies(df['Cabin'])\n",
    "#    cabin_dummies.drop(['cabZ'], axis=1, inplace=True)\n",
    "#    df = df.join(cabin_dummies)\n",
    "#    df.drop(['Cabin'], axis=1, inplace=True)\n",
    "#    \n",
    "#    return df\n",
    "\n",
    "#titanic_df = extract_cabin_features(titanic_df)\n",
    "#test_df = extract_cabin_features(test_df)\n",
    "\n",
    "#print titanic_df.head()\n",
    "#print test_df.head()\n",
    "\n",
    "titanic_df.drop(\"Cabin\",axis=1,inplace=True)\n",
    "test_df.drop(\"Cabin\",axis=1,inplace=True)\n",
    "\n",
    "#titanic_df.drop(\"Sex\",axis=1,inplace=True)\n",
    "#test_df.drop(\"Sex\",axis=1,inplace=True)\n",
    "\n",
    "# Dropping Sex as well as this is entirely accounted for in various titles\n",
    "gender_dummies_titanic  = pd.get_dummies(titanic_df['Sex'])\n",
    "gender_dummies_titanic.drop(['male'], axis=1, inplace=True)\n",
    "\n",
    "gender_dummies_test  = pd.get_dummies(test_df['Sex'])\n",
    "gender_dummies_test.drop(['male'], axis=1, inplace=True)\n",
    "\n",
    "titanic_df = titanic_df.join(gender_dummies_titanic)\n",
    "test_df    = test_df.join(gender_dummies_test)\n",
    "\n",
    "titanic_df.drop(['Sex'], axis=1,inplace=True)\n",
    "test_df.drop(['Sex'], axis=1,inplace=True)"
   ]
  },
  {
   "cell_type": "code",
   "execution_count": 11,
   "metadata": {
    "collapsed": false
   },
   "outputs": [
    {
     "data": {
      "text/plain": [
       "[<matplotlib.text.Text at 0x11b9d8a50>, <matplotlib.text.Text at 0x11be18b90>]"
      ]
     },
     "execution_count": 11,
     "metadata": {},
     "output_type": "execute_result"
    },
    {
     "data": {
      "image/png": "iVBORw0KGgoAAAANSUhEUgAAAmMAAAFICAYAAAAcS/kVAAAABHNCSVQICAgIfAhkiAAAAAlwSFlz\nAAALEgAACxIB0t1+/AAAIABJREFUeJzt3XmcXXV9//FXEhYh3ESRRW1VCnU+qCk8ZCgSfpGEVFAo\nFtSqxeKCstRS1C62LFqXNq4VLSoWSApW7IKpYGUrxbAkaUWcWmEq/RATjdblIWBJBjBmm98f5wxc\nhiEzSebM987c1/Px4JE5y5z7ydzJl/f53u/5fqcNDg4iSZKkMqaXLkCSJKmbGcYkSZIKMoxJkiQV\nZBiTJEkqyDAmSZJUkGFMkiSpoF2avHhEvAl4MzAI7AEcCrwE+CSwFejPzLPrc88AzgQ2AYsy87om\na5OksYqIacDFVG3YBuD0zFzTdvzXgY/Xmz8BTs3MjRNeqKRJqdGescz8XGYek5kLgT7g7cCfA+dn\n5nxgekScFBH7A+cAc4GXAx+KiF2brE2StsPJwO6ZeRRwHnDhsOOXAm/OzKOBG4HnTnB9kiaxCfmY\nMiIOB16QmYuB3sxcXh+6ATgWOAJYkZmbM3M9sAo4ZCJqk6QxmEcVssjMO4DDhw5ERA/wAPBHEXEr\nsHdmripRpKTJaaLGjJ0HvG+E/QPALKAFrGvb/xAwu/myJGlMZvH4NmpzRAy1n/tQ9epfBLwUeGlE\nLJjY8iRNZo2OGQOIiNlAT2beXu/a2na4BTwIrKdq7Ibvf1J9fX2u4yR1od7e3mkFXnY9Vbs0ZHpm\nDrVlDwDfycx7ASLiRqqes1uf7GK2X1J3erL2q/EwBhwNfLVt+5sRcXQdzo4HlgF3AosiYjeqgf4H\nA/2jXbi3t7eBciV1qr6+vlIvvRI4EVgaEUcCd7cdWwPsFREH1oP6XwIsHu2Ctl9Sd9lW+zURYSyo\nGqshfwJcVg/QvwdYmpmDEXERsAKYRjXA3yeRJHWKq4FjI2JlvX1aRJwCzMzMxRHxVuAfIgLg3zPz\nhlKFSpp8pg0OTs7e8r6+vkHvLKXu0tfXV+pjynFl+yV1n221X076KkmSVJBhTJIkqSDDmCRJUkGG\nMUmSpIIm4mlKqagtW7awevXq0mVomIMOOogZM2aULkOSijOMacpbvXo1Z1/yp+y1z6zRT9aEeOj+\n9XzmrI/S09NTuhRJKs4wpq6w1z6zmP2Mp5UuQ5KkJ3DMmCRJUkGGMUmSpIIMY5IkSQUZxiRJkgoy\njEmSJBVkGJMkSSrIMCZJklSQYUySJKkgw5gkSVJBhjFJkqSCDGOSJEkFuTalJHW4LVu2sHr16tJl\naAQHHXQQM2bMKF2GJjnDmCR1uNWrV3PWBUuYOXvf0qWozcPr7uOSRW+lp6endCma5AxjkjQJzJy9\nL7P2fmbpMiQ1wDFjkiRJBRnGJEmSCjKMSZIkFWQYkyRJKsgwJkmSVJBhTJIkqSDDmCRJUkGGMUmS\npIIMY5IkSQUZxiRJkgoyjEmSJBXU+NqUEXEu8FvArsDFwO3AFcBWoD8zz67POwM4E9gELMrM65qu\nTZIkqbRGe8YiYj4wNzOPAhYAzwEuBM7PzPnA9Ig4KSL2B84B5gIvBz4UEbs2WZskSVInaPpjypcB\n/RFxDfAvwLXAYZm5vD5+A3AscASwIjM3Z+Z6YBVwSMO1SZIkFdf0x5T7UPWGnQgcSBXI2gPgADAL\naAHr2vY/BMxuuDZJkqTimg5jDwD3ZOZm4N6I2AD8ctvxFvAgsJ4qlA3fv019fX3jWKqmqrVr15Yu\nQSPo7+9nYGCgdBmSVFzTYWwF8HbgExHxLGAm8NWImJ+ZtwHHA8uAO4FFEbEbsAdwMNA/2sV7e3sb\nK1xTR6vVgrymdBkaZs6cOfT09GzX93gDJmkqajSMZeZ1EfGSiPg6MA14G/A9YHE9QP8eYGlmDkbE\nRVThbRrVAP+NTdYmSZLUCRqf2iIzzx1h94IRzlsCLGm6HknaXhExjWpqnkOBDcDpmbmm7fg7gdOB\nn9a7zsrMVRNeqKRJqfEwJklTwMnA7pl5VES8mGqKnpPbjvcCb8jMbxapTtKk5gz8kjS6ecCNAJl5\nB3D4sOO9wHkRsbye6FqSxsyeMUka3SweP/3O5oiYnplb6+1/AD5D9WT4NRFxQmZev60Lbs/DCD4R\n3Ll8KljjwTAmSaNbTzXlzpD2IAbw1/WE1UTEdcCLgG2Gse15GrzVasH1a0Y/URNuR54KVnfa1g2Y\nH1NK0uhWAicARMSRwN1DByJiFtVKI3vWA/0XAs7BIWnM7BmTpNFdDRwbESvr7dMi4hRgZmYujojz\ngFupnrT8ambeWKhOSZOQYUySRpGZg1TzJLa7t+34F4AvTGhRkqYMP6aUJEkqyDAmSZJUkGFMkiSp\nIMOYJElSQYYxSZKkggxjkiRJBRnGJEmSCjKMSZIkFWQYkyRJKsgwJkmSVJBhTJIkqSDDmCRJUkGG\nMUmSpIIMY5IkSQUZxiRJkgoyjEmSJBVkGJMkSSrIMCZJklSQYUySJKkgw5gkSVJBhjFJkqSCDGOS\nJEkFGcYkSZIKMoxJkiQVZBiTJEkqaJemXyAi+oB19eZ3gQ8CVwBbgf7MPLs+7wzgTGATsCgzr2u6\nNkmSpNIaDWMRsTtAZi5s2/dl4PzMXB4Rn42Ik4CvAecAhwF7Aisi4qbM3NRkfZIkSaU13TN2KDAz\nIv4VmAFcAByWmcvr4zcAx1H1kq3IzM3A+ohYBRwC9DVcnyRJUlFNjxl7BPhYZr4MeBvwBWBa2/EB\nYBbQ4rGPMgEeAmY3XJskSVJxTfeM3Qt8ByAzV0XEA1QfRQ5pAQ8C66lC2fD929TXZ8eZRrd27drS\nJWgE/f39DAwMlC5DkoprOoy9Bfg14OyIeBZV4LopIuZn5m3A8cAy4E5gUUTsBuwBHAz0j3bx3t7e\nxgrX1NFqtSCvKV2GhpkzZw49PT3b9T3egEmaipoOY0uAyyNiOdW4sDcDDwCLI2JX4B5gaWYORsRF\nwAqqjzHPz8yNDdcmSZJUXKNhrH4a8tQRDi0Y4dwlVOFNkiSpazjpqyRJUkGGMUmSpIIMY5IkSQUZ\nxiRJkgoyjEmSJBXU+ELhkjTZRcQ04GKqJd42AKdn5poRzrsEeCAzz5/gEiVNYvaMSdLoTgZ2z8yj\ngPOAC4efEBFnAXMmujBJk59hTJJGNw+4ESAz7wAObz8YEXOBXwcumfjSJE12hjFJGt0sYF3b9uaI\nmA4QEc8A3gv8AdUKIpK0XRwzJkmjWw+02ranZ+bW+uvXAE8HrgeeCewREf+TmX+3rQtuzzqbLnbf\nuVzwXuPBMCZJo1sJnAgsjYgjgbuHDmTmp4BPAUTEm4AYLYgB9Pb2jvnFW60WXP+E5wXUAXZkwXt1\np23dgBnGJGl0VwPHRsTKevu0iDgFmJmZiwvWJWkKMIxJ0igycxB427Dd945w3ucmpiJJU4kD+CVJ\nkgoyjEmSJBVkGJMkSSrIMCZJklSQYUySJKkgw5gkSVJBTm0hqWtExF7AMcDzgK3Ad4CbM3ND0cIk\ndTXDmKQpLyL2pFo/8lXAXcBaYBNwFPCJiPgS8BeZ+VC5KiV1K8OYpG5wJXApcF7bmpIA1At+n1if\nc3KB2iR1OcOYpG7w6noW/Seow9m/RMRXJrgmSQIMY5K6w3si4kkPZuYHniysSVLTfJpSUjeYVv/3\nYuDVVIP3NwK/CbywYF2SZM+YpKkvM98PEBErgbmZ+Ui9/UnglpK1SZI9Y5K6yb5A+8eRuwJ7F6pF\nkgB7xiR1l8uAb0TE9VQ3oycCnyxbkqRuZ8+YpK6RmR8D3gj8BPgh8NrM/GzZqiR1O8OYpG4TVB9N\nXgIcWrgWSTKMSeoeEfFh4ASqmfhnAKdFxMfLViWp2xnGJHWTlwFvADZk5nrgWOD4siVJ6naND+CP\niP2AbwAvBbYAV1DN8dOfmWfX55wBnEm1VtyizLyu6bokdaWhpZCGnqjcvW2fJBXRaM9YROwC/A3w\nSL3rQuD8zJwPTI+IkyJif+AcYC7wcuBDEbFrk3VJ6lpXAf8E7B0R7wRuB/6+bEmSul3TPWN/BXwW\nOI9q9uvDMnN5fewG4Diqu9IVmbkZWB8Rq4BDgL6Ga5PUZTLzIxHxMmAt8BzgvZl5beGypCe1ZcsW\nVq9eXboMDXPQQQcxY8aMcbteY2EsIt4M/DQz/y0izq93t/fEDQCzgBawrm3/Q8DssbxGX595TaNb\nu3Zt6RI0gv7+fgYGBib0NSPiGuBK4ILM3DihLy7tgNWrV3P2JX/KXvvMKl2Kag/dv57PnPVRenp6\nxu2aTfaMnQZsjYhjqR4f/zuq2a+HtIAHgfVUoWz4/lH19vaOT6Wa0lqtFuQ1pcvQMHPmzNnuxmwc\nbsAuA04BPhER/wpcmZm37uxFpSbttc8sZj/jaaXLUIMaGzOWmfMz85jMPAb4L6onmG6IiKPrU44H\nlgN3AvMiYreImA0cDPQ3VZek7pWZ12XmqUAPcCPw8Yiw61RSURO9HNKfAJfVA/TvAZZm5mBEXASs\noBpXdr4fH0hqSkS8APgd4DXAD3A5JEmFTUgYy8yFbZsLRji+BFgyEbVI6l4RcTewmWrc2MLM/HHh\nkiTJhcIldZXXZ+bdpYuQpHaGMUlTXkRcmplnAhdFxODw48N67yVpQhnGJHWDS+o/31eyCEkaiWFM\n0pSXmUNzYvwR8HngX3xQSFKncKFwSd3kUuBkYHVELI6IBYXrkaSxhbGI+NQI+z43/uVIUnOcZ0xS\nJ9rmx5QRsRg4EDg8Il7YdmhXxrhkkSR1EucZk9RpRhsz9pfAAcBfA+9v27+ZatJWSZo02uYZ+zzO\nMyapQ2wzjGXm94DvAYdGxCyq3rBp9eG9gJ81WZwkjbNLM/MJwy4kqaSxjhk7D/hf4Hbgtvq/W5sr\nS5IacVbpAiRpuLFObXE6cFBm3tdkMZLUsB9ExDLgDuDnQzsz8wPlSpLU7cYaxr6PH0lKmvy+1vb1\ntCc9S5Im0FjD2CpgRUTcAmwY2undpKTJJDPfP/pZTxQR04CLgUOp2sDTM3NN2/FXA38GbAX+PjMv\nGodyJXWJsYaxH9b/gXeTkiapiNgKDF+b8keZ+exRvvVkYPfMPCoiXgxcWO8jIqYDHwR6gUeAb0fE\nlZnppwmSxmRMYWxH7yYlqZNk5qMPLUXErlSBau4YvnUe1SSxZOYdEXF42zW3RsTz6z/3o3owyqWW\nJI3ZmMLYTtxNSlJHysxNwBcj4oIxnD4LWNe2vTkipmfm1vpaWyPilcBngGuBh0e7YF9f32inPGrt\nWhcJ6FT9/f0MDAw0dn3f+8403u/7WHvGdvRuUpI6RkS8sW1zGvBCxtaLtR5otW0/GsSGZObVwNX1\nUnFvBLa5ZFxvb++YagZotVpw/ZrRT9SEmzNnDj09PY1dv9VqQV7T2PW1Y3bkfd/WDdhYx4w9ajvv\nJiWpkxzT9vUgcD/wujF830rgRGBpRBwJ3D10ICJawFeA4zJzI1Wv2NYRryJJIxjrx5Q7ejcpSR0j\nM0/bwW+9Gjg2IlbW26dFxCnAzMxcHBFXArdHxEbgLuDKcShXUpcYa8/Yjt5NSlJxEbEn8AHgqsz8\nekRcCJwBfBM4JTN/uK3vz8xB4G3Ddt/bdnwxsHh8q5bULcY6Zuy0eqxY1N/Tn5mbG61MksbPJ6kW\nCP9eRJwA/C7wImAO8GnglQVrk9Tlxro2ZS/VxK+fAy4Hvl/PtSNJk8HczPz9zPwpcBJVD9l3MvMa\nqptMSSpmTGEMuAh4XWb2ZuaLgFcBn2quLEkaV1vavl4A3Ny2vdvEliJJjzfWMWN7ZeYdQxuZ+bWI\neEpDNUnSeHsgIo4AZgK/RB3GImIB8L8F65KkMfeM/SwiThraiIiTgQeaKUmSxt0fAlcAS4Hfz8yH\nI+LdwFXAu0oWJklj7Rk7E7g2IpZQTW0xCBzVWFWSNI4y8y7gBcN2/yPwqcxcN8K3SNKEGWvP2PFU\nC+A+l2qai/uoxl1IUseLiA9FxOz2ffUA/nX18b0j4iNlqpPU7banZ+yIzHwEuKt+uvIO4NLGKpOk\n8XMV8OWI+BFwO9U4sc1UN5gLgWcB7yxXnqRuNtYwtiuPn3F/I09cOFySOlJmfhNYEBHHAL9FtbTR\nVmA1cElmLitZn6TuNtYwdg2wLCKuqrdfBXy5mZIkqRmZeQtwS+k6JKndWGfg/7OI+G1gPrAJuKie\nLFGSJo2IeBnwl8DeVA8jAZCZBxYrSlLXG2vPGJm5lOqxcEmarD4F/BHQj0MtJHWIMYexHRER04HL\nqJYb2Qr8HvALqvl+tlKtcXl2fe4ZVA8KbAIWZeZ1TdYmqSvdn5nXli5Ckto1GsaAVwCDmTkvIuYD\nH6T6aOD8zFweEZ+tJ5P9GnAOcBiwJ7AiIm7KzE0N1yepuyyPiAuBG4ENQzsz8/ZyJUnqdo2Gscz8\nckR8pd58LvB/wEszc3m97wbgOKpeshWZuRlYHxGrgEOAvibrk9R1jqj/fFHbvkGq6S0kqYime8bI\nzK0RcQVwMvAa4Ni2wwPALKAFtM+C/RDwuAkaR9LXZ1bT6NauXVu6BI2gv7+fgYGBCX3NzDxmQl9Q\nksag8TAGkJlvjoj9gDuBPdoOtYAHgfVUoWz4/m3q7e0dzzI1RbVaLfDh344zZ84cenp6tut7dvYG\nLCLmUa1FuRfVkIkZwHMz84CdurAk7YSxLoe0QyLi1Ig4t97cAGwBvlGPH4NqmaXlVCFtXkTsVi9Z\ncjDV006SNJ4WU82buAvwGWAVcHXRiiR1vaZ7xr4EXB4Rt9Wv9Xbgf4DFEbErcA+wNDMHI+IiYAWP\nDfDf+GQXlaQd9PPMvDwiDqAaw3oGjk2VVFjTA/gfAV43wqEFI5y7BFjSZD2Sut6GiNgbSODIzFwW\nETNLFyWpuzX6MaUkdZgLgX8CvgK8MSL+G/hG2ZIkdTvDmKSukZlfBI7LzAGgFzgVeEPZqiR1O8OY\npK4REU8DLo2IZcBTqCabHnUaHUlqkmFMUje5jOrp7adTzXP4Y+DKohVJ6nqGMUnd5Fcy81Jga2Zu\nzMwLgF8uXZSk7mYYk9RNNtdzGQ4CRMTzqJZjk6RiJmQGfknqEO8FbgWeHRHXAHOBtxStSFLXs2dM\nUjfpo5px/7vAc6gmpnZdNUlF2TMmqZtcD9wFXNu2b1qhWiQJMIxJ6jKZ+dbSNUhSO8OYpG5yTUSc\nDiwDNg/tzMzvlytJUrczjEnqJrOBc4H72/YNAgeWKUeSDGOSusurgf0y8+elC5GkIT5NKambrAGe\nVroISWpnz5ikbjIIfDsi+oGNQzszc2G5kiR1O8OYpG6yqHQBkjScYUxS18jM20rXIEnDOWZMkiSp\nIHvGJGkUETENuBg4FNgAnJ6Za9qOnwK8A9gE3J2Zv1+kUEmTkj1jkjS6k4HdM/Mo4DzgwqEDEfEU\n4APA/Mx8CfDUiDixTJmSJiPDmCSNbh5wI0Bm3gEc3nbsF8BRmfmLensXqt4zSRoTw5gkjW4WsK5t\ne3NETAfIzMHMvA8gIs4BZmbmzQVqlDRJOWZMkka3Hmi1bU/PzK1DG/WYso8CzwNeNZYL9vX1jfnF\n165dO+ZzNbH6+/sZGBho7Pq+951pvN93w5gkjW4lcCKwNCKOBO4edvxS4OeZefJYL9jb2zvmF2+1\nWnD9mtFP1ISbM2cOPT09jV2/1WpBXtPY9bVjduR939YNmGFMkkZ3NXBsRKyst0+rn6CcCfQBpwHL\nI+IWqln+/zozv1ymVEmTjWFMkkaRmYPA24btvrfta9tSSTvMAfySJEkFGcYkSZIKMoxJkiQVZBiT\nJEkqyDAmSZJUUGNPAEXELsDfAgcAuwGLgG8DVwBbgf7MPLs+9wzgTKpFdhdl5nVN1SVJktRJmuwZ\nOxW4PzOPBl4OfJpqcd3zM3M+MD0iToqI/YFzgLn1eR+KiF0brEuSJKljNDk3zlXAF+uvZwCbgcMy\nc3m97wbgOKpeshWZuRlYHxGrgEOoJlKUJEma0hoLY5n5CEBEtKhC2QXAX7WdMkC1+G6Lxy/A+xAw\nu6m6JEmSOkmjs0ZHxLOBLwGfzsx/jIiPth1uAQ9SLcA7a4T9o9qehXbVvVxotzM1vcCyJE0WTQ7g\n3x/4V+DszLyl3v3NiDg6M28HjgeWAXcCiyJiN2AP4GCgfyyvsT0L7ap7udBuZxrvhXYlabJqsmfs\nPOCpwHsi4s+pFs99B/CpeoD+PcDSzByMiIuAFcA0qgH+GxusS5IkqWM0OWbsncA7Rzi0YIRzlwBL\nmqpFkiSpUznpqyRJUkGGMUmSpIIMY5IkSQUZxiRJkgoyjEmSJBVkGJMkSSrIMCZJklSQYUySJKkg\nw5gkSVJBhjFJkqSCDGOSJEkFGcYkSZIKMoxJkiQVZBiTJEkqyDAmSZJUkGFMkiSpIMOYJElSQYYx\nSZKkggxjkiRJBRnGJEmSCjKMSZIkFWQYkyRJKsgwJkmSVJBhTJIkqSDDmCRJUkGGMUmSpIJ2KV2A\nJHW6iJgGXAwcCmwATs/MNcPO2RO4CXhLZt478VVKmqzsGZOk0Z0M7J6ZRwHnARe2H4yIXuA24MAC\ntUma5LqmZ2zLli2sXr26dBka5qCDDmLGjBmly5BGMw+4ESAz74iIw4cd340qsH1+oguTNPl1TRhb\nvXo1Z12whJmz9y1dimoPr7uPSxa9lZ6entKlSKOZBaxr294cEdMzcytAZv4HPPpx5pj09fWN+cXX\nrl075nM1sfr7+xkYGGjs+r73nWm83/euCWMAM2fvy6y9n1m6DEmTz3qg1bb9aBDbUb29vWM+t9Vq\nwfVrRj9RE27OnDmN3lC2Wi3Iaxq7vnbMjrzv27oBc8yYJI1uJXACQEQcCdxdthxJU0njPWMR8WLg\nw5l5TEQcBFwBbAX6M/Ps+pwzgDOBTcCizLyu6bokaTtcDRwbESvr7dMi4hRgZmYubjtvcOJLkzTZ\nNRrGIuJdwBuAh+pdFwLnZ+byiPhsRJwEfA04BzgM2BNYERE3ZeamJmuTpLHKzEHgbcN2P2H6isxc\nODEVSZpKmv6Y8jvAK9u2ezNzef31DcCxwBHAiszcnJnrgVXAIQ3XJUmS1BEaDWOZeTWwuW1X+5NG\nA1RPKLV4/FNKDwGzm6xLkiSpU0z005TtTx+1gAepnlKaNcL+Uflo+OTX9GPh4HvfqSbivZekyWCi\nw9h/RsTRmXk7cDywDLgTWBQRuwF7AAcD/WO5mI+GT35NPxYOPhreqcb70XBJmqwmOoz9CXBZROwK\n3AMszczBiLgIWEH1Meb5mblxguuSJEkqovEwlplrgaPqr1cBC0Y4ZwmwpOlaJEmSOo2TvkqSJBVk\nGJMkSSrIMCZJklSQYUySJKkgw5gkSVJBhjFJkqSCDGOSJEkFGcYkSZIKMoxJkiQVZBiTJEkqyDAm\nSZJUkGFMkiSpIMOYJElSQYYxSZKkggxjkiRJBRnGJEmSCjKMSZIkFWQYkyRJKsgwJkmSVJBhTJIk\nqSDDmCRJUkGGMUmSpIIMY5IkSQUZxiRJkgoyjEmSJBVkGJMkSSrIMCZJklSQYUySJKkgw5gkSVJB\nhjFJkqSCDGOSJEkFGcYkSZIK2qV0AUMiYhpwMXAosAE4PTPXlK1KkkZvnyLiFcB7gE3A5Zm5uEih\nkialTuoZOxnYPTOPAs4DLixcjyQNedL2KSJ2qbdfCiwAzoyIfUsUKWly6qQwNg+4ESAz7wAOL1uO\nJD1qW+3T84FVmbk+MzcBK4CjJ75ESZNVx3xMCcwC1rVtb46I6Zm5dbxe4OF1943XpTQOJvL9eOj+\n9RP2WhrdJHw/ttU+DT82AMwe7wJsvzrPRL0nk/Dfy5TWxPvRSWFsPdBq2x41iPX19W3XC/zVua/d\ngbLUpIGBge1+H3fEh1//nsZfQ9tnot77cbKt9mk9VSAb0gIeHO2Ctl9Tw0T8Htt+dZ7xft87KYyt\nBE4ElkbEkcDd2zq5t7d32oRUJUnbbp/uAX41Ip4KPEL1EeXHtnUx2y9J7aYNDg6WrgF43NNKh9S7\nTsvMewuWJEnAyO0T0AvMzMzFEfGbwHuBacCSzPybMpVKmow6JoxJkiR1o056mlKSJKnrGMYkSZIK\nMoxJkiQVZBiTJEkqqJOmthh3EXEzcG5mfiMidgXuA/4iMz9eH78FeAdwLvBG4JnAoZl5bX3srCd7\nojMi3gR8AFhd79od+GRmfrGBv8cc4GmZubyBa/8y8HFgX2APoA/4Q+BZwD9m5txh5/8psAx4IXBw\nZp437Ph/AK/LzO+Pd61TWf1zfSdwQGZuHO33T1Of7deYrm371SFsw3bOVO8Zuwl4Sf31S6iWMzkB\nICJ2B56TmXdl5uszczOwEDhqO67/hcxcmJkLqeYgamo9zVcDLxjvi0bEdODLwMfqv8dcqoWO31+f\n8oRHbTPzo5n5jSc7rh32u8A/AKeULkQdw/ZrG2y/Oo5t2E6Y0j1jwM3Au4FPUDVii4GPRESLao6g\n2wAi4rtUjcW5wB4R8e/1978vIvYH9gROyczvDbt++8SNT6Oa8JGIeDVwNtXPdxB4JfBrwEeAXwCX\nAj8AFgGbqe5Of4/ql/mE+vUOrM+/GXgz8IuI6KuvtQCYAfxzZj5ucsmI+F2qu+UNwCrgrPq6b6nr\nfW9m3lKfPg/4flvjBPBnVCF9f2C/iPgS1V3mtzLzrIi4nOofXPtrLgKOA/4XeHq9771U/2OYCbwV\nOBZ4PbCV6o710/W1fgEcADwDeHNm/hddJiLmA98B/ga4Evhc27HZ9b5ZVO/5uzPz1oj4FtXv7yFU\nP9OTMnMgIj5I9b7OAD6RmUsn9C+j8WT7Zfs1KdiG7byp3jP2TeDg+uujqd74m6n+YS2gXviXqsHZ\nAnwY+PvMvLbe/5XM/I36vN8e4fqvj4hlEfFV4JPAqfX+5wEnZObRVLNzv6zev3tmzs/MLwCXAa/M\nzGOAH1E1WACzMvMVwEnAeZn5I+AK4MK60Tml/u9ohi25EhF7A+8DFtSv/SBVYwbws8w8uq0hg6qR\nWtN+jczcmJkb6s1WXddc4DciYp/hP4CI6AXmZeavU31U0r5kzLczcx7V79nrgP9X1/3KiOipz/le\nZr4c+DQRCReCAAAEwklEQVRw5vDrd4nTgcWZuQrYGBFH8Nhd+7uBmzJzPvBa4G/r/bOoejYWUP3+\nHB8RLwd+pX7vFwIXRET7Mj2aXGy/bL8mC9uwnTSle8YyczAivlW/wT/OzE0RcSNVl/whVA3Qtvxn\n/edPqO60hvtCZp4/wv77gM9FxMNAAEN3qgkQEftSje+4qp7Z+ynAv1HdYQ7dWf2AahzHcKdS3XHu\nD9ww7NiBQH9mPlJvL6dquL8+9NrDrKX6COFRdYN4FNVyL2syc329/6dUd7zD9QDfAKjvatqXiRl6\nzTnAc4GvUt3dPhX41frYN9v+vtvzEcuUUC+hcwKwb0S8naqB+oP68DTg+VR3lWTmjyJiXUTsVx9v\n/115CtXPuDciltXfuwvVXftdE/BX0Tiz/bL9mgxsw8bHVO8Zg+pO8nwe+4e/AjiMaqHfoTuzoe76\nrTz+Z7LdYwrqFP9+4Heo7hY2DLs+wP1Uv3wn1XeWH6QaVDr8NR9XV0TsBrwmM0+px3mcFhHPbjv/\nu8ALImKPens+cG/bNYb7GnBARBxe1z6N6s503gjnPtlaet8Gjqi/fybVwNghQ6+ZVI3swvrvewWP\n/ePq9nEbb6C6o3x5Zh4PHEn1kcm+VD+bb1PdjRMRv0T1cdID9fcO/9ndAyyrfzcWAlfx2ABtTU62\nX49/7Xa2X53BNmwcdEMY+zeq7uXrATJzE/B/1OMtakO/EHcDJ0XEa9nBf2T1ndgKqoZiOdU4jGcN\nO2eQalzE9RGxEngb0D/C5YZq6KO605gL/CwivlbfOdyYmT9ou+4DVOvj3VqPG3k68Nlt1DoIvAZ4\nf/3kyx31oXcPe/32rx/3c8nMbwE3RsSdVGMxfjLC69wFLIuIFfV5z6PqlrYhq8bCfH5oIzN/Dvwz\n1c8I4EPAwoi4DfgScEZmbmGE96b+eOrhiLid6m5/MDMfbv6voAbZfj15rbZfncE2bBy4NqUkSVJB\n3dAzJkmS1LEMY5IkSQUZxiRJkgoyjEmSJBVkGJMkSSrIMCZJklTQlJ6BX50tIp5LNanjf9e7dgN+\nCJxWL6Oyo9d9L9X8NB/Y+SolaWS2YRovhjGV9sPMPGxoo14k9tPAq8qVJEljZhumnWYYU6e5HXhF\nRPw28MdU65XtAZyemSvqmbZ/BryAavHeOcAFVEuX3Mlji/W+uJ4d/FnAFZn5/on9a0jqUrZh2m6O\nGVPHiIhdqRqnlcBZwG9m5ouoFhZ+V9up38rM51OtkXch8NLM/DVgBtWCtQD7Ua1tdzjwrnrdOUlq\njG2YdpQ9YyrtlyLiP6kW8t0N+DpwLrCF6u4ygAXA5rbvGVqDbi6wIjN/DJCZbwKIiBcBN2TmZuCB\niLgP2BvoijXOJE0o2zDtNMOYSnvceAuA+g6wD/g7qgWR7wLObjvl5/Wfm6gawKHv26ftnPaGj/bz\nJGkc2YZpp/kxpUobqYHpAbZk5geBW4Djqbrvh7sTOCIi9qu3PwH8ViNVStLIbMO00wxjKm1whH3f\nAv4rIpLq7nIAeO7w8+uu/XcAN0XEXVRd+JeP8TUkaTzYhmmnTRsc9D2WJEkqxZ4xSZKkggxjkiRJ\nBRnGJEmSCjKMSZIkFWQYkyRJKsgwJkmSVJBhTJIkqaD/D2PQ8hzMVNEnAAAAAElFTkSuQmCC\n",
      "text/plain": [
       "<matplotlib.figure.Figure at 0x11baa98d0>"
      ]
     },
     "metadata": {},
     "output_type": "display_data"
    },
    {
     "data": {
      "image/png": "iVBORw0KGgoAAAANSUhEUgAAAmMAAAFICAYAAAAcS/kVAAAABHNCSVQICAgIfAhkiAAAAAlwSFlz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\nTJIkqSDDmCRJUkH/H/BbwtiXF2OUAAAAAElFTkSuQmCC\n",
      "text/plain": [
       "<matplotlib.figure.Figure at 0x11baa9150>"
      ]
     },
     "metadata": {},
     "output_type": "display_data"
    }
   ],
   "source": [
    "# Family\n",
    "\n",
    "# Instead of having two columns Parch & SibSp, \n",
    "# we can have only one column represent if the passenger had any family member aboard or not,\n",
    "# Meaning, if having any family member(whether parent, brother, ...etc) will increase chances of Survival or not.\n",
    "#titanic_df['Family'] =  titanic_df[\"Parch\"] + titanic_df[\"SibSp\"]\n",
    "#titanic_df['Family'].loc[titanic_df['Family'] > 0] = 1\n",
    "#titanic_df['Family'].loc[titanic_df['Family'] == 0] = 0\n",
    "\n",
    "#test_df['Family'] =  test_df[\"Parch\"] + test_df[\"SibSp\"]\n",
    "#test_df['Family'].loc[test_df['Family'] > 0] = 1\n",
    "#test_df['Family'].loc[test_df['Family'] == 0] = 0\n",
    "\n",
    "# drop Parch & SibSp\n",
    "#titanic_df = titanic_df.drop(['SibSp','Parch'], axis=1)\n",
    "#test_df    = test_df.drop(['SibSp','Parch'], axis=1)\n",
    "\n",
    "# plot\n",
    "fig, (axis1,axis2) = plt.subplots(1,2,sharex=True,figsize=(10,5))\n",
    "\n",
    "# sns.factorplot('Family',data=titanic_df,kind='count',ax=axis1)\n",
    "sns.countplot(x='Parch', data=titanic_df, order=[1,0], ax=axis1)\n",
    "\n",
    "# average of survived for those who had/didn't have any family member\n",
    "parch_perc = titanic_df[[\"Parch\", \"Survived\"]].groupby(['Parch'],as_index=False).mean()\n",
    "sns.barplot(x='Parch', y='Survived', data=parch_perc, order=[1,0], ax=axis2)\n",
    "\n",
    "axis1.set_xticklabels([\"With Parents or Children\",\"Alone\"], rotation=0)\n",
    "\n",
    "fig2, (axis1,axis2) = plt.subplots(1,2,sharex=True,figsize=(10,5))\n",
    "\n",
    "# sns.factorplot('Family',data=titanic_df,kind='count',ax=axis1)\n",
    "sns.countplot(x='SibSp', data=titanic_df, order=[1,0], ax=axis1)\n",
    "\n",
    "# average of survived for those who had/didn't have any family member\n",
    "sibsp_perc = titanic_df[[\"SibSp\", \"Survived\"]].groupby(['SibSp'],as_index=False).mean()\n",
    "sns.barplot(x='SibSp', y='Survived', data=sibsp_perc, order=[1,0], ax=axis2)\n",
    "\n",
    "axis1.set_xticklabels([\"With Sibling or Spouse\",\"Alone\"], rotation=0)"
   ]
  },
  {
   "cell_type": "code",
   "execution_count": 12,
   "metadata": {
    "collapsed": false
   },
   "outputs": [
    {
     "data": {
      "image/png": "iVBORw0KGgoAAAANSUhEUgAAAWEAAAFhCAYAAACh/xvXAAAABHNCSVQICAgIfAhkiAAAAAlwSFlz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\nxCGFsIiIQwphERGHFMIiIg79P2f+tQU4m+5aAAAAAElFTkSuQmCC\n",
      "text/plain": [
       "<matplotlib.figure.Figure at 0x1171f4790>"
      ]
     },
     "metadata": {},
     "output_type": "display_data"
    }
   ],
   "source": [
    "# Pclass\n",
    "\n",
    "# sns.factorplot('Pclass',data=titanic_df,kind='count',order=[1,2,3])\n",
    "sns.factorplot('Pclass','Survived',order=[1,2,3], data=titanic_df,size=5)\n",
    "\n",
    "# create dummy variables for Pclass column, & drop 3rd class as it has the lowest average of survived passengers\n",
    "pclass_dummies_titanic  = pd.get_dummies(titanic_df['Pclass'])\n",
    "pclass_dummies_titanic.columns = ['Class_1','Class_2','Class_3']\n",
    "pclass_dummies_titanic.drop(['Class_3'], axis=1, inplace=True)\n",
    "\n",
    "pclass_dummies_test  = pd.get_dummies(test_df['Pclass'])\n",
    "pclass_dummies_test.columns = ['Class_1','Class_2','Class_3']\n",
    "pclass_dummies_test.drop(['Class_3'], axis=1, inplace=True)\n",
    "\n",
    "titanic_df.drop(['Pclass'],axis=1,inplace=True)\n",
    "test_df.drop(['Pclass'],axis=1,inplace=True)\n",
    "\n",
    "titanic_df = titanic_df.join(pclass_dummies_titanic)\n",
    "test_df    = test_df.join(pclass_dummies_test)"
   ]
  },
  {
   "cell_type": "code",
   "execution_count": 13,
   "metadata": {
    "collapsed": true
   },
   "outputs": [],
   "source": [
    "# define training and testing sets\n",
    "\n",
    "X_train = titanic_df.drop(\"Survived\",axis=1)\n",
    "Y_train = titanic_df[\"Survived\"]\n",
    "X_test  = test_df.drop(\"PassengerId\",axis=1).copy()"
   ]
  },
  {
   "cell_type": "code",
   "execution_count": 14,
   "metadata": {
    "collapsed": false
   },
   "outputs": [
    {
     "name": "stdout",
     "output_type": "stream",
     "text": [
      "Fitting 40 folds for each of 2 candidates, totalling 80 fits\n",
      "[CV] min_samples_split=14, n_estimators=50, criterion=gini, max_depth=6 \n",
      "[CV]  min_samples_split=14, n_estimators=50, criterion=gini, max_depth=6, score=0.869565 -   0.1s\n",
      "[CV] min_samples_split=14, n_estimators=50, criterion=gini, max_depth=6 \n"
     ]
    },
    {
     "name": "stderr",
     "output_type": "stream",
     "text": [
      "[Parallel(n_jobs=1)]: Done   1 tasks       | elapsed:    0.1s\n"
     ]
    },
    {
     "name": "stdout",
     "output_type": "stream",
     "text": [
      "[CV]  min_samples_split=14, n_estimators=50, criterion=gini, max_depth=6, score=0.652174 -   0.1s\n",
      "[CV] min_samples_split=14, n_estimators=50, criterion=gini, max_depth=6 \n",
      "[CV]  min_samples_split=14, n_estimators=50, criterion=gini, max_depth=6, score=0.956522 -   0.1s\n",
      "[CV] min_samples_split=14, n_estimators=50, criterion=gini, max_depth=6 \n",
      "[CV]  min_samples_split=14, n_estimators=50, criterion=gini, max_depth=6, score=0.869565 -   0.1s\n"
     ]
    },
    {
     "name": "stderr",
     "output_type": "stream",
     "text": [
      "[Parallel(n_jobs=1)]: Done   4 tasks       | elapsed:    0.4s\n"
     ]
    },
    {
     "name": "stdout",
     "output_type": "stream",
     "text": [
      "[CV] min_samples_split=14, n_estimators=50, criterion=gini, max_depth=6 \n",
      "[CV]  min_samples_split=14, n_estimators=50, criterion=gini, max_depth=6, score=0.782609 -   0.1s\n",
      "[CV] min_samples_split=14, n_estimators=50, criterion=gini, max_depth=6 \n",
      "[CV]  min_samples_split=14, n_estimators=50, criterion=gini, max_depth=6, score=0.869565 -   0.1s\n",
      "[CV] min_samples_split=14, n_estimators=50, criterion=gini, max_depth=6 \n",
      "[CV]  min_samples_split=14, n_estimators=50, criterion=gini, max_depth=6, score=0.869565 -   0.1s\n",
      "[CV] min_samples_split=14, n_estimators=50, criterion=gini, max_depth=6 \n",
      "[CV]  min_samples_split=14, n_estimators=50, criterion=gini, max_depth=6, score=0.913043 -   0.1s\n",
      "[CV] min_samples_split=14, n_estimators=50, criterion=gini, max_depth=6 \n",
      "[CV]  min_samples_split=14, n_estimators=50, criterion=gini, max_depth=6, score=0.782609 -   0.1s\n",
      "[CV] min_samples_split=14, n_estimators=50, criterion=gini, max_depth=6 \n"
     ]
    },
    {
     "name": "stderr",
     "output_type": "stream",
     "text": [
      "[Parallel(n_jobs=1)]: Done   7 tasks       | elapsed:    0.7s\n"
     ]
    },
    {
     "name": "stdout",
     "output_type": "stream",
     "text": [
      "[CV]  min_samples_split=14, n_estimators=50, criterion=gini, max_depth=6, score=0.826087 -   0.1s\n",
      "[CV] min_samples_split=14, n_estimators=50, criterion=gini, max_depth=6 \n",
      "[CV]  min_samples_split=14, n_estimators=50, criterion=gini, max_depth=6, score=0.826087 -   0.1s\n",
      "[CV] min_samples_split=14, n_estimators=50, criterion=gini, max_depth=6 \n",
      "[CV]  min_samples_split=14, n_estimators=50, criterion=gini, max_depth=6, score=0.652174 -   0.1s\n"
     ]
    },
    {
     "name": "stderr",
     "output_type": "stream",
     "text": [
      "[Parallel(n_jobs=1)]: Done  12 tasks       | elapsed:    1.3s\n"
     ]
    },
    {
     "name": "stdout",
     "output_type": "stream",
     "text": [
      "[CV] min_samples_split=14, n_estimators=50, criterion=gini, max_depth=6 \n",
      "[CV]  min_samples_split=14, n_estimators=50, criterion=gini, max_depth=6, score=0.826087 -   0.1s\n",
      "[CV] min_samples_split=14, n_estimators=50, criterion=gini, max_depth=6 \n",
      "[CV]  min_samples_split=14, n_estimators=50, criterion=gini, max_depth=6, score=0.869565 -   0.1s\n",
      "[CV] min_samples_split=14, n_estimators=50, criterion=gini, max_depth=6 \n",
      "[CV]  min_samples_split=14, n_estimators=50, criterion=gini, max_depth=6, score=0.956522 -   0.1s\n",
      "[CV] min_samples_split=14, n_estimators=50, criterion=gini, max_depth=6 \n",
      "[CV]  min_samples_split=14, n_estimators=50, criterion=gini, max_depth=6, score=0.913043 -   0.1s\n",
      "[CV] min_samples_split=14, n_estimators=50, criterion=gini, max_depth=6 \n",
      "[CV]  min_samples_split=14, n_estimators=50, criterion=gini, max_depth=6, score=0.913043 -   0.1s\n",
      "[CV] min_samples_split=14, n_estimators=50, criterion=gini, max_depth=6 \n"
     ]
    },
    {
     "name": "stderr",
     "output_type": "stream",
     "text": [
      "[Parallel(n_jobs=1)]: Done  17 tasks       | elapsed:    1.7s\n"
     ]
    },
    {
     "name": "stdout",
     "output_type": "stream",
     "text": [
      "[CV]  min_samples_split=14, n_estimators=50, criterion=gini, max_depth=6, score=0.695652 -   0.1s\n",
      "[CV] min_samples_split=14, n_estimators=50, criterion=gini, max_depth=6 \n",
      "[CV]  min_samples_split=14, n_estimators=50, criterion=gini, max_depth=6, score=0.782609 -   0.1s\n",
      "[CV] min_samples_split=14, n_estimators=50, criterion=gini, max_depth=6 \n",
      "[CV]  min_samples_split=14, n_estimators=50, criterion=gini, max_depth=6, score=0.782609 -   0.1s\n",
      "[CV] min_samples_split=14, n_estimators=50, criterion=gini, max_depth=6 \n",
      "[CV]  min_samples_split=14, n_estimators=50, criterion=gini, max_depth=6, score=0.869565 -   0.1s\n",
      "[CV] min_samples_split=14, n_estimators=50, criterion=gini, max_depth=6 \n",
      "[CV]  min_samples_split=14, n_estimators=50, criterion=gini, max_depth=6, score=0.782609 -   0.1s\n",
      "[CV] min_samples_split=14, n_estimators=50, criterion=gini, max_depth=6 \n",
<<<<<<< HEAD
      "[CV]  min_samples_split=14, n_estimators=50, criterion=gini, max_depth=6, score=0.826087 -   0.4s\n",
=======
      "[CV]  min_samples_split=14, n_estimators=50, criterion=gini, max_depth=6, score=0.818182 -   0.1s\n",
>>>>>>> 370b17123d0f5f1c2822c4569e780227e3459fdb
      "[CV] min_samples_split=14, n_estimators=50, criterion=gini, max_depth=6 \n",
      "[CV]  min_samples_split=14, n_estimators=50, criterion=gini, max_depth=6, score=0.863636 -   0.1s\n",
      "[CV] min_samples_split=14, n_estimators=50, criterion=gini, max_depth=6 \n",
      "[CV]  min_samples_split=14, n_estimators=50, criterion=gini, max_depth=6, score=0.772727 -   0.1s\n",
      "[CV] min_samples_split=14, n_estimators=50, criterion=gini, max_depth=6 \n",
      "[CV]  min_samples_split=14, n_estimators=50, criterion=gini, max_depth=6, score=0.772727 -   0.1s\n",
      "[CV] min_samples_split=14, n_estimators=50, criterion=gini, max_depth=6 \n"
     ]
    },
    {
     "name": "stderr",
     "output_type": "stream",
     "text": [
      "[Parallel(n_jobs=1)]: Done  24 tasks       | elapsed:    2.5s\n"
     ]
    },
    {
     "name": "stdout",
     "output_type": "stream",
     "text": [
      "[CV]  min_samples_split=14, n_estimators=50, criterion=gini, max_depth=6, score=0.818182 -   0.1s\n",
      "[CV] min_samples_split=14, n_estimators=50, criterion=gini, max_depth=6 \n",
      "[CV]  min_samples_split=14, n_estimators=50, criterion=gini, max_depth=6, score=0.863636 -   0.1s\n",
      "[CV] min_samples_split=14, n_estimators=50, criterion=gini, max_depth=6 \n",
      "[CV]  min_samples_split=14, n_estimators=50, criterion=gini, max_depth=6, score=0.727273 -   0.1s\n",
      "[CV] min_samples_split=14, n_estimators=50, criterion=gini, max_depth=6 \n",
      "[CV]  min_samples_split=14, n_estimators=50, criterion=gini, max_depth=6, score=0.809524 -   0.1s\n",
      "[CV] min_samples_split=14, n_estimators=50, criterion=gini, max_depth=6 \n",
      "[CV]  min_samples_split=14, n_estimators=50, criterion=gini, max_depth=6, score=0.714286 -   0.1s\n",
      "[CV] min_samples_split=14, n_estimators=50, criterion=gini, max_depth=6 \n",
      "[CV]  min_samples_split=14, n_estimators=50, criterion=gini, max_depth=6, score=0.857143 -   0.1s\n",
      "[CV] min_samples_split=14, n_estimators=50, criterion=gini, max_depth=6 \n"
     ]
    },
    {
     "name": "stderr",
     "output_type": "stream",
     "text": [
      "[Parallel(n_jobs=1)]: Done  31 tasks       | elapsed:    3.1s\n"
     ]
    },
    {
     "name": "stdout",
     "output_type": "stream",
     "text": [
      "[CV]  min_samples_split=14, n_estimators=50, criterion=gini, max_depth=6, score=0.809524 -   0.1s\n",
      "[CV] min_samples_split=14, n_estimators=50, criterion=gini, max_depth=6 \n",
      "[CV]  min_samples_split=14, n_estimators=50, criterion=gini, max_depth=6, score=0.761905 -   0.1s\n",
      "[CV] min_samples_split=14, n_estimators=50, criterion=gini, max_depth=6 \n",
      "[CV]  min_samples_split=14, n_estimators=50, criterion=gini, max_depth=6, score=0.904762 -   0.1s\n",
      "[CV] min_samples_split=14, n_estimators=50, criterion=gini, max_depth=6 \n",
      "[CV]  min_samples_split=14, n_estimators=50, criterion=gini, max_depth=6, score=0.904762 -   0.1s\n",
      "[CV] min_samples_split=14, n_estimators=50, criterion=gini, max_depth=6 \n",
      "[CV]  min_samples_split=14, n_estimators=50, criterion=gini, max_depth=6, score=0.809524 -   0.1s\n",
      "[CV] min_samples_split=14, n_estimators=50, criterion=gini, max_depth=6 \n",
      "[CV]  min_samples_split=14, n_estimators=50, criterion=gini, max_depth=6, score=0.904762 -   0.1s\n",
      "[CV] min_samples_split=14, n_estimators=50, criterion=gini, max_depth=6 \n",
      "[CV]  min_samples_split=14, n_estimators=50, criterion=gini, max_depth=6, score=0.857143 -   0.1s\n",
      "[CV] min_samples_split=14, n_estimators=50, criterion=gini, max_depth=6 \n",
      "[CV]  min_samples_split=14, n_estimators=50, criterion=gini, max_depth=6, score=0.857143 -   0.1s\n",
      "[CV] min_samples_split=14, n_estimators=50, criterion=entropy, max_depth=6 \n",
      "[CV]  min_samples_split=14, n_estimators=50, criterion=entropy, max_depth=6, score=0.869565 -   0.1s\n",
      "[CV] min_samples_split=14, n_estimators=50, criterion=entropy, max_depth=6 \n"
     ]
    },
    {
     "name": "stderr",
     "output_type": "stream",
     "text": [
      "[Parallel(n_jobs=1)]: Done  40 tasks       | elapsed:    4.1s\n"
     ]
    },
    {
     "name": "stdout",
     "output_type": "stream",
     "text": [
      "[CV]  min_samples_split=14, n_estimators=50, criterion=entropy, max_depth=6, score=0.652174 -   0.1s\n",
      "[CV] min_samples_split=14, n_estimators=50, criterion=entropy, max_depth=6 \n",
      "[CV]  min_samples_split=14, n_estimators=50, criterion=entropy, max_depth=6, score=0.956522 -   0.1s\n",
      "[CV] min_samples_split=14, n_estimators=50, criterion=entropy, max_depth=6 \n",
      "[CV]  min_samples_split=14, n_estimators=50, criterion=entropy, max_depth=6, score=0.869565 -   0.1s\n",
      "[CV] min_samples_split=14, n_estimators=50, criterion=entropy, max_depth=6 \n",
      "[CV]  min_samples_split=14, n_estimators=50, criterion=entropy, max_depth=6, score=0.782609 -   0.1s\n",
      "[CV] min_samples_split=14, n_estimators=50, criterion=entropy, max_depth=6 \n",
      "[CV]  min_samples_split=14, n_estimators=50, criterion=entropy, max_depth=6, score=0.869565 -   0.1s\n",
      "[CV] min_samples_split=14, n_estimators=50, criterion=entropy, max_depth=6 \n",
      "[CV]  min_samples_split=14, n_estimators=50, criterion=entropy, max_depth=6, score=0.869565 -   0.1s\n",
      "[CV] min_samples_split=14, n_estimators=50, criterion=entropy, max_depth=6 \n",
      "[CV]  min_samples_split=14, n_estimators=50, criterion=entropy, max_depth=6, score=0.913043 -   0.1s\n",
      "[CV] min_samples_split=14, n_estimators=50, criterion=entropy, max_depth=6 \n",
      "[CV]  min_samples_split=14, n_estimators=50, criterion=entropy, max_depth=6, score=0.782609 -   0.1s\n",
      "[CV] min_samples_split=14, n_estimators=50, criterion=entropy, max_depth=6 \n",
      "[CV]  min_samples_split=14, n_estimators=50, criterion=entropy, max_depth=6, score=0.826087 -   0.1s\n",
      "[CV] min_samples_split=14, n_estimators=50, criterion=entropy, max_depth=6 \n"
     ]
    },
    {
     "name": "stderr",
     "output_type": "stream",
     "text": [
      "[Parallel(n_jobs=1)]: Done  49 tasks       | elapsed:    5.0s\n"
     ]
    },
    {
     "name": "stdout",
     "output_type": "stream",
     "text": [
      "[CV]  min_samples_split=14, n_estimators=50, criterion=entropy, max_depth=6, score=0.826087 -   0.1s\n",
      "[CV] min_samples_split=14, n_estimators=50, criterion=entropy, max_depth=6 \n",
      "[CV]  min_samples_split=14, n_estimators=50, criterion=entropy, max_depth=6, score=0.652174 -   0.1s\n",
      "[CV] min_samples_split=14, n_estimators=50, criterion=entropy, max_depth=6 \n",
      "[CV]  min_samples_split=14, n_estimators=50, criterion=entropy, max_depth=6, score=0.826087 -   0.1s\n",
      "[CV] min_samples_split=14, n_estimators=50, criterion=entropy, max_depth=6 \n",
      "[CV]  min_samples_split=14, n_estimators=50, criterion=entropy, max_depth=6, score=0.869565 -   0.1s\n",
      "[CV] min_samples_split=14, n_estimators=50, criterion=entropy, max_depth=6 \n",
      "[CV]  min_samples_split=14, n_estimators=50, criterion=entropy, max_depth=6, score=0.956522 -   0.1s\n",
      "[CV] min_samples_split=14, n_estimators=50, criterion=entropy, max_depth=6 \n",
      "[CV]  min_samples_split=14, n_estimators=50, criterion=entropy, max_depth=6, score=0.913043 -   0.1s\n",
      "[CV] min_samples_split=14, n_estimators=50, criterion=entropy, max_depth=6 \n",
      "[CV]  min_samples_split=14, n_estimators=50, criterion=entropy, max_depth=6, score=0.913043 -   0.1s\n",
      "[CV] min_samples_split=14, n_estimators=50, criterion=entropy, max_depth=6 \n",
      "[CV]  min_samples_split=14, n_estimators=50, criterion=entropy, max_depth=6, score=0.739130 -   0.1s\n",
      "[CV] min_samples_split=14, n_estimators=50, criterion=entropy, max_depth=6 \n",
      "[CV]  min_samples_split=14, n_estimators=50, criterion=entropy, max_depth=6, score=0.782609 -   0.1s\n",
      "[CV] min_samples_split=14, n_estimators=50, criterion=entropy, max_depth=6 \n",
      "[CV]  min_samples_split=14, n_estimators=50, criterion=entropy, max_depth=6, score=0.782609 -   0.1s\n",
      "[CV] min_samples_split=14, n_estimators=50, criterion=entropy, max_depth=6 \n",
      "[CV]  min_samples_split=14, n_estimators=50, criterion=entropy, max_depth=6, score=0.869565 -   0.1s\n",
      "[CV] min_samples_split=14, n_estimators=50, criterion=entropy, max_depth=6 \n",
      "[CV]  min_samples_split=14, n_estimators=50, criterion=entropy, max_depth=6, score=0.782609 -   0.1s\n",
      "[CV] min_samples_split=14, n_estimators=50, criterion=entropy, max_depth=6 \n"
     ]
    },
    {
     "name": "stderr",
     "output_type": "stream",
     "text": [
      "[Parallel(n_jobs=1)]: Done  60 tasks       | elapsed:    6.1s\n"
     ]
    },
    {
     "name": "stdout",
     "output_type": "stream",
     "text": [
      "[CV]  min_samples_split=14, n_estimators=50, criterion=entropy, max_depth=6, score=0.818182 -   0.1s\n",
      "[CV] min_samples_split=14, n_estimators=50, criterion=entropy, max_depth=6 \n",
      "[CV]  min_samples_split=14, n_estimators=50, criterion=entropy, max_depth=6, score=0.863636 -   0.1s\n",
      "[CV] min_samples_split=14, n_estimators=50, criterion=entropy, max_depth=6 \n",
      "[CV]  min_samples_split=14, n_estimators=50, criterion=entropy, max_depth=6, score=0.772727 -   0.2s\n",
      "[CV] min_samples_split=14, n_estimators=50, criterion=entropy, max_depth=6 \n",
      "[CV]  min_samples_split=14, n_estimators=50, criterion=entropy, max_depth=6, score=0.772727 -   0.1s\n",
      "[CV] min_samples_split=14, n_estimators=50, criterion=entropy, max_depth=6 \n",
      "[CV]  min_samples_split=14, n_estimators=50, criterion=entropy, max_depth=6, score=0.818182 -   0.1s\n",
      "[CV] min_samples_split=14, n_estimators=50, criterion=entropy, max_depth=6 \n",
      "[CV]  min_samples_split=14, n_estimators=50, criterion=entropy, max_depth=6, score=0.863636 -   0.1s\n",
      "[CV] min_samples_split=14, n_estimators=50, criterion=entropy, max_depth=6 \n",
      "[CV]  min_samples_split=14, n_estimators=50, criterion=entropy, max_depth=6, score=0.727273 -   0.1s\n",
      "[CV] min_samples_split=14, n_estimators=50, criterion=entropy, max_depth=6 \n",
      "[CV]  min_samples_split=14, n_estimators=50, criterion=entropy, max_depth=6, score=0.809524 -   0.1s\n",
      "[CV] min_samples_split=14, n_estimators=50, criterion=entropy, max_depth=6 \n",
      "[CV]  min_samples_split=14, n_estimators=50, criterion=entropy, max_depth=6, score=0.714286 -   0.1s\n",
      "[CV] min_samples_split=14, n_estimators=50, criterion=entropy, max_depth=6 \n",
      "[CV]  min_samples_split=14, n_estimators=50, criterion=entropy, max_depth=6, score=0.857143 -   0.1s\n",
      "[CV] min_samples_split=14, n_estimators=50, criterion=entropy, max_depth=6 \n"
     ]
    },
    {
     "name": "stderr",
     "output_type": "stream",
     "text": [
      "[Parallel(n_jobs=1)]: Done  71 tasks       | elapsed:   30.0s\n",
      "[Parallel(n_jobs=1)]: Done  80 out of  80 | elapsed:   34.1s finished\n"
      "[Parallel(n_jobs=1)]: Done  71 tasks       | elapsed:    7.2s\n"
     ]
    },
    {
     "name": "stdout",
     "output_type": "stream",
     "text": [
      "[CV]  min_samples_split=14, n_estimators=50, criterion=entropy, max_depth=6, score=0.809524 -   0.1s\n",
      "[CV] min_samples_split=14, n_estimators=50, criterion=entropy, max_depth=6 \n",
      "[CV]  min_samples_split=14, n_estimators=50, criterion=entropy, max_depth=6, score=0.761905 -   0.1s\n",
      "[CV] min_samples_split=14, n_estimators=50, criterion=entropy, max_depth=6 \n",
      "[CV]  min_samples_split=14, n_estimators=50, criterion=entropy, max_depth=6, score=0.904762 -   0.1s\n",
      "[CV] min_samples_split=14, n_estimators=50, criterion=entropy, max_depth=6 \n",
      "[CV]  min_samples_split=14, n_estimators=50, criterion=entropy, max_depth=6, score=0.904762 -   0.1s\n",
      "[CV] min_samples_split=14, n_estimators=50, criterion=entropy, max_depth=6 \n",
      "[CV]  min_samples_split=14, n_estimators=50, criterion=entropy, max_depth=6, score=0.809524 -   0.1s\n",
      "[CV] min_samples_split=14, n_estimators=50, criterion=entropy, max_depth=6 \n",
      "[CV]  min_samples_split=14, n_estimators=50, criterion=entropy, max_depth=6, score=0.904762 -   0.1s\n",
      "[CV] min_samples_split=14, n_estimators=50, criterion=entropy, max_depth=6 \n",
      "[CV]  min_samples_split=14, n_estimators=50, criterion=entropy, max_depth=6, score=0.857143 -   0.1s\n",
      "[CV] min_samples_split=14, n_estimators=50, criterion=entropy, max_depth=6 \n",
      "[CV]  min_samples_split=14, n_estimators=50, criterion=entropy, max_depth=6, score=0.857143 -   0.1s\n",
      "score equals 0.828283\n",
      "{'min_samples_split': 14, 'n_estimators': 50, 'criterion': 'entropy', 'max_depth': 6}\n",
      "0.837261503928\n"
     ]
    },
    {
     "name": "stderr",
     "output_type": "stream",
     "text": [
      "[Parallel(n_jobs=1)]: Done  80 out of  80 | elapsed:    8.2s finished\n"
     ]
    }
   ],
   "source": [
    "from sklearn.ensemble import RandomForestClassifier\n",
    "from sklearn.grid_search import GridSearchCV\n",
    "from sklearn.metrics import make_scorer, accuracy_score\n",
    "\n",
    "accuracy_scorer = make_scorer(accuracy_score)\n",
    "\n",
    "# Random Forests\n",
    "\n",
    "random_forest = RandomForestClassifier(max_depth=6,n_estimators=50,min_samples_split=14,criterion='gini')\n",
    "\n",
    "#random_forest.fit(X_train, Y_train)\n",
    "\n",
    "parameters = {'max_depth':[6], 'min_samples_split':[14], 'n_estimators':[50], 'criterion':['gini','entropy']}\n",
    "grid_search_CV = GridSearchCV(random_forest, parameters, cv=40, scoring=accuracy_scorer, verbose=10)\n",
    "grid_search_CV.fit(X_train, Y_train)\n",
    "print(\"score equals %f\" % (grid_search_CV.best_score_))\n",
    "print(\"%s\" % (grid_search_CV.best_params_))\n",
    "random_forest = grid_search_CV.best_estimator_\n",
    "\n",
    "Y_pred_rf = random_forest.predict(X_test)\n",
    "\n",
    "rf_score = random_forest.score(X_train, Y_train)\n",
    "\n",
    "print(rf_score)"
   ]
  },
  {
   "cell_type": "code",
   "execution_count": 17,
   "metadata": {
    "collapsed": false
   },
   "outputs": [
    {
     "name": "stdout",
     "output_type": "stream",
     "text": [
      "score equals 0.823793\n",
      "{'kernel': 'linear', 'C': 1.0}\n",
      "0.827160493827\n"
     ]
    },
    {
     "name": "stderr",
     "output_type": "stream",
     "text": [
      "/home/kyle/anaconda2/lib/python2.7/site-packages/sklearn/svm/base.py:224: ConvergenceWarning: Solver terminated early (max_iter=1000000).  Consider pre-processing your data with StandardScaler or MinMaxScaler.\n",
      "  % self.max_iter, ConvergenceWarning)\n"
     ]
    }
   ],
   "source": [
    "from sklearn.svm import SVC, LinearSVC\n",
    "\n",
    "# Support Vector Machines\n",
    "\n",
    "svc = SVC(max_iter = 1000000)\n",
    "\n",
    "parameters = {\"C\":[1e-2,1e-1,1.0], \"kernel\":[\"linear\"]}\n",
    "grid_search_CV = GridSearchCV(svc, parameters, cv=40, scoring=accuracy_scorer)\n",
    "grid_search_CV.fit(X_train, Y_train)\n",
    "print(\"score equals %f\" % (grid_search_CV.best_score_))\n",
    "print(\"%s\" % (grid_search_CV.best_params_))\n",
    "svc = grid_search_CV.best_estimator_\n",
    "\n",
    "# svc.fit(X_train, Y_train)\n",
    "\n",
    "Y_pred_svc = svc.predict(X_test)\n",
    "\n",
    "svc_score = svc.score(X_train, Y_train)\n",
    "\n",
    "print(svc_score)"
   ]
  },
  {
   "cell_type": "code",
   "execution_count": 23,
   "metadata": {
    "collapsed": false
   },
   "outputs": [
    {
     "name": "stdout",
     "output_type": "stream",
     "text": [
      "best score equals 0.823793\n",
      "{'n_neighbors': 8}\n",
      "0.849607182941\n"
     ]
    }
   ],
   "source": [
    "from sklearn.neighbors import KNeighborsClassifier\n",
    "\n",
    "import math\n",
    "\n",
    "from sklearn.cross_validation import KFold\n",
    "from numpy.random import RandomState\n",
    "    \n",
    "parameters = {'n_neighbors':[5,6,7,8,9,10,11]}\n",
    "\n",
    "V = np.cov(np.transpose(X_train.as_matrix()))\n",
    "\n",
    "knn = KNeighborsClassifier(metric='mahalanobis', metric_params={'V':V})\n",
    "\n",
    "skf = KFold(n=len(Y_train), n_folds=40)\n",
    "\n",
    "grid_search_CV = GridSearchCV(knn, parameters, cv=skf, scoring=accuracy_scorer)\n",
    "grid_search_CV.fit(X_train, Y_train)\n",
    "print(\"best score equals %f\" % (grid_search_CV.best_score_))\n",
    "print(\"%s\" % (grid_search_CV.best_params_))\n",
    "knn = grid_search_CV.best_estimator_\n",
    "\n",
    "#knn.fit(X_train, Y_train)\n",
    "\n",
    "Y_pred_knn = knn.predict(X_test)\n",
    "\n",
    "knn_score = knn.score(X_train, Y_train)\n",
    "\n",
    "print(knn_score)"
   ]
  },
  {
   "cell_type": "code",
   "execution_count": 24,
   "metadata": {
    "collapsed": true
   },
   "outputs": [],
   "source": [
    "# put ensemble together\n",
    "#total_score = knn_score + rf_score + svc_score + logreg_score\n",
    "\n",
    "#Y_pred_avg = (1./3.) * Y_pred_knn + (1./3.) * Y_pred_rf + (1./3.) * Y_pred_svc\n",
    "Y_pred_avg = Y_pred_rf\n",
    "#Y_pred_avg = Y_pred_svc\n",
    "#Y_pred_avg = Y_pred_knn\n",
    "#Y_pred_avg = Y_pred_ab\n",
    "Y_pred = list(map(lambda x: 0 if x < 0.5 else 1, Y_pred_avg))"
   ]
  },
  {
   "cell_type": "code",
   "execution_count": 25,
   "metadata": {
    "collapsed": true
   },
   "outputs": [],
   "source": [
    "submission = pd.DataFrame({\n",
    "        \"PassengerId\": test_df[\"PassengerId\"],\n",
    "        \"Survived\": Y_pred\n",
    "    })\n",
    "submission.to_csv('titanic.csv', index=False)"
   ]
  },
  {
   "cell_type": "markdown",
   "metadata": {},
   "source": [
    "---\n",
    "\n",
    "# Neural Network Approach\n",
    "\n",
    "---\n",
    "\n",
    "Using the \"munged data\", train a 1-hidden layer neural network to classify passenger survivability. The neural network is much simpler due to the fact that the classification is binary.\n",
    "\n",
    "## Step 1 - Obtain Data\n",
    "\n",
    "Obtain data in the form of Numpy arrays. Coerce to `float32`. (Tensforflow assumes parameters are continuous.)\n",
    "\n",
    "* `M` = number of entries\n",
    "* `N` = number of features per entry"
   ]
  },
  {
   "cell_type": "code",
   "execution_count": 17,
   "metadata": {
    "collapsed": false
   },
   "outputs": [
    {
     "name": "stdout",
     "output_type": "stream",
     "text": [
      "X: (891, 23)\n",
      "Y: (891, 1)\n",
      "\n",
      "Xt: (418, 23)\n"
     ]
    }
   ],
   "source": [
    "import numpy as np\n",
    "import tensorflow as tf\n",
    "\n",
    "# X - 891 x 23 input training matrix\n",
    "#\n",
    "X = X_train.as_matrix().astype(np.float32)\n",
    "Y = Y_train.as_matrix().astype(np.float32)\n",
    "Xt = X_test.as_matrix().astype(np.float32)\n",
    "\n",
    "M, N = X.shape\n",
    "Mt, Nt = Xt.shape\n",
    "Y.resize(M,1)\n",
    "\n",
    "print 'X:', X.shape\n",
    "print 'Y:', Y.shape\n",
    "print '\\nXt:', Xt.shape"
   ]
  },
  {
   "cell_type": "code",
   "execution_count": 18,
   "metadata": {
    "collapsed": false
   },
   "outputs": [
    {
     "name": "stdout",
     "output_type": "stream",
     "text": [
      "[[ 22.   1.   0.   7.   0.   0.   0.   0.   0.   1.   0.   0.   0.   0.\n",
      "    0.   0.   0.   0.   0.   0.   0.   0.   0.]\n",
      " [ 38.   1.   0.  71.   0.   0.   0.   0.   1.   0.   0.   1.   0.   0.\n",
      "    0.   1.   0.   0.   0.   0.   1.   1.   0.]\n",
      " [ 26.   0.   0.   7.   0.   0.   0.   0.   0.   0.   1.   0.   0.   0.\n",
      "    0.   0.   0.   0.   0.   0.   1.   0.   0.]\n",
      " [ 35.   1.   0.  53.   0.   0.   0.   0.   1.   0.   0.   0.   0.   0.\n",
      "    0.   1.   0.   0.   0.   0.   1.   1.   0.]\n",
      " [ 35.   0.   0.   8.   0.   0.   0.   0.   0.   1.   0.   0.   0.   0.\n",
      "    0.   0.   0.   0.   0.   0.   0.   0.   0.]]\n",
      "\n",
      "[[ 0.  1.  1.  1.  0.]]\n"
     ]
    }
   ],
   "source": [
    "print X[:5]\n",
    "print\n",
    "print Y[:5].T"
   ]
  },
  {
   "cell_type": "code",
   "execution_count": null,
   "metadata": {
    "collapsed": false
   },
   "outputs": [],
   "source": []
  },
  {
   "cell_type": "markdown",
   "metadata": {},
   "source": [
    "## Step 2 - Construct NN\n",
    "\n",
    "We will create a single-hidden-layer NN with `K` features. Based on what I've read, many simple problems can be reasonable solved using only one hidden layer. One hyper-parameter that needs to be adjusted, though, is the number of \"features\" in the hidden layer. Rule of thumb is that it's somewhere between the number of inputs and the number of outputs.\n",
    "\n",
    "* Number of inputs = 23 (per datum)\n",
    "* Number of outputs = 1 (per datum)\n",
    "\n",
    "**Aside:** Multiple layers are necessary in some image analysis. For example, a convolutional layer is appled to resolve position-independent features. These data in the Titanic problem doesn't really fit the convolutional image models so starting at a single hidden-layer seems reasonable.\n",
    "\n",
    "The output of the NN is $y = y(x)$ whose range is $[0,1]$ - the two classes we wish to determine for each entry, $x$."
   ]
  },
  {
   "cell_type": "code",
   "execution_count": 19,
   "metadata": {
    "collapsed": false
   },
   "outputs": [],
   "source": [
    "tf.reset_default_graph()\n",
    "\n",
    "# \"variable\" holding the input data\n",
    "#\n",
    "# in TF a \"tf.placeholder\" represents a variable where data\n",
    "# will be provided by the user whereas a \"tf.Variable\" is \n",
    "# a value that is to be determined by the model\n",
    "#\n",
    "x = tf.placeholder(tf.float32, [None, N], name='Passengers')\n",
    "y_ = tf.placeholder(tf.float32, [None, 1], name='Survival')\n",
    "\n",
    "# number of hidden layer features\n",
    "#\n",
    "K1 = 128\n",
    "K2 = 64\n",
    "\n",
    "# Input -> Hidden Layer #1\n",
    "#\n",
    "# * input data: M x N\n",
    "# * weight matrix: N x K\n",
    "# * bias vector: K\n",
    "#\n",
    "# * a1 = (MxN) . (NxK) + (K) = (MxK) + (K)\n",
    "#\n",
    "# (note that vector addition is distributed over each row)\n",
    "#\n",
    "W1 = tf.Variable(tf.random_normal([N,K1]), name='Layer1Weights')\n",
    "b1 = tf.Variable(tf.random_normal([K1]), name='Layer1Bias')\n",
    "a1 = tf.nn.sigmoid(tf.matmul(x,W1) + b1)\n",
    "\n",
    "# Hidden Layer #1 -> Hidden Layer #2\n",
    "W2 = tf.Variable(tf.random_normal([K1,K2]), name='Layer2Weights')\n",
    "b2 = tf.Variable(tf.random_normal([K2]), name='Layer2Bias')\n",
    "a2 = tf.nn.sigmoid(tf.matmul(a1,W2) + b2)\n",
    "\n",
    "# Hidden Layer #2 -> Output Layer\n",
    "W3 = tf.Variable(tf.random_normal([K2,1]), name='Layer3Weights')\n",
    "b3 = tf.Variable(tf.random_normal([1]), name='Layer3Bias')\n",
    "a3 = tf.nn.sigmoid(tf.matmul(a2,W3) + b3)\n",
    "\n",
    "y = a3"
   ]
  },
  {
   "cell_type": "code",
   "execution_count": 20,
   "metadata": {
    "collapsed": false
   },
   "outputs": [
    {
     "name": "stdout",
     "output_type": "stream",
     "text": [
      "x:  (?, 23)\n",
      "\n",
      "Layer #1\n",
      "W1: (23, 128)\n",
      "b1: (128,)\n",
      "a1: (?, 128)\n",
      "\n",
      "Layer #2\n",
      "W2: (128, 64)\n",
      "b2: (64,)\n",
      "a2: (?, 64)\n",
      "\n",
      "Layer #3\n",
      "W3: (64, 1)\n",
      "b3: (1,)\n",
      "a3: (?, 1)\n",
      "\n",
      "y:  (?, 1)\n"
     ]
    }
   ],
   "source": [
    "print 'x: ', x.get_shape()\n",
    "\n",
    "print '\\nLayer #1'\n",
    "print 'W1:', W1.get_shape()\n",
    "print 'b1:', b1.get_shape()\n",
    "print 'a1:', a1.get_shape()\n",
    "\n",
    "print '\\nLayer #2'\n",
    "print 'W2:', W2.get_shape()\n",
    "print 'b2:', b2.get_shape()\n",
    "print 'a2:', a2.get_shape()\n",
    "\n",
    "print '\\nLayer #3'\n",
    "print 'W3:', W3.get_shape()\n",
    "print 'b3:', b3.get_shape()\n",
    "print 'a3:', a3.get_shape()\n",
    "\n",
    "print '\\ny: ', y.get_shape()"
   ]
  },
  {
   "cell_type": "markdown",
   "metadata": {},
   "source": [
    "## Step 3 - Determine Error function and Optimizer\n",
    "\n",
    "We want to compare the output, $y = y(x)$, with the know classification represented by the placeholder `y_`. TensorFlow asks that we produce a function which computes the error of the given model. It will try to minimize the error by adjusting all of the parameters. (The weights matrices `W_i` and bias vectors `b_i`).\n",
    "\n",
    "For starters, we will compute the $l_2$ norm of the difference between the predicted class `y` and the known class `y_`. From my experience it's worth experimenting with other error functions.\n",
    "\n",
    "There is also some experimentation in choosing an optimizer. `GradientDescentOptimizer` and `ADAMOptimizer` are two standard choices."
   ]
  },
  {
   "cell_type": "code",
   "execution_count": 21,
   "metadata": {
    "collapsed": false
   },
   "outputs": [],
   "source": [
    "# error function and optimizer\n",
    "#\n",
    "\n",
    "#error = tf.reduce_mean(-tf.reduce_sum(y_ * tf.log(y), 1))\n",
    "error = tf.reduce_sum(tf.squared_difference(y, y_))\n",
    "train_step = tf.train.AdamOptimizer().minimize(error)\n",
    "\n",
    "# functions for determining accuracy. we will use a straigt-up cutoff\n",
    "# for final classification. that is, if y<0.5 then set y=0 (died).\n",
    "# if y >= 0.5 then set y=1.0 (survived). count the number of correct\n",
    "# predictions\n",
    "#\n",
    "is_correct = tf.equal(tf.round(y),tf.round(y_))\n",
    "accuracy = tf.reduce_mean(tf.cast(is_correct, tf.float32))"
   ]
  },
  {
   "cell_type": "code",
   "execution_count": 22,
   "metadata": {
    "collapsed": true
   },
   "outputs": [],
   "source": [
    "init = tf.initialize_all_variables()"
   ]
  },
  {
   "cell_type": "code",
   "execution_count": 23,
   "metadata": {
    "collapsed": false
   },
   "outputs": [
    {
     "name": "stdout",
     "output_type": "stream",
     "text": [
      "y:          (?, 1)\n",
      "y_:         (?, 1)\n",
      "*error:     ()\n",
      "is_correct: (?, 1)\n",
      "*accuracy:  ()\n"
     ]
    }
   ],
   "source": [
    "print 'y:         ', y.get_shape()\n",
    "print 'y_:        ', y_.get_shape()\n",
    "print '*error:    ', error.get_shape()\n",
    "print 'is_correct:', is_correct.get_shape()\n",
    "print '*accuracy: ', accuracy.get_shape()"
   ]
  },
  {
   "cell_type": "markdown",
   "metadata": {},
   "source": [
    "## Step 4 - Train!\n",
    "\n",
    "Take a bunch of optimizer steps to try and minimize the error."
   ]
  },
  {
   "cell_type": "code",
   "execution_count": 24,
   "metadata": {
    "collapsed": false
   },
   "outputs": [
    {
     "name": "stdout",
     "output_type": "stream",
     "text": [
      "= Training =\n",
      "Iteration 0 - Accuracy = 0.616161644459, Error = 338.916564941\n",
      "Iteration 10000 - Accuracy = 0.967452287674, Error = 21.2794437408\n",
      "Iteration 20000 - Accuracy = 0.968574643135, Error = 19.4663410187\n",
      "Iteration 30000 - Accuracy = 0.968574643135, Error = 18.9099884033\n",
      "Iteration 40000 - Accuracy = 0.968574643135, Error = 18.8764533997\n",
      "Iteration 50000 - Accuracy = 0.968574643135, Error = 18.8693695068\n",
      "Iteration 60000 - Accuracy = 0.968574643135, Error = 18.8718299866\n",
      "Iteration 70000 - Accuracy = 0.968574643135, Error = 18.8609161377\n",
      "Iteration 80000 - Accuracy = 0.968574643135, Error = 18.8584728241\n",
      "Iteration 90000 - Accuracy = 0.968574643135, Error = 18.86693573\n",
      "Iteration 100000 - Accuracy = 0.968574643135, Error = 18.8545436859\n",
      "Iteration 110000 - Accuracy = 0.968574643135, Error = 18.8539619446\n",
      "Iteration 120000 - Accuracy = 0.968574643135, Error = 18.7228221893\n",
      "Iteration 130000 - Accuracy = 0.968574643135, Error = 18.712928772\n",
      "Iteration 140000 - Accuracy = 0.968574643135, Error = 18.711807251\n",
      "\n",
      "= Results =\n",
      "Final Accuracy (Training Set) = 0.968574643135\n",
      "\n",
      "= Test Data =\n",
      "[[ 0.]\n",
      " [ 1.]\n",
      " [ 0.]\n",
      " [ 1.]\n",
      " [ 0.]]\n"
     ]
    }
   ],
   "source": [
    "# training parameters\n",
    "#\n",
    "LOG_ITER = 10000  # log every LOG_ITER iterations\n",
    "MAX_ITER = 150000\n",
    "iter_count = 0\n",
    "\n",
    "with tf.Session() as sess:\n",
    "    sess.run(init)\n",
    "    \n",
    "    print '= Training ='\n",
    "    while iter_count < MAX_ITER:\n",
    "        # run the optimization step with the input data X and Y\n",
    "        #\n",
    "        sess.run(train_step, feed_dict={x:X, y_:Y})\n",
    "        \n",
    "        # log progress every couple of iterations\n",
    "        #\n",
    "        if (iter_count % LOG_ITER) == 0:\n",
    "            # compute current error and accuracy\n",
    "            #\n",
    "            current_error, current_accuracy = sess.run(\n",
    "                [error, accuracy], feed_dict={x:X, y_:Y})\n",
    "            \n",
    "            print 'Iteration {0} - Accuracy = {1}, Error = {2}'.format(\n",
    "                iter_count, current_accuracy, current_error\n",
    "            )\n",
    "            \n",
    "        iter_count += 1\n",
    "            \n",
    "    current_accuracy = accuracy.eval(session=sess, feed_dict={x:X, y_:Y})\n",
    "    print '\\n= Results ='\n",
    "    print 'Final Accuracy (Training Set) = {0}'.format(current_accuracy)\n",
    "    \n",
    "    # apply the trained model to the test data\n",
    "    #\n",
    "    # * round the results of y\n",
    "    #\n",
    "    print '\\n= Test Data ='\n",
    "    classification = tf.round(y)\n",
    "    Yt = classification.eval(session=sess, feed_dict={x:Xt})\n",
    "    print Yt[:5]\n",
    "    "
   ]
  },
  {
   "cell_type": "code",
   "execution_count": 25,
   "metadata": {
    "collapsed": false
   },
   "outputs": [],
   "source": [
    "Yt = Yt.T[0].astype(np.int)\n",
    "\n",
    "submission = pd.DataFrame({\n",
    "        \"PassengerId\": test_df[\"PassengerId\"],\n",
    "        \"Survived\": Yt\n",
    "    })\n",
    "submission.to_csv('~/Desktop/titanic.csv', index=False)"
   ]
  },
  {
   "cell_type": "code",
   "execution_count": null,
   "metadata": {
    "collapsed": false
   },
   "outputs": [],
   "source": []
  },
  {
   "cell_type": "code",
   "execution_count": null,
   "metadata": {
    "collapsed": true
   },
   "outputs": [],
   "source": []
  }
 ],
 "metadata": {
  "kernelspec": {
   "display_name": "Python 2",
   "language": "python",
   "name": "python2"
  },
  "language_info": {
   "codemirror_mode": {
    "name": "ipython",
    "version": 2
   },
   "file_extension": ".py",
   "mimetype": "text/x-python",
   "name": "python",
   "nbconvert_exporter": "python",
   "pygments_lexer": "ipython2",
   "version": "2.7.11"
  }
 },
 "nbformat": 4,
 "nbformat_minor": 0
}
