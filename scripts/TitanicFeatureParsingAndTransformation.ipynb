{
 "cells": [
  {
   "cell_type": "code",
   "execution_count": null,
   "metadata": {
    "collapsed": true
   },
   "outputs": [],
   "source": [
    "# pandas\n",
    "import pandas as pd\n",
    "from pandas import Series,DataFrame\n",
    "\n",
    "# numpy, matplotlib, seaborn\n",
    "import numpy as np\n",
    "import matplotlib.pyplot as plt\n",
    "import seaborn as sns\n",
    "sns.set_style('whitegrid')\n",
    "%matplotlib inline\n",
    "\n",
    "visualize_data = False"
   ]
  },
  {
   "cell_type": "code",
   "execution_count": null,
   "metadata": {
    "collapsed": false
   },
   "outputs": [],
   "source": [
    "import titanic_age_regression\n",
    "import titanic_classifiers\n",
    "import titanic_feature_creation\n",
    "import titanic_feature_transformation\n",
    "import titanic_plotting\n",
    "\n",
    "# get titanic & test csv files as a DataFrame\n",
    "titanic_df = pd.read_csv(\"../input/train.csv\", dtype={\"Age\": np.float64}, )\n",
    "test_df    = pd.read_csv(\"../input/test.csv\", dtype={\"Age\": np.float64}, )\n",
    "\n",
    "# preview the data\n",
    "if visualize_data:\n",
    "    titanic_df.head()"
   ]
  },
  {
   "cell_type": "code",
   "execution_count": null,
   "metadata": {
    "collapsed": false
   },
   "outputs": [],
   "source": [
    "if visualize_data:\n",
    "    titanic_df.info()\n",
    "    print(\"----------------------------\")\n",
    "    test_df.info()"
   ]
  },
  {
   "cell_type": "code",
   "execution_count": null,
   "metadata": {
    "collapsed": false
   },
   "outputs": [],
   "source": [
    "titanic_df = titanic_feature_creation.create_title_classes(titanic_df)\n",
    "test_df = titanic_feature_creation.create_title_classes(test_df)"
   ]
  },
  {
   "cell_type": "code",
   "execution_count": null,
   "metadata": {
    "collapsed": false
   },
   "outputs": [],
   "source": [
    "# drop unnecessary columns, these columns won't be useful in analysis and prediction\n",
    "titanic_df = titanic_df.drop(['PassengerId','Name','Ticket'], axis=1)\n",
    "test_df    = test_df.drop(['Name','Ticket'], axis=1)"
   ]
  },
  {
   "cell_type": "code",
   "execution_count": null,
   "metadata": {
    "collapsed": false
   },
   "outputs": [],
   "source": [
    "# Embarked\n",
    "\n",
    "# only in titanic_df, fill the two missing values with the most occurred value, which is \"S\".\n",
    "titanic_df[\"Embarked\"] = titanic_df[\"Embarked\"].fillna(\"S\")\n",
    "\n",
    "if visualize_data:\n",
    "    titanic_plotting.make_embarked_survival_plot(titanic_df)\n",
    "    \n",
    "# Remove \"S\" dummy variable, \n",
    "# and leave \"C\" & \"Q\", since they seem to have a good rate for Survival.\n",
    "\n",
    "titanic_df = titanic_feature_creation.one_hot_encode_embarked_variables(titanic_df)\n",
    "test_df = titanic_feature_creation.one_hot_encode_embarked_variables(test_df)"
   ]
  },
  {
   "cell_type": "code",
   "execution_count": null,
   "metadata": {
    "collapsed": false
   },
   "outputs": [],
   "source": [
    "# Fare\n",
    "\n",
    "# only for test_df, since there is a missing \"Fare\" values\n",
    "test_df[\"Fare\"].fillna(test_df[\"Fare\"].median(), inplace=True)\n",
    "\n",
    "if visualize_data:\n",
    "    titanic_plotting.make_fare_plot(titanic_df)"
   ]
  },
  {
   "cell_type": "code",
   "execution_count": null,
   "metadata": {
    "collapsed": false
   },
   "outputs": [],
   "source": [
    "\n",
    "titanic_df.drop(\"Cabin\",axis=1,inplace=True)\n",
    "test_df.drop(\"Cabin\",axis=1,inplace=True)\n",
    "\n",
    "titanic_df = titanic_feature_creation.one_hot_encode_gender_variables(titanic_df)\n",
    "test_df = titanic_feature_creation.one_hot_encode_gender_variables(test_df)"
   ]
  },
  {
   "cell_type": "code",
   "execution_count": null,
   "metadata": {
    "collapsed": false
   },
   "outputs": [],
   "source": [
    "# Family\n",
    "if visualize_data:\n",
    "    titanic_plotting.make_parch_sibsp_survival_plots(titanic_df)\n"
   ]
  },
  {
   "cell_type": "code",
   "execution_count": null,
   "metadata": {
    "collapsed": false
   },
   "outputs": [],
   "source": [
    "# Pclass\n",
    "if visualize_data:\n",
    "    titanic_plotting.make_class_survival_plot(titanic_df)\n",
    "\n",
    "titanic_df = titanic_feature_creation.one_hot_encode_class_variables(titanic_df)\n",
    "test_df = titanic_feature_creation.one_hot_encode_class_variables(test_df)\n"
   ]
  },
  {
   "cell_type": "code",
   "execution_count": null,
   "metadata": {
    "collapsed": true
   },
   "outputs": [],
   "source": [
    "titanic_df = titanic_feature_creation.define_young_old_miss_features(titanic_df)\n",
    "test_df = titanic_feature_creation.define_young_old_miss_features(test_df)"
   ]
  },
  {
   "cell_type": "code",
   "execution_count": null,
   "metadata": {
    "collapsed": false
   },
   "outputs": [],
   "source": [
    "# Age \n",
    "\n",
    "#basic_routines.make_family_size_feature(test_df)\n",
    "#basic_routines.make_family_size_feature(titanic_df)\n",
    "\n",
    "X_train_regression, Y_train_regression, X_test_regression = titanic_age_regression.create_age_training_test_sets(titanic_df, test_df)\n",
    "\n",
    "# k Nearest Neighbors\n",
    "\n",
    "parameters = {'n_neighbors':[16,17,18],'weights':['uniform']}\n",
    "X_train_regression,X_test_regression = titanic_feature_transformation.min_max_scaling(X_train_regression,X_test_regression)\n",
    "knn = titanic_age_regression.create_knn_regressor_age(X_train_regression, Y_train_regression,parameters)\n",
    "titanic_df, test_df = titanic_age_regression.fill_in_missing_age_values(titanic_df, test_df, knn)\n",
    "\n",
    "# Decision Tree Regressor\n",
    "\n",
    "#parameters = {'min_samples_leaf':[20], 'min_weight_fraction_leaf':[0.0125,0.025,0.05], 'min_impurity_split':[4e-7]}\n",
    "#regression_tree = titanic_age_regression.create_decision_tree_regressor_age(X_train_regression, Y_train_regression, parameters)\n",
    "#titanic_df, test_df = titanic_age_regression.fill_in_missing_age_values(titanic_df, test_df, regression_tree)\n",
    "#if visualize_data:\n",
    "#    viz_tree = titanic_plotting.visualize_decision_tree_and_write_to_file(regression_tree,X_train_regression.columns,\"AGES\",\"Decision_Tree_Regressor_Age.pdf\")\n",
    "#    from IPython.display import Image\n",
    "#    Image(viz_tree.create_png())\n",
    "\n",
    "# Fill in with median ages corresponding to titles\n",
    "\n",
    "#titanic_df, test_df = titanic_age_regression.fill_nan_ages_with_median_title_ages(titanic_df,test_df)\n",
    "\n",
    "# Use Linear Regression to predict ages WORKING VERY BADLY, AGES > 100!!!\n",
    "\n",
    "#parameters = {'alpha':[500]}\n",
    "#linear_regressor = titanic_age_regression.create_linear_regressor(X_train_regression,Y_train_regression,parameters)\n",
    "#titanic_df, test_df = titanic_age_regression.fill_in_missing_age_values(titanic_df, test_df, linear_regressor)\n",
    "#print titanic_df[titanic_df['Age'] > 100]\n",
    "#print test_df[test_df['Age'] > 100]"
   ]
  },
  {
   "cell_type": "code",
   "execution_count": null,
   "metadata": {
    "collapsed": false
   },
   "outputs": [],
   "source": [
    "if visualize_data:\n",
    "    titanic_plotting.plot_age_survival_distribution(titanic_df)"
   ]
  },
  {
   "cell_type": "code",
   "execution_count": null,
   "metadata": {
    "collapsed": false
   },
   "outputs": [],
   "source": [
    "# define training and testing sets\n",
    "\n",
    "X_train = titanic_df.drop([\"Survived\"],axis=1)\n",
    "Y_train = titanic_df[\"Survived\"]\n",
    "X_test  = test_df.drop([\"PassengerId\"],axis=1).copy()\n",
    "\n",
    "# Feature Transformation\n",
    "\n",
    "X_train,X_test = titanic_feature_transformation.min_max_scaling(X_train,X_test)\n",
    "\n",
    "#X_train,X_test = titanic_feature_transformation.transform_features_by_pca(X_train,X_test)"
   ]
  },
  {
   "cell_type": "code",
   "execution_count": null,
   "metadata": {
    "collapsed": false
   },
   "outputs": [],
   "source": [
    "parameters = {'min_samples_leaf':[25],'min_weight_fraction_leaf':[0.1], 'min_impurity_split':[2e-1]}\n",
    "\n",
    "dtc = titanic_classifiers.create_decision_tree_classifier(X_train,Y_train,parameters)\n",
    "\n",
    "if visualize_data:\n",
    "    viz_tree = titanic_plotting.visualize_decision_tree_and_write_to_file(dtc,X_train.columns,\"01\",\"Decision_Tree_Classifier.pdf\")\n",
    "    from IPython.display import Image\n",
    "    Image(viz_tree.create_png())"
   ]
  },
  {
   "cell_type": "code",
   "execution_count": null,
   "metadata": {
    "collapsed": false
   },
   "outputs": [],
   "source": [
    "from sklearn.ensemble import RandomForestClassifier\n",
    "\n",
    "parameters = {'min_samples_leaf':[5], 'min_weight_fraction_leaf':[0.025], 'n_estimators':[45,50,55], 'criterion':['gini'],'min_impurity_split':[0.1]}\n",
    "\n",
    "random_forest = titanic_classifiers.create_random_forest_classifier(X_train,Y_train,parameters)\n",
    "\n",
    "Y_pred_rf = random_forest.predict(X_test)\n"
   ]
  },
  {
   "cell_type": "code",
   "execution_count": null,
   "metadata": {
    "collapsed": false
   },
   "outputs": [],
   "source": [
    "from sklearn.svm import SVC, LinearSVC\n",
    "\n",
    "parameters = {\"C\":[3.5,4,4.55], \"kernel\":['rbf'], \"gamma\":[0.625,0.75,0.875]}\n",
    "\n",
    "svc = titanic_classifiers.create_support_vector_machine_classifier(X_train,Y_train,parameters)\n",
    "\n",
    "Y_pred_svc = svc.predict(X_test)"
   ]
  },
  {
   "cell_type": "code",
   "execution_count": null,
   "metadata": {
    "collapsed": false
   },
   "outputs": [],
   "source": [
    "from sklearn.ensemble import GradientBoostingClassifier\n",
    "\n",
    "parameters = {'learning_rate':[0.1], 'n_estimators':[35],'min_weight_fraction_leaf':[0.08],'max_depth':[None],'min_impurity_split':[0.075]}\n",
    "\n",
    "gbc = titanic_classifiers.create_gradient_boosted_classifier(X_train,Y_train,parameters)\n",
    "\n",
    "Y_pred_gb = gbc.predict(X_test)"
   ]
  },
  {
   "cell_type": "code",
   "execution_count": null,
   "metadata": {
    "collapsed": false
   },
   "outputs": [],
   "source": [
    "from sklearn.ensemble import AdaBoostClassifier\n",
    "\n",
    "parameters = {\"n_estimators\":[500],\"learning_rate\":[0.01]}\n",
    "\n",
    "adbc = titanic_classifiers.create_adaboost_classifier(X_train,Y_train,parameters)\n",
    "\n",
    "Y_pred_adbc = adbc.predict(X_test)"
   ]
  },
  {
   "cell_type": "code",
   "execution_count": null,
   "metadata": {
    "collapsed": false
   },
   "outputs": [],
   "source": [
    "from sklearn.neighbors import KNeighborsClassifier\n",
    "\n",
    "parameters = {'n_neighbors':[5,7,9,11,13],'weights':['uniform']}\n",
    "\n",
    "knn = titanic_classifiers.create_knn_classifier(X_train,Y_train,parameters)\n",
    "\n",
    "Y_pred_knn = knn.predict(X_test)"
   ]
  },
  {
   "cell_type": "code",
   "execution_count": null,
   "metadata": {
    "collapsed": true
   },
   "outputs": [],
   "source": [
    "# put ensemble together\n",
    "#total_score = knn_score + rf_score + svc_score + logreg_score\n",
    "\n",
    "#Y_pred_avg = (1./3.) * Y_pred_knn + (1./3.) * Y_pred_rf + (1./3.) * Y_pred_svc\n",
    "#Y_pred_avg = Y_pred_rf\n",
    "Y_pred_avg = Y_pred_svc\n",
    "#Y_pred_avg = Y_pred_knn\n",
    "#Y_pred_avg = Y_pred_adbc\n",
    "#Y_pred_avg = Y_pred_gb\n",
    "Y_pred = list(map(lambda x: 0 if x < 0.5 else 1, Y_pred_avg))"
   ]
  },
  {
   "cell_type": "code",
   "execution_count": null,
   "metadata": {
    "collapsed": true
   },
   "outputs": [],
   "source": [
    "submission = pd.DataFrame({\n",
    "        \"PassengerId\": test_df[\"PassengerId\"],\n",
    "        \"Survived\": Y_pred\n",
    "    })\n",
    "submission.to_csv('titanic.csv', index=False)"
   ]
  }
 ],
 "metadata": {
  "kernelspec": {
   "display_name": "Python 2",
   "language": "python",
   "name": "python2"
  },
  "language_info": {
   "codemirror_mode": {
    "name": "ipython",
    "version": 2
   },
   "file_extension": ".py",
   "mimetype": "text/x-python",
   "name": "python",
   "nbconvert_exporter": "python",
   "pygments_lexer": "ipython2",
   "version": "2.7.12"
  }
 },
 "nbformat": 4,
 "nbformat_minor": 0
}
