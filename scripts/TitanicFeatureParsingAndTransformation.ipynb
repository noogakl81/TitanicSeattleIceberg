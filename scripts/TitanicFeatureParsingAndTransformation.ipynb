{
 "cells": [
  {
   "cell_type": "code",
   "execution_count": 1,
   "metadata": {
    "collapsed": true
   },
   "outputs": [],
   "source": [
    "# pandas\n",
    "import pandas as pd\n",
    "from pandas import Series,DataFrame\n",
    "\n",
    "# numpy, matplotlib, seaborn\n",
    "import numpy as np\n",
    "import matplotlib.pyplot as plt\n",
    "import seaborn as sns\n",
    "sns.set_style('whitegrid')\n",
    "%matplotlib inline"
   ]
  },
  {
   "cell_type": "code",
   "execution_count": 2,
   "metadata": {
    "collapsed": false
   },
   "outputs": [
    {
     "data": {
      "text/html": [
       "<div>\n",
       "<table border=\"1\" class=\"dataframe\">\n",
       "  <thead>\n",
       "    <tr style=\"text-align: right;\">\n",
       "      <th></th>\n",
       "      <th>PassengerId</th>\n",
       "      <th>Survived</th>\n",
       "      <th>Pclass</th>\n",
       "      <th>Name</th>\n",
       "      <th>Sex</th>\n",
       "      <th>Age</th>\n",
       "      <th>SibSp</th>\n",
       "      <th>Parch</th>\n",
       "      <th>Ticket</th>\n",
       "      <th>Fare</th>\n",
       "      <th>Cabin</th>\n",
       "      <th>Embarked</th>\n",
       "    </tr>\n",
       "  </thead>\n",
       "  <tbody>\n",
       "    <tr>\n",
       "      <th>0</th>\n",
       "      <td>1</td>\n",
       "      <td>0</td>\n",
       "      <td>3</td>\n",
       "      <td>Braund, Mr. Owen Harris</td>\n",
       "      <td>male</td>\n",
       "      <td>22.0</td>\n",
       "      <td>1</td>\n",
       "      <td>0</td>\n",
       "      <td>A/5 21171</td>\n",
       "      <td>7.2500</td>\n",
       "      <td>NaN</td>\n",
       "      <td>S</td>\n",
       "    </tr>\n",
       "    <tr>\n",
       "      <th>1</th>\n",
       "      <td>2</td>\n",
       "      <td>1</td>\n",
       "      <td>1</td>\n",
       "      <td>Cumings, Mrs. John Bradley (Florence Briggs Th...</td>\n",
       "      <td>female</td>\n",
       "      <td>38.0</td>\n",
       "      <td>1</td>\n",
       "      <td>0</td>\n",
       "      <td>PC 17599</td>\n",
       "      <td>71.2833</td>\n",
       "      <td>C85</td>\n",
       "      <td>C</td>\n",
       "    </tr>\n",
       "    <tr>\n",
       "      <th>2</th>\n",
       "      <td>3</td>\n",
       "      <td>1</td>\n",
       "      <td>3</td>\n",
       "      <td>Heikkinen, Miss. Laina</td>\n",
       "      <td>female</td>\n",
       "      <td>26.0</td>\n",
       "      <td>0</td>\n",
       "      <td>0</td>\n",
       "      <td>STON/O2. 3101282</td>\n",
       "      <td>7.9250</td>\n",
       "      <td>NaN</td>\n",
       "      <td>S</td>\n",
       "    </tr>\n",
       "    <tr>\n",
       "      <th>3</th>\n",
       "      <td>4</td>\n",
       "      <td>1</td>\n",
       "      <td>1</td>\n",
       "      <td>Futrelle, Mrs. Jacques Heath (Lily May Peel)</td>\n",
       "      <td>female</td>\n",
       "      <td>35.0</td>\n",
       "      <td>1</td>\n",
       "      <td>0</td>\n",
       "      <td>113803</td>\n",
       "      <td>53.1000</td>\n",
       "      <td>C123</td>\n",
       "      <td>S</td>\n",
       "    </tr>\n",
       "    <tr>\n",
       "      <th>4</th>\n",
       "      <td>5</td>\n",
       "      <td>0</td>\n",
       "      <td>3</td>\n",
       "      <td>Allen, Mr. William Henry</td>\n",
       "      <td>male</td>\n",
       "      <td>35.0</td>\n",
       "      <td>0</td>\n",
       "      <td>0</td>\n",
       "      <td>373450</td>\n",
       "      <td>8.0500</td>\n",
       "      <td>NaN</td>\n",
       "      <td>S</td>\n",
       "    </tr>\n",
       "  </tbody>\n",
       "</table>\n",
       "</div>"
      ],
      "text/plain": [
       "   PassengerId  Survived  Pclass  \\\n",
       "0            1         0       3   \n",
       "1            2         1       1   \n",
       "2            3         1       3   \n",
       "3            4         1       1   \n",
       "4            5         0       3   \n",
       "\n",
       "                                                Name     Sex   Age  SibSp  \\\n",
       "0                            Braund, Mr. Owen Harris    male  22.0      1   \n",
       "1  Cumings, Mrs. John Bradley (Florence Briggs Th...  female  38.0      1   \n",
       "2                             Heikkinen, Miss. Laina  female  26.0      0   \n",
       "3       Futrelle, Mrs. Jacques Heath (Lily May Peel)  female  35.0      1   \n",
       "4                           Allen, Mr. William Henry    male  35.0      0   \n",
       "\n",
       "   Parch            Ticket     Fare Cabin Embarked  \n",
       "0      0         A/5 21171   7.2500   NaN        S  \n",
       "1      0          PC 17599  71.2833   C85        C  \n",
       "2      0  STON/O2. 3101282   7.9250   NaN        S  \n",
       "3      0            113803  53.1000  C123        S  \n",
       "4      0            373450   8.0500   NaN        S  "
      ]
     },
     "execution_count": 2,
     "metadata": {},
     "output_type": "execute_result"
    }
   ],
   "source": [
    "# get titanic & test csv files as a DataFrame\n",
    "titanic_df = pd.read_csv(\"../input/train.csv\", dtype={\"Age\": np.float64}, )\n",
    "test_df    = pd.read_csv(\"../input/test.csv\", dtype={\"Age\": np.float64}, )\n",
    "\n",
    "# preview the data\n",
    "titanic_df.head()"
   ]
  },
  {
   "cell_type": "code",
   "execution_count": 3,
   "metadata": {
    "collapsed": false
   },
   "outputs": [
    {
     "name": "stdout",
     "output_type": "stream",
     "text": [
      "<class 'pandas.core.frame.DataFrame'>\n",
      "RangeIndex: 891 entries, 0 to 890\n",
      "Data columns (total 12 columns):\n",
      "PassengerId    891 non-null int64\n",
      "Survived       891 non-null int64\n",
      "Pclass         891 non-null int64\n",
      "Name           891 non-null object\n",
      "Sex            891 non-null object\n",
      "Age            714 non-null float64\n",
      "SibSp          891 non-null int64\n",
      "Parch          891 non-null int64\n",
      "Ticket         891 non-null object\n",
      "Fare           891 non-null float64\n",
      "Cabin          204 non-null object\n",
      "Embarked       889 non-null object\n",
      "dtypes: float64(2), int64(5), object(5)\n",
      "memory usage: 83.6+ KB\n",
      "----------------------------\n",
      "<class 'pandas.core.frame.DataFrame'>\n",
      "RangeIndex: 418 entries, 0 to 417\n",
      "Data columns (total 11 columns):\n",
      "PassengerId    418 non-null int64\n",
      "Pclass         418 non-null int64\n",
      "Name           418 non-null object\n",
      "Sex            418 non-null object\n",
      "Age            332 non-null float64\n",
      "SibSp          418 non-null int64\n",
      "Parch          418 non-null int64\n",
      "Ticket         418 non-null object\n",
      "Fare           417 non-null float64\n",
      "Cabin          91 non-null object\n",
      "Embarked       418 non-null object\n",
      "dtypes: float64(2), int64(4), object(5)\n",
      "memory usage: 36.0+ KB\n"
     ]
    }
   ],
   "source": [
    "titanic_df.info()\n",
    "print(\"----------------------------\")\n",
    "test_df.info()"
   ]
  },
  {
   "cell_type": "code",
   "execution_count": 4,
   "metadata": {
    "collapsed": false
   },
   "outputs": [
    {
     "name": "stdout",
     "output_type": "stream",
     "text": [
      "Number of Mr.: 520 \n",
      "Number of Mrs.: 126 \n",
      "Number of Miss: 187 \n",
      "Number of Dr.: 7 \n",
      "Number of Master: 40 \n",
      "Number of Reverends: 6 \n",
      "Number of Military Officers: 5 \n",
      "Total number of people: 891 \n",
      "Number of Mr.: 240 \n",
      "Number of Mrs.: 72 \n",
      "Number of Miss: 80 \n",
      "Number of Dr.: 1 \n",
      "Number of Master: 21 \n",
      "Number of Reverends: 2 \n",
      "Number of Military Officers: 2 \n",
      "Total number of people: 418 \n"
     ]
    }
   ],
   "source": [
    "import re\n",
    "\n",
    "def create_title_classes(df):\n",
    "    df['Mil'] = np.where((df['Name'].str.contains('Capt') | df['Name'].str.contains('Major\\.') | df['Name'].str.contains('Col\\.') | df['Name'].str.contains('Brig\\.') | df['Name'].str.contains('Gen\\.')), 1, 0)\n",
    "    df['Rev'] = np.where(df['Name'].str.contains('Rev'), 1, 0)\n",
    "    df['Dr'] = np.where(df['Name'].str.contains('Dr\\.'), 1, 0) \n",
    "    df['Master'] = np.where(df['Name'].str.contains('Master'), 1, 0) \n",
    "    df['Mrs'] = np.where(df['Name'].str.contains('Mrs\\.') | df['Name'].str.contains('Mme\\.'), 1, 0) \n",
    "    df['Mr'] = np.where(df['Name'].str.contains('Mr\\.') | ((df['Sex'] == 'male') & (df['Dr'] == 0) & (df['Mil'] == 0) & (df['Rev'] == 0) & (df['Master'] == 0)),1,0)\n",
    "    df['Miss'] = np.where(df['Name'].str.contains('Miss') | ((df['Sex'] == 'female') & (df['Dr'] == 0) & (df['Mrs'] == 0)), 1, 0) \n",
    "\n",
    "    print \"Number of Mr.: %d \" % len(df[df['Mr'] == 1])\n",
    "    print \"Number of Mrs.: %d \" % len(df[df['Mrs'] == 1])\n",
    "    print \"Number of Miss: %d \" % len(df[df['Miss'] == 1])\n",
    "    print \"Number of Dr.: %d \" % len(df[df['Dr'] == 1])\n",
    "    print \"Number of Master: %d \" % len(df[df['Master'] == 1])\n",
    "    print \"Number of Reverends: %d \" % len(df[df['Rev'] == 1])\n",
    "    print \"Number of Military Officers: %d \" % len(df[df['Mil'] == 1])\n",
    "    print \"Total number of people: %d \" % len(df)\n",
    "\n",
    "    \n",
    "create_title_classes(titanic_df)\n",
    "create_title_classes(test_df)"
   ]
  },
  {
   "cell_type": "code",
   "execution_count": 5,
   "metadata": {
    "collapsed": false
   },
   "outputs": [],
   "source": [
    "# drop unnecessary columns, these columns won't be useful in analysis and prediction\n",
    "titanic_df = titanic_df.drop(['PassengerId','Name','Ticket'], axis=1)\n",
    "test_df    = test_df.drop(['Name','Ticket'], axis=1)"
   ]
  },
  {
   "cell_type": "code",
   "execution_count": 6,
   "metadata": {
    "collapsed": false
   },
   "outputs": [
    {
     "data": {
      "text/html": [
       "<div>\n",
       "<table border=\"1\" class=\"dataframe\">\n",
       "  <thead>\n",
       "    <tr style=\"text-align: right;\">\n",
       "      <th></th>\n",
       "      <th>Survived</th>\n",
       "      <th>Pclass</th>\n",
       "      <th>Sex</th>\n",
       "      <th>Age</th>\n",
       "      <th>SibSp</th>\n",
       "      <th>Parch</th>\n",
       "      <th>Fare</th>\n",
       "      <th>Cabin</th>\n",
       "      <th>Mil</th>\n",
       "      <th>Rev</th>\n",
       "      <th>Dr</th>\n",
       "      <th>Master</th>\n",
       "      <th>Mrs</th>\n",
       "      <th>Mr</th>\n",
       "      <th>Miss</th>\n",
       "      <th>C</th>\n",
       "      <th>Q</th>\n",
       "    </tr>\n",
       "  </thead>\n",
       "  <tbody>\n",
       "    <tr>\n",
       "      <th>0</th>\n",
       "      <td>0</td>\n",
       "      <td>3</td>\n",
       "      <td>male</td>\n",
       "      <td>22.0</td>\n",
       "      <td>1</td>\n",
       "      <td>0</td>\n",
       "      <td>7.2500</td>\n",
       "      <td>NaN</td>\n",
       "      <td>0</td>\n",
       "      <td>0</td>\n",
       "      <td>0</td>\n",
       "      <td>0</td>\n",
       "      <td>0</td>\n",
       "      <td>1</td>\n",
       "      <td>0</td>\n",
       "      <td>0.0</td>\n",
       "      <td>0.0</td>\n",
       "    </tr>\n",
       "    <tr>\n",
       "      <th>1</th>\n",
       "      <td>1</td>\n",
       "      <td>1</td>\n",
       "      <td>female</td>\n",
       "      <td>38.0</td>\n",
       "      <td>1</td>\n",
       "      <td>0</td>\n",
       "      <td>71.2833</td>\n",
       "      <td>C85</td>\n",
       "      <td>0</td>\n",
       "      <td>0</td>\n",
       "      <td>0</td>\n",
       "      <td>0</td>\n",
       "      <td>1</td>\n",
       "      <td>0</td>\n",
       "      <td>0</td>\n",
       "      <td>1.0</td>\n",
       "      <td>0.0</td>\n",
       "    </tr>\n",
       "    <tr>\n",
       "      <th>2</th>\n",
       "      <td>1</td>\n",
       "      <td>3</td>\n",
       "      <td>female</td>\n",
       "      <td>26.0</td>\n",
       "      <td>0</td>\n",
       "      <td>0</td>\n",
       "      <td>7.9250</td>\n",
       "      <td>NaN</td>\n",
       "      <td>0</td>\n",
       "      <td>0</td>\n",
       "      <td>0</td>\n",
       "      <td>0</td>\n",
       "      <td>0</td>\n",
       "      <td>0</td>\n",
       "      <td>1</td>\n",
       "      <td>0.0</td>\n",
       "      <td>0.0</td>\n",
       "    </tr>\n",
       "    <tr>\n",
       "      <th>3</th>\n",
       "      <td>1</td>\n",
       "      <td>1</td>\n",
       "      <td>female</td>\n",
       "      <td>35.0</td>\n",
       "      <td>1</td>\n",
       "      <td>0</td>\n",
       "      <td>53.1000</td>\n",
       "      <td>C123</td>\n",
       "      <td>0</td>\n",
       "      <td>0</td>\n",
       "      <td>0</td>\n",
       "      <td>0</td>\n",
       "      <td>1</td>\n",
       "      <td>0</td>\n",
       "      <td>0</td>\n",
       "      <td>0.0</td>\n",
       "      <td>0.0</td>\n",
       "    </tr>\n",
       "    <tr>\n",
       "      <th>4</th>\n",
       "      <td>0</td>\n",
       "      <td>3</td>\n",
       "      <td>male</td>\n",
       "      <td>35.0</td>\n",
       "      <td>0</td>\n",
       "      <td>0</td>\n",
       "      <td>8.0500</td>\n",
       "      <td>NaN</td>\n",
       "      <td>0</td>\n",
       "      <td>0</td>\n",
       "      <td>0</td>\n",
       "      <td>0</td>\n",
       "      <td>0</td>\n",
       "      <td>1</td>\n",
       "      <td>0</td>\n",
       "      <td>0.0</td>\n",
       "      <td>0.0</td>\n",
       "    </tr>\n",
       "  </tbody>\n",
       "</table>\n",
       "</div>"
      ],
      "text/plain": [
       "   Survived  Pclass     Sex   Age  SibSp  Parch     Fare Cabin  Mil  Rev  Dr  \\\n",
       "0         0       3    male  22.0      1      0   7.2500   NaN    0    0   0   \n",
       "1         1       1  female  38.0      1      0  71.2833   C85    0    0   0   \n",
       "2         1       3  female  26.0      0      0   7.9250   NaN    0    0   0   \n",
       "3         1       1  female  35.0      1      0  53.1000  C123    0    0   0   \n",
       "4         0       3    male  35.0      0      0   8.0500   NaN    0    0   0   \n",
       "\n",
       "   Master  Mrs  Mr  Miss    C    Q  \n",
       "0       0    0   1     0  0.0  0.0  \n",
       "1       0    1   0     0  1.0  0.0  \n",
       "2       0    0   0     1  0.0  0.0  \n",
       "3       0    1   0     0  0.0  0.0  \n",
       "4       0    0   1     0  0.0  0.0  "
      ]
     },
     "execution_count": 6,
     "metadata": {},
     "output_type": "execute_result"
    },
    {
     "data": {
      "image/png": "[encoded data removed]",
      "text/plain": [
       "<matplotlib.figure.Figure at 0x7f750e095710>"
      ]
     },
     "metadata": {},
     "output_type": "display_data"
    },
    {
     "data": {
      "image/png": "[encoded data removed]",
      "text/plain": [
       "<matplotlib.figure.Figure at 0x7f754510f9d0>"
      ]
     },
     "metadata": {},
     "output_type": "display_data"
    }
   ],
   "source": [
    "# Embarked\n",
    "\n",
    "# only in titanic_df, fill the two missing values with the most occurred value, which is \"S\".\n",
    "titanic_df[\"Embarked\"] = titanic_df[\"Embarked\"].fillna(\"S\")\n",
    "\n",
    "# plot\n",
    "sns.factorplot('Embarked','Survived', data=titanic_df,size=4,aspect=3)\n",
    "\n",
    "fig, (axis1,axis2,axis3) = plt.subplots(1,3,figsize=(15,5))\n",
    "\n",
    "# sns.factorplot('Embarked',data=titanic_df,kind='count',order=['S','C','Q'],ax=axis1)\n",
    "# sns.factorplot('Survived',hue=\"Embarked\",data=titanic_df,kind='count',order=[1,0],ax=axis2)\n",
    "sns.countplot(x='Embarked', data=titanic_df, ax=axis1)\n",
    "sns.countplot(x='Survived', hue=\"Embarked\", data=titanic_df, order=[1,0], ax=axis2)\n",
    "\n",
    "# group by embarked, and get the mean for survived passengers for each value in Embarked\n",
    "embark_perc = titanic_df[[\"Embarked\", \"Survived\"]].groupby(['Embarked'],as_index=False).mean()\n",
    "sns.barplot(x='Embarked', y='Survived', data=embark_perc,order=['S','C','Q'],ax=axis3)\n",
    "\n",
    "# Either to consider Embarked column in predictions,\n",
    "# and remove \"S\" dummy variable, \n",
    "# and leave \"C\" & \"Q\", since they seem to have a good rate for Survival.\n",
    "\n",
    "# OR, don't create dummy variables for Embarked column, just drop it, \n",
    "# because logically, Embarked doesn't seem to be useful in prediction.\n",
    "\n",
    "embark_dummies_titanic  = pd.get_dummies(titanic_df['Embarked'])\n",
    "embark_dummies_titanic.drop(['S'], axis=1, inplace=True)\n",
    "\n",
    "embark_dummies_test  = pd.get_dummies(test_df['Embarked'])\n",
    "embark_dummies_test.drop(['S'], axis=1, inplace=True)\n",
    "\n",
    "titanic_df = titanic_df.join(embark_dummies_titanic)\n",
    "test_df    = test_df.join(embark_dummies_test)\n",
    "\n",
    "titanic_df.drop(['Embarked'], axis=1,inplace=True)\n",
    "test_df.drop(['Embarked'], axis=1,inplace=True)\n",
    "\n",
    "titanic_df.head()"
   ]
  },
  {
   "cell_type": "code",
   "execution_count": 7,
   "metadata": {
    "collapsed": false
   },
   "outputs": [
    {
     "data": {
      "text/plain": [
       "<matplotlib.axes._subplots.AxesSubplot at 0x7f7509e25790>"
      ]
     },
     "execution_count": 7,
     "metadata": {},
     "output_type": "execute_result"
    },
    {
     "data": {
      "image/png": "[encoded data removed]",
      "text/plain": [
       "<matplotlib.figure.Figure at 0x7f750ddd9b90>"
      ]
     },
     "metadata": {},
     "output_type": "display_data"
    },
    {
     "data": {
      "image/png": "[encoded data removed]",
      "text/plain": [
       "<matplotlib.figure.Figure at 0x7f750ddd9bd0>"
      ]
     },
     "metadata": {},
     "output_type": "display_data"
    }
   ],
   "source": [
    "# Fare\n",
    "\n",
    "# only for test_df, since there is a missing \"Fare\" values\n",
    "test_df[\"Fare\"].fillna(test_df[\"Fare\"].median(), inplace=True)\n",
    "\n",
    "# convert from float to int\n",
    "titanic_df['Fare'] = titanic_df['Fare'].astype(int)\n",
    "test_df['Fare']    = test_df['Fare'].astype(int)\n",
    "\n",
    "# get fare for survived & didn't survive passengers \n",
    "fare_not_survived = titanic_df[\"Fare\"][titanic_df[\"Survived\"] == 0]\n",
    "fare_survived     = titanic_df[\"Fare\"][titanic_df[\"Survived\"] == 1]\n",
    "\n",
    "# get average and std for fare of survived/not survived passengers\n",
    "avgerage_fare = DataFrame([fare_not_survived.mean(), fare_survived.mean()])\n",
    "std_fare      = DataFrame([fare_not_survived.std(), fare_survived.std()])\n",
    "\n",
    "# plot\n",
    "titanic_df['Fare'].plot(kind='hist', figsize=(15,3),bins=100, xlim=(0,50))\n",
    "\n",
    "avgerage_fare.index.names = std_fare.index.names = [\"Survived\"]\n",
    "avgerage_fare.plot(yerr=std_fare,kind='bar',legend=False)"
   ]
  },
  {
   "cell_type": "code",
   "execution_count": 8,
   "metadata": {
    "collapsed": false
   },
   "outputs": [
    {
     "data": {
      "text/plain": [
       "<matplotlib.axes._subplots.AxesSubplot at 0x7f7509c39f50>"
      ]
     },
     "execution_count": 8,
     "metadata": {},
     "output_type": "execute_result"
    },
    {
     "data": {
      "image/png": "[encoded data removed]",
      "text/plain": [
       "<matplotlib.figure.Figure at 0x7f7509cc1350>"
      ]
     },
     "metadata": {},
     "output_type": "display_data"
    }
   ],
   "source": [
    "# Age \n",
    "\n",
    "fig, (axis1,axis2) = plt.subplots(1,2,figsize=(15,4))\n",
    "axis1.set_title('Original Age values - Titanic')\n",
    "axis2.set_title('New Age values - Titanic')\n",
    "\n",
    "# axis3.set_title('Original Age values - Test')\n",
    "# axis4.set_title('New Age values - Test')\n",
    "\n",
    "titanic_df['Age'].dropna().astype(int).hist(bins=70, ax=axis1)\n",
    "\n",
    "median_age_mr = pd.concat([titanic_df[titanic_df['Mr']==1],test_df[test_df['Mr']==1]])['Age'].median()\n",
    "titanic_df.loc[(titanic_df['Mr']==1) & (np.isnan(titanic_df[\"Age\"])),\"Age\"] = median_age_mr\n",
    "test_df.loc[(test_df['Mr']==1) & (np.isnan(test_df[\"Age\"])),\"Age\"] = median_age_mr\n",
    "\n",
    "median_age_miss = pd.concat([titanic_df[titanic_df['Miss']==1],test_df[test_df['Miss']==1]])['Age'].median()\n",
    "titanic_df.loc[(titanic_df['Miss']==1) & (np.isnan(titanic_df[\"Age\"])),\"Age\"] = median_age_miss\n",
    "test_df.loc[(test_df['Miss']==1) & (np.isnan(test_df[\"Age\"])),\"Age\"] = median_age_miss\n",
    "\n",
    "median_age_mrs = pd.concat([titanic_df[titanic_df['Mrs']==1],test_df[test_df['Mrs']==1]])['Age'].median()\n",
    "titanic_df.loc[(titanic_df['Mrs']==1) & (np.isnan(titanic_df[\"Age\"])),\"Age\"] = median_age_mrs\n",
    "test_df.loc[(test_df['Mrs']==1) & (np.isnan(test_df[\"Age\"])),\"Age\"] = median_age_mrs\n",
    "\n",
    "median_age_rev = pd.concat([titanic_df[titanic_df['Rev']==1],test_df[test_df['Rev']==1]])['Age'].median()\n",
    "titanic_df.loc[(titanic_df['Rev']==1) & np.isnan(titanic_df[\"Age\"]),\"Age\"] = median_age_rev\n",
    "test_df.loc[(test_df['Rev']==1) & (np.isnan(test_df[\"Age\"])),\"Age\"] = median_age_rev\n",
    "\n",
    "median_age_dr = pd.concat([titanic_df[titanic_df['Dr']==1],test_df[test_df['Dr']==1]])['Age'].median()\n",
    "titanic_df.loc[(titanic_df['Dr']==1) & (np.isnan(titanic_df[\"Age\"])),\"Age\"] = median_age_dr\n",
    "test_df.loc[(test_df['Dr']==1) & (np.isnan(test_df[\"Age\"])),\"Age\"] = median_age_dr\n",
    "\n",
    "median_age_mil = pd.concat([titanic_df[titanic_df['Mil']==1],test_df[test_df['Mil']==1]])['Age'].median()\n",
    "titanic_df.loc[(titanic_df['Mil']==1) & (np.isnan(titanic_df[\"Age\"])),\"Age\"] = median_age_mil\n",
    "test_df.loc[(test_df['Mil']==1) & (np.isnan(test_df[\"Age\"])),\"Age\"] = median_age_mil\n",
    "\n",
    "median_age_master = pd.concat([titanic_df[titanic_df['Master']==1],test_df[test_df['Master']==1]])['Age'].median()\n",
    "titanic_df.loc[(titanic_df['Master']==1) & (np.isnan(titanic_df[\"Age\"])),\"Age\"] = median_age_master\n",
    "test_df.loc[(test_df['Master']==1) & (np.isnan(test_df[\"Age\"])),\"Age\"] = median_age_master\n",
    "\n",
    "# convert from float to int\n",
    "#print titanic_df['Age']\n",
    "titanic_df['Age'] = titanic_df['Age'].astype(int)\n",
    "test_df['Age']    = test_df['Age'].astype(int)\n",
    "        \n",
    "# plot new Age Values\n",
    "titanic_df['Age'].hist(bins=70, ax=axis2)\n",
    "# test_df['Age'].hist(bins=70, ax=axis4)"
   ]
  },
  {
   "cell_type": "code",
   "execution_count": 9,
   "metadata": {
    "collapsed": false
   },
   "outputs": [
    {
     "data": {
      "text/plain": [
       "<matplotlib.axes._subplots.AxesSubplot at 0x7f7509e917d0>"
      ]
     },
     "execution_count": 9,
     "metadata": {},
     "output_type": "execute_result"
    },
    {
     "data": {
      "image/png": "[encoded data removed]",
      "text/plain": [
       "<matplotlib.figure.Figure at 0x7f7509dd0a90>"
      ]
     },
     "metadata": {},
     "output_type": "display_data"
    },
    {
     "data": {
      "image/png": "[encoded data removed]",
      "text/plain": [
       "<matplotlib.figure.Figure at 0x7f7509f48c50>"
      ]
     },
     "metadata": {},
     "output_type": "display_data"
    }
   ],
   "source": [
    "# .... continue with plot Age column\n",
    "\n",
    "# peaks for survived/not survived passengers by their age\n",
    "facet = sns.FacetGrid(titanic_df, hue=\"Survived\",aspect=4)\n",
    "facet.map(sns.kdeplot,'Age',shade= True)\n",
    "facet.set(xlim=(0, titanic_df['Age'].max()))\n",
    "facet.add_legend()\n",
    "\n",
    "# average survived passengers by age\n",
    "fig, axis1 = plt.subplots(1,1,figsize=(18,4))\n",
    "average_age = titanic_df[[\"Age\", \"Survived\"]].groupby(['Age'],as_index=False).mean()\n",
    "sns.barplot(x='Age', y='Survived', data=average_age)"
   ]
  },
  {
   "cell_type": "code",
   "execution_count": 10,
   "metadata": {
    "collapsed": false
   },
   "outputs": [],
   "source": [
    "#def extract_cabin_features(df):\n",
    "#    df['Cabin'].fillna('cabZ', inplace=True)\n",
    "#    df.loc[df['Cabin'].str.contains('A'),'Cabin'] = 'cabA'\n",
    "#    df.loc[df['Cabin'].str.contains('B'),'Cabin'] = 'cabB'\n",
    "#    df.loc[df['Cabin'].str.contains('C'),'Cabin'] = 'cabC'\n",
    "#    df.loc[df['Cabin'].str.contains('D'),'Cabin'] = 'cabD'\n",
    "#    df.loc[df['Cabin'].str.contains('E'),'Cabin'] = 'cabE'\n",
    "#    df.loc[df['Cabin'].str.contains('G'),'Cabin'] = 'cabG'\n",
    "#    df.loc[df['Cabin'].str.contains('F'),'Cabin'] = 'cabF'\n",
    "#    df.loc[df['Cabin'].str.contains('T'),'Cabin'] = 'cabZ'\n",
    "    \n",
    "#    cabin_dummies = pd.get_dummies(df['Cabin'])\n",
    "#    cabin_dummies.drop(['cabZ'], axis=1, inplace=True)\n",
    "#    df = df.join(cabin_dummies)\n",
    "#    df.drop(['Cabin'], axis=1, inplace=True)\n",
    "#    \n",
    "#    return df\n",
    "\n",
    "#titanic_df = extract_cabin_features(titanic_df)\n",
    "#test_df = extract_cabin_features(test_df)\n",
    "\n",
    "#print titanic_df.head()\n",
    "#print test_df.head()\n",
    "\n",
    "titanic_df.drop(\"Cabin\",axis=1,inplace=True)\n",
    "test_df.drop(\"Cabin\",axis=1,inplace=True)\n",
    "\n",
    "#titanic_df.drop(\"Sex\",axis=1,inplace=True)\n",
    "#test_df.drop(\"Sex\",axis=1,inplace=True)\n",
    "\n",
    "# Dropping Sex as well as this is entirely accounted for in various titles\n",
    "gender_dummies_titanic  = pd.get_dummies(titanic_df['Sex'])\n",
    "gender_dummies_titanic.drop(['male'], axis=1, inplace=True)\n",
    "\n",
    "gender_dummies_test  = pd.get_dummies(test_df['Sex'])\n",
    "gender_dummies_test.drop(['male'], axis=1, inplace=True)\n",
    "\n",
    "titanic_df = titanic_df.join(gender_dummies_titanic)\n",
    "test_df    = test_df.join(gender_dummies_test)\n",
    "\n",
    "titanic_df.drop(['Sex'], axis=1,inplace=True)\n",
    "test_df.drop(['Sex'], axis=1,inplace=True)"
   ]
  },
  {
   "cell_type": "code",
   "execution_count": 11,
   "metadata": {
    "collapsed": false
   },
   "outputs": [
    {
     "data": {
      "text/plain": [
       "[<matplotlib.text.Text at 0x7f7509854390>,\n",
       " <matplotlib.text.Text at 0x7f75098848d0>]"
      ]
     },
     "execution_count": 11,
     "metadata": {},
     "output_type": "execute_result"
    },
    {
     "data": {
      "image/png": "[encoded data removed]",
      "text/plain": [
       "<matplotlib.figure.Figure at 0x7f7509ef13d0>"
      ]
     },
     "metadata": {},
     "output_type": "display_data"
    },
    {
     "data": {
      "image/png": "[encoded data removed]",
      "text/plain": [
       "<matplotlib.figure.Figure at 0x7f75097d6150>"
      ]
     },
     "metadata": {},
     "output_type": "display_data"
    }
   ],
   "source": [
    "# Family\n",
    "\n",
    "# Instead of having two columns Parch & SibSp, \n",
    "# we can have only one column represent if the passenger had any family member aboard or not,\n",
    "# Meaning, if having any family member(whether parent, brother, ...etc) will increase chances of Survival or not.\n",
    "#titanic_df['Family'] =  titanic_df[\"Parch\"] + titanic_df[\"SibSp\"]\n",
    "#titanic_df['Family'].loc[titanic_df['Family'] > 0] = 1\n",
    "#titanic_df['Family'].loc[titanic_df['Family'] == 0] = 0\n",
    "\n",
    "#test_df['Family'] =  test_df[\"Parch\"] + test_df[\"SibSp\"]\n",
    "#test_df['Family'].loc[test_df['Family'] > 0] = 1\n",
    "#test_df['Family'].loc[test_df['Family'] == 0] = 0\n",
    "\n",
    "# drop Parch & SibSp\n",
    "#titanic_df = titanic_df.drop(['SibSp','Parch'], axis=1)\n",
    "#test_df    = test_df.drop(['SibSp','Parch'], axis=1)\n",
    "\n",
    "# plot\n",
    "fig, (axis1,axis2) = plt.subplots(1,2,sharex=True,figsize=(10,5))\n",
    "\n",
    "# sns.factorplot('Family',data=titanic_df,kind='count',ax=axis1)\n",
    "sns.countplot(x='Parch', data=titanic_df, order=[1,0], ax=axis1)\n",
    "\n",
    "# average of survived for those who had/didn't have any family member\n",
    "parch_perc = titanic_df[[\"Parch\", \"Survived\"]].groupby(['Parch'],as_index=False).mean()\n",
    "sns.barplot(x='Parch', y='Survived', data=parch_perc, order=[1,0], ax=axis2)\n",
    "\n",
    "axis1.set_xticklabels([\"With Parents or Children\",\"Alone\"], rotation=0)\n",
    "\n",
    "fig2, (axis1,axis2) = plt.subplots(1,2,sharex=True,figsize=(10,5))\n",
    "\n",
    "# sns.factorplot('Family',data=titanic_df,kind='count',ax=axis1)\n",
    "sns.countplot(x='SibSp', data=titanic_df, order=[1,0], ax=axis1)\n",
    "\n",
    "# average of survived for those who had/didn't have any family member\n",
    "sibsp_perc = titanic_df[[\"SibSp\", \"Survived\"]].groupby(['SibSp'],as_index=False).mean()\n",
    "sns.barplot(x='SibSp', y='Survived', data=sibsp_perc, order=[1,0], ax=axis2)\n",
    "\n",
    "axis1.set_xticklabels([\"With Sibling or Spouse\",\"Alone\"], rotation=0)"
   ]
  },
  {
   "cell_type": "code",
   "execution_count": 12,
   "metadata": {
    "collapsed": false
   },
   "outputs": [
    {
     "data": {
      "image/png": "[encoded data removed]",
      "text/plain": [
       "<matplotlib.figure.Figure at 0x7f75097df750>"
      ]
     },
     "metadata": {},
     "output_type": "display_data"
    }
   ],
   "source": [
    "# Pclass\n",
    "\n",
    "# sns.factorplot('Pclass',data=titanic_df,kind='count',order=[1,2,3])\n",
    "sns.factorplot('Pclass','Survived',order=[1,2,3], data=titanic_df,size=5)\n",
    "\n",
    "# create dummy variables for Pclass column, & drop 3rd class as it has the lowest average of survived passengers\n",
    "pclass_dummies_titanic  = pd.get_dummies(titanic_df['Pclass'])\n",
    "pclass_dummies_titanic.columns = ['Class_1','Class_2','Class_3']\n",
    "pclass_dummies_titanic.drop(['Class_3'], axis=1, inplace=True)\n",
    "\n",
    "pclass_dummies_test  = pd.get_dummies(test_df['Pclass'])\n",
    "pclass_dummies_test.columns = ['Class_1','Class_2','Class_3']\n",
    "pclass_dummies_test.drop(['Class_3'], axis=1, inplace=True)\n",
    "\n",
    "titanic_df.drop(['Pclass'],axis=1,inplace=True)\n",
    "test_df.drop(['Pclass'],axis=1,inplace=True)\n",
    "\n",
    "titanic_df = titanic_df.join(pclass_dummies_titanic)\n",
    "test_df    = test_df.join(pclass_dummies_test)"
   ]
  },
  {
   "cell_type": "code",
   "execution_count": 13,
   "metadata": {
    "collapsed": true
   },
   "outputs": [],
   "source": [
    "# define training and testing sets\n",
    "\n",
    "X_train = titanic_df.drop(\"Survived\",axis=1)\n",
    "Y_train = titanic_df[\"Survived\"]\n",
    "X_test  = test_df.drop(\"PassengerId\",axis=1).copy()"
   ]
  },
  {
   "cell_type": "code",
   "execution_count": 14,
   "metadata": {
    "collapsed": false
   },
   "outputs": [
    {
     "name": "stdout",
     "output_type": "stream",
     "text": [
      "Fitting 40 folds for each of 2 candidates, totalling 80 fits\n",
      "[CV] min_samples_split=14, n_estimators=50, criterion=gini, max_depth=6 \n",
      "[CV]  min_samples_split=14, n_estimators=50, criterion=gini, max_depth=6, score=0.869565 -   0.4s\n",
      "[CV] min_samples_split=14, n_estimators=50, criterion=gini, max_depth=6 \n",
      "[CV]  min_samples_split=14, n_estimators=50, criterion=gini, max_depth=6, score=0.652174 -   0.4s\n",
      "[CV] min_samples_split=14, n_estimators=50, criterion=gini, max_depth=6 \n",
      "[CV]  min_samples_split=14, n_estimators=50, criterion=gini, max_depth=6, score=0.956522 -   0.4s\n",
      "[CV] min_samples_split=14, n_estimators=50, criterion=gini, max_depth=6 \n",
      "[CV]  min_samples_split=14, n_estimators=50, criterion=gini, max_depth=6, score=0.869565 -   0.4s"
     ]
    },
    {
     "name": "stderr",
     "output_type": "stream",
     "text": [
      "[Parallel(n_jobs=1)]: Done   1 tasks       | elapsed:    0.4s\n",
      "[Parallel(n_jobs=1)]: Done   4 tasks       | elapsed:    1.7s\n"
     ]
    },
    {
     "name": "stdout",
     "output_type": "stream",
     "text": [
      "\n",
      "[CV] min_samples_split=14, n_estimators=50, criterion=gini, max_depth=6 \n",
      "[CV]  min_samples_split=14, n_estimators=50, criterion=gini, max_depth=6, score=0.739130 -   0.4s\n",
      "[CV] min_samples_split=14, n_estimators=50, criterion=gini, max_depth=6 \n",
      "[CV]  min_samples_split=14, n_estimators=50, criterion=gini, max_depth=6, score=0.869565 -   0.4s\n",
      "[CV] min_samples_split=14, n_estimators=50, criterion=gini, max_depth=6 \n",
      "[CV]  min_samples_split=14, n_estimators=50, criterion=gini, max_depth=6, score=0.869565 -   0.4s\n",
      "[CV] min_samples_split=14, n_estimators=50, criterion=gini, max_depth=6 \n",
      "[CV]  min_samples_split=14, n_estimators=50, criterion=gini, max_depth=6, score=0.913043 -   0.4s\n",
      "[CV] min_samples_split=14, n_estimators=50, criterion=gini, max_depth=6 \n",
      "[CV]  min_samples_split=14, n_estimators=50, criterion=gini, max_depth=6, score=0.782609 -   0.4s\n",
      "[CV] min_samples_split=14, n_estimators=50, criterion=gini, max_depth=6 \n",
      "[CV]  min_samples_split=14, n_estimators=50, criterion=gini, max_depth=6, score=0.826087 -   0.4s\n",
      "[CV] min_samples_split=14, n_estimators=50, criterion=gini, max_depth=6 \n",
      "[CV]  min_samples_split=14, n_estimators=50, criterion=gini, max_depth=6, score=0.826087 -   0.4s\n",
      "[CV] min_samples_split=14, n_estimators=50, criterion=gini, max_depth=6 \n",
      "[CV]  min_samples_split=14, n_estimators=50, criterion=gini, max_depth=6, score=0.652174 -   0.4s"
     ]
    },
    {
     "name": "stderr",
     "output_type": "stream",
     "text": [
      "[Parallel(n_jobs=1)]: Done   7 tasks       | elapsed:    3.0s\n",
      "[Parallel(n_jobs=1)]: Done  12 tasks       | elapsed:    5.1s\n"
     ]
    },
    {
     "name": "stdout",
     "output_type": "stream",
     "text": [
      "\n",
      "[CV] min_samples_split=14, n_estimators=50, criterion=gini, max_depth=6 \n",
      "[CV]  min_samples_split=14, n_estimators=50, criterion=gini, max_depth=6, score=0.869565 -   0.4s\n",
      "[CV] min_samples_split=14, n_estimators=50, criterion=gini, max_depth=6 \n",
      "[CV]  min_samples_split=14, n_estimators=50, criterion=gini, max_depth=6, score=0.869565 -   0.4s\n",
      "[CV] min_samples_split=14, n_estimators=50, criterion=gini, max_depth=6 \n",
      "[CV]  min_samples_split=14, n_estimators=50, criterion=gini, max_depth=6, score=0.956522 -   0.4s\n",
      "[CV] min_samples_split=14, n_estimators=50, criterion=gini, max_depth=6 \n",
      "[CV]  min_samples_split=14, n_estimators=50, criterion=gini, max_depth=6, score=0.913043 -   0.4s\n",
      "[CV] min_samples_split=14, n_estimators=50, criterion=gini, max_depth=6 \n",
      "[CV]  min_samples_split=14, n_estimators=50, criterion=gini, max_depth=6, score=0.913043 -   0.4s\n",
      "[CV] min_samples_split=14, n_estimators=50, criterion=gini, max_depth=6 \n",
      "[CV]  min_samples_split=14, n_estimators=50, criterion=gini, max_depth=6, score=0.739130 -   0.4s\n",
      "[CV] min_samples_split=14, n_estimators=50, criterion=gini, max_depth=6 \n",
      "[CV]  min_samples_split=14, n_estimators=50, criterion=gini, max_depth=6, score=0.782609 -   0.4s\n",
      "[CV] min_samples_split=14, n_estimators=50, criterion=gini, max_depth=6 \n",
      "[CV]  min_samples_split=14, n_estimators=50, criterion=gini, max_depth=6, score=0.826087 -   0.4s\n",
      "[CV] min_samples_split=14, n_estimators=50, criterion=gini, max_depth=6 \n",
      "[CV]  min_samples_split=14, n_estimators=50, criterion=gini, max_depth=6, score=0.826087 -   0.4s\n",
      "[CV] min_samples_split=14, n_estimators=50, criterion=gini, max_depth=6 \n",
      "[CV]  min_samples_split=14, n_estimators=50, criterion=gini, max_depth=6, score=0.782609 -   0.4s\n",
      "[CV] min_samples_split=14, n_estimators=50, criterion=gini, max_depth=6 \n",
      "[CV]  min_samples_split=14, n_estimators=50, criterion=gini, max_depth=6, score=0.818182 -   0.4s\n",
      "[CV] min_samples_split=14, n_estimators=50, criterion=gini, max_depth=6 \n",
      "[CV]  min_samples_split=14, n_estimators=50, criterion=gini, max_depth=6, score=0.818182 -   0.4s"
     ]
    },
    {
     "name": "stderr",
     "output_type": "stream",
     "text": [
      "[Parallel(n_jobs=1)]: Done  17 tasks       | elapsed:    7.2s\n",
      "[Parallel(n_jobs=1)]: Done  24 tasks       | elapsed:   10.1s\n"
     ]
    },
    {
     "name": "stdout",
     "output_type": "stream",
     "text": [
      "\n",
      "[CV] min_samples_split=14, n_estimators=50, criterion=gini, max_depth=6 \n",
      "[CV]  min_samples_split=14, n_estimators=50, criterion=gini, max_depth=6, score=0.772727 -   0.4s\n",
      "[CV] min_samples_split=14, n_estimators=50, criterion=gini, max_depth=6 \n",
      "[CV]  min_samples_split=14, n_estimators=50, criterion=gini, max_depth=6, score=0.772727 -   0.4s\n",
      "[CV] min_samples_split=14, n_estimators=50, criterion=gini, max_depth=6 \n",
      "[CV]  min_samples_split=14, n_estimators=50, criterion=gini, max_depth=6, score=0.818182 -   0.4s\n",
      "[CV] min_samples_split=14, n_estimators=50, criterion=gini, max_depth=6 \n",
      "[CV]  min_samples_split=14, n_estimators=50, criterion=gini, max_depth=6, score=0.863636 -   0.4s\n",
      "[CV] min_samples_split=14, n_estimators=50, criterion=gini, max_depth=6 \n",
      "[CV]  min_samples_split=14, n_estimators=50, criterion=gini, max_depth=6, score=0.772727 -   0.4s\n",
      "[CV] min_samples_split=14, n_estimators=50, criterion=gini, max_depth=6 \n",
      "[CV]  min_samples_split=14, n_estimators=50, criterion=gini, max_depth=6, score=0.809524 -   0.4s\n",
      "[CV] min_samples_split=14, n_estimators=50, criterion=gini, max_depth=6 \n",
      "[CV]  min_samples_split=14, n_estimators=50, criterion=gini, max_depth=6, score=0.666667 -   0.4s\n",
      "[CV] min_samples_split=14, n_estimators=50, criterion=gini, max_depth=6 \n",
      "[CV]  min_samples_split=14, n_estimators=50, criterion=gini, max_depth=6, score=0.857143 -   0.4s\n",
      "[CV] min_samples_split=14, n_estimators=50, criterion=gini, max_depth=6 \n",
      "[CV]  min_samples_split=14, n_estimators=50, criterion=gini, max_depth=6, score=0.809524 -   0.4s\n",
      "[CV] min_samples_split=14, n_estimators=50, criterion=gini, max_depth=6 \n",
      "[CV]  min_samples_split=14, n_estimators=50, criterion=gini, max_depth=6, score=0.761905 -   0.4s\n",
      "[CV] min_samples_split=14, n_estimators=50, criterion=gini, max_depth=6 \n",
      "[CV]  min_samples_split=14, n_estimators=50, criterion=gini, max_depth=6, score=0.904762 -   0.4s\n",
      "[CV] min_samples_split=14, n_estimators=50, criterion=gini, max_depth=6 \n",
      "[CV]  min_samples_split=14, n_estimators=50, criterion=gini, max_depth=6, score=0.904762 -   0.4s\n",
      "[CV] min_samples_split=14, n_estimators=50, criterion=gini, max_depth=6 \n",
      "[CV]  min_samples_split=14, n_estimators=50, criterion=gini, max_depth=6, score=0.809524 -   0.4s\n",
      "[CV] min_samples_split=14, n_estimators=50, criterion=gini, max_depth=6 \n",
      "[CV]  min_samples_split=14, n_estimators=50, criterion=gini, max_depth=6, score=0.904762 -   0.4s\n",
      "[CV] min_samples_split=14, n_estimators=50, criterion=gini, max_depth=6 \n",
      "[CV]  min_samples_split=14, n_estimators=50, criterion=gini, max_depth=6, score=0.857143 -   0.4s\n",
      "[CV] min_samples_split=14, n_estimators=50, criterion=gini, max_depth=6 \n",
      "[CV]  min_samples_split=14, n_estimators=50, criterion=gini, max_depth=6, score=0.857143 -   0.4s"
     ]
    },
    {
     "name": "stderr",
     "output_type": "stream",
     "text": [
      "[Parallel(n_jobs=1)]: Done  31 tasks       | elapsed:   13.1s\n",
      "[Parallel(n_jobs=1)]: Done  40 tasks       | elapsed:   16.9s\n"
     ]
    },
    {
     "name": "stdout",
     "output_type": "stream",
     "text": [
      "\n",
      "[CV] min_samples_split=14, n_estimators=50, criterion=entropy, max_depth=6 \n",
      "[CV]  min_samples_split=14, n_estimators=50, criterion=entropy, max_depth=6, score=0.869565 -   0.4s\n",
      "[CV] min_samples_split=14, n_estimators=50, criterion=entropy, max_depth=6 \n",
      "[CV]  min_samples_split=14, n_estimators=50, criterion=entropy, max_depth=6, score=0.652174 -   0.4s\n",
      "[CV] min_samples_split=14, n_estimators=50, criterion=entropy, max_depth=6 \n",
      "[CV]  min_samples_split=14, n_estimators=50, criterion=entropy, max_depth=6, score=0.956522 -   0.4s\n",
      "[CV] min_samples_split=14, n_estimators=50, criterion=entropy, max_depth=6 \n",
      "[CV]  min_samples_split=14, n_estimators=50, criterion=entropy, max_depth=6, score=0.869565 -   0.4s\n",
      "[CV] min_samples_split=14, n_estimators=50, criterion=entropy, max_depth=6 \n",
      "[CV]  min_samples_split=14, n_estimators=50, criterion=entropy, max_depth=6, score=0.782609 -   0.4s\n",
      "[CV] min_samples_split=14, n_estimators=50, criterion=entropy, max_depth=6 \n",
      "[CV]  min_samples_split=14, n_estimators=50, criterion=entropy, max_depth=6, score=0.869565 -   0.4s\n",
      "[CV] min_samples_split=14, n_estimators=50, criterion=entropy, max_depth=6 \n",
      "[CV]  min_samples_split=14, n_estimators=50, criterion=entropy, max_depth=6, score=0.826087 -   0.4s\n",
      "[CV] min_samples_split=14, n_estimators=50, criterion=entropy, max_depth=6 \n",
      "[CV]  min_samples_split=14, n_estimators=50, criterion=entropy, max_depth=6, score=0.913043 -   0.4s\n",
      "[CV] min_samples_split=14, n_estimators=50, criterion=entropy, max_depth=6 \n",
      "[CV]  min_samples_split=14, n_estimators=50, criterion=entropy, max_depth=6, score=0.782609 -   0.4s\n",
      "[CV] min_samples_split=14, n_estimators=50, criterion=entropy, max_depth=6 \n",
      "[CV]  min_samples_split=14, n_estimators=50, criterion=entropy, max_depth=6, score=0.826087 -   0.4s\n",
      "[CV] min_samples_split=14, n_estimators=50, criterion=entropy, max_depth=6 \n",
      "[CV]  min_samples_split=14, n_estimators=50, criterion=entropy, max_depth=6, score=0.826087 -   0.4s\n",
      "[CV] min_samples_split=14, n_estimators=50, criterion=entropy, max_depth=6 \n",
      "[CV]  min_samples_split=14, n_estimators=50, criterion=entropy, max_depth=6, score=0.652174 -   0.4s\n",
      "[CV] min_samples_split=14, n_estimators=50, criterion=entropy, max_depth=6 \n",
      "[CV]  min_samples_split=14, n_estimators=50, criterion=entropy, max_depth=6, score=0.826087 -   0.4s\n",
      "[CV] min_samples_split=14, n_estimators=50, criterion=entropy, max_depth=6 \n",
      "[CV]  min_samples_split=14, n_estimators=50, criterion=entropy, max_depth=6, score=0.869565 -   0.4s\n",
      "[CV] min_samples_split=14, n_estimators=50, criterion=entropy, max_depth=6 \n",
      "[CV]  min_samples_split=14, n_estimators=50, criterion=entropy, max_depth=6, score=0.956522 -   0.4s\n",
      "[CV] min_samples_split=14, n_estimators=50, criterion=entropy, max_depth=6 \n",
      "[CV]  min_samples_split=14, n_estimators=50, criterion=entropy, max_depth=6, score=0.913043 -   0.4s\n",
      "[CV] min_samples_split=14, n_estimators=50, criterion=entropy, max_depth=6 \n",
      "[CV]  min_samples_split=14, n_estimators=50, criterion=entropy, max_depth=6, score=0.913043 -   0.4s\n",
      "[CV] min_samples_split=14, n_estimators=50, criterion=entropy, max_depth=6 \n",
      "[CV]  min_samples_split=14, n_estimators=50, criterion=entropy, max_depth=6, score=0.739130 -   0.4s\n",
      "[CV] min_samples_split=14, n_estimators=50, criterion=entropy, max_depth=6 \n",
      "[CV]  min_samples_split=14, n_estimators=50, criterion=entropy, max_depth=6, score=0.782609 -   0.4s\n",
      "[CV] min_samples_split=14, n_estimators=50, criterion=entropy, max_depth=6 \n",
      "[CV]  min_samples_split=14, n_estimators=50, criterion=entropy, max_depth=6, score=0.826087 -   0.4s"
     ]
    },
    {
     "name": "stderr",
     "output_type": "stream",
     "text": [
      "[Parallel(n_jobs=1)]: Done  49 tasks       | elapsed:   20.7s\n",
      "[Parallel(n_jobs=1)]: Done  60 tasks       | elapsed:   25.3s\n"
     ]
    },
    {
     "name": "stdout",
     "output_type": "stream",
     "text": [
      "\n",
      "[CV] min_samples_split=14, n_estimators=50, criterion=entropy, max_depth=6 \n",
      "[CV]  min_samples_split=14, n_estimators=50, criterion=entropy, max_depth=6, score=0.826087 -   0.4s\n",
      "[CV] min_samples_split=14, n_estimators=50, criterion=entropy, max_depth=6 \n",
      "[CV]  min_samples_split=14, n_estimators=50, criterion=entropy, max_depth=6, score=0.782609 -   0.4s\n",
      "[CV] min_samples_split=14, n_estimators=50, criterion=entropy, max_depth=6 \n",
      "[CV]  min_samples_split=14, n_estimators=50, criterion=entropy, max_depth=6, score=0.818182 -   0.4s\n",
      "[CV] min_samples_split=14, n_estimators=50, criterion=entropy, max_depth=6 \n",
      "[CV]  min_samples_split=14, n_estimators=50, criterion=entropy, max_depth=6, score=0.863636 -   0.4s\n",
      "[CV] min_samples_split=14, n_estimators=50, criterion=entropy, max_depth=6 \n",
      "[CV]  min_samples_split=14, n_estimators=50, criterion=entropy, max_depth=6, score=0.772727 -   0.4s\n",
      "[CV] min_samples_split=14, n_estimators=50, criterion=entropy, max_depth=6 \n",
      "[CV]  min_samples_split=14, n_estimators=50, criterion=entropy, max_depth=6, score=0.772727 -   0.4s\n",
      "[CV] min_samples_split=14, n_estimators=50, criterion=entropy, max_depth=6 \n",
      "[CV]  min_samples_split=14, n_estimators=50, criterion=entropy, max_depth=6, score=0.818182 -   0.4s\n",
      "[CV] min_samples_split=14, n_estimators=50, criterion=entropy, max_depth=6 \n",
      "[CV]  min_samples_split=14, n_estimators=50, criterion=entropy, max_depth=6, score=0.863636 -   0.4s\n",
      "[CV] min_samples_split=14, n_estimators=50, criterion=entropy, max_depth=6 \n",
      "[CV]  min_samples_split=14, n_estimators=50, criterion=entropy, max_depth=6, score=0.727273 -   0.4s\n",
      "[CV] min_samples_split=14, n_estimators=50, criterion=entropy, max_depth=6 \n",
      "[CV]  min_samples_split=14, n_estimators=50, criterion=entropy, max_depth=6, score=0.809524 -   0.4s\n",
      "[CV] min_samples_split=14, n_estimators=50, criterion=entropy, max_depth=6 \n",
      "[CV]  min_samples_split=14, n_estimators=50, criterion=entropy, max_depth=6, score=0.714286 -   0.4s\n",
      "[CV] min_samples_split=14, n_estimators=50, criterion=entropy, max_depth=6 \n",
      "[CV]  min_samples_split=14, n_estimators=50, criterion=entropy, max_depth=6, score=0.857143 -   0.4s\n",
      "[CV] min_samples_split=14, n_estimators=50, criterion=entropy, max_depth=6 \n",
      "[CV]  min_samples_split=14, n_estimators=50, criterion=entropy, max_depth=6, score=0.857143 -   0.4s\n",
      "[CV] min_samples_split=14, n_estimators=50, criterion=entropy, max_depth=6 \n",
      "[CV]  min_samples_split=14, n_estimators=50, criterion=entropy, max_depth=6, score=0.761905 -   0.6s\n",
      "[CV] min_samples_split=14, n_estimators=50, criterion=entropy, max_depth=6 \n",
      "[CV]  min_samples_split=14, n_estimators=50, criterion=entropy, max_depth=6, score=0.904762 -   0.4s\n",
      "[CV] min_samples_split=14, n_estimators=50, criterion=entropy, max_depth=6 \n",
      "[CV]  min_samples_split=14, n_estimators=50, criterion=entropy, max_depth=6, score=0.904762 -   0.4s\n",
      "[CV] min_samples_split=14, n_estimators=50, criterion=entropy, max_depth=6 \n",
      "[CV]  min_samples_split=14, n_estimators=50, criterion=entropy, max_depth=6, score=0.809524 -   0.4s\n",
      "[CV] min_samples_split=14, n_estimators=50, criterion=entropy, max_depth=6 \n",
      "[CV]  min_samples_split=14, n_estimators=50, criterion=entropy, max_depth=6, score=0.904762 -   0.4s\n",
      "[CV] min_samples_split=14, n_estimators=50, criterion=entropy, max_depth=6 \n",
      "[CV]  min_samples_split=14, n_estimators=50, criterion=entropy, max_depth=6, score=0.857143 -   0.4s\n",
      "[CV] min_samples_split=14, n_estimators=50, criterion=entropy, max_depth=6 \n",
      "[CV]  min_samples_split=14, n_estimators=50, criterion=entropy, max_depth=6, score=0.857143 -   0.4s"
     ]
    },
    {
     "name": "stderr",
     "output_type": "stream",
     "text": [
      "[Parallel(n_jobs=1)]: Done  71 tasks       | elapsed:   30.0s\n",
      "[Parallel(n_jobs=1)]: Done  80 out of  80 | elapsed:   34.1s finished\n"
     ]
    },
    {
     "name": "stdout",
     "output_type": "stream",
     "text": [
      "\n",
      "score equals 0.828283\n",
      "{'min_samples_split': 14, 'n_estimators': 50, 'criterion': 'entropy', 'max_depth': 6}\n",
      "0.842873176207\n"
     ]
    }
   ],
   "source": [
    "from sklearn.ensemble import RandomForestClassifier\n",
    "from sklearn.grid_search import GridSearchCV\n",
    "from sklearn.metrics import make_scorer, accuracy_score\n",
    "\n",
    "accuracy_scorer = make_scorer(accuracy_score)\n",
    "\n",
    "# Random Forests\n",
    "\n",
    "random_forest = RandomForestClassifier(max_depth=6,n_estimators=50,min_samples_split=14,criterion='gini')\n",
    "\n",
    "#random_forest.fit(X_train, Y_train)\n",
    "\n",
    "parameters = {'max_depth':[6], 'min_samples_split':[14], 'n_estimators':[50], 'criterion':['gini','entropy']}\n",
    "grid_search_CV = GridSearchCV(random_forest, parameters, cv=40, scoring=accuracy_scorer, verbose=10)\n",
    "grid_search_CV.fit(X_train, Y_train)\n",
    "print(\"score equals %f\" % (grid_search_CV.best_score_))\n",
    "print(\"%s\" % (grid_search_CV.best_params_))\n",
    "random_forest = grid_search_CV.best_estimator_\n",
    "\n",
    "Y_pred_rf = random_forest.predict(X_test)\n",
    "\n",
    "rf_score = random_forest.score(X_train, Y_train)\n",
    "\n",
    "print(rf_score)"
   ]
  },
  {
   "cell_type": "code",
   "execution_count": 17,
   "metadata": {
    "collapsed": false
   },
   "outputs": [
    {
     "name": "stdout",
     "output_type": "stream",
     "text": [
      "score equals 0.823793\n",
      "{'kernel': 'linear', 'C': 1.0}\n",
      "0.827160493827\n"
     ]
    },
    {
     "name": "stderr",
     "output_type": "stream",
     "text": [
      "/home/kyle/anaconda2/lib/python2.7/site-packages/sklearn/svm/base.py:224: ConvergenceWarning: Solver terminated early (max_iter=1000000).  Consider pre-processing your data with StandardScaler or MinMaxScaler.\n",
      "  % self.max_iter, ConvergenceWarning)\n"
     ]
    }
   ],
   "source": [
    "from sklearn.svm import SVC, LinearSVC\n",
    "\n",
    "# Support Vector Machines\n",
    "\n",
    "svc = SVC(max_iter = 1000000)\n",
    "\n",
    "parameters = {\"C\":[1e-2,1e-1,1.0], \"kernel\":[\"linear\"]}\n",
    "grid_search_CV = GridSearchCV(svc, parameters, cv=40, scoring=accuracy_scorer)\n",
    "grid_search_CV.fit(X_train, Y_train)\n",
    "print(\"score equals %f\" % (grid_search_CV.best_score_))\n",
    "print(\"%s\" % (grid_search_CV.best_params_))\n",
    "svc = grid_search_CV.best_estimator_\n",
    "\n",
    "# svc.fit(X_train, Y_train)\n",
    "\n",
    "Y_pred_svc = svc.predict(X_test)\n",
    "\n",
    "svc_score = svc.score(X_train, Y_train)\n",
    "\n",
    "print(svc_score)"
   ]
  },
  {
   "cell_type": "code",
   "execution_count": 23,
   "metadata": {
    "collapsed": false
   },
   "outputs": [
    {
     "name": "stdout",
     "output_type": "stream",
     "text": [
      "best score equals 0.823793\n",
      "{'n_neighbors': 8}\n",
      "0.849607182941\n"
     ]
    }
   ],
   "source": [
    "from sklearn.neighbors import KNeighborsClassifier\n",
    "\n",
    "import math\n",
    "\n",
    "from sklearn.cross_validation import KFold\n",
    "from numpy.random import RandomState\n",
    "    \n",
    "parameters = {'n_neighbors':[5,6,7,8,9,10,11]}\n",
    "\n",
    "V = np.cov(np.transpose(X_train.as_matrix()))\n",
    "\n",
    "knn = KNeighborsClassifier(metric='mahalanobis', metric_params={'V':V})\n",
    "\n",
    "skf = KFold(n=len(Y_train), n_folds=40)\n",
    "\n",
    "grid_search_CV = GridSearchCV(knn, parameters, cv=skf, scoring=accuracy_scorer)\n",
    "grid_search_CV.fit(X_train, Y_train)\n",
    "print(\"best score equals %f\" % (grid_search_CV.best_score_))\n",
    "print(\"%s\" % (grid_search_CV.best_params_))\n",
    "knn = grid_search_CV.best_estimator_\n",
    "\n",
    "#knn.fit(X_train, Y_train)\n",
    "\n",
    "Y_pred_knn = knn.predict(X_test)\n",
    "\n",
    "knn_score = knn.score(X_train, Y_train)\n",
    "\n",
    "print(knn_score)"
   ]
  },
  {
   "cell_type": "code",
   "execution_count": 24,
   "metadata": {
    "collapsed": true
   },
   "outputs": [],
   "source": [
    "# put ensemble together\n",
    "#total_score = knn_score + rf_score + svc_score + logreg_score\n",
    "\n",
    "#Y_pred_avg = (1./3.) * Y_pred_knn + (1./3.) * Y_pred_rf + (1./3.) * Y_pred_svc\n",
    "Y_pred_avg = Y_pred_rf\n",
    "#Y_pred_avg = Y_pred_svc\n",
    "#Y_pred_avg = Y_pred_knn\n",
    "#Y_pred_avg = Y_pred_ab\n",
    "Y_pred = list(map(lambda x: 0 if x < 0.5 else 1, Y_pred_avg))"
   ]
  },
  {
   "cell_type": "code",
   "execution_count": 25,
   "metadata": {
    "collapsed": true
   },
   "outputs": [],
   "source": [
    "submission = pd.DataFrame({\n",
    "        \"PassengerId\": test_df[\"PassengerId\"],\n",
    "        \"Survived\": Y_pred\n",
    "    })\n",
    "submission.to_csv('titanic.csv', index=False)"
   ]
  },
  {
   "cell_type": "code",
   "execution_count": null,
   "metadata": {
    "collapsed": true
   },
   "outputs": [],
   "source": []
  }
 ],
 "metadata": {
  "kernelspec": {
   "display_name": "Python 2",
   "language": "python",
   "name": "python2"
  },
  "language_info": {
   "codemirror_mode": {
    "name": "ipython",
    "version": 2
   },
   "file_extension": ".py",
   "mimetype": "text/x-python",
   "name": "python",
   "nbconvert_exporter": "python",
   "pygments_lexer": "ipython2",
   "version": "2.7.12"
  }
 },
 "nbformat": 4,
 "nbformat_minor": 0
}
