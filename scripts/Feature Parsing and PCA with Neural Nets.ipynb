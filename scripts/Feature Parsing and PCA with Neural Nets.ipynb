{
 "cells": [
  {
   "cell_type": "code",
   "execution_count": 1,
   "metadata": {
    "collapsed": true
   },
   "outputs": [],
   "source": [
    "# pandas\n",
    "import pandas as pd\n",
    "from pandas import Series,DataFrame\n",
    "\n",
    "# numpy, matplotlib, seaborn\n",
    "import numpy as np\n",
    "import matplotlib.pyplot as plt\n",
    "import seaborn as sns\n",
    "sns.set_style('whitegrid')\n",
    "%matplotlib inline"
   ]
  },
  {
   "cell_type": "code",
   "execution_count": 35,
   "metadata": {
    "collapsed": false
   },
   "outputs": [
    {
     "data": {
      "text/html": [
       "<div>\n",
       "<table border=\"1\" class=\"dataframe\">\n",
       "  <thead>\n",
       "    <tr style=\"text-align: right;\">\n",
       "      <th></th>\n",
       "      <th>PassengerId</th>\n",
       "      <th>Survived</th>\n",
       "      <th>Pclass</th>\n",
       "      <th>Name</th>\n",
       "      <th>Sex</th>\n",
       "      <th>Age</th>\n",
       "      <th>SibSp</th>\n",
       "      <th>Parch</th>\n",
       "      <th>Ticket</th>\n",
       "      <th>Fare</th>\n",
       "      <th>Cabin</th>\n",
       "      <th>Embarked</th>\n",
       "    </tr>\n",
       "  </thead>\n",
       "  <tbody>\n",
       "    <tr>\n",
       "      <th>0</th>\n",
       "      <td>1</td>\n",
       "      <td>0</td>\n",
       "      <td>3</td>\n",
       "      <td>Braund, Mr. Owen Harris</td>\n",
       "      <td>male</td>\n",
       "      <td>22.0</td>\n",
       "      <td>1</td>\n",
       "      <td>0</td>\n",
       "      <td>A/5 21171</td>\n",
       "      <td>7.2500</td>\n",
       "      <td>NaN</td>\n",
       "      <td>S</td>\n",
       "    </tr>\n",
       "    <tr>\n",
       "      <th>1</th>\n",
       "      <td>2</td>\n",
       "      <td>1</td>\n",
       "      <td>1</td>\n",
       "      <td>Cumings, Mrs. John Bradley (Florence Briggs Th...</td>\n",
       "      <td>female</td>\n",
       "      <td>38.0</td>\n",
       "      <td>1</td>\n",
       "      <td>0</td>\n",
       "      <td>PC 17599</td>\n",
       "      <td>71.2833</td>\n",
       "      <td>C85</td>\n",
       "      <td>C</td>\n",
       "    </tr>\n",
       "    <tr>\n",
       "      <th>2</th>\n",
       "      <td>3</td>\n",
       "      <td>1</td>\n",
       "      <td>3</td>\n",
       "      <td>Heikkinen, Miss. Laina</td>\n",
       "      <td>female</td>\n",
       "      <td>26.0</td>\n",
       "      <td>0</td>\n",
       "      <td>0</td>\n",
       "      <td>STON/O2. 3101282</td>\n",
       "      <td>7.9250</td>\n",
       "      <td>NaN</td>\n",
       "      <td>S</td>\n",
       "    </tr>\n",
       "    <tr>\n",
       "      <th>3</th>\n",
       "      <td>4</td>\n",
       "      <td>1</td>\n",
       "      <td>1</td>\n",
       "      <td>Futrelle, Mrs. Jacques Heath (Lily May Peel)</td>\n",
       "      <td>female</td>\n",
       "      <td>35.0</td>\n",
       "      <td>1</td>\n",
       "      <td>0</td>\n",
       "      <td>113803</td>\n",
       "      <td>53.1000</td>\n",
       "      <td>C123</td>\n",
       "      <td>S</td>\n",
       "    </tr>\n",
       "    <tr>\n",
       "      <th>4</th>\n",
       "      <td>5</td>\n",
       "      <td>0</td>\n",
       "      <td>3</td>\n",
       "      <td>Allen, Mr. William Henry</td>\n",
       "      <td>male</td>\n",
       "      <td>35.0</td>\n",
       "      <td>0</td>\n",
       "      <td>0</td>\n",
       "      <td>373450</td>\n",
       "      <td>8.0500</td>\n",
       "      <td>NaN</td>\n",
       "      <td>S</td>\n",
       "    </tr>\n",
       "  </tbody>\n",
       "</table>\n",
       "</div>"
      ],
      "text/plain": [
       "   PassengerId  Survived  Pclass  \\\n",
       "0            1         0       3   \n",
       "1            2         1       1   \n",
       "2            3         1       3   \n",
       "3            4         1       1   \n",
       "4            5         0       3   \n",
       "\n",
       "                                                Name     Sex   Age  SibSp  \\\n",
       "0                            Braund, Mr. Owen Harris    male  22.0      1   \n",
       "1  Cumings, Mrs. John Bradley (Florence Briggs Th...  female  38.0      1   \n",
       "2                             Heikkinen, Miss. Laina  female  26.0      0   \n",
       "3       Futrelle, Mrs. Jacques Heath (Lily May Peel)  female  35.0      1   \n",
       "4                           Allen, Mr. William Henry    male  35.0      0   \n",
       "\n",
       "   Parch            Ticket     Fare Cabin Embarked  \n",
       "0      0         A/5 21171   7.2500   NaN        S  \n",
       "1      0          PC 17599  71.2833   C85        C  \n",
       "2      0  STON/O2. 3101282   7.9250   NaN        S  \n",
       "3      0            113803  53.1000  C123        S  \n",
       "4      0            373450   8.0500   NaN        S  "
      ]
     },
     "execution_count": 35,
     "metadata": {},
     "output_type": "execute_result"
    }
   ],
   "source": [
    "# get titanic & test csv files as a DataFrame\n",
    "titanic_df = pd.read_csv(\"../input/train.csv\", dtype={\"Age\": np.float64}, )\n",
    "test_df    = pd.read_csv(\"../input/test.csv\", dtype={\"Age\": np.float64}, )\n",
    "\n",
    "# preview the data\n",
    "titanic_df.head()"
   ]
  },
  {
   "cell_type": "code",
   "execution_count": 36,
   "metadata": {
    "collapsed": false
   },
   "outputs": [
    {
     "name": "stdout",
     "output_type": "stream",
     "text": [
      "<class 'pandas.core.frame.DataFrame'>\n",
      "RangeIndex: 891 entries, 0 to 890\n",
      "Data columns (total 12 columns):\n",
      "PassengerId    891 non-null int64\n",
      "Survived       891 non-null int64\n",
      "Pclass         891 non-null int64\n",
      "Name           891 non-null object\n",
      "Sex            891 non-null object\n",
      "Age            714 non-null float64\n",
      "SibSp          891 non-null int64\n",
      "Parch          891 non-null int64\n",
      "Ticket         891 non-null object\n",
      "Fare           891 non-null float64\n",
      "Cabin          204 non-null object\n",
      "Embarked       889 non-null object\n",
      "dtypes: float64(2), int64(5), object(5)\n",
      "memory usage: 83.6+ KB\n",
      "----------------------------\n",
      "<class 'pandas.core.frame.DataFrame'>\n",
      "RangeIndex: 418 entries, 0 to 417\n",
      "Data columns (total 11 columns):\n",
      "PassengerId    418 non-null int64\n",
      "Pclass         418 non-null int64\n",
      "Name           418 non-null object\n",
      "Sex            418 non-null object\n",
      "Age            332 non-null float64\n",
      "SibSp          418 non-null int64\n",
      "Parch          418 non-null int64\n",
      "Ticket         418 non-null object\n",
      "Fare           417 non-null float64\n",
      "Cabin          91 non-null object\n",
      "Embarked       418 non-null object\n",
      "dtypes: float64(2), int64(4), object(5)\n",
      "memory usage: 36.0+ KB\n"
     ]
    }
   ],
   "source": [
    "titanic_df.info()\n",
    "print(\"----------------------------\")\n",
    "test_df.info()"
   ]
  },
  {
   "cell_type": "code",
   "execution_count": 37,
   "metadata": {
    "collapsed": false
   },
   "outputs": [
    {
     "name": "stdout",
     "output_type": "stream",
     "text": [
      "Number of Mr.: 520 \n",
      "Number of Mrs.: 126 \n",
      "Number of Miss: 187 \n",
      "Number of Dr.: 7 \n",
      "Number of Master: 40 \n",
      "Number of Reverends: 6 \n",
      "Number of Military Officers: 5 \n",
      "Total number of people: 891 \n",
      "Number of Mr.: 240 \n",
      "Number of Mrs.: 72 \n",
      "Number of Miss: 80 \n",
      "Number of Dr.: 1 \n",
      "Number of Master: 21 \n",
      "Number of Reverends: 2 \n",
      "Number of Military Officers: 2 \n",
      "Total number of people: 418 \n"
     ]
    }
   ],
   "source": [
    "import re\n",
    "\n",
    "def create_title_classes(df):\n",
    "    df['Mil'] = np.where((df['Name'].str.contains('Capt') | df['Name'].str.contains('Major\\.') | df['Name'].str.contains('Col\\.') | df['Name'].str.contains('Brig\\.') | df['Name'].str.contains('Gen\\.')), 1, 0)\n",
    "    df['Rev'] = np.where(df['Name'].str.contains('Rev'), 1, 0)\n",
    "    df['Dr'] = np.where(df['Name'].str.contains('Dr\\.'), 1, 0) \n",
    "    df['Master'] = np.where(df['Name'].str.contains('Master'), 1, 0) \n",
    "    df['Mrs'] = np.where(df['Name'].str.contains('Mrs\\.') | df['Name'].str.contains('Mme\\.'), 1, 0) \n",
    "    df['Mr'] = np.where(df['Name'].str.contains('Mr\\.') | ((df['Sex'] == 'male') & (df['Dr'] == 0) & (df['Mil'] == 0) & (df['Rev'] == 0) & (df['Master'] == 0)),1,0)\n",
    "    df['Miss'] = np.where(df['Name'].str.contains('Miss') | ((df['Sex'] == 'female') & (df['Dr'] == 0) & (df['Mrs'] == 0)), 1, 0) \n",
    "\n",
    "    print \"Number of Mr.: %d \" % len(df[df['Mr'] == 1])\n",
    "    print \"Number of Mrs.: %d \" % len(df[df['Mrs'] == 1])\n",
    "    print \"Number of Miss: %d \" % len(df[df['Miss'] == 1])\n",
    "    print \"Number of Dr.: %d \" % len(df[df['Dr'] == 1])\n",
    "    print \"Number of Master: %d \" % len(df[df['Master'] == 1])\n",
    "    print \"Number of Reverends: %d \" % len(df[df['Rev'] == 1])\n",
    "    print \"Number of Military Officers: %d \" % len(df[df['Mil'] == 1])\n",
    "    print \"Total number of people: %d \" % len(df)\n",
    "\n",
    "    \n",
    "create_title_classes(titanic_df)\n",
    "create_title_classes(test_df)"
   ]
  },
  {
   "cell_type": "code",
   "execution_count": 38,
   "metadata": {
    "collapsed": false
   },
   "outputs": [],
   "source": [
    "# drop unnecessary columns, these columns won't be useful in analysis and prediction\n",
    "titanic_df = titanic_df.drop(['PassengerId','Name','Ticket'], axis=1)\n",
    "test_df    = test_df.drop(['Name','Ticket'], axis=1)"
   ]
  },
  {
   "cell_type": "code",
   "execution_count": 39,
   "metadata": {
    "collapsed": false
   },
   "outputs": [
    {
     "data": {
      "text/html": [
       "<div>\n",
       "<table border=\"1\" class=\"dataframe\">\n",
       "  <thead>\n",
       "    <tr style=\"text-align: right;\">\n",
       "      <th></th>\n",
       "      <th>Survived</th>\n",
       "      <th>Pclass</th>\n",
       "      <th>Sex</th>\n",
       "      <th>Age</th>\n",
       "      <th>SibSp</th>\n",
       "      <th>Parch</th>\n",
       "      <th>Fare</th>\n",
       "      <th>Cabin</th>\n",
       "      <th>Mil</th>\n",
       "      <th>Rev</th>\n",
       "      <th>Dr</th>\n",
       "      <th>Master</th>\n",
       "      <th>Mrs</th>\n",
       "      <th>Mr</th>\n",
       "      <th>Miss</th>\n",
       "      <th>C</th>\n",
       "      <th>Q</th>\n",
       "    </tr>\n",
       "  </thead>\n",
       "  <tbody>\n",
       "    <tr>\n",
       "      <th>0</th>\n",
       "      <td>0</td>\n",
       "      <td>3</td>\n",
       "      <td>male</td>\n",
       "      <td>22.0</td>\n",
       "      <td>1</td>\n",
       "      <td>0</td>\n",
       "      <td>7.2500</td>\n",
       "      <td>NaN</td>\n",
       "      <td>0</td>\n",
       "      <td>0</td>\n",
       "      <td>0</td>\n",
       "      <td>0</td>\n",
       "      <td>0</td>\n",
       "      <td>1</td>\n",
       "      <td>0</td>\n",
       "      <td>0.0</td>\n",
       "      <td>0.0</td>\n",
       "    </tr>\n",
       "    <tr>\n",
       "      <th>1</th>\n",
       "      <td>1</td>\n",
       "      <td>1</td>\n",
       "      <td>female</td>\n",
       "      <td>38.0</td>\n",
       "      <td>1</td>\n",
       "      <td>0</td>\n",
       "      <td>71.2833</td>\n",
       "      <td>C85</td>\n",
       "      <td>0</td>\n",
       "      <td>0</td>\n",
       "      <td>0</td>\n",
       "      <td>0</td>\n",
       "      <td>1</td>\n",
       "      <td>0</td>\n",
       "      <td>0</td>\n",
       "      <td>1.0</td>\n",
       "      <td>0.0</td>\n",
       "    </tr>\n",
       "    <tr>\n",
       "      <th>2</th>\n",
       "      <td>1</td>\n",
       "      <td>3</td>\n",
       "      <td>female</td>\n",
       "      <td>26.0</td>\n",
       "      <td>0</td>\n",
       "      <td>0</td>\n",
       "      <td>7.9250</td>\n",
       "      <td>NaN</td>\n",
       "      <td>0</td>\n",
       "      <td>0</td>\n",
       "      <td>0</td>\n",
       "      <td>0</td>\n",
       "      <td>0</td>\n",
       "      <td>0</td>\n",
       "      <td>1</td>\n",
       "      <td>0.0</td>\n",
       "      <td>0.0</td>\n",
       "    </tr>\n",
       "    <tr>\n",
       "      <th>3</th>\n",
       "      <td>1</td>\n",
       "      <td>1</td>\n",
       "      <td>female</td>\n",
       "      <td>35.0</td>\n",
       "      <td>1</td>\n",
       "      <td>0</td>\n",
       "      <td>53.1000</td>\n",
       "      <td>C123</td>\n",
       "      <td>0</td>\n",
       "      <td>0</td>\n",
       "      <td>0</td>\n",
       "      <td>0</td>\n",
       "      <td>1</td>\n",
       "      <td>0</td>\n",
       "      <td>0</td>\n",
       "      <td>0.0</td>\n",
       "      <td>0.0</td>\n",
       "    </tr>\n",
       "    <tr>\n",
       "      <th>4</th>\n",
       "      <td>0</td>\n",
       "      <td>3</td>\n",
       "      <td>male</td>\n",
       "      <td>35.0</td>\n",
       "      <td>0</td>\n",
       "      <td>0</td>\n",
       "      <td>8.0500</td>\n",
       "      <td>NaN</td>\n",
       "      <td>0</td>\n",
       "      <td>0</td>\n",
       "      <td>0</td>\n",
       "      <td>0</td>\n",
       "      <td>0</td>\n",
       "      <td>1</td>\n",
       "      <td>0</td>\n",
       "      <td>0.0</td>\n",
       "      <td>0.0</td>\n",
       "    </tr>\n",
       "  </tbody>\n",
       "</table>\n",
       "</div>"
      ],
      "text/plain": [
       "   Survived  Pclass     Sex   Age  SibSp  Parch     Fare Cabin  Mil  Rev  Dr  \\\n",
       "0         0       3    male  22.0      1      0   7.2500   NaN    0    0   0   \n",
       "1         1       1  female  38.0      1      0  71.2833   C85    0    0   0   \n",
       "2         1       3  female  26.0      0      0   7.9250   NaN    0    0   0   \n",
       "3         1       1  female  35.0      1      0  53.1000  C123    0    0   0   \n",
       "4         0       3    male  35.0      0      0   8.0500   NaN    0    0   0   \n",
       "\n",
       "   Master  Mrs  Mr  Miss    C    Q  \n",
       "0       0    0   1     0  0.0  0.0  \n",
       "1       0    1   0     0  1.0  0.0  \n",
       "2       0    0   0     1  0.0  0.0  \n",
       "3       0    1   0     0  0.0  0.0  \n",
       "4       0    0   1     0  0.0  0.0  "
      ]
     },
     "execution_count": 39,
     "metadata": {},
     "output_type": "execute_result"
    },
    {
     "data": {
      "image/png": "[encoded data removed]",
      "text/plain": [
       "<matplotlib.figure.Figure at 0x11d5ce210>"
      ]
     },
     "metadata": {},
     "output_type": "display_data"
    },
    {
     "data": {
      "image/png": "[encoded data removed]",
      "text/plain": [
       "<matplotlib.figure.Figure at 0x11ba4a210>"
      ]
     },
     "metadata": {},
     "output_type": "display_data"
    }
   ],
   "source": [
    "# Embarked\n",
    "\n",
    "# only in titanic_df, fill the two missing values with the most occurred value, which is \"S\".\n",
    "titanic_df[\"Embarked\"] = titanic_df[\"Embarked\"].fillna(\"S\")\n",
    "\n",
    "# plot\n",
    "sns.factorplot('Embarked','Survived', data=titanic_df,size=4,aspect=3)\n",
    "\n",
    "fig, (axis1,axis2,axis3) = plt.subplots(1,3,figsize=(15,5))\n",
    "\n",
    "# sns.factorplot('Embarked',data=titanic_df,kind='count',order=['S','C','Q'],ax=axis1)\n",
    "# sns.factorplot('Survived',hue=\"Embarked\",data=titanic_df,kind='count',order=[1,0],ax=axis2)\n",
    "sns.countplot(x='Embarked', data=titanic_df, ax=axis1)\n",
    "sns.countplot(x='Survived', hue=\"Embarked\", data=titanic_df, order=[1,0], ax=axis2)\n",
    "\n",
    "# group by embarked, and get the mean for survived passengers for each value in Embarked\n",
    "embark_perc = titanic_df[[\"Embarked\", \"Survived\"]].groupby(['Embarked'],as_index=False).mean()\n",
    "sns.barplot(x='Embarked', y='Survived', data=embark_perc,order=['S','C','Q'],ax=axis3)\n",
    "\n",
    "# Either to consider Embarked column in predictions,\n",
    "# and remove \"S\" dummy variable, \n",
    "# and leave \"C\" & \"Q\", since they seem to have a good rate for Survival.\n",
    "\n",
    "# OR, don't create dummy variables for Embarked column, just drop it, \n",
    "# because logically, Embarked doesn't seem to be useful in prediction.\n",
    "\n",
    "embark_dummies_titanic  = pd.get_dummies(titanic_df['Embarked'])\n",
    "embark_dummies_titanic.drop(['S'], axis=1, inplace=True)\n",
    "\n",
    "embark_dummies_test  = pd.get_dummies(test_df['Embarked'])\n",
    "embark_dummies_test.drop(['S'], axis=1, inplace=True)\n",
    "\n",
    "titanic_df = titanic_df.join(embark_dummies_titanic)\n",
    "test_df    = test_df.join(embark_dummies_test)\n",
    "\n",
    "titanic_df.drop(['Embarked'], axis=1,inplace=True)\n",
    "test_df.drop(['Embarked'], axis=1,inplace=True)\n",
    "\n",
    "titanic_df.head()"
   ]
  },
  {
   "cell_type": "code",
   "execution_count": 40,
   "metadata": {
    "collapsed": false
   },
   "outputs": [
    {
     "data": {
      "text/plain": [
       "<matplotlib.axes._subplots.AxesSubplot at 0x11baad390>"
      ]
     },
     "execution_count": 40,
     "metadata": {},
     "output_type": "execute_result"
    },
    {
     "data": {
      "image/png": "[encoded data removed]",
      "text/plain": [
       "<matplotlib.figure.Figure at 0x1167aa450>"
      ]
     },
     "metadata": {},
     "output_type": "display_data"
    },
    {
     "data": {
      "image/png": "[encoded data removed]",
      "text/plain": [
       "<matplotlib.figure.Figure at 0x11dbf66d0>"
      ]
     },
     "metadata": {},
     "output_type": "display_data"
    }
   ],
   "source": [
    "# Fare\n",
    "\n",
    "# only for test_df, since there is a missing \"Fare\" values\n",
    "test_df[\"Fare\"].fillna(test_df[\"Fare\"].median(), inplace=True)\n",
    "\n",
    "# convert from float to int\n",
    "titanic_df['Fare'] = titanic_df['Fare'].astype(int)\n",
    "test_df['Fare']    = test_df['Fare'].astype(int)\n",
    "\n",
    "# get fare for survived & didn't survive passengers \n",
    "fare_not_survived = titanic_df[\"Fare\"][titanic_df[\"Survived\"] == 0]\n",
    "fare_survived     = titanic_df[\"Fare\"][titanic_df[\"Survived\"] == 1]\n",
    "\n",
    "# get average and std for fare of survived/not survived passengers\n",
    "avgerage_fare = DataFrame([fare_not_survived.mean(), fare_survived.mean()])\n",
    "std_fare      = DataFrame([fare_not_survived.std(), fare_survived.std()])\n",
    "\n",
    "# plot\n",
    "titanic_df['Fare'].plot(kind='hist', figsize=(15,3),bins=100, xlim=(0,50))\n",
    "\n",
    "avgerage_fare.index.names = std_fare.index.names = [\"Survived\"]\n",
    "avgerage_fare.plot(yerr=std_fare,kind='bar',legend=False)"
   ]
  },
  {
   "cell_type": "code",
   "execution_count": 41,
   "metadata": {
    "collapsed": false
   },
   "outputs": [
    {
     "data": {
      "text/plain": [
       "<matplotlib.axes._subplots.AxesSubplot at 0x1171c2890>"
      ]
     },
     "execution_count": 41,
     "metadata": {},
     "output_type": "execute_result"
    },
    {
     "data": {
      "image/png": "[encoded data removed]",
      "text/plain": [
       "<matplotlib.figure.Figure at 0x119ec2b10>"
      ]
     },
     "metadata": {},
     "output_type": "display_data"
    }
   ],
   "source": [
    "# Age \n",
    "\n",
    "fig, (axis1,axis2) = plt.subplots(1,2,figsize=(15,4))\n",
    "axis1.set_title('Original Age values - Titanic')\n",
    "axis2.set_title('New Age values - Titanic')\n",
    "\n",
    "# axis3.set_title('Original Age values - Test')\n",
    "# axis4.set_title('New Age values - Test')\n",
    "\n",
    "titanic_df['Age'].dropna().astype(int).hist(bins=70, ax=axis1)\n",
    "\n",
    "median_age_mr = pd.concat([titanic_df[titanic_df['Mr']==1],test_df[test_df['Mr']==1]])['Age'].median()\n",
    "titanic_df.loc[(titanic_df['Mr']==1) & (np.isnan(titanic_df[\"Age\"])),\"Age\"] = median_age_mr\n",
    "test_df.loc[(test_df['Mr']==1) & (np.isnan(test_df[\"Age\"])),\"Age\"] = median_age_mr\n",
    "\n",
    "median_age_miss = pd.concat([titanic_df[titanic_df['Miss']==1],test_df[test_df['Miss']==1]])['Age'].median()\n",
    "titanic_df.loc[(titanic_df['Miss']==1) & (np.isnan(titanic_df[\"Age\"])),\"Age\"] = median_age_miss\n",
    "test_df.loc[(test_df['Miss']==1) & (np.isnan(test_df[\"Age\"])),\"Age\"] = median_age_miss\n",
    "\n",
    "median_age_mrs = pd.concat([titanic_df[titanic_df['Mrs']==1],test_df[test_df['Mrs']==1]])['Age'].median()\n",
    "titanic_df.loc[(titanic_df['Mrs']==1) & (np.isnan(titanic_df[\"Age\"])),\"Age\"] = median_age_mrs\n",
    "test_df.loc[(test_df['Mrs']==1) & (np.isnan(test_df[\"Age\"])),\"Age\"] = median_age_mrs\n",
    "\n",
    "median_age_rev = pd.concat([titanic_df[titanic_df['Rev']==1],test_df[test_df['Rev']==1]])['Age'].median()\n",
    "titanic_df.loc[(titanic_df['Rev']==1) & np.isnan(titanic_df[\"Age\"]),\"Age\"] = median_age_rev\n",
    "test_df.loc[(test_df['Rev']==1) & (np.isnan(test_df[\"Age\"])),\"Age\"] = median_age_rev\n",
    "\n",
    "median_age_dr = pd.concat([titanic_df[titanic_df['Dr']==1],test_df[test_df['Dr']==1]])['Age'].median()\n",
    "titanic_df.loc[(titanic_df['Dr']==1) & (np.isnan(titanic_df[\"Age\"])),\"Age\"] = median_age_dr\n",
    "test_df.loc[(test_df['Dr']==1) & (np.isnan(test_df[\"Age\"])),\"Age\"] = median_age_dr\n",
    "\n",
    "median_age_mil = pd.concat([titanic_df[titanic_df['Mil']==1],test_df[test_df['Mil']==1]])['Age'].median()\n",
    "titanic_df.loc[(titanic_df['Mil']==1) & (np.isnan(titanic_df[\"Age\"])),\"Age\"] = median_age_mil\n",
    "test_df.loc[(test_df['Mil']==1) & (np.isnan(test_df[\"Age\"])),\"Age\"] = median_age_mil\n",
    "\n",
    "median_age_master = pd.concat([titanic_df[titanic_df['Master']==1],test_df[test_df['Master']==1]])['Age'].median()\n",
    "titanic_df.loc[(titanic_df['Master']==1) & (np.isnan(titanic_df[\"Age\"])),\"Age\"] = median_age_master\n",
    "test_df.loc[(test_df['Master']==1) & (np.isnan(test_df[\"Age\"])),\"Age\"] = median_age_master\n",
    "\n",
    "# convert from float to int\n",
    "#print titanic_df['Age']\n",
    "titanic_df['Age'] = titanic_df['Age'].astype(int)\n",
    "test_df['Age']    = test_df['Age'].astype(int)\n",
    "        \n",
    "# plot new Age Values\n",
    "titanic_df['Age'].hist(bins=70, ax=axis2)\n",
    "# test_df['Age'].hist(bins=70, ax=axis4)"
   ]
  },
  {
   "cell_type": "code",
   "execution_count": 42,
   "metadata": {
    "collapsed": false
   },
   "outputs": [
    {
     "data": {
      "text/plain": [
       "<matplotlib.axes._subplots.AxesSubplot at 0x11ec0b510>"
      ]
     },
     "execution_count": 42,
     "metadata": {},
     "output_type": "execute_result"
    },
    {
     "data": {
      "image/png": "[encoded data removed]",
      "text/plain": [
       "<matplotlib.figure.Figure at 0x11d5ce310>"
      ]
     },
     "metadata": {},
     "output_type": "display_data"
    },
    {
     "data": {
      "image/png": "[encoded data removed]",
      "text/plain": [
       "<matplotlib.figure.Figure at 0x1167d9ed0>"
      ]
     },
     "metadata": {},
     "output_type": "display_data"
    }
   ],
   "source": [
    "# .... continue with plot Age column\n",
    "\n",
    "# peaks for survived/not survived passengers by their age\n",
    "facet = sns.FacetGrid(titanic_df, hue=\"Survived\",aspect=4)\n",
    "facet.map(sns.kdeplot,'Age',shade= True)\n",
    "facet.set(xlim=(0, titanic_df['Age'].max()))\n",
    "facet.add_legend()\n",
    "\n",
    "# average survived passengers by age\n",
    "fig, axis1 = plt.subplots(1,1,figsize=(18,4))\n",
    "average_age = titanic_df[[\"Age\", \"Survived\"]].groupby(['Age'],as_index=False).mean()\n",
    "sns.barplot(x='Age', y='Survived', data=average_age)"
   ]
  },
  {
   "cell_type": "code",
   "execution_count": 43,
   "metadata": {
    "collapsed": false
   },
   "outputs": [
    {
     "name": "stdout",
     "output_type": "stream",
     "text": [
      "   Survived  Pclass     Sex  Age  SibSp  Parch  Fare Cabin  Mil  Rev  Dr  \\\n",
      "0         0       3    male   22      1      0     7   NaN    0    0   0   \n",
      "1         1       1  female   38      1      0    71   C85    0    0   0   \n",
      "2         1       3  female   26      0      0     7   NaN    0    0   0   \n",
      "3         1       1  female   35      1      0    53  C123    0    0   0   \n",
      "4         0       3    male   35      0      0     8   NaN    0    0   0   \n",
      "\n",
      "   Master  Mrs  Mr  Miss    C    Q  \n",
      "0       0    0   1     0  0.0  0.0  \n",
      "1       0    1   0     0  1.0  0.0  \n",
      "2       0    0   0     1  0.0  0.0  \n",
      "3       0    1   0     0  0.0  0.0  \n",
      "4       0    0   1     0  0.0  0.0  \n",
      "   PassengerId  Pclass     Sex  Age  SibSp  Parch  Fare Cabin  Mil  Rev  Dr  \\\n",
      "0          892       3    male   34      0      0     7   NaN    0    0   0   \n",
      "1          893       3  female   47      1      0     7   NaN    0    0   0   \n",
      "2          894       2    male   62      0      0     9   NaN    0    0   0   \n",
      "3          895       3    male   27      0      0     8   NaN    0    0   0   \n",
      "4          896       3  female   22      1      1    12   NaN    0    0   0   \n",
      "\n",
      "   Master  Mrs  Mr  Miss    C    Q  \n",
      "0       0    0   1     0  0.0  1.0  \n",
      "1       0    1   0     0  0.0  0.0  \n",
      "2       0    0   1     0  0.0  1.0  \n",
      "3       0    0   1     0  0.0  0.0  \n",
      "4       0    1   0     0  0.0  0.0  \n"
     ]
    }
   ],
   "source": [
    "def extract_cabin_features(df):\n",
    "    df['Cabin'].fillna('cabZ', inplace=True)\n",
    "    df.loc[df['Cabin'].str.contains('A'),'Cabin'] = 'cabA'\n",
    "    df.loc[df['Cabin'].str.contains('B'),'Cabin'] = 'cabB'\n",
    "    df.loc[df['Cabin'].str.contains('C'),'Cabin'] = 'cabC'\n",
    "    df.loc[df['Cabin'].str.contains('D'),'Cabin'] = 'cabD'\n",
    "    df.loc[df['Cabin'].str.contains('E'),'Cabin'] = 'cabE'\n",
    "    df.loc[df['Cabin'].str.contains('G'),'Cabin'] = 'cabG'\n",
    "    df.loc[df['Cabin'].str.contains('F'),'Cabin'] = 'cabF'\n",
    "    df.loc[df['Cabin'].str.contains('T'),'Cabin'] = 'cabZ'\n",
    "    \n",
    "    cabin_dummies = pd.get_dummies(df['Cabin'])\n",
    "    cabin_dummies.drop(['cabZ'], axis=1, inplace=True)\n",
    "    df = df.join(cabin_dummies)\n",
    "    df.drop(['Cabin'], axis=1, inplace=True)\n",
    "    \n",
    "    return df\n",
    "\n",
    "#titanic_df = extract_cabin_features(titanic_df)\n",
    "#test_df = extract_cabin_features(test_df)\n",
    "\n",
    "print titanic_df.head()\n",
    "print test_df.head()\n",
    "    \n",
    "    \n",
    "titanic_df.drop(\"Cabin\",axis=1,inplace=True)\n",
    "test_df.drop(\"Cabin\",axis=1,inplace=True)\n",
    "\n",
    "#titanic_df.drop(\"Sex\",axis=1,inplace=True)\n",
    "#test_df.drop(\"Sex\",axis=1,inplace=True)\n",
    "\n",
    "# Dropping Sex as well as this is entirely accounted for in various titles\n",
    "gender_dummies_titanic  = pd.get_dummies(titanic_df['Sex'])\n",
    "gender_dummies_titanic.drop(['male'], axis=1, inplace=True)\n",
    "\n",
    "gender_dummies_test  = pd.get_dummies(test_df['Sex'])\n",
    "gender_dummies_test.drop(['male'], axis=1, inplace=True)\n",
    "\n",
    "titanic_df = titanic_df.join(gender_dummies_titanic)\n",
    "test_df    = test_df.join(gender_dummies_test)\n",
    "\n",
    "titanic_df.drop(['Sex'], axis=1,inplace=True)\n",
    "test_df.drop(['Sex'], axis=1,inplace=True)"
   ]
  },
  {
   "cell_type": "code",
   "execution_count": 44,
   "metadata": {
    "collapsed": false
   },
   "outputs": [
    {
     "data": {
      "text/plain": [
       "[<matplotlib.text.Text at 0x11e720410>, <matplotlib.text.Text at 0x11e7391d0>]"
      ]
     },
     "execution_count": 44,
     "metadata": {},
     "output_type": "execute_result"
    },
    {
     "data": {
      "image/png": "[encoded data removed]",
      "text/plain": [
       "<matplotlib.figure.Figure at 0x11e108fd0>"
      ]
     },
     "metadata": {},
     "output_type": "display_data"
    },
    {
     "data": {
      "image/png": "[encoded data removed]",
      "text/plain": [
       "<matplotlib.figure.Figure at 0x11e108f10>"
      ]
     },
     "metadata": {},
     "output_type": "display_data"
    }
   ],
   "source": [
    "# Family\n",
    "\n",
    "# Instead of having two columns Parch & SibSp, \n",
    "# we can have only one column represent if the passenger had any family member aboard or not,\n",
    "# Meaning, if having any family member(whether parent, brother, ...etc) will increase chances of Survival or not.\n",
    "#titanic_df['Family'] =  titanic_df[\"Parch\"] + titanic_df[\"SibSp\"]\n",
    "#titanic_df['Family'].loc[titanic_df['Family'] > 0] = 1\n",
    "#titanic_df['Family'].loc[titanic_df['Family'] == 0] = 0\n",
    "\n",
    "#test_df['Family'] =  test_df[\"Parch\"] + test_df[\"SibSp\"]\n",
    "#test_df['Family'].loc[test_df['Family'] > 0] = 1\n",
    "#test_df['Family'].loc[test_df['Family'] == 0] = 0\n",
    "\n",
    "# drop Parch & SibSp\n",
    "#titanic_df = titanic_df.drop(['SibSp','Parch'], axis=1)\n",
    "#test_df    = test_df.drop(['SibSp','Parch'], axis=1)\n",
    "\n",
    "# plot\n",
    "fig, (axis1,axis2) = plt.subplots(1,2,sharex=True,figsize=(10,5))\n",
    "\n",
    "# sns.factorplot('Family',data=titanic_df,kind='count',ax=axis1)\n",
    "sns.countplot(x='Parch', data=titanic_df, order=[1,0], ax=axis1)\n",
    "\n",
    "# average of survived for those who had/didn't have any family member\n",
    "parch_perc = titanic_df[[\"Parch\", \"Survived\"]].groupby(['Parch'],as_index=False).mean()\n",
    "sns.barplot(x='Parch', y='Survived', data=parch_perc, order=[1,0], ax=axis2)\n",
    "\n",
    "axis1.set_xticklabels([\"With Parents or Children\",\"Alone\"], rotation=0)\n",
    "\n",
    "fig2, (axis1,axis2) = plt.subplots(1,2,sharex=True,figsize=(10,5))\n",
    "\n",
    "# sns.factorplot('Family',data=titanic_df,kind='count',ax=axis1)\n",
    "sns.countplot(x='SibSp', data=titanic_df, order=[1,0], ax=axis1)\n",
    "\n",
    "# average of survived for those who had/didn't have any family member\n",
    "sibsp_perc = titanic_df[[\"SibSp\", \"Survived\"]].groupby(['SibSp'],as_index=False).mean()\n",
    "sns.barplot(x='SibSp', y='Survived', data=sibsp_perc, order=[1,0], ax=axis2)\n",
    "\n",
    "axis1.set_xticklabels([\"With Sibling or Spouse\",\"Alone\"], rotation=0)"
   ]
  },
  {
   "cell_type": "code",
   "execution_count": 45,
   "metadata": {
    "collapsed": false
   },
   "outputs": [
    {
     "data": {
      "image/png": "[encoded data removed]",
      "text/plain": [
       "<matplotlib.figure.Figure at 0x11ec02dd0>"
      ]
     },
     "metadata": {},
     "output_type": "display_data"
    }
   ],
   "source": [
    "# Pclass\n",
    "\n",
    "# sns.factorplot('Pclass',data=titanic_df,kind='count',order=[1,2,3])\n",
    "sns.factorplot('Pclass','Survived',order=[1,2,3], data=titanic_df,size=5)\n",
    "\n",
    "# create dummy variables for Pclass column, & drop 3rd class as it has the lowest average of survived passengers\n",
    "pclass_dummies_titanic  = pd.get_dummies(titanic_df['Pclass'])\n",
    "pclass_dummies_titanic.columns = ['Class_1','Class_2','Class_3']\n",
    "pclass_dummies_titanic.drop(['Class_3'], axis=1, inplace=True)\n",
    "\n",
    "pclass_dummies_test  = pd.get_dummies(test_df['Pclass'])\n",
    "pclass_dummies_test.columns = ['Class_1','Class_2','Class_3']\n",
    "pclass_dummies_test.drop(['Class_3'], axis=1, inplace=True)\n",
    "\n",
    "titanic_df.drop(['Pclass'],axis=1,inplace=True)\n",
    "test_df.drop(['Pclass'],axis=1,inplace=True)\n",
    "\n",
    "titanic_df = titanic_df.join(pclass_dummies_titanic)\n",
    "test_df    = test_df.join(pclass_dummies_test)"
   ]
  },
  {
   "cell_type": "code",
   "execution_count": 46,
   "metadata": {
    "collapsed": true
   },
   "outputs": [],
   "source": [
    "# define training and testing sets\n",
    "\n",
    "X_train = titanic_df.drop(\"Survived\",axis=1)\n",
    "Y_train = titanic_df[\"Survived\"]\n",
    "X_test  = test_df.drop(\"PassengerId\",axis=1).copy()"
   ]
  },
  {
   "cell_type": "code",
   "execution_count": 47,
   "metadata": {
    "collapsed": false
   },
   "outputs": [
    {
     "name": "stdout",
     "output_type": "stream",
     "text": [
      "Fitting 40 folds for each of 2 candidates, totalling 80 fits\n",
      "[CV] min_samples_split=14, n_estimators=50, criterion=gini, max_depth=6 \n",
      "[CV]  min_samples_split=14, n_estimators=50, criterion=gini, max_depth=6, score=0.869565 -   0.1s\n",
      "[CV] min_samples_split=14, n_estimators=50, criterion=gini, max_depth=6 \n"
     ]
    },
    {
     "name": "stderr",
     "output_type": "stream",
     "text": [
      "[Parallel(n_jobs=1)]: Done   1 tasks       | elapsed:    0.1s\n"
     ]
    },
    {
     "name": "stdout",
     "output_type": "stream",
     "text": [
      "[CV]  min_samples_split=14, n_estimators=50, criterion=gini, max_depth=6, score=0.652174 -   0.1s\n",
      "[CV] min_samples_split=14, n_estimators=50, criterion=gini, max_depth=6 \n",
      "[CV]  min_samples_split=14, n_estimators=50, criterion=gini, max_depth=6, score=0.956522 -   0.1s\n",
      "[CV] min_samples_split=14, n_estimators=50, criterion=gini, max_depth=6 \n",
      "[CV]  min_samples_split=14, n_estimators=50, criterion=gini, max_depth=6, score=0.869565 -   0.1s\n",
      "[CV] min_samples_split=14, n_estimators=50, criterion=gini, max_depth=6 \n"
     ]
    },
    {
     "name": "stderr",
     "output_type": "stream",
     "text": [
      "[Parallel(n_jobs=1)]: Done   4 tasks       | elapsed:    0.4s\n"
     ]
    },
    {
     "name": "stdout",
     "output_type": "stream",
     "text": [
      "[CV]  min_samples_split=14, n_estimators=50, criterion=gini, max_depth=6, score=0.782609 -   0.1s\n",
      "[CV] min_samples_split=14, n_estimators=50, criterion=gini, max_depth=6 \n",
      "[CV]  min_samples_split=14, n_estimators=50, criterion=gini, max_depth=6, score=0.869565 -   0.1s\n",
      "[CV] min_samples_split=14, n_estimators=50, criterion=gini, max_depth=6 \n",
      "[CV]  min_samples_split=14, n_estimators=50, criterion=gini, max_depth=6, score=0.826087 -   0.1s\n",
      "[CV] min_samples_split=14, n_estimators=50, criterion=gini, max_depth=6 \n",
      "[CV]  min_samples_split=14, n_estimators=50, criterion=gini, max_depth=6, score=0.913043 -   0.1s\n",
      "[CV] min_samples_split=14, n_estimators=50, criterion=gini, max_depth=6 \n",
      "[CV]  min_samples_split=14, n_estimators=50, criterion=gini, max_depth=6, score=0.782609 -   0.1s\n",
      "[CV] min_samples_split=14, n_estimators=50, criterion=gini, max_depth=6 \n"
     ]
    },
    {
     "name": "stderr",
     "output_type": "stream",
     "text": [
      "[Parallel(n_jobs=1)]: Done   7 tasks       | elapsed:    0.7s\n"
     ]
    },
    {
     "name": "stdout",
     "output_type": "stream",
     "text": [
      "[CV]  min_samples_split=14, n_estimators=50, criterion=gini, max_depth=6, score=0.826087 -   0.1s\n",
      "[CV] min_samples_split=14, n_estimators=50, criterion=gini, max_depth=6 \n",
      "[CV]  min_samples_split=14, n_estimators=50, criterion=gini, max_depth=6, score=0.826087 -   0.1s\n",
      "[CV] min_samples_split=14, n_estimators=50, criterion=gini, max_depth=6 \n",
      "[CV]  min_samples_split=14, n_estimators=50, criterion=gini, max_depth=6, score=0.652174 -   0.1s\n",
      "[CV] min_samples_split=14, n_estimators=50, criterion=gini, max_depth=6 \n",
      "[CV]  min_samples_split=14, n_estimators=50, criterion=gini, max_depth=6, score=0.826087 -   0.1s\n",
      "[CV] min_samples_split=14, n_estimators=50, criterion=gini, max_depth=6 \n"
     ]
    },
    {
     "name": "stderr",
     "output_type": "stream",
     "text": [
      "[Parallel(n_jobs=1)]: Done  12 tasks       | elapsed:    1.3s\n"
     ]
    },
    {
     "name": "stdout",
     "output_type": "stream",
     "text": [
      "[CV]  min_samples_split=14, n_estimators=50, criterion=gini, max_depth=6, score=0.869565 -   0.1s\n",
      "[CV] min_samples_split=14, n_estimators=50, criterion=gini, max_depth=6 \n",
      "[CV]  min_samples_split=14, n_estimators=50, criterion=gini, max_depth=6, score=0.956522 -   0.1s\n",
      "[CV] min_samples_split=14, n_estimators=50, criterion=gini, max_depth=6 \n",
      "[CV]  min_samples_split=14, n_estimators=50, criterion=gini, max_depth=6, score=0.913043 -   0.1s\n",
      "[CV] min_samples_split=14, n_estimators=50, criterion=gini, max_depth=6 \n",
      "[CV]  min_samples_split=14, n_estimators=50, criterion=gini, max_depth=6, score=0.913043 -   0.1s\n",
      "[CV] min_samples_split=14, n_estimators=50, criterion=gini, max_depth=6 \n"
     ]
    },
    {
     "name": "stderr",
     "output_type": "stream",
     "text": [
      "[Parallel(n_jobs=1)]: Done  17 tasks       | elapsed:    1.9s\n"
     ]
    },
    {
     "name": "stdout",
     "output_type": "stream",
     "text": [
      "[CV]  min_samples_split=14, n_estimators=50, criterion=gini, max_depth=6, score=0.739130 -   0.1s\n",
      "[CV] min_samples_split=14, n_estimators=50, criterion=gini, max_depth=6 \n",
      "[CV]  min_samples_split=14, n_estimators=50, criterion=gini, max_depth=6, score=0.782609 -   0.2s\n",
      "[CV] min_samples_split=14, n_estimators=50, criterion=gini, max_depth=6 \n",
      "[CV]  min_samples_split=14, n_estimators=50, criterion=gini, max_depth=6, score=0.826087 -   0.1s\n",
      "[CV] min_samples_split=14, n_estimators=50, criterion=gini, max_depth=6 \n",
      "[CV]  min_samples_split=14, n_estimators=50, criterion=gini, max_depth=6, score=0.869565 -   0.1s\n",
      "[CV] min_samples_split=14, n_estimators=50, criterion=gini, max_depth=6 \n",
      "[CV]  min_samples_split=14, n_estimators=50, criterion=gini, max_depth=6, score=0.782609 -   0.1s\n",
      "[CV] min_samples_split=14, n_estimators=50, criterion=gini, max_depth=6 \n",
      "[CV]  min_samples_split=14, n_estimators=50, criterion=gini, max_depth=6, score=0.818182 -   0.1s\n",
      "[CV] min_samples_split=14, n_estimators=50, criterion=gini, max_depth=6 \n",
      "[CV]  min_samples_split=14, n_estimators=50, criterion=gini, max_depth=6, score=0.863636 -   0.1s\n",
      "[CV] min_samples_split=14, n_estimators=50, criterion=gini, max_depth=6 \n",
      "[CV]  min_samples_split=14, n_estimators=50, criterion=gini, max_depth=6, score=0.772727 -   0.2s\n",
      "[CV] min_samples_split=14, n_estimators=50, criterion=gini, max_depth=6 \n"
     ]
    },
    {
     "name": "stderr",
     "output_type": "stream",
     "text": [
      "[Parallel(n_jobs=1)]: Done  24 tasks       | elapsed:    2.8s\n"
     ]
    },
    {
     "name": "stdout",
     "output_type": "stream",
     "text": [
      "[CV]  min_samples_split=14, n_estimators=50, criterion=gini, max_depth=6, score=0.772727 -   0.2s\n",
      "[CV] min_samples_split=14, n_estimators=50, criterion=gini, max_depth=6 \n",
      "[CV]  min_samples_split=14, n_estimators=50, criterion=gini, max_depth=6, score=0.818182 -   0.1s\n",
      "[CV] min_samples_split=14, n_estimators=50, criterion=gini, max_depth=6 \n",
      "[CV]  min_samples_split=14, n_estimators=50, criterion=gini, max_depth=6, score=0.863636 -   0.1s\n",
      "[CV] min_samples_split=14, n_estimators=50, criterion=gini, max_depth=6 \n",
      "[CV]  min_samples_split=14, n_estimators=50, criterion=gini, max_depth=6, score=0.727273 -   0.1s\n",
      "[CV] min_samples_split=14, n_estimators=50, criterion=gini, max_depth=6 \n",
      "[CV]  min_samples_split=14, n_estimators=50, criterion=gini, max_depth=6, score=0.809524 -   0.2s\n",
      "[CV] min_samples_split=14, n_estimators=50, criterion=gini, max_depth=6 \n",
      "[CV]  min_samples_split=14, n_estimators=50, criterion=gini, max_depth=6, score=0.714286 -   0.1s\n",
      "[CV] min_samples_split=14, n_estimators=50, criterion=gini, max_depth=6 \n",
      "[CV]  min_samples_split=14, n_estimators=50, criterion=gini, max_depth=6, score=0.857143 -   0.1s\n",
      "[CV] min_samples_split=14, n_estimators=50, criterion=gini, max_depth=6 \n"
     ]
    },
    {
     "name": "stderr",
     "output_type": "stream",
     "text": [
      "[Parallel(n_jobs=1)]: Done  31 tasks       | elapsed:    3.7s\n"
     ]
    },
    {
     "name": "stdout",
     "output_type": "stream",
     "text": [
      "[CV]  min_samples_split=14, n_estimators=50, criterion=gini, max_depth=6, score=0.809524 -   0.1s\n",
      "[CV] min_samples_split=14, n_estimators=50, criterion=gini, max_depth=6 \n",
      "[CV]  min_samples_split=14, n_estimators=50, criterion=gini, max_depth=6, score=0.761905 -   0.1s\n",
      "[CV] min_samples_split=14, n_estimators=50, criterion=gini, max_depth=6 \n",
      "[CV]  min_samples_split=14, n_estimators=50, criterion=gini, max_depth=6, score=0.904762 -   0.1s\n",
      "[CV] min_samples_split=14, n_estimators=50, criterion=gini, max_depth=6 \n",
      "[CV]  min_samples_split=14, n_estimators=50, criterion=gini, max_depth=6, score=0.904762 -   0.3s\n",
      "[CV] min_samples_split=14, n_estimators=50, criterion=gini, max_depth=6 \n",
      "[CV]  min_samples_split=14, n_estimators=50, criterion=gini, max_depth=6, score=0.809524 -   0.1s\n",
      "[CV] min_samples_split=14, n_estimators=50, criterion=gini, max_depth=6 \n",
      "[CV]  min_samples_split=14, n_estimators=50, criterion=gini, max_depth=6, score=0.904762 -   0.1s\n",
      "[CV] min_samples_split=14, n_estimators=50, criterion=gini, max_depth=6 \n",
      "[CV]  min_samples_split=14, n_estimators=50, criterion=gini, max_depth=6, score=0.857143 -   0.1s\n",
      "[CV] min_samples_split=14, n_estimators=50, criterion=gini, max_depth=6 \n",
      "[CV]  min_samples_split=14, n_estimators=50, criterion=gini, max_depth=6, score=0.857143 -   0.2s\n",
      "[CV] min_samples_split=14, n_estimators=50, criterion=entropy, max_depth=6 \n",
      "[CV]  min_samples_split=14, n_estimators=50, criterion=entropy, max_depth=6, score=0.869565 -   0.1s\n",
      "[CV] min_samples_split=14, n_estimators=50, criterion=entropy, max_depth=6 \n"
     ]
    },
    {
     "name": "stderr",
     "output_type": "stream",
     "text": [
      "[Parallel(n_jobs=1)]: Done  40 tasks       | elapsed:    5.0s\n"
     ]
    },
    {
     "name": "stdout",
     "output_type": "stream",
     "text": [
      "[CV]  min_samples_split=14, n_estimators=50, criterion=entropy, max_depth=6, score=0.652174 -   0.2s\n",
      "[CV] min_samples_split=14, n_estimators=50, criterion=entropy, max_depth=6 \n",
      "[CV]  min_samples_split=14, n_estimators=50, criterion=entropy, max_depth=6, score=0.956522 -   0.1s\n",
      "[CV] min_samples_split=14, n_estimators=50, criterion=entropy, max_depth=6 \n",
      "[CV]  min_samples_split=14, n_estimators=50, criterion=entropy, max_depth=6, score=0.869565 -   0.1s\n",
      "[CV] min_samples_split=14, n_estimators=50, criterion=entropy, max_depth=6 \n",
      "[CV]  min_samples_split=14, n_estimators=50, criterion=entropy, max_depth=6, score=0.739130 -   0.1s\n",
      "[CV] min_samples_split=14, n_estimators=50, criterion=entropy, max_depth=6 \n",
      "[CV]  min_samples_split=14, n_estimators=50, criterion=entropy, max_depth=6, score=0.869565 -   0.1s\n",
      "[CV] min_samples_split=14, n_estimators=50, criterion=entropy, max_depth=6 \n",
      "[CV]  min_samples_split=14, n_estimators=50, criterion=entropy, max_depth=6, score=0.869565 -   0.2s\n",
      "[CV] min_samples_split=14, n_estimators=50, criterion=entropy, max_depth=6 \n",
      "[CV]  min_samples_split=14, n_estimators=50, criterion=entropy, max_depth=6, score=0.913043 -   0.1s\n",
      "[CV] min_samples_split=14, n_estimators=50, criterion=entropy, max_depth=6 \n",
      "[CV]  min_samples_split=14, n_estimators=50, criterion=entropy, max_depth=6, score=0.782609 -   0.1s\n",
      "[CV] min_samples_split=14, n_estimators=50, criterion=entropy, max_depth=6 \n"
     ]
    },
    {
     "name": "stderr",
     "output_type": "stream",
     "text": [
      "[Parallel(n_jobs=1)]: Done  49 tasks       | elapsed:    6.1s\n"
     ]
    },
    {
     "name": "stdout",
     "output_type": "stream",
     "text": [
      "[CV]  min_samples_split=14, n_estimators=50, criterion=entropy, max_depth=6, score=0.826087 -   0.1s\n",
      "[CV] min_samples_split=14, n_estimators=50, criterion=entropy, max_depth=6 \n",
      "[CV]  min_samples_split=14, n_estimators=50, criterion=entropy, max_depth=6, score=0.826087 -   0.2s\n",
      "[CV] min_samples_split=14, n_estimators=50, criterion=entropy, max_depth=6 \n",
      "[CV]  min_samples_split=14, n_estimators=50, criterion=entropy, max_depth=6, score=0.652174 -   0.1s\n",
      "[CV] min_samples_split=14, n_estimators=50, criterion=entropy, max_depth=6 \n",
      "[CV]  min_samples_split=14, n_estimators=50, criterion=entropy, max_depth=6, score=0.826087 -   0.1s\n",
      "[CV] min_samples_split=14, n_estimators=50, criterion=entropy, max_depth=6 \n",
      "[CV]  min_samples_split=14, n_estimators=50, criterion=entropy, max_depth=6, score=0.869565 -   0.2s\n",
      "[CV] min_samples_split=14, n_estimators=50, criterion=entropy, max_depth=6 \n",
      "[CV]  min_samples_split=14, n_estimators=50, criterion=entropy, max_depth=6, score=0.956522 -   0.2s\n",
      "[CV] min_samples_split=14, n_estimators=50, criterion=entropy, max_depth=6 \n",
      "[CV]  min_samples_split=14, n_estimators=50, criterion=entropy, max_depth=6, score=0.913043 -   0.1s\n",
      "[CV] min_samples_split=14, n_estimators=50, criterion=entropy, max_depth=6 \n",
      "[CV]  min_samples_split=14, n_estimators=50, criterion=entropy, max_depth=6, score=0.913043 -   0.2s\n",
      "[CV] min_samples_split=14, n_estimators=50, criterion=entropy, max_depth=6 \n",
      "[CV]  min_samples_split=14, n_estimators=50, criterion=entropy, max_depth=6, score=0.739130 -   0.2s\n",
      "[CV] min_samples_split=14, n_estimators=50, criterion=entropy, max_depth=6 \n",
      "[CV]  min_samples_split=14, n_estimators=50, criterion=entropy, max_depth=6, score=0.782609 -   0.1s\n",
      "[CV] min_samples_split=14, n_estimators=50, criterion=entropy, max_depth=6 \n",
      "[CV]  min_samples_split=14, n_estimators=50, criterion=entropy, max_depth=6, score=0.826087 -   0.1s\n",
      "[CV] min_samples_split=14, n_estimators=50, criterion=entropy, max_depth=6 \n",
      "[CV]  min_samples_split=14, n_estimators=50, criterion=entropy, max_depth=6, score=0.869565 -   0.1s\n",
      "[CV] min_samples_split=14, n_estimators=50, criterion=entropy, max_depth=6 \n"
     ]
    },
    {
     "name": "stderr",
     "output_type": "stream",
     "text": [
      "[Parallel(n_jobs=1)]: Done  60 tasks       | elapsed:    7.7s\n"
     ]
    },
    {
     "name": "stdout",
     "output_type": "stream",
     "text": [
      "[CV]  min_samples_split=14, n_estimators=50, criterion=entropy, max_depth=6, score=0.782609 -   0.1s\n",
      "[CV] min_samples_split=14, n_estimators=50, criterion=entropy, max_depth=6 \n",
      "[CV]  min_samples_split=14, n_estimators=50, criterion=entropy, max_depth=6, score=0.818182 -   0.1s\n",
      "[CV] min_samples_split=14, n_estimators=50, criterion=entropy, max_depth=6 \n",
      "[CV]  min_samples_split=14, n_estimators=50, criterion=entropy, max_depth=6, score=0.818182 -   0.1s\n",
      "[CV] min_samples_split=14, n_estimators=50, criterion=entropy, max_depth=6 \n",
      "[CV]  min_samples_split=14, n_estimators=50, criterion=entropy, max_depth=6, score=0.772727 -   0.1s\n",
      "[CV] min_samples_split=14, n_estimators=50, criterion=entropy, max_depth=6 \n",
      "[CV]  min_samples_split=14, n_estimators=50, criterion=entropy, max_depth=6, score=0.772727 -   0.1s\n",
      "[CV] min_samples_split=14, n_estimators=50, criterion=entropy, max_depth=6 \n",
      "[CV]  min_samples_split=14, n_estimators=50, criterion=entropy, max_depth=6, score=0.818182 -   0.1s\n",
      "[CV] min_samples_split=14, n_estimators=50, criterion=entropy, max_depth=6 \n",
      "[CV]  min_samples_split=14, n_estimators=50, criterion=entropy, max_depth=6, score=0.863636 -   0.1s\n",
      "[CV] min_samples_split=14, n_estimators=50, criterion=entropy, max_depth=6 \n",
      "[CV]  min_samples_split=14, n_estimators=50, criterion=entropy, max_depth=6, score=0.772727 -   0.1s\n",
      "[CV] min_samples_split=14, n_estimators=50, criterion=entropy, max_depth=6 \n",
      "[CV]  min_samples_split=14, n_estimators=50, criterion=entropy, max_depth=6, score=0.809524 -   0.1s\n",
      "[CV] min_samples_split=14, n_estimators=50, criterion=entropy, max_depth=6 \n",
      "[CV]  min_samples_split=14, n_estimators=50, criterion=entropy, max_depth=6, score=0.666667 -   0.1s\n",
      "[CV] min_samples_split=14, n_estimators=50, criterion=entropy, max_depth=6 \n",
      "[CV]  min_samples_split=14, n_estimators=50, criterion=entropy, max_depth=6, score=0.857143 -   0.1s\n",
      "[CV] min_samples_split=14, n_estimators=50, criterion=entropy, max_depth=6 \n"
     ]
    },
    {
     "name": "stderr",
     "output_type": "stream",
     "text": [
      "[Parallel(n_jobs=1)]: Done  71 tasks       | elapsed:    8.9s\n"
     ]
    },
    {
     "name": "stdout",
     "output_type": "stream",
     "text": [
      "[CV]  min_samples_split=14, n_estimators=50, criterion=entropy, max_depth=6, score=0.809524 -   0.1s\n",
      "[CV] min_samples_split=14, n_estimators=50, criterion=entropy, max_depth=6 \n",
      "[CV]  min_samples_split=14, n_estimators=50, criterion=entropy, max_depth=6, score=0.761905 -   0.1s\n",
      "[CV] min_samples_split=14, n_estimators=50, criterion=entropy, max_depth=6 \n",
      "[CV]  min_samples_split=14, n_estimators=50, criterion=entropy, max_depth=6, score=0.904762 -   0.1s\n",
      "[CV] min_samples_split=14, n_estimators=50, criterion=entropy, max_depth=6 \n",
      "[CV]  min_samples_split=14, n_estimators=50, criterion=entropy, max_depth=6, score=0.904762 -   0.1s\n",
      "[CV] min_samples_split=14, n_estimators=50, criterion=entropy, max_depth=6 \n",
      "[CV]  min_samples_split=14, n_estimators=50, criterion=entropy, max_depth=6, score=0.809524 -   0.1s\n",
      "[CV] min_samples_split=14, n_estimators=50, criterion=entropy, max_depth=6 \n",
      "[CV]  min_samples_split=14, n_estimators=50, criterion=entropy, max_depth=6, score=0.904762 -   0.1s\n",
      "[CV] min_samples_split=14, n_estimators=50, criterion=entropy, max_depth=6 \n",
      "[CV]  min_samples_split=14, n_estimators=50, criterion=entropy, max_depth=6, score=0.857143 -   0.1s\n",
      "[CV] min_samples_split=14, n_estimators=50, criterion=entropy, max_depth=6 \n",
      "[CV]  min_samples_split=14, n_estimators=50, criterion=entropy, max_depth=6, score=0.857143 -   0.1s\n",
      "score equals 0.828283\n",
      "{'min_samples_split': 14, 'n_estimators': 50, 'criterion': 'gini', 'max_depth': 6}\n",
      "0.836139169473\n"
     ]
    },
    {
     "name": "stderr",
     "output_type": "stream",
     "text": [
      "[Parallel(n_jobs=1)]: Done  80 out of  80 | elapsed:    9.8s finished\n"
     ]
    }
   ],
   "source": [
    "from sklearn.ensemble import RandomForestClassifier\n",
    "from sklearn.grid_search import GridSearchCV\n",
    "from sklearn.metrics import make_scorer, accuracy_score\n",
    "\n",
    "accuracy_scorer = make_scorer(accuracy_score)\n",
    "\n",
    "# Random Forests\n",
    "\n",
    "random_forest = RandomForestClassifier(max_depth=6,n_estimators=50,min_samples_split=14,criterion='gini')\n",
    "\n",
    "#random_forest.fit(X_train, Y_train)\n",
    "\n",
    "parameters = {'max_depth':[6], 'min_samples_split':[14], 'n_estimators':[50], 'criterion':['gini','entropy']}\n",
    "grid_search_CV = GridSearchCV(random_forest, parameters, cv=40, scoring=accuracy_scorer, verbose=10)\n",
    "grid_search_CV.fit(X_train, Y_train)\n",
    "print(\"score equals %f\" % (grid_search_CV.best_score_))\n",
    "print(\"%s\" % (grid_search_CV.best_params_))\n",
    "random_forest = grid_search_CV.best_estimator_\n",
    "\n",
    "Y_pred_rf = random_forest.predict(X_test)\n",
    "\n",
    "rf_score = random_forest.score(X_train, Y_train)\n",
    "\n",
    "print(rf_score)"
   ]
  },
  {
   "cell_type": "code",
   "execution_count": 48,
   "metadata": {
    "collapsed": true
   },
   "outputs": [],
   "source": [
    "# put ensemble together\n",
    "#total_score = knn_score + rf_score + svc_score + logreg_score\n",
    "\n",
    "#Y_pred_avg = (1./5.) * Y_pred_knn + (1./5.) * Y_pred_rf + (0.35) * Y_pred_svc + (0.25) * Y_pred_ab\n",
    "Y_pred_avg = Y_pred_rf\n",
    "#Y_pred_avg = Y_pred_svc\n",
    "#Y_pred_avg = Y_pred_knn\n",
    "#Y_pred_avg = Y_pred_ab\n",
    "Y_pred = list(map(lambda x: 0 if x < 0.5 else 1, Y_pred_avg))"
   ]
  },
  {
   "cell_type": "code",
   "execution_count": 49,
   "metadata": {
    "collapsed": true
   },
   "outputs": [],
   "source": [
    "submission = pd.DataFrame({\n",
    "        \"PassengerId\": test_df[\"PassengerId\"],\n",
    "        \"Survived\": Y_pred\n",
    "    })\n",
    "submission.to_csv('titanic.csv', index=False)"
   ]
  },
  {
   "cell_type": "markdown",
   "metadata": {},
   "source": [
    "# PCA"
   ]
  },
  {
   "cell_type": "code",
   "execution_count": 50,
   "metadata": {
    "collapsed": false
   },
   "outputs": [
    {
     "data": {
      "text/html": [
       "<div>\n",
       "<table border=\"1\" class=\"dataframe\">\n",
       "  <thead>\n",
       "    <tr style=\"text-align: right;\">\n",
       "      <th></th>\n",
       "      <th>Age</th>\n",
       "      <th>SibSp</th>\n",
       "      <th>Parch</th>\n",
       "      <th>Fare</th>\n",
       "      <th>Mil</th>\n",
       "      <th>Rev</th>\n",
       "      <th>Dr</th>\n",
       "      <th>Master</th>\n",
       "      <th>Mrs</th>\n",
       "      <th>Mr</th>\n",
       "      <th>Miss</th>\n",
       "      <th>C</th>\n",
       "      <th>Q</th>\n",
       "      <th>female</th>\n",
       "      <th>Class_1</th>\n",
       "      <th>Class_2</th>\n",
       "    </tr>\n",
       "  </thead>\n",
       "  <tbody>\n",
       "    <tr>\n",
       "      <th>0</th>\n",
       "      <td>22</td>\n",
       "      <td>1</td>\n",
       "      <td>0</td>\n",
       "      <td>7</td>\n",
       "      <td>0</td>\n",
       "      <td>0</td>\n",
       "      <td>0</td>\n",
       "      <td>0</td>\n",
       "      <td>0</td>\n",
       "      <td>1</td>\n",
       "      <td>0</td>\n",
       "      <td>0.0</td>\n",
       "      <td>0.0</td>\n",
       "      <td>0.0</td>\n",
       "      <td>0.0</td>\n",
       "      <td>0.0</td>\n",
       "    </tr>\n",
       "    <tr>\n",
       "      <th>1</th>\n",
       "      <td>38</td>\n",
       "      <td>1</td>\n",
       "      <td>0</td>\n",
       "      <td>71</td>\n",
       "      <td>0</td>\n",
       "      <td>0</td>\n",
       "      <td>0</td>\n",
       "      <td>0</td>\n",
       "      <td>1</td>\n",
       "      <td>0</td>\n",
       "      <td>0</td>\n",
       "      <td>1.0</td>\n",
       "      <td>0.0</td>\n",
       "      <td>1.0</td>\n",
       "      <td>1.0</td>\n",
       "      <td>0.0</td>\n",
       "    </tr>\n",
       "    <tr>\n",
       "      <th>2</th>\n",
       "      <td>26</td>\n",
       "      <td>0</td>\n",
       "      <td>0</td>\n",
       "      <td>7</td>\n",
       "      <td>0</td>\n",
       "      <td>0</td>\n",
       "      <td>0</td>\n",
       "      <td>0</td>\n",
       "      <td>0</td>\n",
       "      <td>0</td>\n",
       "      <td>1</td>\n",
       "      <td>0.0</td>\n",
       "      <td>0.0</td>\n",
       "      <td>1.0</td>\n",
       "      <td>0.0</td>\n",
       "      <td>0.0</td>\n",
       "    </tr>\n",
       "    <tr>\n",
       "      <th>3</th>\n",
       "      <td>35</td>\n",
       "      <td>1</td>\n",
       "      <td>0</td>\n",
       "      <td>53</td>\n",
       "      <td>0</td>\n",
       "      <td>0</td>\n",
       "      <td>0</td>\n",
       "      <td>0</td>\n",
       "      <td>1</td>\n",
       "      <td>0</td>\n",
       "      <td>0</td>\n",
       "      <td>0.0</td>\n",
       "      <td>0.0</td>\n",
       "      <td>1.0</td>\n",
       "      <td>1.0</td>\n",
       "      <td>0.0</td>\n",
       "    </tr>\n",
       "    <tr>\n",
       "      <th>4</th>\n",
       "      <td>35</td>\n",
       "      <td>0</td>\n",
       "      <td>0</td>\n",
       "      <td>8</td>\n",
       "      <td>0</td>\n",
       "      <td>0</td>\n",
       "      <td>0</td>\n",
       "      <td>0</td>\n",
       "      <td>0</td>\n",
       "      <td>1</td>\n",
       "      <td>0</td>\n",
       "      <td>0.0</td>\n",
       "      <td>0.0</td>\n",
       "      <td>0.0</td>\n",
       "      <td>0.0</td>\n",
       "      <td>0.0</td>\n",
       "    </tr>\n",
       "  </tbody>\n",
       "</table>\n",
       "</div>"
      ],
      "text/plain": [
       "   Age  SibSp  Parch  Fare  Mil  Rev  Dr  Master  Mrs  Mr  Miss    C    Q  \\\n",
       "0   22      1      0     7    0    0   0       0    0   1     0  0.0  0.0   \n",
       "1   38      1      0    71    0    0   0       0    1   0     0  1.0  0.0   \n",
       "2   26      0      0     7    0    0   0       0    0   0     1  0.0  0.0   \n",
       "3   35      1      0    53    0    0   0       0    1   0     0  0.0  0.0   \n",
       "4   35      0      0     8    0    0   0       0    0   1     0  0.0  0.0   \n",
       "\n",
       "   female  Class_1  Class_2  \n",
       "0     0.0      0.0      0.0  \n",
       "1     1.0      1.0      0.0  \n",
       "2     1.0      0.0      0.0  \n",
       "3     1.0      1.0      0.0  \n",
       "4     0.0      0.0      0.0  "
      ]
     },
     "execution_count": 50,
     "metadata": {},
     "output_type": "execute_result"
    }
   ],
   "source": [
    "X_train.head()"
   ]
  },
  {
   "cell_type": "code",
   "execution_count": 87,
   "metadata": {
    "collapsed": false
   },
   "outputs": [],
   "source": [
    "import numpy as np\n",
    "import scipy.linalg as l\n",
    "from sklearn.preprocessing import MinMaxScaler\n",
    "\n",
    "X = X_train.as_matrix().astype(np.float32)\n",
    "Y = Y_train.as_matrix().astype(np.float32)\n",
    "\n",
    "scaler = MinMaxScaler()\n",
    "Xscale = scaler.fit_transform(X)\n",
    "means = np.mean(Xscale, axis=0)\n",
    "Xscale_means = Xscale - means\n",
    "\n",
    "Xt = X_test"
   ]
  },
  {
   "cell_type": "code",
   "execution_count": 88,
   "metadata": {
    "collapsed": false
   },
   "outputs": [
    {
     "name": "stdout",
     "output_type": "stream",
     "text": [
      "[ 28.06902313  22.39787483  14.71757889  12.80436516  10.67474747\n",
      "   9.74475861   7.72865915   6.82078362   4.11950159   3.75302625\n",
      "   3.06143069   2.5734098    2.3314445    2.10479712   1.88708556\n",
      "   0.52925247]\n",
      "\n",
      "[  2.23981895e+01   1.51220598e+01   1.28999100e+01   1.09143171e+01\n",
      "   9.95231438e+00   8.45063019e+00   7.68631363e+00   4.34403801e+00\n",
      "   3.86268067e+00   3.08416128e+00   2.97435951e+00   2.52992415e+00\n",
      "   2.29337096e+00   2.08769226e+00   5.98077118e-01   1.02071090e-06]\n"
     ]
    }
   ],
   "source": [
    "U, S, Vh = la.svd(X)\n",
    "Uscale, Sscale, Vhscale = la.svd(Xscale)\n",
    "Uscale_means, Sscale_means, Vhscale_means = la.svd(Xscale_means)\n",
    "\n",
    "\n",
    "print Sscale\n",
    "print\n",
    "print Sscale_means"
   ]
  },
  {
   "cell_type": "code",
   "execution_count": 89,
   "metadata": {
    "collapsed": false
   },
   "outputs": [
    {
     "data": {
      "text/plain": [
       "[<matplotlib.lines.Line2D at 0x12619b490>,\n",
       " <matplotlib.lines.Line2D at 0x12619b590>]"
      ]
     },
     "execution_count": 89,
     "metadata": {},
     "output_type": "execute_result"
    },
    {
     "data": {
      "image/png": "[encoded data removed]",
      "text/plain": [
       "<matplotlib.figure.Figure at 0x125e8fb50>"
      ]
     },
     "metadata": {},
     "output_type": "display_data"
    }
   ],
   "source": [
    "%matplotlib inline\n",
    "\n",
    "plt.plot(range(16), Sscale, 'bo-', range(16), Sscale_means, 'go-')"
   ]
  },
  {
   "cell_type": "code",
   "execution_count": 90,
   "metadata": {
    "collapsed": false
   },
   "outputs": [
    {
     "name": "stdout",
     "output_type": "stream",
     "text": [
      "(891, 16)\n"
     ]
    }
   ],
   "source": [
    "T = np.dot(Xscale, Vhscale_means.T)\n",
    "print T.shape"
   ]
  },
  {
   "cell_type": "code",
   "execution_count": 92,
   "metadata": {
    "collapsed": false
   },
   "outputs": [
    {
     "name": "stdout",
     "output_type": "stream",
     "text": [
      "(418, 16)\n"
     ]
    }
   ],
   "source": [
    "Xtest = X_test.as_matrix().astype(np.float32)\n",
    "Xtestscale = scaler.fit_transform(Xtest)\n",
    "Xtestscalemeans = Xtestscale - means\n",
    "\n",
    "Ttest = np.dot(Xtestscalemeans, Vhscale_means.T)\n",
    "\n",
    "print Ttest.shape"
   ]
  },
  {
   "cell_type": "markdown",
   "metadata": {},
   "source": [
    "---\n",
    "\n",
    "# Neural Network Approach\n",
    "\n",
    "---\n",
    "\n",
    "Using the \"munged data\", train a 1-hidden layer neural network to classify passenger survivability. The neural network is much simpler due to the fact that the classification is binary.\n",
    "\n",
    "## Step 1 - Obtain Data\n",
    "\n",
    "Obtain data in the form of Numpy arrays. Coerce to `float32`. (Tensforflow assumes parameters are continuous.)\n",
    "\n",
    "* `M` = number of entries\n",
    "* `N` = number of features per entry"
   ]
  },
  {
   "cell_type": "code",
   "execution_count": 93,
   "metadata": {
    "collapsed": false
   },
   "outputs": [
    {
     "name": "stdout",
     "output_type": "stream",
     "text": [
      "X: (891, 16)\n",
      "Y: (891, 1)\n",
      "\n",
      "Xt: (418, 16)\n"
     ]
    }
   ],
   "source": [
    "import numpy as np\n",
    "import tensorflow as tf\n",
    "\n",
    "# X - 891 x 23 input training matrix\n",
    "#\n",
    "X = T #X_train.as_matrix().astype(np.float32)\n",
    "Y = Y_train.as_matrix().astype(np.float32)\n",
    "Xt = X_test.as_matrix().astype(np.float32)\n",
    "\n",
    "M, N = X.shape\n",
    "Mt, Nt = Xt.shape\n",
    "Y.resize(M,1)\n",
    "\n",
    "print 'X:', X.shape\n",
    "print 'Y:', Y.shape\n",
    "print '\\nXt:', Xt.shape"
   ]
  },
  {
   "cell_type": "code",
   "execution_count": 94,
   "metadata": {
    "collapsed": false
   },
   "outputs": [
    {
     "name": "stdout",
     "output_type": "stream",
     "text": [
      "[[ 0.63087207  0.08187343 -0.02939525 -0.06338193  0.09849602  0.4736321\n",
      "  -0.09927078 -0.30904746  0.11059391 -0.09761871  0.35424399  0.09186738\n",
      "   0.07270409  0.03892854  0.192643    0.37796453]\n",
      " [-0.97224164  1.2438221   0.95207238 -0.19864504 -0.09489375  0.54819506\n",
      "   0.21732692 -0.26842532  0.07263391 -0.07631661  0.42968711  0.08027545\n",
      "   0.07764679  0.07581484  0.1913497   0.3779645 ]\n",
      " [-1.00366378 -0.03186619 -0.48754016 -0.21155559  0.21874687  0.53462851\n",
      "  -0.2233277  -0.08088714  0.13193911 -0.20809871  0.40241954  0.11542627\n",
      "   0.09358972  0.03446233  0.19007128  0.37796441]\n",
      " [-0.91272128  0.77957302  0.81441784  0.45141578  0.46707976  0.49114305\n",
      "   0.08452109 -0.27482811  0.00457146 -0.07097106  0.40608531  0.07988133\n",
      "   0.07642654  0.08425795  0.18894006  0.3779645 ]\n",
      " [ 0.64063424  0.0995899  -0.00717869 -0.06275831  0.12713689  0.53985065\n",
      "  -0.08478642 -0.17694031  0.16910298 -0.21099558  0.38214853  0.11394572\n",
      "   0.09436914  0.02309051  0.19182968  0.3779645 ]]\n",
      "\n",
      "[[ 0.  1.  1.  1.  0.]]\n"
     ]
    }
   ],
   "source": [
    "print X[:5]\n",
    "print\n",
    "print Y[:5].T"
   ]
  },
  {
   "cell_type": "code",
   "execution_count": null,
   "metadata": {
    "collapsed": false
   },
   "outputs": [],
   "source": []
  },
  {
   "cell_type": "markdown",
   "metadata": {},
   "source": [
    "## Step 2 - Construct NN\n",
    "\n",
    "We will create a single-hidden-layer NN with `K` features. Based on what I've read, many simple problems can be reasonable solved using only one hidden layer. One hyper-parameter that needs to be adjusted, though, is the number of \"features\" in the hidden layer. Rule of thumb is that it's somewhere between the number of inputs and the number of outputs.\n",
    "\n",
    "* Number of inputs = 23 (per datum)\n",
    "* Number of outputs = 1 (per datum)\n",
    "\n",
    "**Aside:** Multiple layers are necessary in some image analysis. For example, a convolutional layer is appled to resolve position-independent features. These data in the Titanic problem doesn't really fit the convolutional image models so starting at a single hidden-layer seems reasonable.\n",
    "\n",
    "The output of the NN is $y = y(x)$ whose range is $[0,1]$ - the two classes we wish to determine for each entry, $x$."
   ]
  },
  {
   "cell_type": "code",
   "execution_count": 95,
   "metadata": {
    "collapsed": false
   },
   "outputs": [],
   "source": [
    "tf.reset_default_graph()\n",
    "\n",
    "# \"variable\" holding the input data\n",
    "#\n",
    "# in TF a \"tf.placeholder\" represents a variable where data\n",
    "# will be provided by the user whereas a \"tf.Variable\" is \n",
    "# a value that is to be determined by the model\n",
    "#\n",
    "x = tf.placeholder(tf.float32, [None, N], name='Passengers')\n",
    "y_ = tf.placeholder(tf.float32, [None, 1], name='Survival')\n",
    "\n",
    "# number of hidden layer features\n",
    "#\n",
    "K1 = 32\n",
    "K2 = 16\n",
    "\n",
    "# Input -> Hidden Layer #1\n",
    "#\n",
    "# * input data: M x N\n",
    "# * weight matrix: N x K\n",
    "# * bias vector: K\n",
    "#\n",
    "# * a1 = (MxN) . (NxK) + (K) = (MxK) + (K)\n",
    "#\n",
    "# (note that vector addition is distributed over each row)\n",
    "#\n",
    "W1 = tf.Variable(tf.random_normal([N,K1]), name='Layer1Weights')\n",
    "b1 = tf.Variable(tf.random_normal([K1]), name='Layer1Bias')\n",
    "a1 = tf.nn.sigmoid(tf.matmul(x,W1) + b1)\n",
    "\n",
    "# Hidden Layer #1 -> Hidden Layer #2\n",
    "W2 = tf.Variable(tf.random_normal([K1,K2]), name='Layer2Weights')\n",
    "b2 = tf.Variable(tf.random_normal([K2]), name='Layer2Bias')\n",
    "a2 = tf.nn.sigmoid(tf.matmul(a1,W2) + b2)\n",
    "\n",
    "# Hidden Layer #2 -> Output Layer\n",
    "W3 = tf.Variable(tf.random_normal([K2,1]), name='Layer3Weights')\n",
    "b3 = tf.Variable(tf.random_normal([1]), name='Layer3Bias')\n",
    "a3 = tf.nn.sigmoid(tf.matmul(a2,W3) + b3)\n",
    "\n",
    "y = a3"
   ]
  },
  {
   "cell_type": "code",
   "execution_count": 96,
   "metadata": {
    "collapsed": false
   },
   "outputs": [
    {
     "name": "stdout",
     "output_type": "stream",
     "text": [
      "x:  (?, 16)\n",
      "\n",
      "Layer #1\n",
      "W1: (16, 32)\n",
      "b1: (32,)\n",
      "a1: (?, 32)\n",
      "\n",
      "Layer #2\n",
      "W2: (32, 16)\n",
      "b2: (16,)\n",
      "a2: (?, 16)\n",
      "\n",
      "Layer #3\n",
      "W3: (16, 1)\n",
      "b3: (1,)\n",
      "a3: (?, 1)\n",
      "\n",
      "y:  (?, 1)\n"
     ]
    }
   ],
   "source": [
    "print 'x: ', x.get_shape()\n",
    "\n",
    "print '\\nLayer #1'\n",
    "print 'W1:', W1.get_shape()\n",
    "print 'b1:', b1.get_shape()\n",
    "print 'a1:', a1.get_shape()\n",
    "\n",
    "print '\\nLayer #2'\n",
    "print 'W2:', W2.get_shape()\n",
    "print 'b2:', b2.get_shape()\n",
    "print 'a2:', a2.get_shape()\n",
    "\n",
    "print '\\nLayer #3'\n",
    "print 'W3:', W3.get_shape()\n",
    "print 'b3:', b3.get_shape()\n",
    "print 'a3:', a3.get_shape()\n",
    "\n",
    "print '\\ny: ', y.get_shape()"
   ]
  },
  {
   "cell_type": "markdown",
   "metadata": {},
   "source": [
    "## Step 3 - Determine Error function and Optimizer\n",
    "\n",
    "We want to compare the output, $y = y(x)$, with the know classification represented by the placeholder `y_`. TensorFlow asks that we produce a function which computes the error of the given model. It will try to minimize the error by adjusting all of the parameters. (The weights matrices `W_i` and bias vectors `b_i`).\n",
    "\n",
    "For starters, we will compute the $l_2$ norm of the difference between the predicted class `y` and the known class `y_`. From my experience it's worth experimenting with other error functions.\n",
    "\n",
    "There is also some experimentation in choosing an optimizer. `GradientDescentOptimizer` and `ADAMOptimizer` are two standard choices."
   ]
  },
  {
   "cell_type": "code",
   "execution_count": 97,
   "metadata": {
    "collapsed": false
   },
   "outputs": [],
   "source": [
    "# error function and optimizer\n",
    "#\n",
    "\n",
    "#error = tf.reduce_mean(-tf.reduce_sum(y_ * tf.log(y), 1))\n",
    "error = tf.reduce_sum(tf.squared_difference(y, y_))\n",
    "train_step = tf.train.AdamOptimizer().minimize(error)\n",
    "\n",
    "# functions for determining accuracy. we will use a straigt-up cutoff\n",
    "# for final classification. that is, if y<0.5 then set y=0 (died).\n",
    "# if y >= 0.5 then set y=1.0 (survived). count the number of correct\n",
    "# predictions\n",
    "#\n",
    "is_correct = tf.equal(tf.round(y),tf.round(y_))\n",
    "accuracy = tf.reduce_mean(tf.cast(is_correct, tf.float32))"
   ]
  },
  {
   "cell_type": "code",
   "execution_count": 98,
   "metadata": {
    "collapsed": true
   },
   "outputs": [],
   "source": [
    "init = tf.initialize_all_variables()"
   ]
  },
  {
   "cell_type": "code",
   "execution_count": 99,
   "metadata": {
    "collapsed": false
   },
   "outputs": [
    {
     "name": "stdout",
     "output_type": "stream",
     "text": [
      "y:          (?, 1)\n",
      "y_:         (?, 1)\n",
      "*error:     ()\n",
      "is_correct: (?, 1)\n",
      "*accuracy:  ()\n"
     ]
    }
   ],
   "source": [
    "print 'y:         ', y.get_shape()\n",
    "print 'y_:        ', y_.get_shape()\n",
    "print '*error:    ', error.get_shape()\n",
    "print 'is_correct:', is_correct.get_shape()\n",
    "print '*accuracy: ', accuracy.get_shape()"
   ]
  },
  {
   "cell_type": "markdown",
   "metadata": {},
   "source": [
    "## Step 4 - Train!\n",
    "\n",
    "Take a bunch of optimizer steps to try and minimize the error."
   ]
  },
  {
   "cell_type": "code",
   "execution_count": 100,
   "metadata": {
    "collapsed": false
   },
   "outputs": [
    {
     "name": "stdout",
     "output_type": "stream",
     "text": [
      "= Training =\n",
      "Iteration 0 - Accuracy = 0.383838385344, Error = 490.401245117\n",
      "Iteration 10000 - Accuracy = 0.852974176407, Error = 100.74861908\n",
      "Iteration 20000 - Accuracy = 0.850729525089, Error = 97.9033966064\n",
      "Iteration 30000 - Accuracy = 0.854096531868, Error = 94.5176696777\n",
      "Iteration 40000 - Accuracy = 0.867564558983, Error = 88.6529541016\n",
      "Iteration 50000 - Accuracy = 0.872053861618, Error = 85.6018829346\n",
      "Iteration 60000 - Accuracy = 0.879910230637, Error = 82.1906814575\n",
      "Iteration 70000 - Accuracy = 0.883277237415, Error = 79.3615646362\n",
      "Iteration 80000 - Accuracy = 0.883277237415, Error = 76.9470596313\n",
      "Iteration 90000 - Accuracy = 0.887766540051, Error = 75.2459335327\n",
      "Iteration 100000 - Accuracy = 0.890011250973, Error = 73.5480041504\n",
      "Iteration 110000 - Accuracy = 0.887766540051, Error = 71.5936889648\n",
      "Iteration 120000 - Accuracy = 0.894500553608, Error = 70.1193161011\n",
      "Iteration 130000 - Accuracy = 0.897867560387, Error = 69.4842681885\n",
      "Iteration 140000 - Accuracy = 0.900112211704, Error = 67.5519714355\n",
      "\n",
      "= Results =\n",
      "Final Accuracy (Training Set) = 0.898989915848\n",
      "\n",
      "= Test Data =\n",
      "[[ 0.]\n",
      " [ 0.]\n",
      " [ 0.]\n",
      " [ 0.]\n",
      " [ 0.]]\n"
     ]
    }
   ],
   "source": [
    "# training parameters\n",
    "#\n",
    "LOG_ITER = 10000  # log every LOG_ITER iterations\n",
    "MAX_ITER = 150000\n",
    "iter_count = 0\n",
    "\n",
    "with tf.Session() as sess:\n",
    "    sess.run(init)\n",
    "    \n",
    "    print '= Training ='\n",
    "    while iter_count < MAX_ITER:\n",
    "        # run the optimization step with the input data X and Y\n",
    "        #\n",
    "        indices = np.random.random_integers(0, M-1, size=96)\n",
    "        batch_T = T[indices,:]\n",
    "        batch_Y = Y[indices]\n",
    "        sess.run(train_step, feed_dict={x:batch_T, y_:batch_Y})\n",
    "        \n",
    "        # log progress every couple of iterations\n",
    "        #\n",
    "        if (iter_count % LOG_ITER) == 0:\n",
    "            # compute current error and accuracy\n",
    "            #\n",
    "            current_error, current_accuracy = sess.run(\n",
    "                [error, accuracy], feed_dict={x:T, y_:Y})\n",
    "            \n",
    "            print 'Iteration {0} - Accuracy = {1}, Error = {2}'.format(\n",
    "                iter_count, current_accuracy, current_error\n",
    "            )\n",
    "            \n",
    "        iter_count += 1\n",
    "            \n",
    "    current_accuracy = accuracy.eval(session=sess, feed_dict={x:T, y_:Y})\n",
    "    print '\\n= Results ='\n",
    "    print 'Final Accuracy (Training Set) = {0}'.format(current_accuracy)\n",
    "    \n",
    "    # apply the trained model to the test data\n",
    "    #\n",
    "    # * round the results of y\n",
    "    #\n",
    "    print '\\n= Test Data ='\n",
    "    classification = tf.round(y)\n",
    "    Yt = classification.eval(session=sess, feed_dict={x:Ttest})\n",
    "    print Yt[:5]\n"
   ]
  },
  {
   "cell_type": "code",
   "execution_count": 104,
   "metadata": {
    "collapsed": false
   },
   "outputs": [],
   "source": [
    "Yt = Yt.T[0].astype(np.int)\n",
    "\n",
    "submission = pd.DataFrame({\n",
    "        \"PassengerId\": test_df[\"PassengerId\"],\n",
    "        \"Survived\": Yt\n",
    "    })\n",
    "submission.to_csv('~/Desktop/titanic.csv', index=False)"
   ]
  },
  {
   "cell_type": "code",
   "execution_count": 103,
   "metadata": {
    "collapsed": false
   },
   "outputs": [
    {
     "name": "stdout",
     "output_type": "stream",
     "text": [
      "(418,)\n"
     ]
    }
   ],
   "source": []
  },
  {
   "cell_type": "code",
   "execution_count": null,
   "metadata": {
    "collapsed": true
   },
   "outputs": [],
   "source": []
  }
 ],
 "metadata": {
  "kernelspec": {
   "display_name": "Python 2",
   "language": "python",
   "name": "python2"
  },
  "language_info": {
   "codemirror_mode": {
    "name": "ipython",
    "version": 2
   },
   "file_extension": ".py",
   "mimetype": "text/x-python",
   "name": "python",
   "nbconvert_exporter": "python",
   "pygments_lexer": "ipython2",
   "version": "2.7.11"
  }
 },
 "nbformat": 4,
 "nbformat_minor": 0
}
